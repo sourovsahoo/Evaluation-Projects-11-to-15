{
 "cells": [
  {
   "cell_type": "raw",
   "metadata": {},
   "source": [
    "This is a regression problem where we have to predict the price of the flight from the given features"
   ]
  },
  {
   "cell_type": "code",
   "execution_count": 73,
   "metadata": {},
   "outputs": [],
   "source": [
    "import numpy as np\n",
    "import pandas as pd\n",
    "import matplotlib.pyplot as plt\n",
    "import warnings\n",
    "warnings.filterwarnings('ignore')\n",
    "import seaborn as sns\n",
    "\n",
    "from sklearn.preprocessing import StandardScaler\n",
    "\n",
    "from sklearn.neighbors import KNeighborsRegressor\n",
    "from sklearn.svm import SVR\n",
    "from sklearn.linear_model import LinearRegression\n",
    "from sklearn.linear_model import Lasso\n",
    "from sklearn.tree import DecisionTreeRegressor\n",
    "from sklearn.ensemble import GradientBoostingRegressor\n",
    "from sklearn.ensemble import RandomForestRegressor\n",
    "from sklearn.ensemble import AdaBoostRegressor\n",
    "from xgboost import XGBRegressor\n",
    "\n",
    "from sklearn.metrics import mean_absolute_error\n",
    "from sklearn.metrics import mean_squared_error\n",
    "from sklearn.metrics import r2_score\n",
    "from sklearn.model_selection import train_test_split\n",
    "from sklearn.model_selection import cross_val_score\n",
    "\n",
    "from sklearn.externals import joblib"
   ]
  },
  {
   "cell_type": "code",
   "execution_count": 74,
   "metadata": {},
   "outputs": [],
   "source": [
    "train=pd.read_csv('E:\\\\flightprice_train.csv')\n",
    "test=pd.read_csv('E:\\\\flightpriceTest.csv')"
   ]
  },
  {
   "cell_type": "code",
   "execution_count": 75,
   "metadata": {},
   "outputs": [],
   "source": [
    "#Creating a new column['new'] which will specify which observation belongs to test and which observation belongs to train.\n",
    "#this will also help us separating both the datasets later after we perform feature engineering just by one line code.\n",
    "train['new']=1\n",
    "test['new']=0"
   ]
  },
  {
   "cell_type": "code",
   "execution_count": 76,
   "metadata": {},
   "outputs": [
    {
     "data": {
      "text/html": [
       "<div>\n",
       "<style scoped>\n",
       "    .dataframe tbody tr th:only-of-type {\n",
       "        vertical-align: middle;\n",
       "    }\n",
       "\n",
       "    .dataframe tbody tr th {\n",
       "        vertical-align: top;\n",
       "    }\n",
       "\n",
       "    .dataframe thead th {\n",
       "        text-align: right;\n",
       "    }\n",
       "</style>\n",
       "<table border=\"1\" class=\"dataframe\">\n",
       "  <thead>\n",
       "    <tr style=\"text-align: right;\">\n",
       "      <th></th>\n",
       "      <th>Airline</th>\n",
       "      <th>Date_of_Journey</th>\n",
       "      <th>Source</th>\n",
       "      <th>Destination</th>\n",
       "      <th>Route</th>\n",
       "      <th>Dep_Time</th>\n",
       "      <th>Arrival_Time</th>\n",
       "      <th>Duration</th>\n",
       "      <th>Total_Stops</th>\n",
       "      <th>Additional_Info</th>\n",
       "      <th>Price</th>\n",
       "      <th>new</th>\n",
       "    </tr>\n",
       "  </thead>\n",
       "  <tbody>\n",
       "    <tr>\n",
       "      <td>0</td>\n",
       "      <td>IndiGo</td>\n",
       "      <td>24/03/2019</td>\n",
       "      <td>Banglore</td>\n",
       "      <td>New Delhi</td>\n",
       "      <td>BLR ? DEL</td>\n",
       "      <td>22:20</td>\n",
       "      <td>01:10 22 Mar</td>\n",
       "      <td>2h 50m</td>\n",
       "      <td>non-stop</td>\n",
       "      <td>No info</td>\n",
       "      <td>3897</td>\n",
       "      <td>1</td>\n",
       "    </tr>\n",
       "    <tr>\n",
       "      <td>1</td>\n",
       "      <td>Air India</td>\n",
       "      <td>1/05/2019</td>\n",
       "      <td>Kolkata</td>\n",
       "      <td>Banglore</td>\n",
       "      <td>CCU ? IXR ? BBI ? BLR</td>\n",
       "      <td>05:50</td>\n",
       "      <td>13:15</td>\n",
       "      <td>7h 25m</td>\n",
       "      <td>2 stops</td>\n",
       "      <td>No info</td>\n",
       "      <td>7662</td>\n",
       "      <td>1</td>\n",
       "    </tr>\n",
       "    <tr>\n",
       "      <td>2</td>\n",
       "      <td>Jet Airways</td>\n",
       "      <td>9/06/2019</td>\n",
       "      <td>Delhi</td>\n",
       "      <td>Cochin</td>\n",
       "      <td>DEL ? LKO ? BOM ? COK</td>\n",
       "      <td>09:25</td>\n",
       "      <td>04:25 10 Jun</td>\n",
       "      <td>19h</td>\n",
       "      <td>2 stops</td>\n",
       "      <td>No info</td>\n",
       "      <td>13882</td>\n",
       "      <td>1</td>\n",
       "    </tr>\n",
       "    <tr>\n",
       "      <td>3</td>\n",
       "      <td>IndiGo</td>\n",
       "      <td>12/05/2019</td>\n",
       "      <td>Kolkata</td>\n",
       "      <td>Banglore</td>\n",
       "      <td>CCU ? NAG ? BLR</td>\n",
       "      <td>18:05</td>\n",
       "      <td>23:30</td>\n",
       "      <td>5h 25m</td>\n",
       "      <td>1 stop</td>\n",
       "      <td>No info</td>\n",
       "      <td>6218</td>\n",
       "      <td>1</td>\n",
       "    </tr>\n",
       "    <tr>\n",
       "      <td>4</td>\n",
       "      <td>IndiGo</td>\n",
       "      <td>01/03/2019</td>\n",
       "      <td>Banglore</td>\n",
       "      <td>New Delhi</td>\n",
       "      <td>BLR ? NAG ? DEL</td>\n",
       "      <td>16:50</td>\n",
       "      <td>21:35</td>\n",
       "      <td>4h 45m</td>\n",
       "      <td>1 stop</td>\n",
       "      <td>No info</td>\n",
       "      <td>13302</td>\n",
       "      <td>1</td>\n",
       "    </tr>\n",
       "  </tbody>\n",
       "</table>\n",
       "</div>"
      ],
      "text/plain": [
       "       Airline Date_of_Journey    Source Destination                  Route  \\\n",
       "0       IndiGo      24/03/2019  Banglore   New Delhi              BLR ? DEL   \n",
       "1    Air India       1/05/2019   Kolkata    Banglore  CCU ? IXR ? BBI ? BLR   \n",
       "2  Jet Airways       9/06/2019     Delhi      Cochin  DEL ? LKO ? BOM ? COK   \n",
       "3       IndiGo      12/05/2019   Kolkata    Banglore        CCU ? NAG ? BLR   \n",
       "4       IndiGo      01/03/2019  Banglore   New Delhi        BLR ? NAG ? DEL   \n",
       "\n",
       "  Dep_Time  Arrival_Time Duration Total_Stops Additional_Info  Price  new  \n",
       "0    22:20  01:10 22 Mar   2h 50m    non-stop         No info   3897    1  \n",
       "1    05:50         13:15   7h 25m     2 stops         No info   7662    1  \n",
       "2    09:25  04:25 10 Jun      19h     2 stops         No info  13882    1  \n",
       "3    18:05         23:30   5h 25m      1 stop         No info   6218    1  \n",
       "4    16:50         21:35   4h 45m      1 stop         No info  13302    1  "
      ]
     },
     "execution_count": 76,
     "metadata": {},
     "output_type": "execute_result"
    }
   ],
   "source": [
    "train.head()"
   ]
  },
  {
   "cell_type": "code",
   "execution_count": 77,
   "metadata": {},
   "outputs": [
    {
     "data": {
      "text/html": [
       "<div>\n",
       "<style scoped>\n",
       "    .dataframe tbody tr th:only-of-type {\n",
       "        vertical-align: middle;\n",
       "    }\n",
       "\n",
       "    .dataframe tbody tr th {\n",
       "        vertical-align: top;\n",
       "    }\n",
       "\n",
       "    .dataframe thead th {\n",
       "        text-align: right;\n",
       "    }\n",
       "</style>\n",
       "<table border=\"1\" class=\"dataframe\">\n",
       "  <thead>\n",
       "    <tr style=\"text-align: right;\">\n",
       "      <th></th>\n",
       "      <th>Airline</th>\n",
       "      <th>Date_of_Journey</th>\n",
       "      <th>Source</th>\n",
       "      <th>Destination</th>\n",
       "      <th>Route</th>\n",
       "      <th>Dep_Time</th>\n",
       "      <th>Arrival_Time</th>\n",
       "      <th>Duration</th>\n",
       "      <th>Total_Stops</th>\n",
       "      <th>Additional_Info</th>\n",
       "      <th>new</th>\n",
       "    </tr>\n",
       "  </thead>\n",
       "  <tbody>\n",
       "    <tr>\n",
       "      <td>0</td>\n",
       "      <td>Jet Airways</td>\n",
       "      <td>6/06/2019</td>\n",
       "      <td>Delhi</td>\n",
       "      <td>Cochin</td>\n",
       "      <td>DEL ? BOM ? COK</td>\n",
       "      <td>17:30</td>\n",
       "      <td>04:25 07 Jun</td>\n",
       "      <td>10h 55m</td>\n",
       "      <td>1 stop</td>\n",
       "      <td>No info</td>\n",
       "      <td>0</td>\n",
       "    </tr>\n",
       "    <tr>\n",
       "      <td>1</td>\n",
       "      <td>IndiGo</td>\n",
       "      <td>12/05/2019</td>\n",
       "      <td>Kolkata</td>\n",
       "      <td>Banglore</td>\n",
       "      <td>CCU ? MAA ? BLR</td>\n",
       "      <td>06:20</td>\n",
       "      <td>10:20</td>\n",
       "      <td>4h</td>\n",
       "      <td>1 stop</td>\n",
       "      <td>No info</td>\n",
       "      <td>0</td>\n",
       "    </tr>\n",
       "    <tr>\n",
       "      <td>2</td>\n",
       "      <td>Jet Airways</td>\n",
       "      <td>21/05/2019</td>\n",
       "      <td>Delhi</td>\n",
       "      <td>Cochin</td>\n",
       "      <td>DEL ? BOM ? COK</td>\n",
       "      <td>19:15</td>\n",
       "      <td>19:00 22 May</td>\n",
       "      <td>23h 45m</td>\n",
       "      <td>1 stop</td>\n",
       "      <td>In-flight meal not included</td>\n",
       "      <td>0</td>\n",
       "    </tr>\n",
       "    <tr>\n",
       "      <td>3</td>\n",
       "      <td>Multiple carriers</td>\n",
       "      <td>21/05/2019</td>\n",
       "      <td>Delhi</td>\n",
       "      <td>Cochin</td>\n",
       "      <td>DEL ? BOM ? COK</td>\n",
       "      <td>08:00</td>\n",
       "      <td>21:00</td>\n",
       "      <td>13h</td>\n",
       "      <td>1 stop</td>\n",
       "      <td>No info</td>\n",
       "      <td>0</td>\n",
       "    </tr>\n",
       "    <tr>\n",
       "      <td>4</td>\n",
       "      <td>Air Asia</td>\n",
       "      <td>24/06/2019</td>\n",
       "      <td>Banglore</td>\n",
       "      <td>Delhi</td>\n",
       "      <td>BLR ? DEL</td>\n",
       "      <td>23:55</td>\n",
       "      <td>02:45 25 Jun</td>\n",
       "      <td>2h 50m</td>\n",
       "      <td>non-stop</td>\n",
       "      <td>No info</td>\n",
       "      <td>0</td>\n",
       "    </tr>\n",
       "  </tbody>\n",
       "</table>\n",
       "</div>"
      ],
      "text/plain": [
       "             Airline Date_of_Journey    Source Destination            Route  \\\n",
       "0        Jet Airways       6/06/2019     Delhi      Cochin  DEL ? BOM ? COK   \n",
       "1             IndiGo      12/05/2019   Kolkata    Banglore  CCU ? MAA ? BLR   \n",
       "2        Jet Airways      21/05/2019     Delhi      Cochin  DEL ? BOM ? COK   \n",
       "3  Multiple carriers      21/05/2019     Delhi      Cochin  DEL ? BOM ? COK   \n",
       "4           Air Asia      24/06/2019  Banglore       Delhi        BLR ? DEL   \n",
       "\n",
       "  Dep_Time  Arrival_Time Duration Total_Stops              Additional_Info  \\\n",
       "0    17:30  04:25 07 Jun  10h 55m      1 stop                      No info   \n",
       "1    06:20         10:20       4h      1 stop                      No info   \n",
       "2    19:15  19:00 22 May  23h 45m      1 stop  In-flight meal not included   \n",
       "3    08:00         21:00      13h      1 stop                      No info   \n",
       "4    23:55  02:45 25 Jun   2h 50m    non-stop                      No info   \n",
       "\n",
       "   new  \n",
       "0    0  \n",
       "1    0  \n",
       "2    0  \n",
       "3    0  \n",
       "4    0  "
      ]
     },
     "execution_count": 77,
     "metadata": {},
     "output_type": "execute_result"
    }
   ],
   "source": [
    "test.head()"
   ]
  },
  {
   "cell_type": "code",
   "execution_count": 78,
   "metadata": {},
   "outputs": [],
   "source": [
    "#combining both train and test data sets into one to perform feature engineering and then divide them later again. \n",
    "#This saves the trouble of performing the same steps twice on test and train. \n"
   ]
  },
  {
   "cell_type": "code",
   "execution_count": 79,
   "metadata": {},
   "outputs": [
    {
     "name": "stdout",
     "output_type": "stream",
     "text": [
      "(10683, 12) (2671, 11) (13354, 12)\n"
     ]
    }
   ],
   "source": [
    "df= pd.concat([train, test])#axis=0(default)rowwise\n",
    "\n",
    "print (train.shape, test.shape, df.shape)"
   ]
  },
  {
   "cell_type": "code",
   "execution_count": 80,
   "metadata": {},
   "outputs": [
    {
     "data": {
      "text/html": [
       "<div>\n",
       "<style scoped>\n",
       "    .dataframe tbody tr th:only-of-type {\n",
       "        vertical-align: middle;\n",
       "    }\n",
       "\n",
       "    .dataframe tbody tr th {\n",
       "        vertical-align: top;\n",
       "    }\n",
       "\n",
       "    .dataframe thead th {\n",
       "        text-align: right;\n",
       "    }\n",
       "</style>\n",
       "<table border=\"1\" class=\"dataframe\">\n",
       "  <thead>\n",
       "    <tr style=\"text-align: right;\">\n",
       "      <th></th>\n",
       "      <th>Additional_Info</th>\n",
       "      <th>Airline</th>\n",
       "      <th>Arrival_Time</th>\n",
       "      <th>Date_of_Journey</th>\n",
       "      <th>Dep_Time</th>\n",
       "      <th>Destination</th>\n",
       "      <th>Duration</th>\n",
       "      <th>Price</th>\n",
       "      <th>Route</th>\n",
       "      <th>Source</th>\n",
       "      <th>Total_Stops</th>\n",
       "      <th>new</th>\n",
       "    </tr>\n",
       "  </thead>\n",
       "  <tbody>\n",
       "    <tr>\n",
       "      <td>0</td>\n",
       "      <td>No info</td>\n",
       "      <td>IndiGo</td>\n",
       "      <td>01:10 22 Mar</td>\n",
       "      <td>24/03/2019</td>\n",
       "      <td>22:20</td>\n",
       "      <td>New Delhi</td>\n",
       "      <td>2h 50m</td>\n",
       "      <td>3897.0</td>\n",
       "      <td>BLR ? DEL</td>\n",
       "      <td>Banglore</td>\n",
       "      <td>non-stop</td>\n",
       "      <td>1</td>\n",
       "    </tr>\n",
       "    <tr>\n",
       "      <td>1</td>\n",
       "      <td>No info</td>\n",
       "      <td>Air India</td>\n",
       "      <td>13:15</td>\n",
       "      <td>1/05/2019</td>\n",
       "      <td>05:50</td>\n",
       "      <td>Banglore</td>\n",
       "      <td>7h 25m</td>\n",
       "      <td>7662.0</td>\n",
       "      <td>CCU ? IXR ? BBI ? BLR</td>\n",
       "      <td>Kolkata</td>\n",
       "      <td>2 stops</td>\n",
       "      <td>1</td>\n",
       "    </tr>\n",
       "    <tr>\n",
       "      <td>2</td>\n",
       "      <td>No info</td>\n",
       "      <td>Jet Airways</td>\n",
       "      <td>04:25 10 Jun</td>\n",
       "      <td>9/06/2019</td>\n",
       "      <td>09:25</td>\n",
       "      <td>Cochin</td>\n",
       "      <td>19h</td>\n",
       "      <td>13882.0</td>\n",
       "      <td>DEL ? LKO ? BOM ? COK</td>\n",
       "      <td>Delhi</td>\n",
       "      <td>2 stops</td>\n",
       "      <td>1</td>\n",
       "    </tr>\n",
       "    <tr>\n",
       "      <td>3</td>\n",
       "      <td>No info</td>\n",
       "      <td>IndiGo</td>\n",
       "      <td>23:30</td>\n",
       "      <td>12/05/2019</td>\n",
       "      <td>18:05</td>\n",
       "      <td>Banglore</td>\n",
       "      <td>5h 25m</td>\n",
       "      <td>6218.0</td>\n",
       "      <td>CCU ? NAG ? BLR</td>\n",
       "      <td>Kolkata</td>\n",
       "      <td>1 stop</td>\n",
       "      <td>1</td>\n",
       "    </tr>\n",
       "    <tr>\n",
       "      <td>4</td>\n",
       "      <td>No info</td>\n",
       "      <td>IndiGo</td>\n",
       "      <td>21:35</td>\n",
       "      <td>01/03/2019</td>\n",
       "      <td>16:50</td>\n",
       "      <td>New Delhi</td>\n",
       "      <td>4h 45m</td>\n",
       "      <td>13302.0</td>\n",
       "      <td>BLR ? NAG ? DEL</td>\n",
       "      <td>Banglore</td>\n",
       "      <td>1 stop</td>\n",
       "      <td>1</td>\n",
       "    </tr>\n",
       "  </tbody>\n",
       "</table>\n",
       "</div>"
      ],
      "text/plain": [
       "  Additional_Info      Airline  Arrival_Time Date_of_Journey Dep_Time  \\\n",
       "0         No info       IndiGo  01:10 22 Mar      24/03/2019    22:20   \n",
       "1         No info    Air India         13:15       1/05/2019    05:50   \n",
       "2         No info  Jet Airways  04:25 10 Jun       9/06/2019    09:25   \n",
       "3         No info       IndiGo         23:30      12/05/2019    18:05   \n",
       "4         No info       IndiGo         21:35      01/03/2019    16:50   \n",
       "\n",
       "  Destination Duration    Price                  Route    Source Total_Stops  \\\n",
       "0   New Delhi   2h 50m   3897.0              BLR ? DEL  Banglore    non-stop   \n",
       "1    Banglore   7h 25m   7662.0  CCU ? IXR ? BBI ? BLR   Kolkata     2 stops   \n",
       "2      Cochin      19h  13882.0  DEL ? LKO ? BOM ? COK     Delhi     2 stops   \n",
       "3    Banglore   5h 25m   6218.0        CCU ? NAG ? BLR   Kolkata      1 stop   \n",
       "4   New Delhi   4h 45m  13302.0        BLR ? NAG ? DEL  Banglore      1 stop   \n",
       "\n",
       "   new  \n",
       "0    1  \n",
       "1    1  \n",
       "2    1  \n",
       "3    1  \n",
       "4    1  "
      ]
     },
     "execution_count": 80,
     "metadata": {},
     "output_type": "execute_result"
    }
   ],
   "source": [
    "df.head()"
   ]
  },
  {
   "cell_type": "code",
   "execution_count": 81,
   "metadata": {},
   "outputs": [
    {
     "data": {
      "text/html": [
       "<div>\n",
       "<style scoped>\n",
       "    .dataframe tbody tr th:only-of-type {\n",
       "        vertical-align: middle;\n",
       "    }\n",
       "\n",
       "    .dataframe tbody tr th {\n",
       "        vertical-align: top;\n",
       "    }\n",
       "\n",
       "    .dataframe thead th {\n",
       "        text-align: right;\n",
       "    }\n",
       "</style>\n",
       "<table border=\"1\" class=\"dataframe\">\n",
       "  <thead>\n",
       "    <tr style=\"text-align: right;\">\n",
       "      <th></th>\n",
       "      <th>Additional_Info</th>\n",
       "      <th>Airline</th>\n",
       "      <th>Arrival_Time</th>\n",
       "      <th>Date_of_Journey</th>\n",
       "      <th>Dep_Time</th>\n",
       "      <th>Destination</th>\n",
       "      <th>Duration</th>\n",
       "      <th>Price</th>\n",
       "      <th>Route</th>\n",
       "      <th>Source</th>\n",
       "      <th>Total_Stops</th>\n",
       "      <th>new</th>\n",
       "    </tr>\n",
       "  </thead>\n",
       "  <tbody>\n",
       "    <tr>\n",
       "      <td>2666</td>\n",
       "      <td>No info</td>\n",
       "      <td>Air India</td>\n",
       "      <td>20:25 07 Jun</td>\n",
       "      <td>6/06/2019</td>\n",
       "      <td>20:30</td>\n",
       "      <td>Banglore</td>\n",
       "      <td>23h 55m</td>\n",
       "      <td>NaN</td>\n",
       "      <td>CCU ? DEL ? BLR</td>\n",
       "      <td>Kolkata</td>\n",
       "      <td>1 stop</td>\n",
       "      <td>0</td>\n",
       "    </tr>\n",
       "    <tr>\n",
       "      <td>2667</td>\n",
       "      <td>No info</td>\n",
       "      <td>IndiGo</td>\n",
       "      <td>16:55</td>\n",
       "      <td>27/03/2019</td>\n",
       "      <td>14:20</td>\n",
       "      <td>Banglore</td>\n",
       "      <td>2h 35m</td>\n",
       "      <td>NaN</td>\n",
       "      <td>CCU ? BLR</td>\n",
       "      <td>Kolkata</td>\n",
       "      <td>non-stop</td>\n",
       "      <td>0</td>\n",
       "    </tr>\n",
       "    <tr>\n",
       "      <td>2668</td>\n",
       "      <td>No info</td>\n",
       "      <td>Jet Airways</td>\n",
       "      <td>04:25 07 Mar</td>\n",
       "      <td>6/03/2019</td>\n",
       "      <td>21:50</td>\n",
       "      <td>Cochin</td>\n",
       "      <td>6h 35m</td>\n",
       "      <td>NaN</td>\n",
       "      <td>DEL ? BOM ? COK</td>\n",
       "      <td>Delhi</td>\n",
       "      <td>1 stop</td>\n",
       "      <td>0</td>\n",
       "    </tr>\n",
       "    <tr>\n",
       "      <td>2669</td>\n",
       "      <td>No info</td>\n",
       "      <td>Air India</td>\n",
       "      <td>19:15</td>\n",
       "      <td>6/03/2019</td>\n",
       "      <td>04:00</td>\n",
       "      <td>Cochin</td>\n",
       "      <td>15h 15m</td>\n",
       "      <td>NaN</td>\n",
       "      <td>DEL ? BOM ? COK</td>\n",
       "      <td>Delhi</td>\n",
       "      <td>1 stop</td>\n",
       "      <td>0</td>\n",
       "    </tr>\n",
       "    <tr>\n",
       "      <td>2670</td>\n",
       "      <td>No info</td>\n",
       "      <td>Multiple carriers</td>\n",
       "      <td>19:15</td>\n",
       "      <td>15/06/2019</td>\n",
       "      <td>04:55</td>\n",
       "      <td>Cochin</td>\n",
       "      <td>14h 20m</td>\n",
       "      <td>NaN</td>\n",
       "      <td>DEL ? BOM ? COK</td>\n",
       "      <td>Delhi</td>\n",
       "      <td>1 stop</td>\n",
       "      <td>0</td>\n",
       "    </tr>\n",
       "  </tbody>\n",
       "</table>\n",
       "</div>"
      ],
      "text/plain": [
       "     Additional_Info            Airline  Arrival_Time Date_of_Journey  \\\n",
       "2666         No info          Air India  20:25 07 Jun       6/06/2019   \n",
       "2667         No info             IndiGo         16:55      27/03/2019   \n",
       "2668         No info        Jet Airways  04:25 07 Mar       6/03/2019   \n",
       "2669         No info          Air India         19:15       6/03/2019   \n",
       "2670         No info  Multiple carriers         19:15      15/06/2019   \n",
       "\n",
       "     Dep_Time Destination Duration  Price            Route   Source  \\\n",
       "2666    20:30    Banglore  23h 55m    NaN  CCU ? DEL ? BLR  Kolkata   \n",
       "2667    14:20    Banglore   2h 35m    NaN        CCU ? BLR  Kolkata   \n",
       "2668    21:50      Cochin   6h 35m    NaN  DEL ? BOM ? COK    Delhi   \n",
       "2669    04:00      Cochin  15h 15m    NaN  DEL ? BOM ? COK    Delhi   \n",
       "2670    04:55      Cochin  14h 20m    NaN  DEL ? BOM ? COK    Delhi   \n",
       "\n",
       "     Total_Stops  new  \n",
       "2666      1 stop    0  \n",
       "2667    non-stop    0  \n",
       "2668      1 stop    0  \n",
       "2669      1 stop    0  \n",
       "2670      1 stop    0  "
      ]
     },
     "execution_count": 81,
     "metadata": {},
     "output_type": "execute_result"
    }
   ],
   "source": [
    "#Price is the target variable and all values are missing as they are from test set. \n",
    "#we’ll impute all the missing values(if present) except the Price column.\n",
    "df.tail()"
   ]
  },
  {
   "cell_type": "code",
   "execution_count": 82,
   "metadata": {},
   "outputs": [
    {
     "data": {
      "text/plain": [
       "Additional_Info       0\n",
       "Airline               0\n",
       "Arrival_Time          0\n",
       "Date_of_Journey       0\n",
       "Dep_Time              0\n",
       "Destination           0\n",
       "Duration              0\n",
       "Price              2671\n",
       "Route                 1\n",
       "Source                0\n",
       "Total_Stops           1\n",
       "new                   0\n",
       "dtype: int64"
      ]
     },
     "execution_count": 82,
     "metadata": {},
     "output_type": "execute_result"
    }
   ],
   "source": [
    "df.isnull().sum()"
   ]
  },
  {
   "cell_type": "code",
   "execution_count": 83,
   "metadata": {},
   "outputs": [
    {
     "data": {
      "text/plain": [
       "(13354, 12)"
      ]
     },
     "execution_count": 83,
     "metadata": {},
     "output_type": "execute_result"
    }
   ],
   "source": [
    "df.shape"
   ]
  },
  {
   "cell_type": "code",
   "execution_count": 84,
   "metadata": {},
   "outputs": [
    {
     "data": {
      "text/plain": [
       "<matplotlib.axes._subplots.AxesSubplot at 0x180cd60c388>"
      ]
     },
     "execution_count": 84,
     "metadata": {},
     "output_type": "execute_result"
    },
    {
     "data": {
      "image/png": "[encoded data removed]",
      "text/plain": [
       "<Figure size 432x288 with 2 Axes>"
      ]
     },
     "metadata": {
      "needs_background": "light"
     },
     "output_type": "display_data"
    }
   ],
   "source": [
    "sns.heatmap(df.isnull())"
   ]
  },
  {
   "cell_type": "code",
   "execution_count": 85,
   "metadata": {},
   "outputs": [
    {
     "data": {
      "text/plain": [
       "Additional_Info       0\n",
       "Airline               0\n",
       "Arrival_Time          0\n",
       "Date_of_Journey       0\n",
       "Dep_Time              0\n",
       "Destination           0\n",
       "Duration              0\n",
       "Price              2671\n",
       "Route                 1\n",
       "Source                0\n",
       "Total_Stops           1\n",
       "new                   0\n",
       "dtype: int64"
      ]
     },
     "execution_count": 85,
     "metadata": {},
     "output_type": "execute_result"
    }
   ],
   "source": [
    "df.isnull().sum()"
   ]
  },
  {
   "cell_type": "markdown",
   "metadata": {},
   "source": [
    "# Feature engineering"
   ]
  },
  {
   "cell_type": "markdown",
   "metadata": {},
   "source": [
    "# Imputing missing values"
   ]
  },
  {
   "cell_type": "code",
   "execution_count": 86,
   "metadata": {},
   "outputs": [],
   "source": [
    "df['Route']=df['Route'].fillna(df['Route'].mode()[0])\n",
    "df['Total_Stops']=df['Total_Stops'].fillna(df['Total_Stops'].mode()[0])"
   ]
  },
  {
   "cell_type": "code",
   "execution_count": 87,
   "metadata": {},
   "outputs": [
    {
     "data": {
      "text/plain": [
       "Additional_Info       0\n",
       "Airline               0\n",
       "Arrival_Time          0\n",
       "Date_of_Journey       0\n",
       "Dep_Time              0\n",
       "Destination           0\n",
       "Duration              0\n",
       "Price              2671\n",
       "Route                 0\n",
       "Source                0\n",
       "Total_Stops           0\n",
       "new                   0\n",
       "dtype: int64"
      ]
     },
     "execution_count": 87,
     "metadata": {},
     "output_type": "execute_result"
    }
   ],
   "source": [
    "df.isnull().sum()"
   ]
  },
  {
   "cell_type": "code",
   "execution_count": 88,
   "metadata": {},
   "outputs": [
    {
     "name": "stdout",
     "output_type": "stream",
     "text": [
      "Additional_Info 10\n",
      "Airline 12\n",
      "Arrival_Time 1451\n",
      "Date_of_Journey 44\n",
      "Dep_Time 223\n",
      "Destination 6\n",
      "Duration 374\n",
      "Route 132\n",
      "Source 5\n",
      "Total_Stops 5\n"
     ]
    }
   ],
   "source": [
    "#checking unique caegories is each categorical feature\n",
    "categorical_features=[feature for feature in df.columns if df[feature].dtypes=='object']\n",
    "for feature in categorical_features:\n",
    "    if df[feature].nunique()>=1:\n",
    "        print(feature,df[feature].nunique())"
   ]
  },
  {
   "cell_type": "code",
   "execution_count": 89,
   "metadata": {},
   "outputs": [
    {
     "data": {
      "text/plain": [
       "Additional_Info     object\n",
       "Airline             object\n",
       "Arrival_Time        object\n",
       "Date_of_Journey     object\n",
       "Dep_Time            object\n",
       "Destination         object\n",
       "Duration            object\n",
       "Price              float64\n",
       "Route               object\n",
       "Source              object\n",
       "Total_Stops         object\n",
       "new                  int64\n",
       "dtype: object"
      ]
     },
     "execution_count": 89,
     "metadata": {},
     "output_type": "execute_result"
    }
   ],
   "source": [
    "df.dtypes"
   ]
  },
  {
   "cell_type": "markdown",
   "metadata": {},
   "source": [
    "# Feature Generation"
   ]
  },
  {
   "cell_type": "markdown",
   "metadata": {},
   "source": [
    "# 1-Date_of_Journey"
   ]
  },
  {
   "cell_type": "code",
   "execution_count": 90,
   "metadata": {},
   "outputs": [],
   "source": [
    "df['Date_of_Journey']=pd.to_datetime(df['Date_of_Journey'],format='%d/%m/%Y')"
   ]
  },
  {
   "cell_type": "code",
   "execution_count": 91,
   "metadata": {},
   "outputs": [],
   "source": [
    "df['journey_month']=df['Date_of_Journey'].dt.month\n",
    "df['journey_day']=df['Date_of_Journey'].dt.day\n",
    "df['journey_weekday']=df['Date_of_Journey'].dt.dayofweek"
   ]
  },
  {
   "cell_type": "code",
   "execution_count": 92,
   "metadata": {},
   "outputs": [],
   "source": [
    "#Dropping the column as we extracted the features\n",
    "df=df.drop('Date_of_Journey',axis=1)"
   ]
  },
  {
   "cell_type": "markdown",
   "metadata": {},
   "source": [
    "# 2-Dep_Time"
   ]
  },
  {
   "cell_type": "code",
   "execution_count": 93,
   "metadata": {},
   "outputs": [],
   "source": [
    "df['Dep_Time']=pd.to_datetime(df['Dep_Time'],format='%H:%M')"
   ]
  },
  {
   "cell_type": "code",
   "execution_count": 94,
   "metadata": {},
   "outputs": [],
   "source": [
    "df['dep_hour']=df['Dep_Time'].dt.hour\n",
    "df['dep_min']=df['Dep_Time'].dt.minute"
   ]
  },
  {
   "cell_type": "code",
   "execution_count": 95,
   "metadata": {},
   "outputs": [],
   "source": [
    "#Dropping the column as we extracted the features\n",
    "df=df.drop('Dep_Time',axis=1)"
   ]
  },
  {
   "cell_type": "markdown",
   "metadata": {},
   "source": [
    "# 3-Arrival time"
   ]
  },
  {
   "cell_type": "code",
   "execution_count": 96,
   "metadata": {},
   "outputs": [],
   "source": [
    "df['arrival_hour']=pd.to_datetime(df['Arrival_Time']).dt.hour"
   ]
  },
  {
   "cell_type": "code",
   "execution_count": 97,
   "metadata": {},
   "outputs": [],
   "source": [
    "df['arrival_min']=pd.to_datetime(df['Arrival_Time']).dt.minute"
   ]
  },
  {
   "cell_type": "code",
   "execution_count": 98,
   "metadata": {},
   "outputs": [],
   "source": [
    "#Dropping the column as we extracted the features\n",
    "df=df.drop('Arrival_Time',axis=1)"
   ]
  },
  {
   "cell_type": "markdown",
   "metadata": {},
   "source": [
    "# 4-Duration"
   ]
  },
  {
   "cell_type": "code",
   "execution_count": 99,
   "metadata": {},
   "outputs": [],
   "source": [
    "df['Duration']=  df['Duration'].str.replace(\"h\", '*60').str.replace(' ','+').str.replace('m','*1').apply(eval)"
   ]
  },
  {
   "cell_type": "markdown",
   "metadata": {},
   "source": [
    "# 5-Total_Stops"
   ]
  },
  {
   "cell_type": "code",
   "execution_count": 100,
   "metadata": {},
   "outputs": [],
   "source": [
    "df['Total_Stops']=df['Total_Stops'].replace(['non-stop','1 stop','2 stops','3 stops','4 stops'],[0,1,2,3,4])"
   ]
  },
  {
   "cell_type": "code",
   "execution_count": 101,
   "metadata": {},
   "outputs": [
    {
     "data": {
      "text/html": [
       "<div>\n",
       "<style scoped>\n",
       "    .dataframe tbody tr th:only-of-type {\n",
       "        vertical-align: middle;\n",
       "    }\n",
       "\n",
       "    .dataframe tbody tr th {\n",
       "        vertical-align: top;\n",
       "    }\n",
       "\n",
       "    .dataframe thead th {\n",
       "        text-align: right;\n",
       "    }\n",
       "</style>\n",
       "<table border=\"1\" class=\"dataframe\">\n",
       "  <thead>\n",
       "    <tr style=\"text-align: right;\">\n",
       "      <th></th>\n",
       "      <th>Additional_Info</th>\n",
       "      <th>Airline</th>\n",
       "      <th>Destination</th>\n",
       "      <th>Duration</th>\n",
       "      <th>Price</th>\n",
       "      <th>Route</th>\n",
       "      <th>Source</th>\n",
       "      <th>Total_Stops</th>\n",
       "      <th>new</th>\n",
       "      <th>journey_month</th>\n",
       "      <th>journey_day</th>\n",
       "      <th>journey_weekday</th>\n",
       "      <th>dep_hour</th>\n",
       "      <th>dep_min</th>\n",
       "      <th>arrival_hour</th>\n",
       "      <th>arrival_min</th>\n",
       "    </tr>\n",
       "  </thead>\n",
       "  <tbody>\n",
       "    <tr>\n",
       "      <td>0</td>\n",
       "      <td>No info</td>\n",
       "      <td>IndiGo</td>\n",
       "      <td>New Delhi</td>\n",
       "      <td>170</td>\n",
       "      <td>3897.0</td>\n",
       "      <td>BLR ? DEL</td>\n",
       "      <td>Banglore</td>\n",
       "      <td>0</td>\n",
       "      <td>1</td>\n",
       "      <td>3</td>\n",
       "      <td>24</td>\n",
       "      <td>6</td>\n",
       "      <td>22</td>\n",
       "      <td>20</td>\n",
       "      <td>1</td>\n",
       "      <td>10</td>\n",
       "    </tr>\n",
       "    <tr>\n",
       "      <td>1</td>\n",
       "      <td>No info</td>\n",
       "      <td>Air India</td>\n",
       "      <td>Banglore</td>\n",
       "      <td>445</td>\n",
       "      <td>7662.0</td>\n",
       "      <td>CCU ? IXR ? BBI ? BLR</td>\n",
       "      <td>Kolkata</td>\n",
       "      <td>2</td>\n",
       "      <td>1</td>\n",
       "      <td>5</td>\n",
       "      <td>1</td>\n",
       "      <td>2</td>\n",
       "      <td>5</td>\n",
       "      <td>50</td>\n",
       "      <td>13</td>\n",
       "      <td>15</td>\n",
       "    </tr>\n",
       "    <tr>\n",
       "      <td>2</td>\n",
       "      <td>No info</td>\n",
       "      <td>Jet Airways</td>\n",
       "      <td>Cochin</td>\n",
       "      <td>1140</td>\n",
       "      <td>13882.0</td>\n",
       "      <td>DEL ? LKO ? BOM ? COK</td>\n",
       "      <td>Delhi</td>\n",
       "      <td>2</td>\n",
       "      <td>1</td>\n",
       "      <td>6</td>\n",
       "      <td>9</td>\n",
       "      <td>6</td>\n",
       "      <td>9</td>\n",
       "      <td>25</td>\n",
       "      <td>4</td>\n",
       "      <td>25</td>\n",
       "    </tr>\n",
       "    <tr>\n",
       "      <td>3</td>\n",
       "      <td>No info</td>\n",
       "      <td>IndiGo</td>\n",
       "      <td>Banglore</td>\n",
       "      <td>325</td>\n",
       "      <td>6218.0</td>\n",
       "      <td>CCU ? NAG ? BLR</td>\n",
       "      <td>Kolkata</td>\n",
       "      <td>1</td>\n",
       "      <td>1</td>\n",
       "      <td>5</td>\n",
       "      <td>12</td>\n",
       "      <td>6</td>\n",
       "      <td>18</td>\n",
       "      <td>5</td>\n",
       "      <td>23</td>\n",
       "      <td>30</td>\n",
       "    </tr>\n",
       "    <tr>\n",
       "      <td>4</td>\n",
       "      <td>No info</td>\n",
       "      <td>IndiGo</td>\n",
       "      <td>New Delhi</td>\n",
       "      <td>285</td>\n",
       "      <td>13302.0</td>\n",
       "      <td>BLR ? NAG ? DEL</td>\n",
       "      <td>Banglore</td>\n",
       "      <td>1</td>\n",
       "      <td>1</td>\n",
       "      <td>3</td>\n",
       "      <td>1</td>\n",
       "      <td>4</td>\n",
       "      <td>16</td>\n",
       "      <td>50</td>\n",
       "      <td>21</td>\n",
       "      <td>35</td>\n",
       "    </tr>\n",
       "  </tbody>\n",
       "</table>\n",
       "</div>"
      ],
      "text/plain": [
       "  Additional_Info      Airline Destination  Duration    Price  \\\n",
       "0         No info       IndiGo   New Delhi       170   3897.0   \n",
       "1         No info    Air India    Banglore       445   7662.0   \n",
       "2         No info  Jet Airways      Cochin      1140  13882.0   \n",
       "3         No info       IndiGo    Banglore       325   6218.0   \n",
       "4         No info       IndiGo   New Delhi       285  13302.0   \n",
       "\n",
       "                   Route    Source  Total_Stops  new  journey_month  \\\n",
       "0              BLR ? DEL  Banglore            0    1              3   \n",
       "1  CCU ? IXR ? BBI ? BLR   Kolkata            2    1              5   \n",
       "2  DEL ? LKO ? BOM ? COK     Delhi            2    1              6   \n",
       "3        CCU ? NAG ? BLR   Kolkata            1    1              5   \n",
       "4        BLR ? NAG ? DEL  Banglore            1    1              3   \n",
       "\n",
       "   journey_day  journey_weekday  dep_hour  dep_min  arrival_hour  arrival_min  \n",
       "0           24                6        22       20             1           10  \n",
       "1            1                2         5       50            13           15  \n",
       "2            9                6         9       25             4           25  \n",
       "3           12                6        18        5            23           30  \n",
       "4            1                4        16       50            21           35  "
      ]
     },
     "execution_count": 101,
     "metadata": {},
     "output_type": "execute_result"
    }
   ],
   "source": [
    "df.head()"
   ]
  },
  {
   "cell_type": "markdown",
   "metadata": {},
   "source": [
    "# Univariate Analysis"
   ]
  },
  {
   "cell_type": "code",
   "execution_count": 102,
   "metadata": {},
   "outputs": [
    {
     "data": {
      "image/png": "[encoded data removed]",
      "text/plain": [
       "<Figure size 432x288 with 1 Axes>"
      ]
     },
     "metadata": {
      "needs_background": "light"
     },
     "output_type": "display_data"
    },
    {
     "data": {
      "image/png": "[encoded data removed]",
      "text/plain": [
       "<Figure size 432x288 with 1 Axes>"
      ]
     },
     "metadata": {
      "needs_background": "light"
     },
     "output_type": "display_data"
    },
    {
     "data": {
      "image/png": "[encoded data removed]",
      "text/plain": [
       "<Figure size 432x288 with 1 Axes>"
      ]
     },
     "metadata": {
      "needs_background": "light"
     },
     "output_type": "display_data"
    },
    {
     "data": {
      "image/png": "[encoded data removed]",
      "text/plain": [
       "<Figure size 432x288 with 1 Axes>"
      ]
     },
     "metadata": {
      "needs_background": "light"
     },
     "output_type": "display_data"
    },
    {
     "data": {
      "image/png": "[encoded data removed]",
      "text/plain": [
       "<Figure size 432x288 with 1 Axes>"
      ]
     },
     "metadata": {
      "needs_background": "light"
     },
     "output_type": "display_data"
    },
    {
     "data": {
      "image/png": "[encoded data removed]",
      "text/plain": [
       "<Figure size 432x288 with 1 Axes>"
      ]
     },
     "metadata": {
      "needs_background": "light"
     },
     "output_type": "display_data"
    },
    {
     "data": {
      "image/png": "[encoded data removed]",
      "text/plain": [
       "<Figure size 432x288 with 1 Axes>"
      ]
     },
     "metadata": {
      "needs_background": "light"
     },
     "output_type": "display_data"
    },
    {
     "data": {
      "image/png": "[encoded data removed]",
      "text/plain": [
       "<Figure size 432x288 with 1 Axes>"
      ]
     },
     "metadata": {
      "needs_background": "light"
     },
     "output_type": "display_data"
    },
    {
     "data": {
      "image/png": "[encoded data removed]",
      "text/plain": [
       "<Figure size 432x288 with 1 Axes>"
      ]
     },
     "metadata": {
      "needs_background": "light"
     },
     "output_type": "display_data"
    },
    {
     "data": {
      "image/png": "[encoded data removed]",
      "text/plain": [
       "<Figure size 432x288 with 1 Axes>"
      ]
     },
     "metadata": {
      "needs_background": "light"
     },
     "output_type": "display_data"
    },
    {
     "data": {
      "image/png": "[encoded data removed]",
      "text/plain": [
       "<Figure size 432x288 with 1 Axes>"
      ]
     },
     "metadata": {
      "needs_background": "light"
     },
     "output_type": "display_data"
    }
   ],
   "source": [
    "#checking skewness\n",
    "numerical_features=[feature for feature in df.columns if df[feature].dtypes!='object']\n",
    "for feature in numerical_features:\n",
    "    \n",
    "    df[feature].hist()\n",
    "    plt.xlabel(feature)\n",
    "    plt.show()"
   ]
  },
  {
   "cell_type": "code",
   "execution_count": 103,
   "metadata": {},
   "outputs": [],
   "source": [
    "#We can see few data are right skewed,which are to be treated"
   ]
  },
  {
   "cell_type": "code",
   "execution_count": 104,
   "metadata": {},
   "outputs": [
    {
     "data": {
      "image/png": "[encoded data removed]",
      "text/plain": [
       "<Figure size 432x288 with 1 Axes>"
      ]
     },
     "metadata": {
      "needs_background": "light"
     },
     "output_type": "display_data"
    },
    {
     "data": {
      "image/png": "[encoded data removed]",
      "text/plain": [
       "<Figure size 432x288 with 1 Axes>"
      ]
     },
     "metadata": {
      "needs_background": "light"
     },
     "output_type": "display_data"
    },
    {
     "data": {
      "image/png": "[encoded data removed]",
      "text/plain": [
       "<Figure size 432x288 with 1 Axes>"
      ]
     },
     "metadata": {
      "needs_background": "light"
     },
     "output_type": "display_data"
    },
    {
     "data": {
      "image/png": "[encoded data removed]",
      "text/plain": [
       "<Figure size 432x288 with 1 Axes>"
      ]
     },
     "metadata": {
      "needs_background": "light"
     },
     "output_type": "display_data"
    },
    {
     "data": {
      "image/png": "[encoded data removed]",
      "text/plain": [
       "<Figure size 432x288 with 1 Axes>"
      ]
     },
     "metadata": {
      "needs_background": "light"
     },
     "output_type": "display_data"
    },
    {
     "data": {
      "image/png": "[encoded data removed]",
      "text/plain": [
       "<Figure size 432x288 with 1 Axes>"
      ]
     },
     "metadata": {
      "needs_background": "light"
     },
     "output_type": "display_data"
    },
    {
     "data": {
      "image/png": "[encoded data removed]",
      "text/plain": [
       "<Figure size 432x288 with 1 Axes>"
      ]
     },
     "metadata": {
      "needs_background": "light"
     },
     "output_type": "display_data"
    },
    {
     "data": {
      "image/png": "[encoded data removed]",
      "text/plain": [
       "<Figure size 432x288 with 1 Axes>"
      ]
     },
     "metadata": {
      "needs_background": "light"
     },
     "output_type": "display_data"
    },
    {
     "data": {
      "image/png": "[encoded data removed]",
      "text/plain": [
       "<Figure size 432x288 with 1 Axes>"
      ]
     },
     "metadata": {
      "needs_background": "light"
     },
     "output_type": "display_data"
    },
    {
     "data": {
      "image/png": "[encoded data removed]",
      "text/plain": [
       "<Figure size 432x288 with 1 Axes>"
      ]
     },
     "metadata": {
      "needs_background": "light"
     },
     "output_type": "display_data"
    },
    {
     "data": {
      "image/png": "[encoded data removed]",
      "text/plain": [
       "<Figure size 432x288 with 1 Axes>"
      ]
     },
     "metadata": {
      "needs_background": "light"
     },
     "output_type": "display_data"
    }
   ],
   "source": [
    "#checking outliers\n",
    "numerical_features=[feature for feature in df.columns if df[feature].dtypes!='object']\n",
    "for feature in numerical_features:\n",
    "    \n",
    "    df[feature].plot.box()\n",
    "    plt.xlabel(feature)\n",
    "    plt.show()"
   ]
  },
  {
   "cell_type": "markdown",
   "metadata": {},
   "source": [
    "# Bivariate Analysis"
   ]
  },
  {
   "cell_type": "code",
   "execution_count": 105,
   "metadata": {},
   "outputs": [
    {
     "data": {
      "text/plain": [
       "<matplotlib.axes._subplots.AxesSubplot at 0x180cda01b88>"
      ]
     },
     "execution_count": 105,
     "metadata": {},
     "output_type": "execute_result"
    },
    {
     "data": {
      "image/png": "[encoded data removed]",
      "text/plain": [
       "<Figure size 432x288 with 1 Axes>"
      ]
     },
     "metadata": {
      "needs_background": "light"
     },
     "output_type": "display_data"
    }
   ],
   "source": [
    "df.groupby(['Airline'])['Price'].mean().plot.bar()"
   ]
  },
  {
   "cell_type": "code",
   "execution_count": 106,
   "metadata": {},
   "outputs": [],
   "source": [
    "#From above graph we can see jet airways has maximum business."
   ]
  },
  {
   "cell_type": "code",
   "execution_count": 107,
   "metadata": {},
   "outputs": [
    {
     "data": {
      "text/plain": [
       "<matplotlib.axes._subplots.AxesSubplot at 0x180cdc9e248>"
      ]
     },
     "execution_count": 107,
     "metadata": {},
     "output_type": "execute_result"
    },
    {
     "data": {
      "image/png": "[encoded data removed]",
      "text/plain": [
       "<Figure size 432x288 with 1 Axes>"
      ]
     },
     "metadata": {
      "needs_background": "light"
     },
     "output_type": "display_data"
    }
   ],
   "source": [
    "df.groupby(['Destination'])['Price'].mean().plot.bar()"
   ]
  },
  {
   "cell_type": "code",
   "execution_count": 108,
   "metadata": {},
   "outputs": [],
   "source": [
    "#maximum flights destination is delhi"
   ]
  },
  {
   "cell_type": "code",
   "execution_count": 109,
   "metadata": {},
   "outputs": [
    {
     "data": {
      "text/plain": [
       "<matplotlib.axes._subplots.AxesSubplot at 0x180ce0e9d08>"
      ]
     },
     "execution_count": 109,
     "metadata": {},
     "output_type": "execute_result"
    },
    {
     "data": {
      "image/png": "[encoded data removed]",
      "text/plain": [
       "<Figure size 432x288 with 1 Axes>"
      ]
     },
     "metadata": {
      "needs_background": "light"
     },
     "output_type": "display_data"
    }
   ],
   "source": [
    "df.groupby(['Source'])['Price'].mean().plot.bar()"
   ]
  },
  {
   "cell_type": "code",
   "execution_count": 110,
   "metadata": {},
   "outputs": [],
   "source": [
    "#maximum flights source is delhi"
   ]
  },
  {
   "cell_type": "markdown",
   "metadata": {},
   "source": [
    "# Feature Engineering part-2"
   ]
  },
  {
   "cell_type": "code",
   "execution_count": 112,
   "metadata": {},
   "outputs": [
    {
     "data": {
      "text/html": [
       "<div>\n",
       "<style scoped>\n",
       "    .dataframe tbody tr th:only-of-type {\n",
       "        vertical-align: middle;\n",
       "    }\n",
       "\n",
       "    .dataframe tbody tr th {\n",
       "        vertical-align: top;\n",
       "    }\n",
       "\n",
       "    .dataframe thead th {\n",
       "        text-align: right;\n",
       "    }\n",
       "</style>\n",
       "<table border=\"1\" class=\"dataframe\">\n",
       "  <thead>\n",
       "    <tr style=\"text-align: right;\">\n",
       "      <th></th>\n",
       "      <th>Additional_Info</th>\n",
       "      <th>Airline</th>\n",
       "      <th>Destination</th>\n",
       "      <th>Duration</th>\n",
       "      <th>Price</th>\n",
       "      <th>Route</th>\n",
       "      <th>Source</th>\n",
       "      <th>Total_Stops</th>\n",
       "      <th>new</th>\n",
       "      <th>journey_month</th>\n",
       "      <th>journey_day</th>\n",
       "      <th>journey_weekday</th>\n",
       "      <th>dep_hour</th>\n",
       "      <th>dep_min</th>\n",
       "      <th>arrival_hour</th>\n",
       "      <th>arrival_min</th>\n",
       "    </tr>\n",
       "  </thead>\n",
       "  <tbody>\n",
       "    <tr>\n",
       "      <td>0</td>\n",
       "      <td>No info</td>\n",
       "      <td>IndiGo</td>\n",
       "      <td>New Delhi</td>\n",
       "      <td>170</td>\n",
       "      <td>3897.0</td>\n",
       "      <td>BLR ? DEL</td>\n",
       "      <td>Banglore</td>\n",
       "      <td>0</td>\n",
       "      <td>1</td>\n",
       "      <td>3</td>\n",
       "      <td>24</td>\n",
       "      <td>6</td>\n",
       "      <td>22</td>\n",
       "      <td>20</td>\n",
       "      <td>1</td>\n",
       "      <td>10</td>\n",
       "    </tr>\n",
       "    <tr>\n",
       "      <td>1</td>\n",
       "      <td>No info</td>\n",
       "      <td>Air India</td>\n",
       "      <td>Banglore</td>\n",
       "      <td>445</td>\n",
       "      <td>7662.0</td>\n",
       "      <td>CCU ? IXR ? BBI ? BLR</td>\n",
       "      <td>Kolkata</td>\n",
       "      <td>2</td>\n",
       "      <td>1</td>\n",
       "      <td>5</td>\n",
       "      <td>1</td>\n",
       "      <td>2</td>\n",
       "      <td>5</td>\n",
       "      <td>50</td>\n",
       "      <td>13</td>\n",
       "      <td>15</td>\n",
       "    </tr>\n",
       "    <tr>\n",
       "      <td>2</td>\n",
       "      <td>No info</td>\n",
       "      <td>Jet Airways</td>\n",
       "      <td>Cochin</td>\n",
       "      <td>1140</td>\n",
       "      <td>13882.0</td>\n",
       "      <td>DEL ? LKO ? BOM ? COK</td>\n",
       "      <td>Delhi</td>\n",
       "      <td>2</td>\n",
       "      <td>1</td>\n",
       "      <td>6</td>\n",
       "      <td>9</td>\n",
       "      <td>6</td>\n",
       "      <td>9</td>\n",
       "      <td>25</td>\n",
       "      <td>4</td>\n",
       "      <td>25</td>\n",
       "    </tr>\n",
       "    <tr>\n",
       "      <td>3</td>\n",
       "      <td>No info</td>\n",
       "      <td>IndiGo</td>\n",
       "      <td>Banglore</td>\n",
       "      <td>325</td>\n",
       "      <td>6218.0</td>\n",
       "      <td>CCU ? NAG ? BLR</td>\n",
       "      <td>Kolkata</td>\n",
       "      <td>1</td>\n",
       "      <td>1</td>\n",
       "      <td>5</td>\n",
       "      <td>12</td>\n",
       "      <td>6</td>\n",
       "      <td>18</td>\n",
       "      <td>5</td>\n",
       "      <td>23</td>\n",
       "      <td>30</td>\n",
       "    </tr>\n",
       "    <tr>\n",
       "      <td>4</td>\n",
       "      <td>No info</td>\n",
       "      <td>IndiGo</td>\n",
       "      <td>New Delhi</td>\n",
       "      <td>285</td>\n",
       "      <td>13302.0</td>\n",
       "      <td>BLR ? NAG ? DEL</td>\n",
       "      <td>Banglore</td>\n",
       "      <td>1</td>\n",
       "      <td>1</td>\n",
       "      <td>3</td>\n",
       "      <td>1</td>\n",
       "      <td>4</td>\n",
       "      <td>16</td>\n",
       "      <td>50</td>\n",
       "      <td>21</td>\n",
       "      <td>35</td>\n",
       "    </tr>\n",
       "  </tbody>\n",
       "</table>\n",
       "</div>"
      ],
      "text/plain": [
       "  Additional_Info      Airline Destination  Duration    Price  \\\n",
       "0         No info       IndiGo   New Delhi       170   3897.0   \n",
       "1         No info    Air India    Banglore       445   7662.0   \n",
       "2         No info  Jet Airways      Cochin      1140  13882.0   \n",
       "3         No info       IndiGo    Banglore       325   6218.0   \n",
       "4         No info       IndiGo   New Delhi       285  13302.0   \n",
       "\n",
       "                   Route    Source  Total_Stops  new  journey_month  \\\n",
       "0              BLR ? DEL  Banglore            0    1              3   \n",
       "1  CCU ? IXR ? BBI ? BLR   Kolkata            2    1              5   \n",
       "2  DEL ? LKO ? BOM ? COK     Delhi            2    1              6   \n",
       "3        CCU ? NAG ? BLR   Kolkata            1    1              5   \n",
       "4        BLR ? NAG ? DEL  Banglore            1    1              3   \n",
       "\n",
       "   journey_day  journey_weekday  dep_hour  dep_min  arrival_hour  arrival_min  \n",
       "0           24                6        22       20             1           10  \n",
       "1            1                2         5       50            13           15  \n",
       "2            9                6         9       25             4           25  \n",
       "3           12                6        18        5            23           30  \n",
       "4            1                4        16       50            21           35  "
      ]
     },
     "execution_count": 112,
     "metadata": {},
     "output_type": "execute_result"
    }
   ],
   "source": [
    "df.head()"
   ]
  },
  {
   "cell_type": "code",
   "execution_count": 114,
   "metadata": {},
   "outputs": [
    {
     "data": {
      "text/plain": [
       "(13354, 16)"
      ]
     },
     "execution_count": 114,
     "metadata": {},
     "output_type": "execute_result"
    }
   ],
   "source": [
    "df.shape"
   ]
  },
  {
   "cell_type": "markdown",
   "metadata": {},
   "source": [
    "# Getting dummies "
   ]
  },
  {
   "cell_type": "code",
   "execution_count": 115,
   "metadata": {},
   "outputs": [
    {
     "data": {
      "text/plain": [
       "Cochin       5682\n",
       "Banglore     3581\n",
       "Delhi        1582\n",
       "New Delhi    1170\n",
       "Hyderabad     883\n",
       "Kolkata       456\n",
       "Name: Destination, dtype: int64"
      ]
     },
     "execution_count": 115,
     "metadata": {},
     "output_type": "execute_result"
    }
   ],
   "source": [
    "df['Destination'].value_counts()"
   ]
  },
  {
   "cell_type": "code",
   "execution_count": 116,
   "metadata": {},
   "outputs": [
    {
     "data": {
      "text/plain": [
       "Delhi       5682\n",
       "Kolkata     3581\n",
       "Banglore    2752\n",
       "Mumbai       883\n",
       "Chennai      456\n",
       "Name: Source, dtype: int64"
      ]
     },
     "execution_count": 116,
     "metadata": {},
     "output_type": "execute_result"
    }
   ],
   "source": [
    "df['Source'].value_counts()"
   ]
  },
  {
   "cell_type": "code",
   "execution_count": 117,
   "metadata": {},
   "outputs": [
    {
     "data": {
      "text/plain": [
       "Jet Airways                          4746\n",
       "IndiGo                               2564\n",
       "Air India                            2192\n",
       "Multiple carriers                    1543\n",
       "SpiceJet                             1026\n",
       "Vistara                               608\n",
       "Air Asia                              405\n",
       "GoAir                                 240\n",
       "Multiple carriers Premium economy      16\n",
       "Jet Airways Business                    8\n",
       "Vistara Premium economy                 5\n",
       "Trujet                                  1\n",
       "Name: Airline, dtype: int64"
      ]
     },
     "execution_count": 117,
     "metadata": {},
     "output_type": "execute_result"
    }
   ],
   "source": [
    "df['Airline'].value_counts()"
   ]
  },
  {
   "cell_type": "code",
   "execution_count": 118,
   "metadata": {},
   "outputs": [],
   "source": [
    "#Not using for loop as i want to use a customized separatar as there are same sub categories in different features(e.g-Delhi).\n",
    "df=pd.concat([df,pd.get_dummies(df['Airline'])],axis=1)\n",
    "df=pd.concat([df,pd.get_dummies(df['Destination'])],axis=1)\n",
    "df=pd.concat([df,pd.get_dummies(df['Source'],prefix=str('Source'),prefix_sep='_')],axis=1)"
   ]
  },
  {
   "cell_type": "code",
   "execution_count": 119,
   "metadata": {},
   "outputs": [
    {
     "data": {
      "text/html": [
       "<div>\n",
       "<style scoped>\n",
       "    .dataframe tbody tr th:only-of-type {\n",
       "        vertical-align: middle;\n",
       "    }\n",
       "\n",
       "    .dataframe tbody tr th {\n",
       "        vertical-align: top;\n",
       "    }\n",
       "\n",
       "    .dataframe thead th {\n",
       "        text-align: right;\n",
       "    }\n",
       "</style>\n",
       "<table border=\"1\" class=\"dataframe\">\n",
       "  <thead>\n",
       "    <tr style=\"text-align: right;\">\n",
       "      <th></th>\n",
       "      <th>Additional_Info</th>\n",
       "      <th>Airline</th>\n",
       "      <th>Destination</th>\n",
       "      <th>Duration</th>\n",
       "      <th>Price</th>\n",
       "      <th>Route</th>\n",
       "      <th>Source</th>\n",
       "      <th>Total_Stops</th>\n",
       "      <th>new</th>\n",
       "      <th>journey_month</th>\n",
       "      <th>journey_day</th>\n",
       "      <th>journey_weekday</th>\n",
       "      <th>dep_hour</th>\n",
       "      <th>dep_min</th>\n",
       "      <th>arrival_hour</th>\n",
       "      <th>arrival_min</th>\n",
       "      <th>Air Asia</th>\n",
       "      <th>Air India</th>\n",
       "      <th>GoAir</th>\n",
       "      <th>IndiGo</th>\n",
       "      <th>Jet Airways</th>\n",
       "      <th>Jet Airways Business</th>\n",
       "      <th>Multiple carriers</th>\n",
       "      <th>Multiple carriers Premium economy</th>\n",
       "      <th>SpiceJet</th>\n",
       "      <th>Trujet</th>\n",
       "      <th>Vistara</th>\n",
       "      <th>Vistara Premium economy</th>\n",
       "      <th>Banglore</th>\n",
       "      <th>Cochin</th>\n",
       "      <th>Delhi</th>\n",
       "      <th>Hyderabad</th>\n",
       "      <th>Kolkata</th>\n",
       "      <th>New Delhi</th>\n",
       "      <th>Source_Banglore</th>\n",
       "      <th>Source_Chennai</th>\n",
       "      <th>Source_Delhi</th>\n",
       "      <th>Source_Kolkata</th>\n",
       "      <th>Source_Mumbai</th>\n",
       "    </tr>\n",
       "  </thead>\n",
       "  <tbody>\n",
       "    <tr>\n",
       "      <td>0</td>\n",
       "      <td>No info</td>\n",
       "      <td>IndiGo</td>\n",
       "      <td>New Delhi</td>\n",
       "      <td>170</td>\n",
       "      <td>3897.0</td>\n",
       "      <td>BLR ? DEL</td>\n",
       "      <td>Banglore</td>\n",
       "      <td>0</td>\n",
       "      <td>1</td>\n",
       "      <td>3</td>\n",
       "      <td>24</td>\n",
       "      <td>6</td>\n",
       "      <td>22</td>\n",
       "      <td>20</td>\n",
       "      <td>1</td>\n",
       "      <td>10</td>\n",
       "      <td>0</td>\n",
       "      <td>0</td>\n",
       "      <td>0</td>\n",
       "      <td>1</td>\n",
       "      <td>0</td>\n",
       "      <td>0</td>\n",
       "      <td>0</td>\n",
       "      <td>0</td>\n",
       "      <td>0</td>\n",
       "      <td>0</td>\n",
       "      <td>0</td>\n",
       "      <td>0</td>\n",
       "      <td>0</td>\n",
       "      <td>0</td>\n",
       "      <td>0</td>\n",
       "      <td>0</td>\n",
       "      <td>0</td>\n",
       "      <td>1</td>\n",
       "      <td>1</td>\n",
       "      <td>0</td>\n",
       "      <td>0</td>\n",
       "      <td>0</td>\n",
       "      <td>0</td>\n",
       "    </tr>\n",
       "    <tr>\n",
       "      <td>1</td>\n",
       "      <td>No info</td>\n",
       "      <td>Air India</td>\n",
       "      <td>Banglore</td>\n",
       "      <td>445</td>\n",
       "      <td>7662.0</td>\n",
       "      <td>CCU ? IXR ? BBI ? BLR</td>\n",
       "      <td>Kolkata</td>\n",
       "      <td>2</td>\n",
       "      <td>1</td>\n",
       "      <td>5</td>\n",
       "      <td>1</td>\n",
       "      <td>2</td>\n",
       "      <td>5</td>\n",
       "      <td>50</td>\n",
       "      <td>13</td>\n",
       "      <td>15</td>\n",
       "      <td>0</td>\n",
       "      <td>1</td>\n",
       "      <td>0</td>\n",
       "      <td>0</td>\n",
       "      <td>0</td>\n",
       "      <td>0</td>\n",
       "      <td>0</td>\n",
       "      <td>0</td>\n",
       "      <td>0</td>\n",
       "      <td>0</td>\n",
       "      <td>0</td>\n",
       "      <td>0</td>\n",
       "      <td>1</td>\n",
       "      <td>0</td>\n",
       "      <td>0</td>\n",
       "      <td>0</td>\n",
       "      <td>0</td>\n",
       "      <td>0</td>\n",
       "      <td>0</td>\n",
       "      <td>0</td>\n",
       "      <td>0</td>\n",
       "      <td>1</td>\n",
       "      <td>0</td>\n",
       "    </tr>\n",
       "    <tr>\n",
       "      <td>2</td>\n",
       "      <td>No info</td>\n",
       "      <td>Jet Airways</td>\n",
       "      <td>Cochin</td>\n",
       "      <td>1140</td>\n",
       "      <td>13882.0</td>\n",
       "      <td>DEL ? LKO ? BOM ? COK</td>\n",
       "      <td>Delhi</td>\n",
       "      <td>2</td>\n",
       "      <td>1</td>\n",
       "      <td>6</td>\n",
       "      <td>9</td>\n",
       "      <td>6</td>\n",
       "      <td>9</td>\n",
       "      <td>25</td>\n",
       "      <td>4</td>\n",
       "      <td>25</td>\n",
       "      <td>0</td>\n",
       "      <td>0</td>\n",
       "      <td>0</td>\n",
       "      <td>0</td>\n",
       "      <td>1</td>\n",
       "      <td>0</td>\n",
       "      <td>0</td>\n",
       "      <td>0</td>\n",
       "      <td>0</td>\n",
       "      <td>0</td>\n",
       "      <td>0</td>\n",
       "      <td>0</td>\n",
       "      <td>0</td>\n",
       "      <td>1</td>\n",
       "      <td>0</td>\n",
       "      <td>0</td>\n",
       "      <td>0</td>\n",
       "      <td>0</td>\n",
       "      <td>0</td>\n",
       "      <td>0</td>\n",
       "      <td>1</td>\n",
       "      <td>0</td>\n",
       "      <td>0</td>\n",
       "    </tr>\n",
       "    <tr>\n",
       "      <td>3</td>\n",
       "      <td>No info</td>\n",
       "      <td>IndiGo</td>\n",
       "      <td>Banglore</td>\n",
       "      <td>325</td>\n",
       "      <td>6218.0</td>\n",
       "      <td>CCU ? NAG ? BLR</td>\n",
       "      <td>Kolkata</td>\n",
       "      <td>1</td>\n",
       "      <td>1</td>\n",
       "      <td>5</td>\n",
       "      <td>12</td>\n",
       "      <td>6</td>\n",
       "      <td>18</td>\n",
       "      <td>5</td>\n",
       "      <td>23</td>\n",
       "      <td>30</td>\n",
       "      <td>0</td>\n",
       "      <td>0</td>\n",
       "      <td>0</td>\n",
       "      <td>1</td>\n",
       "      <td>0</td>\n",
       "      <td>0</td>\n",
       "      <td>0</td>\n",
       "      <td>0</td>\n",
       "      <td>0</td>\n",
       "      <td>0</td>\n",
       "      <td>0</td>\n",
       "      <td>0</td>\n",
       "      <td>1</td>\n",
       "      <td>0</td>\n",
       "      <td>0</td>\n",
       "      <td>0</td>\n",
       "      <td>0</td>\n",
       "      <td>0</td>\n",
       "      <td>0</td>\n",
       "      <td>0</td>\n",
       "      <td>0</td>\n",
       "      <td>1</td>\n",
       "      <td>0</td>\n",
       "    </tr>\n",
       "    <tr>\n",
       "      <td>4</td>\n",
       "      <td>No info</td>\n",
       "      <td>IndiGo</td>\n",
       "      <td>New Delhi</td>\n",
       "      <td>285</td>\n",
       "      <td>13302.0</td>\n",
       "      <td>BLR ? NAG ? DEL</td>\n",
       "      <td>Banglore</td>\n",
       "      <td>1</td>\n",
       "      <td>1</td>\n",
       "      <td>3</td>\n",
       "      <td>1</td>\n",
       "      <td>4</td>\n",
       "      <td>16</td>\n",
       "      <td>50</td>\n",
       "      <td>21</td>\n",
       "      <td>35</td>\n",
       "      <td>0</td>\n",
       "      <td>0</td>\n",
       "      <td>0</td>\n",
       "      <td>1</td>\n",
       "      <td>0</td>\n",
       "      <td>0</td>\n",
       "      <td>0</td>\n",
       "      <td>0</td>\n",
       "      <td>0</td>\n",
       "      <td>0</td>\n",
       "      <td>0</td>\n",
       "      <td>0</td>\n",
       "      <td>0</td>\n",
       "      <td>0</td>\n",
       "      <td>0</td>\n",
       "      <td>0</td>\n",
       "      <td>0</td>\n",
       "      <td>1</td>\n",
       "      <td>1</td>\n",
       "      <td>0</td>\n",
       "      <td>0</td>\n",
       "      <td>0</td>\n",
       "      <td>0</td>\n",
       "    </tr>\n",
       "  </tbody>\n",
       "</table>\n",
       "</div>"
      ],
      "text/plain": [
       "  Additional_Info      Airline Destination  Duration    Price  \\\n",
       "0         No info       IndiGo   New Delhi       170   3897.0   \n",
       "1         No info    Air India    Banglore       445   7662.0   \n",
       "2         No info  Jet Airways      Cochin      1140  13882.0   \n",
       "3         No info       IndiGo    Banglore       325   6218.0   \n",
       "4         No info       IndiGo   New Delhi       285  13302.0   \n",
       "\n",
       "                   Route    Source  Total_Stops  new  journey_month  \\\n",
       "0              BLR ? DEL  Banglore            0    1              3   \n",
       "1  CCU ? IXR ? BBI ? BLR   Kolkata            2    1              5   \n",
       "2  DEL ? LKO ? BOM ? COK     Delhi            2    1              6   \n",
       "3        CCU ? NAG ? BLR   Kolkata            1    1              5   \n",
       "4        BLR ? NAG ? DEL  Banglore            1    1              3   \n",
       "\n",
       "   journey_day  journey_weekday  dep_hour  dep_min  arrival_hour  arrival_min  \\\n",
       "0           24                6        22       20             1           10   \n",
       "1            1                2         5       50            13           15   \n",
       "2            9                6         9       25             4           25   \n",
       "3           12                6        18        5            23           30   \n",
       "4            1                4        16       50            21           35   \n",
       "\n",
       "   Air Asia  Air India  GoAir  IndiGo  Jet Airways  Jet Airways Business  \\\n",
       "0         0          0      0       1            0                     0   \n",
       "1         0          1      0       0            0                     0   \n",
       "2         0          0      0       0            1                     0   \n",
       "3         0          0      0       1            0                     0   \n",
       "4         0          0      0       1            0                     0   \n",
       "\n",
       "   Multiple carriers  Multiple carriers Premium economy  SpiceJet  Trujet  \\\n",
       "0                  0                                  0         0       0   \n",
       "1                  0                                  0         0       0   \n",
       "2                  0                                  0         0       0   \n",
       "3                  0                                  0         0       0   \n",
       "4                  0                                  0         0       0   \n",
       "\n",
       "   Vistara  Vistara Premium economy  Banglore  Cochin  Delhi  Hyderabad  \\\n",
       "0        0                        0         0       0      0          0   \n",
       "1        0                        0         1       0      0          0   \n",
       "2        0                        0         0       1      0          0   \n",
       "3        0                        0         1       0      0          0   \n",
       "4        0                        0         0       0      0          0   \n",
       "\n",
       "   Kolkata  New Delhi  Source_Banglore  Source_Chennai  Source_Delhi  \\\n",
       "0        0          1                1               0             0   \n",
       "1        0          0                0               0             0   \n",
       "2        0          0                0               0             1   \n",
       "3        0          0                0               0             0   \n",
       "4        0          1                1               0             0   \n",
       "\n",
       "   Source_Kolkata  Source_Mumbai  \n",
       "0               0              0  \n",
       "1               1              0  \n",
       "2               0              0  \n",
       "3               1              0  \n",
       "4               0              0  "
      ]
     },
     "execution_count": 119,
     "metadata": {},
     "output_type": "execute_result"
    }
   ],
   "source": [
    "df.head()"
   ]
  },
  {
   "cell_type": "code",
   "execution_count": 120,
   "metadata": {},
   "outputs": [
    {
     "data": {
      "text/plain": [
       "(13354, 39)"
      ]
     },
     "execution_count": 120,
     "metadata": {},
     "output_type": "execute_result"
    }
   ],
   "source": [
    "df.shape"
   ]
  },
  {
   "cell_type": "markdown",
   "metadata": {},
   "source": [
    "# Dropping unnecessary columns"
   ]
  },
  {
   "cell_type": "code",
   "execution_count": 121,
   "metadata": {},
   "outputs": [],
   "source": [
    "df=df.drop(['Additional_Info','Route','Airline','Destination','Source'],axis=1)"
   ]
  },
  {
   "cell_type": "code",
   "execution_count": 122,
   "metadata": {},
   "outputs": [
    {
     "data": {
      "text/html": [
       "<div>\n",
       "<style scoped>\n",
       "    .dataframe tbody tr th:only-of-type {\n",
       "        vertical-align: middle;\n",
       "    }\n",
       "\n",
       "    .dataframe tbody tr th {\n",
       "        vertical-align: top;\n",
       "    }\n",
       "\n",
       "    .dataframe thead th {\n",
       "        text-align: right;\n",
       "    }\n",
       "</style>\n",
       "<table border=\"1\" class=\"dataframe\">\n",
       "  <thead>\n",
       "    <tr style=\"text-align: right;\">\n",
       "      <th></th>\n",
       "      <th>Duration</th>\n",
       "      <th>Price</th>\n",
       "      <th>Total_Stops</th>\n",
       "      <th>new</th>\n",
       "      <th>journey_month</th>\n",
       "      <th>journey_day</th>\n",
       "      <th>journey_weekday</th>\n",
       "      <th>dep_hour</th>\n",
       "      <th>dep_min</th>\n",
       "      <th>arrival_hour</th>\n",
       "      <th>arrival_min</th>\n",
       "      <th>Air Asia</th>\n",
       "      <th>Air India</th>\n",
       "      <th>GoAir</th>\n",
       "      <th>IndiGo</th>\n",
       "      <th>Jet Airways</th>\n",
       "      <th>Jet Airways Business</th>\n",
       "      <th>Multiple carriers</th>\n",
       "      <th>Multiple carriers Premium economy</th>\n",
       "      <th>SpiceJet</th>\n",
       "      <th>Trujet</th>\n",
       "      <th>Vistara</th>\n",
       "      <th>Vistara Premium economy</th>\n",
       "      <th>Banglore</th>\n",
       "      <th>Cochin</th>\n",
       "      <th>Delhi</th>\n",
       "      <th>Hyderabad</th>\n",
       "      <th>Kolkata</th>\n",
       "      <th>New Delhi</th>\n",
       "      <th>Source_Banglore</th>\n",
       "      <th>Source_Chennai</th>\n",
       "      <th>Source_Delhi</th>\n",
       "      <th>Source_Kolkata</th>\n",
       "      <th>Source_Mumbai</th>\n",
       "    </tr>\n",
       "  </thead>\n",
       "  <tbody>\n",
       "    <tr>\n",
       "      <td>0</td>\n",
       "      <td>170</td>\n",
       "      <td>3897.0</td>\n",
       "      <td>0</td>\n",
       "      <td>1</td>\n",
       "      <td>3</td>\n",
       "      <td>24</td>\n",
       "      <td>6</td>\n",
       "      <td>22</td>\n",
       "      <td>20</td>\n",
       "      <td>1</td>\n",
       "      <td>10</td>\n",
       "      <td>0</td>\n",
       "      <td>0</td>\n",
       "      <td>0</td>\n",
       "      <td>1</td>\n",
       "      <td>0</td>\n",
       "      <td>0</td>\n",
       "      <td>0</td>\n",
       "      <td>0</td>\n",
       "      <td>0</td>\n",
       "      <td>0</td>\n",
       "      <td>0</td>\n",
       "      <td>0</td>\n",
       "      <td>0</td>\n",
       "      <td>0</td>\n",
       "      <td>0</td>\n",
       "      <td>0</td>\n",
       "      <td>0</td>\n",
       "      <td>1</td>\n",
       "      <td>1</td>\n",
       "      <td>0</td>\n",
       "      <td>0</td>\n",
       "      <td>0</td>\n",
       "      <td>0</td>\n",
       "    </tr>\n",
       "    <tr>\n",
       "      <td>1</td>\n",
       "      <td>445</td>\n",
       "      <td>7662.0</td>\n",
       "      <td>2</td>\n",
       "      <td>1</td>\n",
       "      <td>5</td>\n",
       "      <td>1</td>\n",
       "      <td>2</td>\n",
       "      <td>5</td>\n",
       "      <td>50</td>\n",
       "      <td>13</td>\n",
       "      <td>15</td>\n",
       "      <td>0</td>\n",
       "      <td>1</td>\n",
       "      <td>0</td>\n",
       "      <td>0</td>\n",
       "      <td>0</td>\n",
       "      <td>0</td>\n",
       "      <td>0</td>\n",
       "      <td>0</td>\n",
       "      <td>0</td>\n",
       "      <td>0</td>\n",
       "      <td>0</td>\n",
       "      <td>0</td>\n",
       "      <td>1</td>\n",
       "      <td>0</td>\n",
       "      <td>0</td>\n",
       "      <td>0</td>\n",
       "      <td>0</td>\n",
       "      <td>0</td>\n",
       "      <td>0</td>\n",
       "      <td>0</td>\n",
       "      <td>0</td>\n",
       "      <td>1</td>\n",
       "      <td>0</td>\n",
       "    </tr>\n",
       "    <tr>\n",
       "      <td>2</td>\n",
       "      <td>1140</td>\n",
       "      <td>13882.0</td>\n",
       "      <td>2</td>\n",
       "      <td>1</td>\n",
       "      <td>6</td>\n",
       "      <td>9</td>\n",
       "      <td>6</td>\n",
       "      <td>9</td>\n",
       "      <td>25</td>\n",
       "      <td>4</td>\n",
       "      <td>25</td>\n",
       "      <td>0</td>\n",
       "      <td>0</td>\n",
       "      <td>0</td>\n",
       "      <td>0</td>\n",
       "      <td>1</td>\n",
       "      <td>0</td>\n",
       "      <td>0</td>\n",
       "      <td>0</td>\n",
       "      <td>0</td>\n",
       "      <td>0</td>\n",
       "      <td>0</td>\n",
       "      <td>0</td>\n",
       "      <td>0</td>\n",
       "      <td>1</td>\n",
       "      <td>0</td>\n",
       "      <td>0</td>\n",
       "      <td>0</td>\n",
       "      <td>0</td>\n",
       "      <td>0</td>\n",
       "      <td>0</td>\n",
       "      <td>1</td>\n",
       "      <td>0</td>\n",
       "      <td>0</td>\n",
       "    </tr>\n",
       "    <tr>\n",
       "      <td>3</td>\n",
       "      <td>325</td>\n",
       "      <td>6218.0</td>\n",
       "      <td>1</td>\n",
       "      <td>1</td>\n",
       "      <td>5</td>\n",
       "      <td>12</td>\n",
       "      <td>6</td>\n",
       "      <td>18</td>\n",
       "      <td>5</td>\n",
       "      <td>23</td>\n",
       "      <td>30</td>\n",
       "      <td>0</td>\n",
       "      <td>0</td>\n",
       "      <td>0</td>\n",
       "      <td>1</td>\n",
       "      <td>0</td>\n",
       "      <td>0</td>\n",
       "      <td>0</td>\n",
       "      <td>0</td>\n",
       "      <td>0</td>\n",
       "      <td>0</td>\n",
       "      <td>0</td>\n",
       "      <td>0</td>\n",
       "      <td>1</td>\n",
       "      <td>0</td>\n",
       "      <td>0</td>\n",
       "      <td>0</td>\n",
       "      <td>0</td>\n",
       "      <td>0</td>\n",
       "      <td>0</td>\n",
       "      <td>0</td>\n",
       "      <td>0</td>\n",
       "      <td>1</td>\n",
       "      <td>0</td>\n",
       "    </tr>\n",
       "    <tr>\n",
       "      <td>4</td>\n",
       "      <td>285</td>\n",
       "      <td>13302.0</td>\n",
       "      <td>1</td>\n",
       "      <td>1</td>\n",
       "      <td>3</td>\n",
       "      <td>1</td>\n",
       "      <td>4</td>\n",
       "      <td>16</td>\n",
       "      <td>50</td>\n",
       "      <td>21</td>\n",
       "      <td>35</td>\n",
       "      <td>0</td>\n",
       "      <td>0</td>\n",
       "      <td>0</td>\n",
       "      <td>1</td>\n",
       "      <td>0</td>\n",
       "      <td>0</td>\n",
       "      <td>0</td>\n",
       "      <td>0</td>\n",
       "      <td>0</td>\n",
       "      <td>0</td>\n",
       "      <td>0</td>\n",
       "      <td>0</td>\n",
       "      <td>0</td>\n",
       "      <td>0</td>\n",
       "      <td>0</td>\n",
       "      <td>0</td>\n",
       "      <td>0</td>\n",
       "      <td>1</td>\n",
       "      <td>1</td>\n",
       "      <td>0</td>\n",
       "      <td>0</td>\n",
       "      <td>0</td>\n",
       "      <td>0</td>\n",
       "    </tr>\n",
       "  </tbody>\n",
       "</table>\n",
       "</div>"
      ],
      "text/plain": [
       "   Duration    Price  Total_Stops  new  journey_month  journey_day  \\\n",
       "0       170   3897.0            0    1              3           24   \n",
       "1       445   7662.0            2    1              5            1   \n",
       "2      1140  13882.0            2    1              6            9   \n",
       "3       325   6218.0            1    1              5           12   \n",
       "4       285  13302.0            1    1              3            1   \n",
       "\n",
       "   journey_weekday  dep_hour  dep_min  arrival_hour  arrival_min  Air Asia  \\\n",
       "0                6        22       20             1           10         0   \n",
       "1                2         5       50            13           15         0   \n",
       "2                6         9       25             4           25         0   \n",
       "3                6        18        5            23           30         0   \n",
       "4                4        16       50            21           35         0   \n",
       "\n",
       "   Air India  GoAir  IndiGo  Jet Airways  Jet Airways Business  \\\n",
       "0          0      0       1            0                     0   \n",
       "1          1      0       0            0                     0   \n",
       "2          0      0       0            1                     0   \n",
       "3          0      0       1            0                     0   \n",
       "4          0      0       1            0                     0   \n",
       "\n",
       "   Multiple carriers  Multiple carriers Premium economy  SpiceJet  Trujet  \\\n",
       "0                  0                                  0         0       0   \n",
       "1                  0                                  0         0       0   \n",
       "2                  0                                  0         0       0   \n",
       "3                  0                                  0         0       0   \n",
       "4                  0                                  0         0       0   \n",
       "\n",
       "   Vistara  Vistara Premium economy  Banglore  Cochin  Delhi  Hyderabad  \\\n",
       "0        0                        0         0       0      0          0   \n",
       "1        0                        0         1       0      0          0   \n",
       "2        0                        0         0       1      0          0   \n",
       "3        0                        0         1       0      0          0   \n",
       "4        0                        0         0       0      0          0   \n",
       "\n",
       "   Kolkata  New Delhi  Source_Banglore  Source_Chennai  Source_Delhi  \\\n",
       "0        0          1                1               0             0   \n",
       "1        0          0                0               0             0   \n",
       "2        0          0                0               0             1   \n",
       "3        0          0                0               0             0   \n",
       "4        0          1                1               0             0   \n",
       "\n",
       "   Source_Kolkata  Source_Mumbai  \n",
       "0               0              0  \n",
       "1               1              0  \n",
       "2               0              0  \n",
       "3               1              0  \n",
       "4               0              0  "
      ]
     },
     "execution_count": 122,
     "metadata": {},
     "output_type": "execute_result"
    }
   ],
   "source": [
    "df.head()"
   ]
  },
  {
   "cell_type": "code",
   "execution_count": 124,
   "metadata": {},
   "outputs": [
    {
     "data": {
      "text/plain": [
       "(13354, 34)"
      ]
     },
     "execution_count": 124,
     "metadata": {},
     "output_type": "execute_result"
    }
   ],
   "source": [
    "df.shape"
   ]
  },
  {
   "cell_type": "code",
   "execution_count": 125,
   "metadata": {},
   "outputs": [
    {
     "data": {
      "text/html": [
       "<div>\n",
       "<style scoped>\n",
       "    .dataframe tbody tr th:only-of-type {\n",
       "        vertical-align: middle;\n",
       "    }\n",
       "\n",
       "    .dataframe tbody tr th {\n",
       "        vertical-align: top;\n",
       "    }\n",
       "\n",
       "    .dataframe thead th {\n",
       "        text-align: right;\n",
       "    }\n",
       "</style>\n",
       "<table border=\"1\" class=\"dataframe\">\n",
       "  <thead>\n",
       "    <tr style=\"text-align: right;\">\n",
       "      <th></th>\n",
       "      <th>Duration</th>\n",
       "      <th>Price</th>\n",
       "      <th>Total_Stops</th>\n",
       "      <th>new</th>\n",
       "      <th>journey_month</th>\n",
       "      <th>journey_day</th>\n",
       "      <th>journey_weekday</th>\n",
       "      <th>dep_hour</th>\n",
       "      <th>dep_min</th>\n",
       "      <th>arrival_hour</th>\n",
       "      <th>arrival_min</th>\n",
       "      <th>Air Asia</th>\n",
       "      <th>Air India</th>\n",
       "      <th>GoAir</th>\n",
       "      <th>IndiGo</th>\n",
       "      <th>Jet Airways</th>\n",
       "      <th>Jet Airways Business</th>\n",
       "      <th>Multiple carriers</th>\n",
       "      <th>Multiple carriers Premium economy</th>\n",
       "      <th>SpiceJet</th>\n",
       "      <th>Trujet</th>\n",
       "      <th>Vistara</th>\n",
       "      <th>Vistara Premium economy</th>\n",
       "      <th>Banglore</th>\n",
       "      <th>Cochin</th>\n",
       "      <th>Delhi</th>\n",
       "      <th>Hyderabad</th>\n",
       "      <th>Kolkata</th>\n",
       "      <th>New Delhi</th>\n",
       "      <th>Source_Banglore</th>\n",
       "      <th>Source_Chennai</th>\n",
       "      <th>Source_Delhi</th>\n",
       "      <th>Source_Kolkata</th>\n",
       "      <th>Source_Mumbai</th>\n",
       "    </tr>\n",
       "  </thead>\n",
       "  <tbody>\n",
       "    <tr>\n",
       "      <td>2666</td>\n",
       "      <td>1435</td>\n",
       "      <td>NaN</td>\n",
       "      <td>1</td>\n",
       "      <td>0</td>\n",
       "      <td>6</td>\n",
       "      <td>6</td>\n",
       "      <td>3</td>\n",
       "      <td>20</td>\n",
       "      <td>30</td>\n",
       "      <td>20</td>\n",
       "      <td>25</td>\n",
       "      <td>0</td>\n",
       "      <td>1</td>\n",
       "      <td>0</td>\n",
       "      <td>0</td>\n",
       "      <td>0</td>\n",
       "      <td>0</td>\n",
       "      <td>0</td>\n",
       "      <td>0</td>\n",
       "      <td>0</td>\n",
       "      <td>0</td>\n",
       "      <td>0</td>\n",
       "      <td>0</td>\n",
       "      <td>1</td>\n",
       "      <td>0</td>\n",
       "      <td>0</td>\n",
       "      <td>0</td>\n",
       "      <td>0</td>\n",
       "      <td>0</td>\n",
       "      <td>0</td>\n",
       "      <td>0</td>\n",
       "      <td>0</td>\n",
       "      <td>1</td>\n",
       "      <td>0</td>\n",
       "    </tr>\n",
       "    <tr>\n",
       "      <td>2667</td>\n",
       "      <td>155</td>\n",
       "      <td>NaN</td>\n",
       "      <td>0</td>\n",
       "      <td>0</td>\n",
       "      <td>3</td>\n",
       "      <td>27</td>\n",
       "      <td>2</td>\n",
       "      <td>14</td>\n",
       "      <td>20</td>\n",
       "      <td>16</td>\n",
       "      <td>55</td>\n",
       "      <td>0</td>\n",
       "      <td>0</td>\n",
       "      <td>0</td>\n",
       "      <td>1</td>\n",
       "      <td>0</td>\n",
       "      <td>0</td>\n",
       "      <td>0</td>\n",
       "      <td>0</td>\n",
       "      <td>0</td>\n",
       "      <td>0</td>\n",
       "      <td>0</td>\n",
       "      <td>0</td>\n",
       "      <td>1</td>\n",
       "      <td>0</td>\n",
       "      <td>0</td>\n",
       "      <td>0</td>\n",
       "      <td>0</td>\n",
       "      <td>0</td>\n",
       "      <td>0</td>\n",
       "      <td>0</td>\n",
       "      <td>0</td>\n",
       "      <td>1</td>\n",
       "      <td>0</td>\n",
       "    </tr>\n",
       "    <tr>\n",
       "      <td>2668</td>\n",
       "      <td>395</td>\n",
       "      <td>NaN</td>\n",
       "      <td>1</td>\n",
       "      <td>0</td>\n",
       "      <td>3</td>\n",
       "      <td>6</td>\n",
       "      <td>2</td>\n",
       "      <td>21</td>\n",
       "      <td>50</td>\n",
       "      <td>4</td>\n",
       "      <td>25</td>\n",
       "      <td>0</td>\n",
       "      <td>0</td>\n",
       "      <td>0</td>\n",
       "      <td>0</td>\n",
       "      <td>1</td>\n",
       "      <td>0</td>\n",
       "      <td>0</td>\n",
       "      <td>0</td>\n",
       "      <td>0</td>\n",
       "      <td>0</td>\n",
       "      <td>0</td>\n",
       "      <td>0</td>\n",
       "      <td>0</td>\n",
       "      <td>1</td>\n",
       "      <td>0</td>\n",
       "      <td>0</td>\n",
       "      <td>0</td>\n",
       "      <td>0</td>\n",
       "      <td>0</td>\n",
       "      <td>0</td>\n",
       "      <td>1</td>\n",
       "      <td>0</td>\n",
       "      <td>0</td>\n",
       "    </tr>\n",
       "    <tr>\n",
       "      <td>2669</td>\n",
       "      <td>915</td>\n",
       "      <td>NaN</td>\n",
       "      <td>1</td>\n",
       "      <td>0</td>\n",
       "      <td>3</td>\n",
       "      <td>6</td>\n",
       "      <td>2</td>\n",
       "      <td>4</td>\n",
       "      <td>0</td>\n",
       "      <td>19</td>\n",
       "      <td>15</td>\n",
       "      <td>0</td>\n",
       "      <td>1</td>\n",
       "      <td>0</td>\n",
       "      <td>0</td>\n",
       "      <td>0</td>\n",
       "      <td>0</td>\n",
       "      <td>0</td>\n",
       "      <td>0</td>\n",
       "      <td>0</td>\n",
       "      <td>0</td>\n",
       "      <td>0</td>\n",
       "      <td>0</td>\n",
       "      <td>0</td>\n",
       "      <td>1</td>\n",
       "      <td>0</td>\n",
       "      <td>0</td>\n",
       "      <td>0</td>\n",
       "      <td>0</td>\n",
       "      <td>0</td>\n",
       "      <td>0</td>\n",
       "      <td>1</td>\n",
       "      <td>0</td>\n",
       "      <td>0</td>\n",
       "    </tr>\n",
       "    <tr>\n",
       "      <td>2670</td>\n",
       "      <td>860</td>\n",
       "      <td>NaN</td>\n",
       "      <td>1</td>\n",
       "      <td>0</td>\n",
       "      <td>6</td>\n",
       "      <td>15</td>\n",
       "      <td>5</td>\n",
       "      <td>4</td>\n",
       "      <td>55</td>\n",
       "      <td>19</td>\n",
       "      <td>15</td>\n",
       "      <td>0</td>\n",
       "      <td>0</td>\n",
       "      <td>0</td>\n",
       "      <td>0</td>\n",
       "      <td>0</td>\n",
       "      <td>0</td>\n",
       "      <td>1</td>\n",
       "      <td>0</td>\n",
       "      <td>0</td>\n",
       "      <td>0</td>\n",
       "      <td>0</td>\n",
       "      <td>0</td>\n",
       "      <td>0</td>\n",
       "      <td>1</td>\n",
       "      <td>0</td>\n",
       "      <td>0</td>\n",
       "      <td>0</td>\n",
       "      <td>0</td>\n",
       "      <td>0</td>\n",
       "      <td>0</td>\n",
       "      <td>1</td>\n",
       "      <td>0</td>\n",
       "      <td>0</td>\n",
       "    </tr>\n",
       "  </tbody>\n",
       "</table>\n",
       "</div>"
      ],
      "text/plain": [
       "      Duration  Price  Total_Stops  new  journey_month  journey_day  \\\n",
       "2666      1435    NaN            1    0              6            6   \n",
       "2667       155    NaN            0    0              3           27   \n",
       "2668       395    NaN            1    0              3            6   \n",
       "2669       915    NaN            1    0              3            6   \n",
       "2670       860    NaN            1    0              6           15   \n",
       "\n",
       "      journey_weekday  dep_hour  dep_min  arrival_hour  arrival_min  Air Asia  \\\n",
       "2666                3        20       30            20           25         0   \n",
       "2667                2        14       20            16           55         0   \n",
       "2668                2        21       50             4           25         0   \n",
       "2669                2         4        0            19           15         0   \n",
       "2670                5         4       55            19           15         0   \n",
       "\n",
       "      Air India  GoAir  IndiGo  Jet Airways  Jet Airways Business  \\\n",
       "2666          1      0       0            0                     0   \n",
       "2667          0      0       1            0                     0   \n",
       "2668          0      0       0            1                     0   \n",
       "2669          1      0       0            0                     0   \n",
       "2670          0      0       0            0                     0   \n",
       "\n",
       "      Multiple carriers  Multiple carriers Premium economy  SpiceJet  Trujet  \\\n",
       "2666                  0                                  0         0       0   \n",
       "2667                  0                                  0         0       0   \n",
       "2668                  0                                  0         0       0   \n",
       "2669                  0                                  0         0       0   \n",
       "2670                  1                                  0         0       0   \n",
       "\n",
       "      Vistara  Vistara Premium economy  Banglore  Cochin  Delhi  Hyderabad  \\\n",
       "2666        0                        0         1       0      0          0   \n",
       "2667        0                        0         1       0      0          0   \n",
       "2668        0                        0         0       1      0          0   \n",
       "2669        0                        0         0       1      0          0   \n",
       "2670        0                        0         0       1      0          0   \n",
       "\n",
       "      Kolkata  New Delhi  Source_Banglore  Source_Chennai  Source_Delhi  \\\n",
       "2666        0          0                0               0             0   \n",
       "2667        0          0                0               0             0   \n",
       "2668        0          0                0               0             1   \n",
       "2669        0          0                0               0             1   \n",
       "2670        0          0                0               0             1   \n",
       "\n",
       "      Source_Kolkata  Source_Mumbai  \n",
       "2666               1              0  \n",
       "2667               1              0  \n",
       "2668               0              0  \n",
       "2669               0              0  \n",
       "2670               0              0  "
      ]
     },
     "execution_count": 125,
     "metadata": {},
     "output_type": "execute_result"
    }
   ],
   "source": [
    "df.tail()"
   ]
  },
  {
   "cell_type": "code",
   "execution_count": 126,
   "metadata": {},
   "outputs": [
    {
     "data": {
      "text/plain": [
       "Duration                               0.867883\n",
       "Price                                  1.812552\n",
       "Total_Stops                            0.317797\n",
       "new                                   -1.500051\n",
       "journey_month                         -0.390684\n",
       "journey_day                            0.135142\n",
       "journey_weekday                        0.040381\n",
       "dep_hour                               0.109087\n",
       "dep_min                                0.159397\n",
       "arrival_hour                          -0.384591\n",
       "arrival_min                            0.111711\n",
       "Air Asia                               5.478217\n",
       "Air India                              1.813635\n",
       "GoAir                                  7.257534\n",
       "IndiGo                                 1.564112\n",
       "Jet Airways                            0.604291\n",
       "Jet Airways Business                  40.824319\n",
       "Multiple carriers                      2.405517\n",
       "Multiple carriers Premium economy     28.841170\n",
       "SpiceJet                               3.178221\n",
       "Trujet                               115.559508\n",
       "Vistara                                4.360710\n",
       "Vistara Premium economy               51.656556\n",
       "Banglore                               1.046800\n",
       "Cochin                                 0.301437\n",
       "Delhi                                  2.361536\n",
       "Hyderabad                              3.492419\n",
       "Kolkata                                5.130922\n",
       "New Delhi                              2.917467\n",
       "Source_Banglore                        1.453451\n",
       "Source_Chennai                         5.130922\n",
       "Source_Delhi                           0.301437\n",
       "Source_Kolkata                         1.046800\n",
       "Source_Mumbai                          3.492419\n",
       "dtype: float64"
      ]
     },
     "execution_count": 126,
     "metadata": {},
     "output_type": "execute_result"
    }
   ],
   "source": [
    "df.skew()"
   ]
  },
  {
   "cell_type": "markdown",
   "metadata": {},
   "source": [
    "# separating training and testing datasets"
   ]
  },
  {
   "cell_type": "code",
   "execution_count": 127,
   "metadata": {},
   "outputs": [],
   "source": [
    "train = df.loc[df['new']==1]\n",
    "test = df.loc[df['new']==0]"
   ]
  },
  {
   "cell_type": "code",
   "execution_count": 128,
   "metadata": {},
   "outputs": [
    {
     "data": {
      "text/plain": [
       "((10683, 34), (2671, 34))"
      ]
     },
     "execution_count": 128,
     "metadata": {},
     "output_type": "execute_result"
    }
   ],
   "source": [
    "train.shape,test.shape"
   ]
  },
  {
   "cell_type": "code",
   "execution_count": 129,
   "metadata": {},
   "outputs": [
    {
     "data": {
      "text/html": [
       "<div>\n",
       "<style scoped>\n",
       "    .dataframe tbody tr th:only-of-type {\n",
       "        vertical-align: middle;\n",
       "    }\n",
       "\n",
       "    .dataframe tbody tr th {\n",
       "        vertical-align: top;\n",
       "    }\n",
       "\n",
       "    .dataframe thead th {\n",
       "        text-align: right;\n",
       "    }\n",
       "</style>\n",
       "<table border=\"1\" class=\"dataframe\">\n",
       "  <thead>\n",
       "    <tr style=\"text-align: right;\">\n",
       "      <th></th>\n",
       "      <th>Duration</th>\n",
       "      <th>Price</th>\n",
       "      <th>Total_Stops</th>\n",
       "      <th>new</th>\n",
       "      <th>journey_month</th>\n",
       "      <th>journey_day</th>\n",
       "      <th>journey_weekday</th>\n",
       "      <th>dep_hour</th>\n",
       "      <th>dep_min</th>\n",
       "      <th>arrival_hour</th>\n",
       "      <th>arrival_min</th>\n",
       "      <th>Air Asia</th>\n",
       "      <th>Air India</th>\n",
       "      <th>GoAir</th>\n",
       "      <th>IndiGo</th>\n",
       "      <th>Jet Airways</th>\n",
       "      <th>Jet Airways Business</th>\n",
       "      <th>Multiple carriers</th>\n",
       "      <th>Multiple carriers Premium economy</th>\n",
       "      <th>SpiceJet</th>\n",
       "      <th>Trujet</th>\n",
       "      <th>Vistara</th>\n",
       "      <th>Vistara Premium economy</th>\n",
       "      <th>Banglore</th>\n",
       "      <th>Cochin</th>\n",
       "      <th>Delhi</th>\n",
       "      <th>Hyderabad</th>\n",
       "      <th>Kolkata</th>\n",
       "      <th>New Delhi</th>\n",
       "      <th>Source_Banglore</th>\n",
       "      <th>Source_Chennai</th>\n",
       "      <th>Source_Delhi</th>\n",
       "      <th>Source_Kolkata</th>\n",
       "      <th>Source_Mumbai</th>\n",
       "    </tr>\n",
       "  </thead>\n",
       "  <tbody>\n",
       "    <tr>\n",
       "      <td>10678</td>\n",
       "      <td>150</td>\n",
       "      <td>4107.0</td>\n",
       "      <td>0</td>\n",
       "      <td>1</td>\n",
       "      <td>4</td>\n",
       "      <td>9</td>\n",
       "      <td>1</td>\n",
       "      <td>19</td>\n",
       "      <td>55</td>\n",
       "      <td>22</td>\n",
       "      <td>25</td>\n",
       "      <td>1</td>\n",
       "      <td>0</td>\n",
       "      <td>0</td>\n",
       "      <td>0</td>\n",
       "      <td>0</td>\n",
       "      <td>0</td>\n",
       "      <td>0</td>\n",
       "      <td>0</td>\n",
       "      <td>0</td>\n",
       "      <td>0</td>\n",
       "      <td>0</td>\n",
       "      <td>0</td>\n",
       "      <td>1</td>\n",
       "      <td>0</td>\n",
       "      <td>0</td>\n",
       "      <td>0</td>\n",
       "      <td>0</td>\n",
       "      <td>0</td>\n",
       "      <td>0</td>\n",
       "      <td>0</td>\n",
       "      <td>0</td>\n",
       "      <td>1</td>\n",
       "      <td>0</td>\n",
       "    </tr>\n",
       "    <tr>\n",
       "      <td>10679</td>\n",
       "      <td>155</td>\n",
       "      <td>4145.0</td>\n",
       "      <td>0</td>\n",
       "      <td>1</td>\n",
       "      <td>4</td>\n",
       "      <td>27</td>\n",
       "      <td>5</td>\n",
       "      <td>20</td>\n",
       "      <td>45</td>\n",
       "      <td>23</td>\n",
       "      <td>20</td>\n",
       "      <td>0</td>\n",
       "      <td>1</td>\n",
       "      <td>0</td>\n",
       "      <td>0</td>\n",
       "      <td>0</td>\n",
       "      <td>0</td>\n",
       "      <td>0</td>\n",
       "      <td>0</td>\n",
       "      <td>0</td>\n",
       "      <td>0</td>\n",
       "      <td>0</td>\n",
       "      <td>0</td>\n",
       "      <td>1</td>\n",
       "      <td>0</td>\n",
       "      <td>0</td>\n",
       "      <td>0</td>\n",
       "      <td>0</td>\n",
       "      <td>0</td>\n",
       "      <td>0</td>\n",
       "      <td>0</td>\n",
       "      <td>0</td>\n",
       "      <td>1</td>\n",
       "      <td>0</td>\n",
       "    </tr>\n",
       "    <tr>\n",
       "      <td>10680</td>\n",
       "      <td>180</td>\n",
       "      <td>7229.0</td>\n",
       "      <td>0</td>\n",
       "      <td>1</td>\n",
       "      <td>4</td>\n",
       "      <td>27</td>\n",
       "      <td>5</td>\n",
       "      <td>8</td>\n",
       "      <td>20</td>\n",
       "      <td>11</td>\n",
       "      <td>20</td>\n",
       "      <td>0</td>\n",
       "      <td>0</td>\n",
       "      <td>0</td>\n",
       "      <td>0</td>\n",
       "      <td>1</td>\n",
       "      <td>0</td>\n",
       "      <td>0</td>\n",
       "      <td>0</td>\n",
       "      <td>0</td>\n",
       "      <td>0</td>\n",
       "      <td>0</td>\n",
       "      <td>0</td>\n",
       "      <td>0</td>\n",
       "      <td>0</td>\n",
       "      <td>1</td>\n",
       "      <td>0</td>\n",
       "      <td>0</td>\n",
       "      <td>0</td>\n",
       "      <td>1</td>\n",
       "      <td>0</td>\n",
       "      <td>0</td>\n",
       "      <td>0</td>\n",
       "      <td>0</td>\n",
       "    </tr>\n",
       "    <tr>\n",
       "      <td>10681</td>\n",
       "      <td>160</td>\n",
       "      <td>12648.0</td>\n",
       "      <td>0</td>\n",
       "      <td>1</td>\n",
       "      <td>3</td>\n",
       "      <td>1</td>\n",
       "      <td>4</td>\n",
       "      <td>11</td>\n",
       "      <td>30</td>\n",
       "      <td>14</td>\n",
       "      <td>10</td>\n",
       "      <td>0</td>\n",
       "      <td>0</td>\n",
       "      <td>0</td>\n",
       "      <td>0</td>\n",
       "      <td>0</td>\n",
       "      <td>0</td>\n",
       "      <td>0</td>\n",
       "      <td>0</td>\n",
       "      <td>0</td>\n",
       "      <td>0</td>\n",
       "      <td>1</td>\n",
       "      <td>0</td>\n",
       "      <td>0</td>\n",
       "      <td>0</td>\n",
       "      <td>0</td>\n",
       "      <td>0</td>\n",
       "      <td>0</td>\n",
       "      <td>1</td>\n",
       "      <td>1</td>\n",
       "      <td>0</td>\n",
       "      <td>0</td>\n",
       "      <td>0</td>\n",
       "      <td>0</td>\n",
       "    </tr>\n",
       "    <tr>\n",
       "      <td>10682</td>\n",
       "      <td>500</td>\n",
       "      <td>11753.0</td>\n",
       "      <td>2</td>\n",
       "      <td>1</td>\n",
       "      <td>5</td>\n",
       "      <td>9</td>\n",
       "      <td>3</td>\n",
       "      <td>10</td>\n",
       "      <td>55</td>\n",
       "      <td>19</td>\n",
       "      <td>15</td>\n",
       "      <td>0</td>\n",
       "      <td>1</td>\n",
       "      <td>0</td>\n",
       "      <td>0</td>\n",
       "      <td>0</td>\n",
       "      <td>0</td>\n",
       "      <td>0</td>\n",
       "      <td>0</td>\n",
       "      <td>0</td>\n",
       "      <td>0</td>\n",
       "      <td>0</td>\n",
       "      <td>0</td>\n",
       "      <td>0</td>\n",
       "      <td>1</td>\n",
       "      <td>0</td>\n",
       "      <td>0</td>\n",
       "      <td>0</td>\n",
       "      <td>0</td>\n",
       "      <td>0</td>\n",
       "      <td>0</td>\n",
       "      <td>1</td>\n",
       "      <td>0</td>\n",
       "      <td>0</td>\n",
       "    </tr>\n",
       "  </tbody>\n",
       "</table>\n",
       "</div>"
      ],
      "text/plain": [
       "       Duration    Price  Total_Stops  new  journey_month  journey_day  \\\n",
       "10678       150   4107.0            0    1              4            9   \n",
       "10679       155   4145.0            0    1              4           27   \n",
       "10680       180   7229.0            0    1              4           27   \n",
       "10681       160  12648.0            0    1              3            1   \n",
       "10682       500  11753.0            2    1              5            9   \n",
       "\n",
       "       journey_weekday  dep_hour  dep_min  arrival_hour  arrival_min  \\\n",
       "10678                1        19       55            22           25   \n",
       "10679                5        20       45            23           20   \n",
       "10680                5         8       20            11           20   \n",
       "10681                4        11       30            14           10   \n",
       "10682                3        10       55            19           15   \n",
       "\n",
       "       Air Asia  Air India  GoAir  IndiGo  Jet Airways  Jet Airways Business  \\\n",
       "10678         1          0      0       0            0                     0   \n",
       "10679         0          1      0       0            0                     0   \n",
       "10680         0          0      0       0            1                     0   \n",
       "10681         0          0      0       0            0                     0   \n",
       "10682         0          1      0       0            0                     0   \n",
       "\n",
       "       Multiple carriers  Multiple carriers Premium economy  SpiceJet  Trujet  \\\n",
       "10678                  0                                  0         0       0   \n",
       "10679                  0                                  0         0       0   \n",
       "10680                  0                                  0         0       0   \n",
       "10681                  0                                  0         0       0   \n",
       "10682                  0                                  0         0       0   \n",
       "\n",
       "       Vistara  Vistara Premium economy  Banglore  Cochin  Delhi  Hyderabad  \\\n",
       "10678        0                        0         1       0      0          0   \n",
       "10679        0                        0         1       0      0          0   \n",
       "10680        0                        0         0       0      1          0   \n",
       "10681        1                        0         0       0      0          0   \n",
       "10682        0                        0         0       1      0          0   \n",
       "\n",
       "       Kolkata  New Delhi  Source_Banglore  Source_Chennai  Source_Delhi  \\\n",
       "10678        0          0                0               0             0   \n",
       "10679        0          0                0               0             0   \n",
       "10680        0          0                1               0             0   \n",
       "10681        0          1                1               0             0   \n",
       "10682        0          0                0               0             1   \n",
       "\n",
       "       Source_Kolkata  Source_Mumbai  \n",
       "10678               1              0  \n",
       "10679               1              0  \n",
       "10680               0              0  \n",
       "10681               0              0  \n",
       "10682               0              0  "
      ]
     },
     "execution_count": 129,
     "metadata": {},
     "output_type": "execute_result"
    }
   ],
   "source": [
    "train.tail()"
   ]
  },
  {
   "cell_type": "code",
   "execution_count": 130,
   "metadata": {},
   "outputs": [],
   "source": [
    "train=train.drop(['new'],axis=1)"
   ]
  },
  {
   "cell_type": "markdown",
   "metadata": {},
   "source": [
    "# Preparing test dataset without the target"
   ]
  },
  {
   "cell_type": "code",
   "execution_count": 131,
   "metadata": {},
   "outputs": [],
   "source": [
    "test=test.drop(['new','Price'],axis=1)"
   ]
  },
  {
   "cell_type": "code",
   "execution_count": 132,
   "metadata": {},
   "outputs": [
    {
     "data": {
      "text/html": [
       "<div>\n",
       "<style scoped>\n",
       "    .dataframe tbody tr th:only-of-type {\n",
       "        vertical-align: middle;\n",
       "    }\n",
       "\n",
       "    .dataframe tbody tr th {\n",
       "        vertical-align: top;\n",
       "    }\n",
       "\n",
       "    .dataframe thead th {\n",
       "        text-align: right;\n",
       "    }\n",
       "</style>\n",
       "<table border=\"1\" class=\"dataframe\">\n",
       "  <thead>\n",
       "    <tr style=\"text-align: right;\">\n",
       "      <th></th>\n",
       "      <th>Duration</th>\n",
       "      <th>Total_Stops</th>\n",
       "      <th>journey_month</th>\n",
       "      <th>journey_day</th>\n",
       "      <th>journey_weekday</th>\n",
       "      <th>dep_hour</th>\n",
       "      <th>dep_min</th>\n",
       "      <th>arrival_hour</th>\n",
       "      <th>arrival_min</th>\n",
       "      <th>Air Asia</th>\n",
       "      <th>Air India</th>\n",
       "      <th>GoAir</th>\n",
       "      <th>IndiGo</th>\n",
       "      <th>Jet Airways</th>\n",
       "      <th>Jet Airways Business</th>\n",
       "      <th>Multiple carriers</th>\n",
       "      <th>Multiple carriers Premium economy</th>\n",
       "      <th>SpiceJet</th>\n",
       "      <th>Trujet</th>\n",
       "      <th>Vistara</th>\n",
       "      <th>Vistara Premium economy</th>\n",
       "      <th>Banglore</th>\n",
       "      <th>Cochin</th>\n",
       "      <th>Delhi</th>\n",
       "      <th>Hyderabad</th>\n",
       "      <th>Kolkata</th>\n",
       "      <th>New Delhi</th>\n",
       "      <th>Source_Banglore</th>\n",
       "      <th>Source_Chennai</th>\n",
       "      <th>Source_Delhi</th>\n",
       "      <th>Source_Kolkata</th>\n",
       "      <th>Source_Mumbai</th>\n",
       "    </tr>\n",
       "  </thead>\n",
       "  <tbody>\n",
       "    <tr>\n",
       "      <td>2666</td>\n",
       "      <td>1435</td>\n",
       "      <td>1</td>\n",
       "      <td>6</td>\n",
       "      <td>6</td>\n",
       "      <td>3</td>\n",
       "      <td>20</td>\n",
       "      <td>30</td>\n",
       "      <td>20</td>\n",
       "      <td>25</td>\n",
       "      <td>0</td>\n",
       "      <td>1</td>\n",
       "      <td>0</td>\n",
       "      <td>0</td>\n",
       "      <td>0</td>\n",
       "      <td>0</td>\n",
       "      <td>0</td>\n",
       "      <td>0</td>\n",
       "      <td>0</td>\n",
       "      <td>0</td>\n",
       "      <td>0</td>\n",
       "      <td>0</td>\n",
       "      <td>1</td>\n",
       "      <td>0</td>\n",
       "      <td>0</td>\n",
       "      <td>0</td>\n",
       "      <td>0</td>\n",
       "      <td>0</td>\n",
       "      <td>0</td>\n",
       "      <td>0</td>\n",
       "      <td>0</td>\n",
       "      <td>1</td>\n",
       "      <td>0</td>\n",
       "    </tr>\n",
       "    <tr>\n",
       "      <td>2667</td>\n",
       "      <td>155</td>\n",
       "      <td>0</td>\n",
       "      <td>3</td>\n",
       "      <td>27</td>\n",
       "      <td>2</td>\n",
       "      <td>14</td>\n",
       "      <td>20</td>\n",
       "      <td>16</td>\n",
       "      <td>55</td>\n",
       "      <td>0</td>\n",
       "      <td>0</td>\n",
       "      <td>0</td>\n",
       "      <td>1</td>\n",
       "      <td>0</td>\n",
       "      <td>0</td>\n",
       "      <td>0</td>\n",
       "      <td>0</td>\n",
       "      <td>0</td>\n",
       "      <td>0</td>\n",
       "      <td>0</td>\n",
       "      <td>0</td>\n",
       "      <td>1</td>\n",
       "      <td>0</td>\n",
       "      <td>0</td>\n",
       "      <td>0</td>\n",
       "      <td>0</td>\n",
       "      <td>0</td>\n",
       "      <td>0</td>\n",
       "      <td>0</td>\n",
       "      <td>0</td>\n",
       "      <td>1</td>\n",
       "      <td>0</td>\n",
       "    </tr>\n",
       "    <tr>\n",
       "      <td>2668</td>\n",
       "      <td>395</td>\n",
       "      <td>1</td>\n",
       "      <td>3</td>\n",
       "      <td>6</td>\n",
       "      <td>2</td>\n",
       "      <td>21</td>\n",
       "      <td>50</td>\n",
       "      <td>4</td>\n",
       "      <td>25</td>\n",
       "      <td>0</td>\n",
       "      <td>0</td>\n",
       "      <td>0</td>\n",
       "      <td>0</td>\n",
       "      <td>1</td>\n",
       "      <td>0</td>\n",
       "      <td>0</td>\n",
       "      <td>0</td>\n",
       "      <td>0</td>\n",
       "      <td>0</td>\n",
       "      <td>0</td>\n",
       "      <td>0</td>\n",
       "      <td>0</td>\n",
       "      <td>1</td>\n",
       "      <td>0</td>\n",
       "      <td>0</td>\n",
       "      <td>0</td>\n",
       "      <td>0</td>\n",
       "      <td>0</td>\n",
       "      <td>0</td>\n",
       "      <td>1</td>\n",
       "      <td>0</td>\n",
       "      <td>0</td>\n",
       "    </tr>\n",
       "    <tr>\n",
       "      <td>2669</td>\n",
       "      <td>915</td>\n",
       "      <td>1</td>\n",
       "      <td>3</td>\n",
       "      <td>6</td>\n",
       "      <td>2</td>\n",
       "      <td>4</td>\n",
       "      <td>0</td>\n",
       "      <td>19</td>\n",
       "      <td>15</td>\n",
       "      <td>0</td>\n",
       "      <td>1</td>\n",
       "      <td>0</td>\n",
       "      <td>0</td>\n",
       "      <td>0</td>\n",
       "      <td>0</td>\n",
       "      <td>0</td>\n",
       "      <td>0</td>\n",
       "      <td>0</td>\n",
       "      <td>0</td>\n",
       "      <td>0</td>\n",
       "      <td>0</td>\n",
       "      <td>0</td>\n",
       "      <td>1</td>\n",
       "      <td>0</td>\n",
       "      <td>0</td>\n",
       "      <td>0</td>\n",
       "      <td>0</td>\n",
       "      <td>0</td>\n",
       "      <td>0</td>\n",
       "      <td>1</td>\n",
       "      <td>0</td>\n",
       "      <td>0</td>\n",
       "    </tr>\n",
       "    <tr>\n",
       "      <td>2670</td>\n",
       "      <td>860</td>\n",
       "      <td>1</td>\n",
       "      <td>6</td>\n",
       "      <td>15</td>\n",
       "      <td>5</td>\n",
       "      <td>4</td>\n",
       "      <td>55</td>\n",
       "      <td>19</td>\n",
       "      <td>15</td>\n",
       "      <td>0</td>\n",
       "      <td>0</td>\n",
       "      <td>0</td>\n",
       "      <td>0</td>\n",
       "      <td>0</td>\n",
       "      <td>0</td>\n",
       "      <td>1</td>\n",
       "      <td>0</td>\n",
       "      <td>0</td>\n",
       "      <td>0</td>\n",
       "      <td>0</td>\n",
       "      <td>0</td>\n",
       "      <td>0</td>\n",
       "      <td>1</td>\n",
       "      <td>0</td>\n",
       "      <td>0</td>\n",
       "      <td>0</td>\n",
       "      <td>0</td>\n",
       "      <td>0</td>\n",
       "      <td>0</td>\n",
       "      <td>1</td>\n",
       "      <td>0</td>\n",
       "      <td>0</td>\n",
       "    </tr>\n",
       "  </tbody>\n",
       "</table>\n",
       "</div>"
      ],
      "text/plain": [
       "      Duration  Total_Stops  journey_month  journey_day  journey_weekday  \\\n",
       "2666      1435            1              6            6                3   \n",
       "2667       155            0              3           27                2   \n",
       "2668       395            1              3            6                2   \n",
       "2669       915            1              3            6                2   \n",
       "2670       860            1              6           15                5   \n",
       "\n",
       "      dep_hour  dep_min  arrival_hour  arrival_min  Air Asia  Air India  \\\n",
       "2666        20       30            20           25         0          1   \n",
       "2667        14       20            16           55         0          0   \n",
       "2668        21       50             4           25         0          0   \n",
       "2669         4        0            19           15         0          1   \n",
       "2670         4       55            19           15         0          0   \n",
       "\n",
       "      GoAir  IndiGo  Jet Airways  Jet Airways Business  Multiple carriers  \\\n",
       "2666      0       0            0                     0                  0   \n",
       "2667      0       1            0                     0                  0   \n",
       "2668      0       0            1                     0                  0   \n",
       "2669      0       0            0                     0                  0   \n",
       "2670      0       0            0                     0                  1   \n",
       "\n",
       "      Multiple carriers Premium economy  SpiceJet  Trujet  Vistara  \\\n",
       "2666                                  0         0       0        0   \n",
       "2667                                  0         0       0        0   \n",
       "2668                                  0         0       0        0   \n",
       "2669                                  0         0       0        0   \n",
       "2670                                  0         0       0        0   \n",
       "\n",
       "      Vistara Premium economy  Banglore  Cochin  Delhi  Hyderabad  Kolkata  \\\n",
       "2666                        0         1       0      0          0        0   \n",
       "2667                        0         1       0      0          0        0   \n",
       "2668                        0         0       1      0          0        0   \n",
       "2669                        0         0       1      0          0        0   \n",
       "2670                        0         0       1      0          0        0   \n",
       "\n",
       "      New Delhi  Source_Banglore  Source_Chennai  Source_Delhi  \\\n",
       "2666          0                0               0             0   \n",
       "2667          0                0               0             0   \n",
       "2668          0                0               0             1   \n",
       "2669          0                0               0             1   \n",
       "2670          0                0               0             1   \n",
       "\n",
       "      Source_Kolkata  Source_Mumbai  \n",
       "2666               1              0  \n",
       "2667               1              0  \n",
       "2668               0              0  \n",
       "2669               0              0  \n",
       "2670               0              0  "
      ]
     },
     "execution_count": 132,
     "metadata": {},
     "output_type": "execute_result"
    }
   ],
   "source": [
    "test.tail()"
   ]
  },
  {
   "cell_type": "markdown",
   "metadata": {},
   "source": [
    "#  skewness treatment & Data Scaling of training set"
   ]
  },
  {
   "cell_type": "code",
   "execution_count": 133,
   "metadata": {},
   "outputs": [],
   "source": [
    "#we dont want to scale our target,hence separating it previously..\n",
    "y=train['Price']\n",
    "X=train.drop(['Price'],axis=1)"
   ]
  },
  {
   "cell_type": "code",
   "execution_count": 134,
   "metadata": {},
   "outputs": [],
   "source": [
    "#skewness treatment\n",
    "from sklearn.preprocessing import PowerTransformer\n",
    "pt=PowerTransformer(method='yeo-johnson') \n",
    "X_power=pt.fit_transform(X)\n",
    "X=pd.DataFrame(X_power,columns=X.columns)"
   ]
  },
  {
   "cell_type": "code",
   "execution_count": 135,
   "metadata": {},
   "outputs": [],
   "source": [
    "#Applying Standard scalar to independent variable only of training dataset\n",
    "\n",
    "from sklearn.preprocessing import StandardScaler\n",
    "ss=StandardScaler()\n",
    "X_scaled=ss.fit_transform(X)\n",
    "df=pd.DataFrame(data=X_scaled,columns=X.columns)\n"
   ]
  },
  {
   "cell_type": "code",
   "execution_count": 136,
   "metadata": {},
   "outputs": [
    {
     "data": {
      "text/html": [
       "<div>\n",
       "<style scoped>\n",
       "    .dataframe tbody tr th:only-of-type {\n",
       "        vertical-align: middle;\n",
       "    }\n",
       "\n",
       "    .dataframe tbody tr th {\n",
       "        vertical-align: top;\n",
       "    }\n",
       "\n",
       "    .dataframe thead th {\n",
       "        text-align: right;\n",
       "    }\n",
       "</style>\n",
       "<table border=\"1\" class=\"dataframe\">\n",
       "  <thead>\n",
       "    <tr style=\"text-align: right;\">\n",
       "      <th></th>\n",
       "      <th>Duration</th>\n",
       "      <th>Total_Stops</th>\n",
       "      <th>journey_month</th>\n",
       "      <th>journey_day</th>\n",
       "      <th>journey_weekday</th>\n",
       "      <th>dep_hour</th>\n",
       "      <th>dep_min</th>\n",
       "      <th>arrival_hour</th>\n",
       "      <th>arrival_min</th>\n",
       "      <th>Air Asia</th>\n",
       "      <th>Air India</th>\n",
       "      <th>GoAir</th>\n",
       "      <th>IndiGo</th>\n",
       "      <th>Jet Airways</th>\n",
       "      <th>Jet Airways Business</th>\n",
       "      <th>Multiple carriers</th>\n",
       "      <th>Multiple carriers Premium economy</th>\n",
       "      <th>SpiceJet</th>\n",
       "      <th>Trujet</th>\n",
       "      <th>Vistara</th>\n",
       "      <th>Vistara Premium economy</th>\n",
       "      <th>Banglore</th>\n",
       "      <th>Cochin</th>\n",
       "      <th>Delhi</th>\n",
       "      <th>Hyderabad</th>\n",
       "      <th>Kolkata</th>\n",
       "      <th>New Delhi</th>\n",
       "      <th>Source_Banglore</th>\n",
       "      <th>Source_Chennai</th>\n",
       "      <th>Source_Delhi</th>\n",
       "      <th>Source_Kolkata</th>\n",
       "      <th>Source_Mumbai</th>\n",
       "    </tr>\n",
       "  </thead>\n",
       "  <tbody>\n",
       "    <tr>\n",
       "      <td>0</td>\n",
       "      <td>-1.061980</td>\n",
       "      <td>-1.297888</td>\n",
       "      <td>-1.401807</td>\n",
       "      <td>1.164361</td>\n",
       "      <td>1.421293</td>\n",
       "      <td>1.545951</td>\n",
       "      <td>0.023049</td>\n",
       "      <td>-1.790773</td>\n",
       "      <td>-0.776650</td>\n",
       "      <td>-0.175441</td>\n",
       "      <td>-0.442912</td>\n",
       "      <td>-0.135998</td>\n",
       "      <td>2.050269</td>\n",
       "      <td>-0.750475</td>\n",
       "      <td>-0.023706</td>\n",
       "      <td>-0.35506</td>\n",
       "      <td>-0.034905</td>\n",
       "      <td>-0.287957</td>\n",
       "      <td>-0.009676</td>\n",
       "      <td>-0.216662</td>\n",
       "      <td>-0.01676</td>\n",
       "      <td>-0.606227</td>\n",
       "      <td>-0.859188</td>\n",
       "      <td>-0.366493</td>\n",
       "      <td>-0.264193</td>\n",
       "      <td>-0.19231</td>\n",
       "      <td>3.234571</td>\n",
       "      <td>1.965335</td>\n",
       "      <td>-0.19231</td>\n",
       "      <td>-0.859188</td>\n",
       "      <td>-0.606227</td>\n",
       "      <td>-0.264193</td>\n",
       "    </tr>\n",
       "    <tr>\n",
       "      <td>1</td>\n",
       "      <td>-0.058628</td>\n",
       "      <td>1.574695</td>\n",
       "      <td>0.161384</td>\n",
       "      <td>-1.716463</td>\n",
       "      <td>-0.379800</td>\n",
       "      <td>-1.356245</td>\n",
       "      <td>1.179291</td>\n",
       "      <td>-0.055921</td>\n",
       "      <td>-0.433070</td>\n",
       "      <td>-0.175441</td>\n",
       "      <td>2.257787</td>\n",
       "      <td>-0.135998</td>\n",
       "      <td>-0.487741</td>\n",
       "      <td>-0.750475</td>\n",
       "      <td>-0.023706</td>\n",
       "      <td>-0.35506</td>\n",
       "      <td>-0.034905</td>\n",
       "      <td>-0.287957</td>\n",
       "      <td>-0.009676</td>\n",
       "      <td>-0.216662</td>\n",
       "      <td>-0.01676</td>\n",
       "      <td>1.649546</td>\n",
       "      <td>-0.859188</td>\n",
       "      <td>-0.366493</td>\n",
       "      <td>-0.264193</td>\n",
       "      <td>-0.19231</td>\n",
       "      <td>-0.309160</td>\n",
       "      <td>-0.508819</td>\n",
       "      <td>-0.19231</td>\n",
       "      <td>-0.859188</td>\n",
       "      <td>1.649546</td>\n",
       "      <td>-0.264193</td>\n",
       "    </tr>\n",
       "    <tr>\n",
       "      <td>2</td>\n",
       "      <td>1.043789</td>\n",
       "      <td>1.574695</td>\n",
       "      <td>1.175152</td>\n",
       "      <td>-0.405345</td>\n",
       "      <td>1.421293</td>\n",
       "      <td>-0.548142</td>\n",
       "      <td>0.255807</td>\n",
       "      <td>-1.362565</td>\n",
       "      <td>0.156814</td>\n",
       "      <td>-0.175441</td>\n",
       "      <td>-0.442912</td>\n",
       "      <td>-0.135998</td>\n",
       "      <td>-0.487741</td>\n",
       "      <td>1.332489</td>\n",
       "      <td>-0.023706</td>\n",
       "      <td>-0.35506</td>\n",
       "      <td>-0.034905</td>\n",
       "      <td>-0.287957</td>\n",
       "      <td>-0.009676</td>\n",
       "      <td>-0.216662</td>\n",
       "      <td>-0.01676</td>\n",
       "      <td>-0.606227</td>\n",
       "      <td>1.163890</td>\n",
       "      <td>-0.366493</td>\n",
       "      <td>-0.264193</td>\n",
       "      <td>-0.19231</td>\n",
       "      <td>-0.309160</td>\n",
       "      <td>-0.508819</td>\n",
       "      <td>-0.19231</td>\n",
       "      <td>1.163890</td>\n",
       "      <td>-0.606227</td>\n",
       "      <td>-0.264193</td>\n",
       "    </tr>\n",
       "    <tr>\n",
       "      <td>3</td>\n",
       "      <td>-0.399517</td>\n",
       "      <td>0.358738</td>\n",
       "      <td>0.161384</td>\n",
       "      <td>-0.041497</td>\n",
       "      <td>1.421293</td>\n",
       "      <td>0.956409</td>\n",
       "      <td>-0.933802</td>\n",
       "      <td>1.413973</td>\n",
       "      <td>0.420848</td>\n",
       "      <td>-0.175441</td>\n",
       "      <td>-0.442912</td>\n",
       "      <td>-0.135998</td>\n",
       "      <td>2.050269</td>\n",
       "      <td>-0.750475</td>\n",
       "      <td>-0.023706</td>\n",
       "      <td>-0.35506</td>\n",
       "      <td>-0.034905</td>\n",
       "      <td>-0.287957</td>\n",
       "      <td>-0.009676</td>\n",
       "      <td>-0.216662</td>\n",
       "      <td>-0.01676</td>\n",
       "      <td>1.649546</td>\n",
       "      <td>-0.859188</td>\n",
       "      <td>-0.366493</td>\n",
       "      <td>-0.264193</td>\n",
       "      <td>-0.19231</td>\n",
       "      <td>-0.309160</td>\n",
       "      <td>-0.508819</td>\n",
       "      <td>-0.19231</td>\n",
       "      <td>-0.859188</td>\n",
       "      <td>1.649546</td>\n",
       "      <td>-0.264193</td>\n",
       "    </tr>\n",
       "    <tr>\n",
       "      <td>4</td>\n",
       "      <td>-0.538121</td>\n",
       "      <td>0.358738</td>\n",
       "      <td>-1.401807</td>\n",
       "      <td>-1.716463</td>\n",
       "      <td>0.577582</td>\n",
       "      <td>0.646735</td>\n",
       "      <td>1.179291</td>\n",
       "      <td>1.118972</td>\n",
       "      <td>0.670333</td>\n",
       "      <td>-0.175441</td>\n",
       "      <td>-0.442912</td>\n",
       "      <td>-0.135998</td>\n",
       "      <td>2.050269</td>\n",
       "      <td>-0.750475</td>\n",
       "      <td>-0.023706</td>\n",
       "      <td>-0.35506</td>\n",
       "      <td>-0.034905</td>\n",
       "      <td>-0.287957</td>\n",
       "      <td>-0.009676</td>\n",
       "      <td>-0.216662</td>\n",
       "      <td>-0.01676</td>\n",
       "      <td>-0.606227</td>\n",
       "      <td>-0.859188</td>\n",
       "      <td>-0.366493</td>\n",
       "      <td>-0.264193</td>\n",
       "      <td>-0.19231</td>\n",
       "      <td>3.234571</td>\n",
       "      <td>1.965335</td>\n",
       "      <td>-0.19231</td>\n",
       "      <td>-0.859188</td>\n",
       "      <td>-0.606227</td>\n",
       "      <td>-0.264193</td>\n",
       "    </tr>\n",
       "  </tbody>\n",
       "</table>\n",
       "</div>"
      ],
      "text/plain": [
       "   Duration  Total_Stops  journey_month  journey_day  journey_weekday  \\\n",
       "0 -1.061980    -1.297888      -1.401807     1.164361         1.421293   \n",
       "1 -0.058628     1.574695       0.161384    -1.716463        -0.379800   \n",
       "2  1.043789     1.574695       1.175152    -0.405345         1.421293   \n",
       "3 -0.399517     0.358738       0.161384    -0.041497         1.421293   \n",
       "4 -0.538121     0.358738      -1.401807    -1.716463         0.577582   \n",
       "\n",
       "   dep_hour   dep_min  arrival_hour  arrival_min  Air Asia  Air India  \\\n",
       "0  1.545951  0.023049     -1.790773    -0.776650 -0.175441  -0.442912   \n",
       "1 -1.356245  1.179291     -0.055921    -0.433070 -0.175441   2.257787   \n",
       "2 -0.548142  0.255807     -1.362565     0.156814 -0.175441  -0.442912   \n",
       "3  0.956409 -0.933802      1.413973     0.420848 -0.175441  -0.442912   \n",
       "4  0.646735  1.179291      1.118972     0.670333 -0.175441  -0.442912   \n",
       "\n",
       "      GoAir    IndiGo  Jet Airways  Jet Airways Business  Multiple carriers  \\\n",
       "0 -0.135998  2.050269    -0.750475             -0.023706           -0.35506   \n",
       "1 -0.135998 -0.487741    -0.750475             -0.023706           -0.35506   \n",
       "2 -0.135998 -0.487741     1.332489             -0.023706           -0.35506   \n",
       "3 -0.135998  2.050269    -0.750475             -0.023706           -0.35506   \n",
       "4 -0.135998  2.050269    -0.750475             -0.023706           -0.35506   \n",
       "\n",
       "   Multiple carriers Premium economy  SpiceJet    Trujet   Vistara  \\\n",
       "0                          -0.034905 -0.287957 -0.009676 -0.216662   \n",
       "1                          -0.034905 -0.287957 -0.009676 -0.216662   \n",
       "2                          -0.034905 -0.287957 -0.009676 -0.216662   \n",
       "3                          -0.034905 -0.287957 -0.009676 -0.216662   \n",
       "4                          -0.034905 -0.287957 -0.009676 -0.216662   \n",
       "\n",
       "   Vistara Premium economy  Banglore    Cochin     Delhi  Hyderabad  Kolkata  \\\n",
       "0                 -0.01676 -0.606227 -0.859188 -0.366493  -0.264193 -0.19231   \n",
       "1                 -0.01676  1.649546 -0.859188 -0.366493  -0.264193 -0.19231   \n",
       "2                 -0.01676 -0.606227  1.163890 -0.366493  -0.264193 -0.19231   \n",
       "3                 -0.01676  1.649546 -0.859188 -0.366493  -0.264193 -0.19231   \n",
       "4                 -0.01676 -0.606227 -0.859188 -0.366493  -0.264193 -0.19231   \n",
       "\n",
       "   New Delhi  Source_Banglore  Source_Chennai  Source_Delhi  Source_Kolkata  \\\n",
       "0   3.234571         1.965335        -0.19231     -0.859188       -0.606227   \n",
       "1  -0.309160        -0.508819        -0.19231     -0.859188        1.649546   \n",
       "2  -0.309160        -0.508819        -0.19231      1.163890       -0.606227   \n",
       "3  -0.309160        -0.508819        -0.19231     -0.859188        1.649546   \n",
       "4   3.234571         1.965335        -0.19231     -0.859188       -0.606227   \n",
       "\n",
       "   Source_Mumbai  \n",
       "0      -0.264193  \n",
       "1      -0.264193  \n",
       "2      -0.264193  \n",
       "3      -0.264193  \n",
       "4      -0.264193  "
      ]
     },
     "execution_count": 136,
     "metadata": {},
     "output_type": "execute_result"
    }
   ],
   "source": [
    "df.head()\n",
    "pd.set_option('display.max_columns',None)\n",
    "df.head()"
   ]
  },
  {
   "cell_type": "markdown",
   "metadata": {},
   "source": [
    "#  skewness treatment & Data Scaling of testing set"
   ]
  },
  {
   "cell_type": "code",
   "execution_count": 137,
   "metadata": {},
   "outputs": [],
   "source": [
    "#skewness treatment\n",
    "from sklearn.preprocessing import PowerTransformer\n",
    "pt=PowerTransformer(method='yeo-johnson') \n",
    "test_power=pt.fit_transform(test)\n",
    "test=pd.DataFrame(test_power,columns=test.columns)"
   ]
  },
  {
   "cell_type": "code",
   "execution_count": 138,
   "metadata": {},
   "outputs": [],
   "source": [
    "#Applying Standard scalar to test dataset\n",
    "from sklearn.preprocessing import StandardScaler\n",
    "ss=StandardScaler()\n",
    "test_scaled=ss.fit_transform(test)\n",
    "test=pd.DataFrame(data=test_scaled,columns=test.columns)\n"
   ]
  },
  {
   "cell_type": "code",
   "execution_count": 139,
   "metadata": {},
   "outputs": [],
   "source": [
    "test.head()\n",
    "pd.set_option('display.max_columns',None)"
   ]
  },
  {
   "cell_type": "code",
   "execution_count": 140,
   "metadata": {
    "scrolled": true
   },
   "outputs": [
    {
     "data": {
      "text/html": [
       "<div>\n",
       "<style scoped>\n",
       "    .dataframe tbody tr th:only-of-type {\n",
       "        vertical-align: middle;\n",
       "    }\n",
       "\n",
       "    .dataframe tbody tr th {\n",
       "        vertical-align: top;\n",
       "    }\n",
       "\n",
       "    .dataframe thead th {\n",
       "        text-align: right;\n",
       "    }\n",
       "</style>\n",
       "<table border=\"1\" class=\"dataframe\">\n",
       "  <thead>\n",
       "    <tr style=\"text-align: right;\">\n",
       "      <th></th>\n",
       "      <th>Duration</th>\n",
       "      <th>Total_Stops</th>\n",
       "      <th>journey_month</th>\n",
       "      <th>journey_day</th>\n",
       "      <th>journey_weekday</th>\n",
       "      <th>dep_hour</th>\n",
       "      <th>dep_min</th>\n",
       "      <th>arrival_hour</th>\n",
       "      <th>arrival_min</th>\n",
       "      <th>Air Asia</th>\n",
       "      <th>Air India</th>\n",
       "      <th>GoAir</th>\n",
       "      <th>IndiGo</th>\n",
       "      <th>Jet Airways</th>\n",
       "      <th>Jet Airways Business</th>\n",
       "      <th>Multiple carriers</th>\n",
       "      <th>Multiple carriers Premium economy</th>\n",
       "      <th>SpiceJet</th>\n",
       "      <th>Trujet</th>\n",
       "      <th>Vistara</th>\n",
       "      <th>Vistara Premium economy</th>\n",
       "      <th>Banglore</th>\n",
       "      <th>Cochin</th>\n",
       "      <th>Delhi</th>\n",
       "      <th>Hyderabad</th>\n",
       "      <th>Kolkata</th>\n",
       "      <th>New Delhi</th>\n",
       "      <th>Source_Banglore</th>\n",
       "      <th>Source_Chennai</th>\n",
       "      <th>Source_Delhi</th>\n",
       "      <th>Source_Kolkata</th>\n",
       "      <th>Source_Mumbai</th>\n",
       "    </tr>\n",
       "  </thead>\n",
       "  <tbody>\n",
       "    <tr>\n",
       "      <td>0</td>\n",
       "      <td>0.373701</td>\n",
       "      <td>0.341177</td>\n",
       "      <td>1.162712</td>\n",
       "      <td>-0.753498</td>\n",
       "      <td>0.109589</td>\n",
       "      <td>0.791425</td>\n",
       "      <td>0.443282</td>\n",
       "      <td>-1.361817</td>\n",
       "      <td>0.174993</td>\n",
       "      <td>-0.182398</td>\n",
       "      <td>-0.444096</td>\n",
       "      <td>-0.132378</td>\n",
       "      <td>-0.486389</td>\n",
       "      <td>1.406308</td>\n",
       "      <td>-0.027374</td>\n",
       "      <td>-0.386409</td>\n",
       "      <td>-0.033533</td>\n",
       "      <td>-0.290603</td>\n",
       "      <td>0.0</td>\n",
       "      <td>-0.225272</td>\n",
       "      <td>-0.027374</td>\n",
       "      <td>-0.601714</td>\n",
       "      <td>1.154448</td>\n",
       "      <td>-0.366966</td>\n",
       "      <td>-0.273586</td>\n",
       "      <td>-0.169972</td>\n",
       "      <td>-0.312764</td>\n",
       "      <td>-0.512140</td>\n",
       "      <td>-0.169972</td>\n",
       "      <td>1.154448</td>\n",
       "      <td>-0.601714</td>\n",
       "      <td>-0.273586</td>\n",
       "    </tr>\n",
       "    <tr>\n",
       "      <td>1</td>\n",
       "      <td>-0.727748</td>\n",
       "      <td>0.341177</td>\n",
       "      <td>0.145285</td>\n",
       "      <td>0.038985</td>\n",
       "      <td>1.415722</td>\n",
       "      <td>-1.178018</td>\n",
       "      <td>0.004594</td>\n",
       "      <td>-0.525790</td>\n",
       "      <td>-0.100464</td>\n",
       "      <td>-0.182398</td>\n",
       "      <td>-0.444096</td>\n",
       "      <td>-0.132378</td>\n",
       "      <td>2.055968</td>\n",
       "      <td>-0.711082</td>\n",
       "      <td>-0.027374</td>\n",
       "      <td>-0.386409</td>\n",
       "      <td>-0.033533</td>\n",
       "      <td>-0.290603</td>\n",
       "      <td>0.0</td>\n",
       "      <td>-0.225272</td>\n",
       "      <td>-0.027374</td>\n",
       "      <td>1.661918</td>\n",
       "      <td>-0.866215</td>\n",
       "      <td>-0.366966</td>\n",
       "      <td>-0.273586</td>\n",
       "      <td>-0.169972</td>\n",
       "      <td>-0.312764</td>\n",
       "      <td>-0.512140</td>\n",
       "      <td>-0.169972</td>\n",
       "      <td>-0.866215</td>\n",
       "      <td>1.661918</td>\n",
       "      <td>-0.273586</td>\n",
       "    </tr>\n",
       "    <tr>\n",
       "      <td>2</td>\n",
       "      <td>1.343131</td>\n",
       "      <td>0.341177</td>\n",
       "      <td>0.145285</td>\n",
       "      <td>0.968484</td>\n",
       "      <td>-0.939506</td>\n",
       "      <td>1.101906</td>\n",
       "      <td>-0.253964</td>\n",
       "      <td>0.769761</td>\n",
       "      <td>-1.731559</td>\n",
       "      <td>-0.182398</td>\n",
       "      <td>-0.444096</td>\n",
       "      <td>-0.132378</td>\n",
       "      <td>-0.486389</td>\n",
       "      <td>1.406308</td>\n",
       "      <td>-0.027374</td>\n",
       "      <td>-0.386409</td>\n",
       "      <td>-0.033533</td>\n",
       "      <td>-0.290603</td>\n",
       "      <td>0.0</td>\n",
       "      <td>-0.225272</td>\n",
       "      <td>-0.027374</td>\n",
       "      <td>-0.601714</td>\n",
       "      <td>1.154448</td>\n",
       "      <td>-0.366966</td>\n",
       "      <td>-0.273586</td>\n",
       "      <td>-0.169972</td>\n",
       "      <td>-0.312764</td>\n",
       "      <td>-0.512140</td>\n",
       "      <td>-0.169972</td>\n",
       "      <td>1.154448</td>\n",
       "      <td>-0.601714</td>\n",
       "      <td>-0.273586</td>\n",
       "    </tr>\n",
       "    <tr>\n",
       "      <td>3</td>\n",
       "      <td>0.582189</td>\n",
       "      <td>0.341177</td>\n",
       "      <td>0.145285</td>\n",
       "      <td>0.968484</td>\n",
       "      <td>-0.939506</td>\n",
       "      <td>-0.772489</td>\n",
       "      <td>-1.569608</td>\n",
       "      <td>1.062125</td>\n",
       "      <td>-1.731559</td>\n",
       "      <td>-0.182398</td>\n",
       "      <td>-0.444096</td>\n",
       "      <td>-0.132378</td>\n",
       "      <td>-0.486389</td>\n",
       "      <td>-0.711082</td>\n",
       "      <td>-0.027374</td>\n",
       "      <td>2.587935</td>\n",
       "      <td>-0.033533</td>\n",
       "      <td>-0.290603</td>\n",
       "      <td>0.0</td>\n",
       "      <td>-0.225272</td>\n",
       "      <td>-0.027374</td>\n",
       "      <td>-0.601714</td>\n",
       "      <td>1.154448</td>\n",
       "      <td>-0.366966</td>\n",
       "      <td>-0.273586</td>\n",
       "      <td>-0.169972</td>\n",
       "      <td>-0.312764</td>\n",
       "      <td>-0.512140</td>\n",
       "      <td>-0.169972</td>\n",
       "      <td>1.154448</td>\n",
       "      <td>-0.601714</td>\n",
       "      <td>-0.273586</td>\n",
       "    </tr>\n",
       "    <tr>\n",
       "      <td>4</td>\n",
       "      <td>-1.070348</td>\n",
       "      <td>-1.317461</td>\n",
       "      <td>1.162712</td>\n",
       "      <td>1.239238</td>\n",
       "      <td>-1.586700</td>\n",
       "      <td>1.695694</td>\n",
       "      <td>1.300449</td>\n",
       "      <td>-1.631447</td>\n",
       "      <td>1.121493</td>\n",
       "      <td>5.482530</td>\n",
       "      <td>-0.444096</td>\n",
       "      <td>-0.132378</td>\n",
       "      <td>-0.486389</td>\n",
       "      <td>-0.711082</td>\n",
       "      <td>-0.027374</td>\n",
       "      <td>-0.386409</td>\n",
       "      <td>-0.033533</td>\n",
       "      <td>-0.290603</td>\n",
       "      <td>0.0</td>\n",
       "      <td>-0.225272</td>\n",
       "      <td>-0.027374</td>\n",
       "      <td>-0.601714</td>\n",
       "      <td>-0.866215</td>\n",
       "      <td>2.725044</td>\n",
       "      <td>-0.273586</td>\n",
       "      <td>-0.169972</td>\n",
       "      <td>-0.312764</td>\n",
       "      <td>1.952591</td>\n",
       "      <td>-0.169972</td>\n",
       "      <td>-0.866215</td>\n",
       "      <td>-0.601714</td>\n",
       "      <td>-0.273586</td>\n",
       "    </tr>\n",
       "  </tbody>\n",
       "</table>\n",
       "</div>"
      ],
      "text/plain": [
       "   Duration  Total_Stops  journey_month  journey_day  journey_weekday  \\\n",
       "0  0.373701     0.341177       1.162712    -0.753498         0.109589   \n",
       "1 -0.727748     0.341177       0.145285     0.038985         1.415722   \n",
       "2  1.343131     0.341177       0.145285     0.968484        -0.939506   \n",
       "3  0.582189     0.341177       0.145285     0.968484        -0.939506   \n",
       "4 -1.070348    -1.317461       1.162712     1.239238        -1.586700   \n",
       "\n",
       "   dep_hour   dep_min  arrival_hour  arrival_min  Air Asia  Air India  \\\n",
       "0  0.791425  0.443282     -1.361817     0.174993 -0.182398  -0.444096   \n",
       "1 -1.178018  0.004594     -0.525790    -0.100464 -0.182398  -0.444096   \n",
       "2  1.101906 -0.253964      0.769761    -1.731559 -0.182398  -0.444096   \n",
       "3 -0.772489 -1.569608      1.062125    -1.731559 -0.182398  -0.444096   \n",
       "4  1.695694  1.300449     -1.631447     1.121493  5.482530  -0.444096   \n",
       "\n",
       "      GoAir    IndiGo  Jet Airways  Jet Airways Business  Multiple carriers  \\\n",
       "0 -0.132378 -0.486389     1.406308             -0.027374          -0.386409   \n",
       "1 -0.132378  2.055968    -0.711082             -0.027374          -0.386409   \n",
       "2 -0.132378 -0.486389     1.406308             -0.027374          -0.386409   \n",
       "3 -0.132378 -0.486389    -0.711082             -0.027374           2.587935   \n",
       "4 -0.132378 -0.486389    -0.711082             -0.027374          -0.386409   \n",
       "\n",
       "   Multiple carriers Premium economy  SpiceJet  Trujet   Vistara  \\\n",
       "0                          -0.033533 -0.290603     0.0 -0.225272   \n",
       "1                          -0.033533 -0.290603     0.0 -0.225272   \n",
       "2                          -0.033533 -0.290603     0.0 -0.225272   \n",
       "3                          -0.033533 -0.290603     0.0 -0.225272   \n",
       "4                          -0.033533 -0.290603     0.0 -0.225272   \n",
       "\n",
       "   Vistara Premium economy  Banglore    Cochin     Delhi  Hyderabad   Kolkata  \\\n",
       "0                -0.027374 -0.601714  1.154448 -0.366966  -0.273586 -0.169972   \n",
       "1                -0.027374  1.661918 -0.866215 -0.366966  -0.273586 -0.169972   \n",
       "2                -0.027374 -0.601714  1.154448 -0.366966  -0.273586 -0.169972   \n",
       "3                -0.027374 -0.601714  1.154448 -0.366966  -0.273586 -0.169972   \n",
       "4                -0.027374 -0.601714 -0.866215  2.725044  -0.273586 -0.169972   \n",
       "\n",
       "   New Delhi  Source_Banglore  Source_Chennai  Source_Delhi  Source_Kolkata  \\\n",
       "0  -0.312764        -0.512140       -0.169972      1.154448       -0.601714   \n",
       "1  -0.312764        -0.512140       -0.169972     -0.866215        1.661918   \n",
       "2  -0.312764        -0.512140       -0.169972      1.154448       -0.601714   \n",
       "3  -0.312764        -0.512140       -0.169972      1.154448       -0.601714   \n",
       "4  -0.312764         1.952591       -0.169972     -0.866215       -0.601714   \n",
       "\n",
       "   Source_Mumbai  \n",
       "0      -0.273586  \n",
       "1      -0.273586  \n",
       "2      -0.273586  \n",
       "3      -0.273586  \n",
       "4      -0.273586  "
      ]
     },
     "execution_count": 140,
     "metadata": {},
     "output_type": "execute_result"
    }
   ],
   "source": [
    "test.head()"
   ]
  },
  {
   "cell_type": "code",
   "execution_count": 141,
   "metadata": {},
   "outputs": [
    {
     "data": {
      "text/plain": [
       "((10683, 33), (2671, 32))"
      ]
     },
     "execution_count": 141,
     "metadata": {},
     "output_type": "execute_result"
    }
   ],
   "source": [
    "train.shape,test.shape"
   ]
  },
  {
   "cell_type": "markdown",
   "metadata": {},
   "source": [
    "# Model Building"
   ]
  },
  {
   "cell_type": "code",
   "execution_count": 142,
   "metadata": {},
   "outputs": [],
   "source": [
    "#Fitting the model on training dataset\n",
    "y=y\n",
    "x=df"
   ]
  },
  {
   "cell_type": "code",
   "execution_count": 143,
   "metadata": {},
   "outputs": [],
   "source": [
    "from sklearn.neighbors import KNeighborsRegressor\n",
    "from sklearn.svm import SVR\n",
    "from sklearn.linear_model import LinearRegression\n",
    "from sklearn.linear_model import Lasso\n",
    "from sklearn.tree import DecisionTreeRegressor\n",
    "from sklearn.ensemble import GradientBoostingRegressor\n",
    "from sklearn.ensemble import RandomForestRegressor\n",
    "from sklearn.ensemble import AdaBoostRegressor\n",
    "from xgboost import XGBRegressor"
   ]
  },
  {
   "cell_type": "code",
   "execution_count": 144,
   "metadata": {},
   "outputs": [],
   "source": [
    "knn=KNeighborsRegressor()\n",
    "svr=SVR()\n",
    "lr=LinearRegression()\n",
    "dt=DecisionTreeRegressor()\n",
    "gbm=GradientBoostingRegressor()\n",
    "ada=AdaBoostRegressor()\n",
    "rfr=RandomForestRegressor()\n",
    "xgb=XGBRegressor()"
   ]
  },
  {
   "cell_type": "code",
   "execution_count": 145,
   "metadata": {},
   "outputs": [],
   "source": [
    "models=[]\n",
    "models.append(('KNeighborsClassifier',knn))\n",
    "models.append(('SVR',svr))\n",
    "models.append(('LinearRegression',lr))\n",
    "models.append(('DecisionTreeRegressor',dt))\n",
    "models.append(('GradientBoostingRegressor',gbm))\n",
    "models.append(('AdaBoostRegressor',ada))\n",
    "models.append(('RandomForestRegressor',rfr))\n",
    "models.append(('XGBRegressor',xgb))"
   ]
  },
  {
   "cell_type": "code",
   "execution_count": 146,
   "metadata": {},
   "outputs": [],
   "source": [
    "from sklearn.metrics import r2_score,mean_squared_error\n",
    "from sklearn.model_selection import train_test_split,cross_val_score\n",
    "x_train,x_test,y_train,y_test=train_test_split(x,y,random_state=42)"
   ]
  },
  {
   "cell_type": "code",
   "execution_count": 145,
   "metadata": {},
   "outputs": [
    {
     "name": "stdout",
     "output_type": "stream",
     "text": [
      "***************** KNeighborsClassifier *******************\n",
      "\n",
      "\n",
      "KNeighborsRegressor(algorithm='auto', leaf_size=30, metric='minkowski',\n",
      "                    metric_params=None, n_jobs=None, n_neighbors=5, p=2,\n",
      "                    weights='uniform')\n",
      "\n",
      "\n",
      "R2score  - 0.7756858629783\n",
      "\n",
      "\n",
      "cross_val_score  - 0.7687203439906549\n",
      "\n",
      "\n",
      "rmse_score  - 2140.5954736065523\n",
      "\n",
      "\n",
      "***************** SVR *******************\n",
      "\n",
      "\n",
      "SVR(C=1.0, cache_size=200, coef0=0.0, degree=3, epsilon=0.1,\n",
      "    gamma='auto_deprecated', kernel='rbf', max_iter=-1, shrinking=True,\n",
      "    tol=0.001, verbose=False)\n",
      "\n",
      "\n",
      "R2score  - 0.05908948708404771\n",
      "\n",
      "\n",
      "cross_val_score  - 0.07082560610230756\n",
      "\n",
      "\n",
      "rmse_score  - 4384.099888659961\n",
      "\n",
      "\n",
      "***************** LinearRegression *******************\n",
      "\n",
      "\n",
      "LinearRegression(copy_X=True, fit_intercept=True, n_jobs=None, normalize=False)\n",
      "\n",
      "\n",
      "R2score  - 0.6200333988481581\n",
      "\n",
      "\n",
      "cross_val_score  - 0.6252937264683439\n",
      "\n",
      "\n",
      "rmse_score  - 2785.9864010763113\n",
      "\n",
      "\n",
      "***************** DecisionTreeRegressor *******************\n",
      "\n",
      "\n",
      "DecisionTreeRegressor(criterion='mse', max_depth=None, max_features=None,\n",
      "                      max_leaf_nodes=None, min_impurity_decrease=0.0,\n",
      "                      min_impurity_split=None, min_samples_leaf=1,\n",
      "                      min_samples_split=2, min_weight_fraction_leaf=0.0,\n",
      "                      presort=False, random_state=None, splitter='best')\n",
      "\n",
      "\n",
      "R2score  - 0.7499644222937154\n",
      "\n",
      "\n",
      "cross_val_score  - 0.7156961715039396\n",
      "\n",
      "\n",
      "rmse_score  - 2259.99347223058\n",
      "\n",
      "\n",
      "***************** GradientBoostingRegressor *******************\n",
      "\n",
      "\n",
      "GradientBoostingRegressor(alpha=0.9, criterion='friedman_mse', init=None,\n",
      "                          learning_rate=0.1, loss='ls', max_depth=3,\n",
      "                          max_features=None, max_leaf_nodes=None,\n",
      "                          min_impurity_decrease=0.0, min_impurity_split=None,\n",
      "                          min_samples_leaf=1, min_samples_split=2,\n",
      "                          min_weight_fraction_leaf=0.0, n_estimators=100,\n",
      "                          n_iter_no_change=None, presort='auto',\n",
      "                          random_state=None, subsample=1.0, tol=0.0001,\n",
      "                          validation_fraction=0.1, verbose=0, warm_start=False)\n",
      "\n",
      "\n",
      "R2score  - 0.7767294114608472\n",
      "\n",
      "\n",
      "cross_val_score  - 0.7701481156486051\n",
      "\n",
      "\n",
      "rmse_score  - 2135.6104573405273\n",
      "\n",
      "\n",
      "***************** AdaBoostRegressor *******************\n",
      "\n",
      "\n",
      "AdaBoostRegressor(base_estimator=None, learning_rate=1.0, loss='linear',\n",
      "                  n_estimators=50, random_state=None)\n",
      "\n",
      "\n",
      "R2score  - 0.4602686182837852\n",
      "\n",
      "\n",
      "cross_val_score  - 0.37222463457923133\n",
      "\n",
      "\n",
      "rmse_score  - 3320.436010830447\n",
      "\n",
      "\n",
      "***************** RandomForestRegressor *******************\n",
      "\n",
      "\n",
      "RandomForestRegressor(bootstrap=True, criterion='mse', max_depth=None,\n",
      "                      max_features='auto', max_leaf_nodes=None,\n",
      "                      min_impurity_decrease=0.0, min_impurity_split=None,\n",
      "                      min_samples_leaf=1, min_samples_split=2,\n",
      "                      min_weight_fraction_leaf=0.0, n_estimators=10,\n",
      "                      n_jobs=None, oob_score=False, random_state=None,\n",
      "                      verbose=0, warm_start=False)\n",
      "\n",
      "\n",
      "R2score  - 0.7983664711067853\n",
      "\n",
      "\n",
      "cross_val_score  - 0.8067165691466608\n",
      "\n",
      "\n",
      "rmse_score  - 2029.4934578565892\n",
      "\n",
      "\n",
      "***************** XGBRegressor *******************\n",
      "\n",
      "\n",
      "XGBRegressor(base_score=0.5, booster=None, colsample_bylevel=1,\n",
      "             colsample_bynode=1, colsample_bytree=1, gamma=0, gpu_id=-1,\n",
      "             importance_type='gain', interaction_constraints=None,\n",
      "             learning_rate=0.300000012, max_delta_step=0, max_depth=6,\n",
      "             min_child_weight=1, missing=nan, monotone_constraints=None,\n",
      "             n_estimators=100, n_jobs=0, num_parallel_tree=1,\n",
      "             objective='reg:squarederror', random_state=0, reg_alpha=0,\n",
      "             reg_lambda=1, scale_pos_weight=1, subsample=1, tree_method=None,\n",
      "             validate_parameters=False, verbosity=None)\n",
      "\n",
      "\n",
      "R2score  - 0.8380178910728656\n",
      "\n",
      "\n",
      "cross_val_score  - 0.846223379776934\n",
      "\n",
      "\n",
      "rmse_score  - 1819.0297614036058\n",
      "\n",
      "\n"
     ]
    }
   ],
   "source": [
    "Model=[]\n",
    "r2score=[]\n",
    "rmse=[]\n",
    "cv=[]\n",
    "\n",
    "for name,model in models:\n",
    "    print('*****************',name,'*******************')\n",
    "    print('\\n')\n",
    "    Model.append(name)\n",
    "    model.fit(x_train,y_train)\n",
    "    print(model)\n",
    "    pre=model.predict(x_test)\n",
    "    print('\\n')\n",
    "    score=r2_score(y_test,pre)\n",
    "    print('R2score  -',score)\n",
    "    r2score.append(score*100)\n",
    "    print('\\n')\n",
    "    sc=cross_val_score(model,x,y,cv=10,scoring='r2').mean()\n",
    "    print('cross_val_score  -',sc)\n",
    "    cv.append(sc*100)\n",
    "    print('\\n')\n",
    "    rmsescore=np.sqrt(mean_squared_error(y_test,pre))\n",
    "    print('rmse_score  -',rmsescore)\n",
    "    rmse.append(rmsescore)\n",
    "    print('\\n')\n",
    "    \n",
    "    \n",
    "    "
   ]
  },
  {
   "cell_type": "code",
   "execution_count": 146,
   "metadata": {},
   "outputs": [
    {
     "data": {
      "text/html": [
       "<div>\n",
       "<style scoped>\n",
       "    .dataframe tbody tr th:only-of-type {\n",
       "        vertical-align: middle;\n",
       "    }\n",
       "\n",
       "    .dataframe tbody tr th {\n",
       "        vertical-align: top;\n",
       "    }\n",
       "\n",
       "    .dataframe thead th {\n",
       "        text-align: right;\n",
       "    }\n",
       "</style>\n",
       "<table border=\"1\" class=\"dataframe\">\n",
       "  <thead>\n",
       "    <tr style=\"text-align: right;\">\n",
       "      <th></th>\n",
       "      <th>Model</th>\n",
       "      <th>R2_score</th>\n",
       "      <th>RMSEscore</th>\n",
       "      <th>Cross_val_score</th>\n",
       "    </tr>\n",
       "  </thead>\n",
       "  <tbody>\n",
       "    <tr>\n",
       "      <td>0</td>\n",
       "      <td>KNeighborsClassifier</td>\n",
       "      <td>77.568586</td>\n",
       "      <td>2140.595474</td>\n",
       "      <td>76.872034</td>\n",
       "    </tr>\n",
       "    <tr>\n",
       "      <td>1</td>\n",
       "      <td>SVR</td>\n",
       "      <td>5.908949</td>\n",
       "      <td>4384.099889</td>\n",
       "      <td>7.082561</td>\n",
       "    </tr>\n",
       "    <tr>\n",
       "      <td>2</td>\n",
       "      <td>LinearRegression</td>\n",
       "      <td>62.003340</td>\n",
       "      <td>2785.986401</td>\n",
       "      <td>62.529373</td>\n",
       "    </tr>\n",
       "    <tr>\n",
       "      <td>3</td>\n",
       "      <td>DecisionTreeRegressor</td>\n",
       "      <td>74.996442</td>\n",
       "      <td>2259.993472</td>\n",
       "      <td>71.569617</td>\n",
       "    </tr>\n",
       "    <tr>\n",
       "      <td>4</td>\n",
       "      <td>GradientBoostingRegressor</td>\n",
       "      <td>77.672941</td>\n",
       "      <td>2135.610457</td>\n",
       "      <td>77.014812</td>\n",
       "    </tr>\n",
       "    <tr>\n",
       "      <td>5</td>\n",
       "      <td>AdaBoostRegressor</td>\n",
       "      <td>46.026862</td>\n",
       "      <td>3320.436011</td>\n",
       "      <td>37.222463</td>\n",
       "    </tr>\n",
       "    <tr>\n",
       "      <td>6</td>\n",
       "      <td>RandomForestRegressor</td>\n",
       "      <td>79.836647</td>\n",
       "      <td>2029.493458</td>\n",
       "      <td>80.671657</td>\n",
       "    </tr>\n",
       "    <tr>\n",
       "      <td>7</td>\n",
       "      <td>XGBRegressor</td>\n",
       "      <td>83.801789</td>\n",
       "      <td>1819.029761</td>\n",
       "      <td>84.622338</td>\n",
       "    </tr>\n",
       "  </tbody>\n",
       "</table>\n",
       "</div>"
      ],
      "text/plain": [
       "                       Model   R2_score    RMSEscore  Cross_val_score\n",
       "0       KNeighborsClassifier  77.568586  2140.595474        76.872034\n",
       "1                        SVR   5.908949  4384.099889         7.082561\n",
       "2           LinearRegression  62.003340  2785.986401        62.529373\n",
       "3      DecisionTreeRegressor  74.996442  2259.993472        71.569617\n",
       "4  GradientBoostingRegressor  77.672941  2135.610457        77.014812\n",
       "5          AdaBoostRegressor  46.026862  3320.436011        37.222463\n",
       "6      RandomForestRegressor  79.836647  2029.493458        80.671657\n",
       "7               XGBRegressor  83.801789  1819.029761        84.622338"
      ]
     },
     "execution_count": 146,
     "metadata": {},
     "output_type": "execute_result"
    }
   ],
   "source": [
    "result=pd.DataFrame({'Model':Model,'R2_score':r2score,'RMSEscore':rmse,'Cross_val_score':cv})\n",
    "result"
   ]
  },
  {
   "cell_type": "code",
   "execution_count": null,
   "metadata": {},
   "outputs": [],
   "source": [
    "#hence XGBRegressor is the best performing Algorithm for the taken dataset.\n",
    "#But our target score is 90%\n",
    "#to achieve 90% score we will apply Gridsearchcv technique to the top3 performing models."
   ]
  },
  {
   "cell_type": "code",
   "execution_count": null,
   "metadata": {},
   "outputs": [],
   "source": [
    "#First lets calculate the random state of the models at which they perform the best.\n",
    "#Then we will select the top3 models and do gridsearchcv on them to attain our target score of 90%.\n",
    "#Then Cross validating the model and checking the cross_val_score,model giving highest score will be choosen as final model."
   ]
  },
  {
   "cell_type": "markdown",
   "metadata": {},
   "source": [
    "# Finding the best random_state for models"
   ]
  },
  {
   "cell_type": "code",
   "execution_count": 147,
   "metadata": {},
   "outputs": [],
   "source": [
    "def maxr2_score(model,x,y):\n",
    "    max_r2=0\n",
    "    for r_state in range(42,101):\n",
    "        \n",
    "        x_train,x_test,y_train,y_test=train_test_split(x,y,random_state=r_state)\n",
    "        model.fit(x_train,y_train)\n",
    "        pred=model.predict(x_test)\n",
    "        score=r2_score(y_test,pred)\n",
    "        \n",
    "        if score>max_r2:\n",
    "            max_r2=score\n",
    "            final_r_state=r_state\n",
    "    print('max_r2_score is at random_state  ',final_r_state,'  which is  ',max_r2)\n",
    "    return final_r_state"
   ]
  },
  {
   "cell_type": "code",
   "execution_count": 148,
   "metadata": {},
   "outputs": [
    {
     "name": "stdout",
     "output_type": "stream",
     "text": [
      "max_r2_score is at random_state   79   which is   0.8020726126432819\n",
      "knn 79\n",
      "max_r2_score is at random_state   98   which is   0.07899982404506978\n",
      "SVR 98\n",
      "max_r2_score is at random_state   58   which is   0.6677003296185998\n",
      "lr 58\n",
      "max_r2_score is at random_state   60   which is   0.764096411896475\n",
      "dt 60\n",
      "max_r2_score is at random_state   77   which is   0.8002998772298793\n",
      "gbm 77\n",
      "max_r2_score is at random_state   79   which is   0.8294664378067268\n",
      "rfr 79\n",
      "max_r2_score is at random_state   57   which is   0.865948669291937\n",
      "xgb 57\n",
      "max_r2_score is at random_state   83   which is   0.6180125945849262\n",
      "ada 83\n"
     ]
    }
   ],
   "source": [
    "print('knn',maxr2_score(knn,x,y))\n",
    "print('SVR',maxr2_score(svr,x,y))\n",
    "print('lr',maxr2_score(lr,x,y))\n",
    "print('dt',maxr2_score(dt,x,y))\n",
    "print('gbm',maxr2_score(gbm,x,y))\n",
    "print('rfr',maxr2_score(rfr,x,y))\n",
    "print('xgb',maxr2_score(xgb,x,y))\n",
    "\n",
    "print('ada',maxr2_score(ada,x,y))"
   ]
  },
  {
   "cell_type": "raw",
   "metadata": {},
   "source": [
    "#Selecting the top3 performing models for gridsearchcv\n",
    "\n",
    "model1->XGBoost(random_state=57)=86.59\n",
    "model2->RandomForestRegressor(random_state=79)=82.94\n",
    "model3->GradientBoostingRegressor(random_state=77)=80.02\n"
   ]
  },
  {
   "cell_type": "markdown",
   "metadata": {},
   "source": [
    "# GridSearchCV "
   ]
  },
  {
   "cell_type": "markdown",
   "metadata": {},
   "source": [
    "# model1->XGBoost(random_state=57)=86.59"
   ]
  },
  {
   "cell_type": "code",
   "execution_count": 148,
   "metadata": {},
   "outputs": [],
   "source": [
    "x_train,x_test,y_train,y_test=train_test_split(x,y,random_state=57)\n",
    "xgb=XGBRegressor()"
   ]
  },
  {
   "cell_type": "code",
   "execution_count": 149,
   "metadata": {},
   "outputs": [
    {
     "data": {
      "text/plain": [
       "{'colsample_bytree': 0.6, 'learning_rate': 0.1, 'max_depth': 8}"
      ]
     },
     "execution_count": 149,
     "metadata": {},
     "output_type": "execute_result"
    }
   ],
   "source": [
    "from sklearn.model_selection import GridSearchCV\n",
    "parameters=[{'learning_rate':[0.1,0.2,0.3,0.4],'max_depth':[3,4,5,6,7,8],'colsample_bytree':[0.5,0.6,0.7,0.8,0.9]}]\n",
    "            \n",
    "gscv=GridSearchCV(xgb,parameters,scoring='r2',n_jobs=-1,cv=10)\n",
    "grid_search=gscv.fit(x,y)\n",
    "grid_search.best_params_"
   ]
  },
  {
   "cell_type": "code",
   "execution_count": 150,
   "metadata": {},
   "outputs": [
    {
     "name": "stdout",
     "output_type": "stream",
     "text": [
      "r2_score=   0.9308091571039385\n",
      "RMSE score=  1216.615283977173\n"
     ]
    }
   ],
   "source": [
    "x_train,x_test,y_train,y_test=train_test_split(x,y,random_state=57)\n",
    "xgb=XGBRegressor(colsample_bytree=0.6, learning_rate=0.1, max_depth=8)\n",
    "xgb.fit(x,y)\n",
    "pred=xgb.predict(x_test)\n",
    "print('r2_score=  ',r2_score(y_test,pred))\n",
    "print('RMSE score= ',np.sqrt(mean_squared_error(y_test,pred)))"
   ]
  },
  {
   "cell_type": "code",
   "execution_count": 151,
   "metadata": {},
   "outputs": [
    {
     "data": {
      "text/plain": [
       "0.8531843881294305"
      ]
     },
     "execution_count": 151,
     "metadata": {},
     "output_type": "execute_result"
    }
   ],
   "source": [
    "#Cross validating the model and checking the cross_val_score,model giving highest score will be choosen as final model.\n",
    "xgb=XGBRegressor(colsample_bytree=0.6, learning_rate=0.1, max_depth=8)\n",
    "cvs=cross_val_score(xgb,x,y,scoring='r2',cv=10)\n",
    "cvs.mean()"
   ]
  },
  {
   "cell_type": "markdown",
   "metadata": {},
   "source": [
    "# model2->RandomForestRegressor(random_state=79)=82.94"
   ]
  },
  {
   "cell_type": "code",
   "execution_count": 152,
   "metadata": {},
   "outputs": [],
   "source": [
    "x_train,x_test,y_train,y_test=train_test_split(x,y,random_state=79)\n",
    "rfr=RandomForestRegressor()"
   ]
  },
  {
   "cell_type": "code",
   "execution_count": 153,
   "metadata": {},
   "outputs": [
    {
     "data": {
      "text/plain": [
       "{'max_depth': 10, 'min_samples_leaf': 1, 'n_estimators': 100}"
      ]
     },
     "execution_count": 153,
     "metadata": {},
     "output_type": "execute_result"
    }
   ],
   "source": [
    "parameters=[{'max_depth':[5,7,9,10],'min_samples_leaf':[1,2],'n_estimators':[100,250,500]}]\n",
    "            \n",
    "grid_search=GridSearchCV(rfr,parameters,scoring='r2',n_jobs=-1,cv=10)\n",
    "grid_search=grid_search.fit(x,y)\n",
    "grid_search.best_params_ "
   ]
  },
  {
   "cell_type": "code",
   "execution_count": 154,
   "metadata": {},
   "outputs": [
    {
     "name": "stdout",
     "output_type": "stream",
     "text": [
      "R2_score=   0.8876068650689768\n",
      "RMSE score=  1564.8268904722368\n"
     ]
    }
   ],
   "source": [
    "x_train,x_test,y_train,y_test=train_test_split(x,y,random_state=79)\n",
    "rfr=RandomForestRegressor(max_depth=10,min_samples_leaf=1,n_estimators=100)\n",
    "rfr.fit(x,y)\n",
    "pred_rfr=rfr.predict(x_test)\n",
    "score=r2_score(y_test,pred_rfr)\n",
    "print('R2_score=  ',score)\n",
    "print('RMSE score= ',np.sqrt(mean_squared_error(y_test,pred_rfr)))"
   ]
  },
  {
   "cell_type": "code",
   "execution_count": 155,
   "metadata": {},
   "outputs": [
    {
     "data": {
      "text/plain": [
       "0.8298807070728303"
      ]
     },
     "execution_count": 155,
     "metadata": {},
     "output_type": "execute_result"
    }
   ],
   "source": [
    "#Cross validating the model and checking the cross_val_score,model giving highest score will be choosen as final model.\n",
    "rfr=RandomForestRegressor(max_depth=10,min_samples_leaf=1,n_estimators=100)\n",
    "cvs=cross_val_score(rfr,x,y,scoring='r2',cv=10)\n",
    "cvs.mean()"
   ]
  },
  {
   "cell_type": "markdown",
   "metadata": {},
   "source": [
    "# model3->GradientBoostingRegressor(random_state=77)=80.02"
   ]
  },
  {
   "cell_type": "code",
   "execution_count": 156,
   "metadata": {},
   "outputs": [],
   "source": [
    "x_train,x_test,y_train,y_test=train_test_split(x,y,random_state=77)\n",
    "gbm=GradientBoostingRegressor()"
   ]
  },
  {
   "cell_type": "code",
   "execution_count": 157,
   "metadata": {},
   "outputs": [
    {
     "data": {
      "text/plain": [
       "{'learning_rate': 0.1,\n",
       " 'max_depth': 7,\n",
       " 'min_samples_leaf': 2,\n",
       " 'n_estimators': 100}"
      ]
     },
     "execution_count": 157,
     "metadata": {},
     "output_type": "execute_result"
    }
   ],
   "source": [
    "from sklearn.model_selection import GridSearchCV\n",
    "\n",
    "parameters=[{'max_depth':[5,7,9,10],'min_samples_leaf':[1,2],\n",
    "            'learning_rate':[0.1,0.05,0.001], 'n_estimators':[50,100]}]\n",
    "            \n",
    "grid_search=GridSearchCV(gbm,parameters,n_jobs=-1,cv=10)\n",
    "grid_search=grid_search.fit(x,y)\n",
    "grid_search.best_params_ "
   ]
  },
  {
   "cell_type": "code",
   "execution_count": 158,
   "metadata": {},
   "outputs": [
    {
     "name": "stdout",
     "output_type": "stream",
     "text": [
      "R2_score=   0.9123106350075925\n",
      "RMSE score=  1302.5554083410298\n"
     ]
    }
   ],
   "source": [
    "x_train,x_test,y_train,y_test=train_test_split(x,y,random_state=77)\n",
    "gbm=GradientBoostingRegressor(learning_rate=0.1,max_depth=7,min_samples_leaf=2,n_estimators=100)\n",
    "gbm.fit(x,y)\n",
    "pred_gbm=gbm.predict(x_test)\n",
    "score=r2_score(y_test,pred_gbm)\n",
    "print('R2_score=  ',score)\n",
    "print('RMSE score= ',np.sqrt(mean_squared_error(y_test,pred_gbm)))"
   ]
  },
  {
   "cell_type": "code",
   "execution_count": 159,
   "metadata": {},
   "outputs": [
    {
     "data": {
      "text/plain": [
       "0.8450909503841719"
      ]
     },
     "execution_count": 159,
     "metadata": {},
     "output_type": "execute_result"
    }
   ],
   "source": [
    "#Cross validating the model and checking the cross_val_score,model giving highest score will be choosen as final model.\n",
    "gbm=GradientBoostingRegressor(learning_rate=0.1,max_depth=7,min_samples_leaf=1,n_estimators=100)\n",
    "cvs=cross_val_score(gbm,x,y,scoring='r2',cv=10)\n",
    "cvs.mean()"
   ]
  },
  {
   "cell_type": "markdown",
   "metadata": {},
   "source": [
    "# Saving the final XGBRegressor model"
   ]
  },
  {
   "cell_type": "code",
   "execution_count": 160,
   "metadata": {},
   "outputs": [
    {
     "name": "stdout",
     "output_type": "stream",
     "text": [
      "r2_score=   0.9308091571039385\n",
      "RMSE score=  1216.615283977173\n"
     ]
    }
   ],
   "source": [
    "#From all the model tried above XGBRegressor model has highest cross_val_score=85.31% ,\n",
    "#corresponding random_state=57\n",
    "#Hence choosing the XGBRegressor as the final  model\n",
    "x_train,x_test,y_train,y_test=train_test_split(x,y,random_state=57)\n",
    "xgb=XGBRegressor(colsample_bytree=0.6, learning_rate=0.1, max_depth=8)\n",
    "xgb.fit(x,y)\n",
    "pred=xgb.predict(x_test)\n",
    "print('r2_score=  ',r2_score(y_test,pred))\n",
    "print('RMSE score= ',np.sqrt(mean_squared_error(y_test,pred)))"
   ]
  },
  {
   "cell_type": "code",
   "execution_count": 162,
   "metadata": {},
   "outputs": [
    {
     "data": {
      "text/plain": [
       "0.8531843881294305"
      ]
     },
     "execution_count": 162,
     "metadata": {},
     "output_type": "execute_result"
    }
   ],
   "source": [
    "xgb=XGBRegressor(colsample_bytree=0.6, learning_rate=0.1, max_depth=8)\n",
    "xgb.fit(x,y)\n",
    "cvs=cross_val_score(xgb,x,y,scoring='r2',cv=10)\n",
    "cvs.mean()"
   ]
  },
  {
   "cell_type": "code",
   "execution_count": 163,
   "metadata": {},
   "outputs": [
    {
     "data": {
      "text/plain": [
       "['project-12flightprice.obj']"
      ]
     },
     "execution_count": 163,
     "metadata": {},
     "output_type": "execute_result"
    }
   ],
   "source": [
    "from sklearn.externals import joblib\n",
    "joblib.dump(xgb,'project-12flightprice.obj')"
   ]
  },
  {
   "cell_type": "code",
   "execution_count": 164,
   "metadata": {},
   "outputs": [],
   "source": [
    "model=joblib.load('project-12flightprice.obj')"
   ]
  },
  {
   "cell_type": "code",
   "execution_count": 167,
   "metadata": {},
   "outputs": [
    {
     "data": {
      "text/html": [
       "<div>\n",
       "<style scoped>\n",
       "    .dataframe tbody tr th:only-of-type {\n",
       "        vertical-align: middle;\n",
       "    }\n",
       "\n",
       "    .dataframe tbody tr th {\n",
       "        vertical-align: top;\n",
       "    }\n",
       "\n",
       "    .dataframe thead th {\n",
       "        text-align: right;\n",
       "    }\n",
       "</style>\n",
       "<table border=\"1\" class=\"dataframe\">\n",
       "  <thead>\n",
       "    <tr style=\"text-align: right;\">\n",
       "      <th></th>\n",
       "      <th>Price</th>\n",
       "    </tr>\n",
       "  </thead>\n",
       "  <tbody>\n",
       "    <tr>\n",
       "      <td>0</td>\n",
       "      <td>11764.921875</td>\n",
       "    </tr>\n",
       "    <tr>\n",
       "      <td>1</td>\n",
       "      <td>5218.161621</td>\n",
       "    </tr>\n",
       "    <tr>\n",
       "      <td>2</td>\n",
       "      <td>13733.249023</td>\n",
       "    </tr>\n",
       "    <tr>\n",
       "      <td>3</td>\n",
       "      <td>10415.156250</td>\n",
       "    </tr>\n",
       "    <tr>\n",
       "      <td>4</td>\n",
       "      <td>3856.865723</td>\n",
       "    </tr>\n",
       "  </tbody>\n",
       "</table>\n",
       "</div>"
      ],
      "text/plain": [
       "          Price\n",
       "0  11764.921875\n",
       "1   5218.161621\n",
       "2  13733.249023\n",
       "3  10415.156250\n",
       "4   3856.865723"
      ]
     },
     "execution_count": 167,
     "metadata": {},
     "output_type": "execute_result"
    }
   ],
   "source": [
    "final_predictions=model.predict(test)\n",
    "final_predictions=pd.DataFrame(final_predictions,columns=['Price'])\n",
    "final_predictions.head()"
   ]
  },
  {
   "cell_type": "markdown",
   "metadata": {},
   "source": [
    "# Saving final predictions in file.csv format"
   ]
  },
  {
   "cell_type": "code",
   "execution_count": 169,
   "metadata": {},
   "outputs": [],
   "source": [
    "final_predictions.to_csv('E:\\\\final_predictionsflightprice.csv',index=False)"
   ]
  },
  {
   "cell_type": "raw",
   "metadata": {},
   "source": [
    "Conclusion:\n",
    "    Price of a flight  can be predicted using the model above. \n",
    "By using sklearn(XGBRegressor)we have build a machine learning model that will help us predict the price of a flight route."
   ]
  },
  {
   "cell_type": "code",
   "execution_count": null,
   "metadata": {},
   "outputs": [],
   "source": []
  }
 ],
 "metadata": {
  "kernelspec": {
   "display_name": "Python 3",
   "language": "python",
   "name": "python3"
  },
  "language_info": {
   "codemirror_mode": {
    "name": "ipython",
    "version": 3
   },
   "file_extension": ".py",
   "mimetype": "text/x-python",
   "name": "python",
   "nbconvert_exporter": "python",
   "pygments_lexer": "ipython3",
   "version": "3.7.4"
  }
 },
 "nbformat": 4,
 "nbformat_minor": 2
}
