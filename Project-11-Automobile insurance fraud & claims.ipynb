{
 "cells": [
  {
   "cell_type": "raw",
   "metadata": {},
   "source": [
    "Dataset Understanding and data pre analysis:-\n",
    "According to the problem statement we have to do both regression and classification in same ipynb file.\n",
    "Prediction for for datasets are different here.\n",
    "\n",
    "1-->In classification we have to predict the 'fraud_reported'\n",
    "2-->In Regression we have to predict the-----'Claim Amount' \n",
    "\n",
    "#Datasets used are different for both cases"
   ]
  },
  {
   "cell_type": "code",
   "execution_count": 1,
   "metadata": {},
   "outputs": [
    {
     "name": "stderr",
     "output_type": "stream",
     "text": [
      "C:\\ProgramData\\Anaconda3\\lib\\site-packages\\sklearn\\externals\\joblib\\__init__.py:15: DeprecationWarning: sklearn.externals.joblib is deprecated in 0.21 and will be removed in 0.23. Please import this functionality directly from joblib, which can be installed with: pip install joblib. If this warning is raised when loading pickled models, you may need to re-serialize those models with scikit-learn 0.21+.\n",
      "  warnings.warn(msg, category=DeprecationWarning)\n"
     ]
    }
   ],
   "source": [
    "#For classification:-\n",
    "\n",
    "import numpy as np\n",
    "import pandas as pd\n",
    "import matplotlib.pyplot as plt\n",
    "import warnings\n",
    "warnings.filterwarnings('ignore')\n",
    "import seaborn as sns\n",
    "from sklearn.preprocessing import LabelEncoder\n",
    "from scipy.stats import zscore\n",
    "from sklearn.preprocessing import PowerTransformer\n",
    "from sklearn.preprocessing import StandardScaler\n",
    "from sklearn.model_selection import train_test_split,cross_val_score\n",
    "\n",
    "from sklearn.neighbors import KNeighborsClassifier\n",
    "from sklearn.svm import SVC\n",
    "from sklearn.linear_model import LogisticRegression\n",
    "from sklearn.tree import DecisionTreeClassifier\n",
    "from sklearn.naive_bayes import GaussianNB\n",
    "from sklearn.ensemble import RandomForestClassifier\n",
    "from xgboost import XGBClassifier\n",
    "from sklearn.ensemble import GradientBoostingClassifier\n",
    "from sklearn.ensemble import AdaBoostClassifier\n",
    "\n",
    "from sklearn.metrics import roc_auc_score,recall_score\n",
    "from sklearn.metrics import classification_report,confusion_matrix,accuracy_score,roc_curve,auc\n",
    "\n",
    "from sklearn.model_selection import GridSearchCV\n",
    "\n",
    "from sklearn.model_selection import cross_val_predict\n",
    "\n",
    "#from mlxtend.classifier import StackingClassifier\n",
    "\n",
    "from sklearn.externals import joblib\n",
    "\n",
    "#For Regression:-\n",
    "\n",
    "from sklearn.neighbors import KNeighborsRegressor\n",
    "from sklearn.svm import SVR\n",
    "from sklearn.linear_model import LinearRegression\n",
    "from sklearn.linear_model import Lasso\n",
    "from sklearn.tree import DecisionTreeRegressor\n",
    "from sklearn.ensemble import GradientBoostingRegressor\n",
    "from sklearn.ensemble import RandomForestRegressor\n",
    "from sklearn.ensemble import AdaBoostRegressor\n",
    "from xgboost import XGBRegressor\n",
    "\n",
    "from sklearn.metrics import mean_absolute_error\n",
    "from sklearn.metrics import mean_squared_error\n",
    "from sklearn.metrics import r2_score\n"
   ]
  },
  {
   "cell_type": "markdown",
   "metadata": {},
   "source": [
    "# 1-Classification -->Target='fraud_reported'"
   ]
  },
  {
   "cell_type": "code",
   "execution_count": 2,
   "metadata": {},
   "outputs": [],
   "source": [
    "df=pd.read_csv('Automobile_insurance_fraud.csv')\n",
    "pd.set_option('display.max_columns',None)"
   ]
  },
  {
   "cell_type": "code",
   "execution_count": 3,
   "metadata": {},
   "outputs": [
    {
     "data": {
      "text/html": [
       "<div>\n",
       "<style scoped>\n",
       "    .dataframe tbody tr th:only-of-type {\n",
       "        vertical-align: middle;\n",
       "    }\n",
       "\n",
       "    .dataframe tbody tr th {\n",
       "        vertical-align: top;\n",
       "    }\n",
       "\n",
       "    .dataframe thead th {\n",
       "        text-align: right;\n",
       "    }\n",
       "</style>\n",
       "<table border=\"1\" class=\"dataframe\">\n",
       "  <thead>\n",
       "    <tr style=\"text-align: right;\">\n",
       "      <th></th>\n",
       "      <th>months_as_customer</th>\n",
       "      <th>age</th>\n",
       "      <th>policy_number</th>\n",
       "      <th>policy_bind_date</th>\n",
       "      <th>policy_state</th>\n",
       "      <th>policy_csl</th>\n",
       "      <th>policy_deductable</th>\n",
       "      <th>policy_annual_premium</th>\n",
       "      <th>umbrella_limit</th>\n",
       "      <th>insured_zip</th>\n",
       "      <th>insured_sex</th>\n",
       "      <th>insured_education_level</th>\n",
       "      <th>insured_occupation</th>\n",
       "      <th>insured_hobbies</th>\n",
       "      <th>insured_relationship</th>\n",
       "      <th>capital-gains</th>\n",
       "      <th>capital-loss</th>\n",
       "      <th>incident_date</th>\n",
       "      <th>incident_type</th>\n",
       "      <th>collision_type</th>\n",
       "      <th>incident_severity</th>\n",
       "      <th>authorities_contacted</th>\n",
       "      <th>incident_state</th>\n",
       "      <th>incident_city</th>\n",
       "      <th>incident_location</th>\n",
       "      <th>incident_hour_of_the_day</th>\n",
       "      <th>number_of_vehicles_involved</th>\n",
       "      <th>property_damage</th>\n",
       "      <th>bodily_injuries</th>\n",
       "      <th>witnesses</th>\n",
       "      <th>police_report_available</th>\n",
       "      <th>total_claim_amount</th>\n",
       "      <th>injury_claim</th>\n",
       "      <th>property_claim</th>\n",
       "      <th>vehicle_claim</th>\n",
       "      <th>auto_make</th>\n",
       "      <th>auto_model</th>\n",
       "      <th>auto_year</th>\n",
       "      <th>fraud_reported</th>\n",
       "      <th>_c39</th>\n",
       "    </tr>\n",
       "  </thead>\n",
       "  <tbody>\n",
       "    <tr>\n",
       "      <td>0</td>\n",
       "      <td>328</td>\n",
       "      <td>48</td>\n",
       "      <td>521585</td>\n",
       "      <td>17-10-2014</td>\n",
       "      <td>OH</td>\n",
       "      <td>250/500</td>\n",
       "      <td>1000</td>\n",
       "      <td>1406.91</td>\n",
       "      <td>0</td>\n",
       "      <td>466132</td>\n",
       "      <td>MALE</td>\n",
       "      <td>MD</td>\n",
       "      <td>craft-repair</td>\n",
       "      <td>sleeping</td>\n",
       "      <td>husband</td>\n",
       "      <td>53300</td>\n",
       "      <td>0</td>\n",
       "      <td>25-01-2015</td>\n",
       "      <td>Single Vehicle Collision</td>\n",
       "      <td>Side Collision</td>\n",
       "      <td>Major Damage</td>\n",
       "      <td>Police</td>\n",
       "      <td>SC</td>\n",
       "      <td>Columbus</td>\n",
       "      <td>9935 4th Drive</td>\n",
       "      <td>5</td>\n",
       "      <td>1</td>\n",
       "      <td>YES</td>\n",
       "      <td>1</td>\n",
       "      <td>2</td>\n",
       "      <td>YES</td>\n",
       "      <td>71610</td>\n",
       "      <td>6510</td>\n",
       "      <td>13020</td>\n",
       "      <td>52080</td>\n",
       "      <td>Saab</td>\n",
       "      <td>92x</td>\n",
       "      <td>2004</td>\n",
       "      <td>Y</td>\n",
       "      <td>NaN</td>\n",
       "    </tr>\n",
       "    <tr>\n",
       "      <td>1</td>\n",
       "      <td>228</td>\n",
       "      <td>42</td>\n",
       "      <td>342868</td>\n",
       "      <td>27-06-2006</td>\n",
       "      <td>IN</td>\n",
       "      <td>250/500</td>\n",
       "      <td>2000</td>\n",
       "      <td>1197.22</td>\n",
       "      <td>5000000</td>\n",
       "      <td>468176</td>\n",
       "      <td>MALE</td>\n",
       "      <td>MD</td>\n",
       "      <td>machine-op-inspct</td>\n",
       "      <td>reading</td>\n",
       "      <td>other-relative</td>\n",
       "      <td>0</td>\n",
       "      <td>0</td>\n",
       "      <td>21-01-2015</td>\n",
       "      <td>Vehicle Theft</td>\n",
       "      <td>?</td>\n",
       "      <td>Minor Damage</td>\n",
       "      <td>Police</td>\n",
       "      <td>VA</td>\n",
       "      <td>Riverwood</td>\n",
       "      <td>6608 MLK Hwy</td>\n",
       "      <td>8</td>\n",
       "      <td>1</td>\n",
       "      <td>?</td>\n",
       "      <td>0</td>\n",
       "      <td>0</td>\n",
       "      <td>?</td>\n",
       "      <td>5070</td>\n",
       "      <td>780</td>\n",
       "      <td>780</td>\n",
       "      <td>3510</td>\n",
       "      <td>Mercedes</td>\n",
       "      <td>E400</td>\n",
       "      <td>2007</td>\n",
       "      <td>Y</td>\n",
       "      <td>NaN</td>\n",
       "    </tr>\n",
       "    <tr>\n",
       "      <td>2</td>\n",
       "      <td>134</td>\n",
       "      <td>29</td>\n",
       "      <td>687698</td>\n",
       "      <td>06-09-2000</td>\n",
       "      <td>OH</td>\n",
       "      <td>100/300</td>\n",
       "      <td>2000</td>\n",
       "      <td>1413.14</td>\n",
       "      <td>5000000</td>\n",
       "      <td>430632</td>\n",
       "      <td>FEMALE</td>\n",
       "      <td>PhD</td>\n",
       "      <td>sales</td>\n",
       "      <td>board-games</td>\n",
       "      <td>own-child</td>\n",
       "      <td>35100</td>\n",
       "      <td>0</td>\n",
       "      <td>22-02-2015</td>\n",
       "      <td>Multi-vehicle Collision</td>\n",
       "      <td>Rear Collision</td>\n",
       "      <td>Minor Damage</td>\n",
       "      <td>Police</td>\n",
       "      <td>NY</td>\n",
       "      <td>Columbus</td>\n",
       "      <td>7121 Francis Lane</td>\n",
       "      <td>7</td>\n",
       "      <td>3</td>\n",
       "      <td>NO</td>\n",
       "      <td>2</td>\n",
       "      <td>3</td>\n",
       "      <td>NO</td>\n",
       "      <td>34650</td>\n",
       "      <td>7700</td>\n",
       "      <td>3850</td>\n",
       "      <td>23100</td>\n",
       "      <td>Dodge</td>\n",
       "      <td>RAM</td>\n",
       "      <td>2007</td>\n",
       "      <td>N</td>\n",
       "      <td>NaN</td>\n",
       "    </tr>\n",
       "    <tr>\n",
       "      <td>3</td>\n",
       "      <td>256</td>\n",
       "      <td>41</td>\n",
       "      <td>227811</td>\n",
       "      <td>25-05-1990</td>\n",
       "      <td>IL</td>\n",
       "      <td>250/500</td>\n",
       "      <td>2000</td>\n",
       "      <td>1415.74</td>\n",
       "      <td>6000000</td>\n",
       "      <td>608117</td>\n",
       "      <td>FEMALE</td>\n",
       "      <td>PhD</td>\n",
       "      <td>armed-forces</td>\n",
       "      <td>board-games</td>\n",
       "      <td>unmarried</td>\n",
       "      <td>48900</td>\n",
       "      <td>-62400</td>\n",
       "      <td>10-01-2015</td>\n",
       "      <td>Single Vehicle Collision</td>\n",
       "      <td>Front Collision</td>\n",
       "      <td>Major Damage</td>\n",
       "      <td>Police</td>\n",
       "      <td>OH</td>\n",
       "      <td>Arlington</td>\n",
       "      <td>6956 Maple Drive</td>\n",
       "      <td>5</td>\n",
       "      <td>1</td>\n",
       "      <td>?</td>\n",
       "      <td>1</td>\n",
       "      <td>2</td>\n",
       "      <td>NO</td>\n",
       "      <td>63400</td>\n",
       "      <td>6340</td>\n",
       "      <td>6340</td>\n",
       "      <td>50720</td>\n",
       "      <td>Chevrolet</td>\n",
       "      <td>Tahoe</td>\n",
       "      <td>2014</td>\n",
       "      <td>Y</td>\n",
       "      <td>NaN</td>\n",
       "    </tr>\n",
       "    <tr>\n",
       "      <td>4</td>\n",
       "      <td>228</td>\n",
       "      <td>44</td>\n",
       "      <td>367455</td>\n",
       "      <td>06-06-2014</td>\n",
       "      <td>IL</td>\n",
       "      <td>500/1000</td>\n",
       "      <td>1000</td>\n",
       "      <td>1583.91</td>\n",
       "      <td>6000000</td>\n",
       "      <td>610706</td>\n",
       "      <td>MALE</td>\n",
       "      <td>Associate</td>\n",
       "      <td>sales</td>\n",
       "      <td>board-games</td>\n",
       "      <td>unmarried</td>\n",
       "      <td>66000</td>\n",
       "      <td>-46000</td>\n",
       "      <td>17-02-2015</td>\n",
       "      <td>Vehicle Theft</td>\n",
       "      <td>?</td>\n",
       "      <td>Minor Damage</td>\n",
       "      <td>None</td>\n",
       "      <td>NY</td>\n",
       "      <td>Arlington</td>\n",
       "      <td>3041 3rd Ave</td>\n",
       "      <td>20</td>\n",
       "      <td>1</td>\n",
       "      <td>NO</td>\n",
       "      <td>0</td>\n",
       "      <td>1</td>\n",
       "      <td>NO</td>\n",
       "      <td>6500</td>\n",
       "      <td>1300</td>\n",
       "      <td>650</td>\n",
       "      <td>4550</td>\n",
       "      <td>Accura</td>\n",
       "      <td>RSX</td>\n",
       "      <td>2009</td>\n",
       "      <td>N</td>\n",
       "      <td>NaN</td>\n",
       "    </tr>\n",
       "  </tbody>\n",
       "</table>\n",
       "</div>"
      ],
      "text/plain": [
       "   months_as_customer  age  policy_number policy_bind_date policy_state  \\\n",
       "0                 328   48         521585       17-10-2014           OH   \n",
       "1                 228   42         342868       27-06-2006           IN   \n",
       "2                 134   29         687698       06-09-2000           OH   \n",
       "3                 256   41         227811       25-05-1990           IL   \n",
       "4                 228   44         367455       06-06-2014           IL   \n",
       "\n",
       "  policy_csl  policy_deductable  policy_annual_premium  umbrella_limit  \\\n",
       "0    250/500               1000                1406.91               0   \n",
       "1    250/500               2000                1197.22         5000000   \n",
       "2    100/300               2000                1413.14         5000000   \n",
       "3    250/500               2000                1415.74         6000000   \n",
       "4   500/1000               1000                1583.91         6000000   \n",
       "\n",
       "   insured_zip insured_sex insured_education_level insured_occupation  \\\n",
       "0       466132        MALE                      MD       craft-repair   \n",
       "1       468176        MALE                      MD  machine-op-inspct   \n",
       "2       430632      FEMALE                     PhD              sales   \n",
       "3       608117      FEMALE                     PhD       armed-forces   \n",
       "4       610706        MALE               Associate              sales   \n",
       "\n",
       "  insured_hobbies insured_relationship  capital-gains  capital-loss  \\\n",
       "0        sleeping              husband          53300             0   \n",
       "1         reading       other-relative              0             0   \n",
       "2     board-games            own-child          35100             0   \n",
       "3     board-games            unmarried          48900        -62400   \n",
       "4     board-games            unmarried          66000        -46000   \n",
       "\n",
       "  incident_date             incident_type   collision_type incident_severity  \\\n",
       "0    25-01-2015  Single Vehicle Collision   Side Collision      Major Damage   \n",
       "1    21-01-2015             Vehicle Theft                ?      Minor Damage   \n",
       "2    22-02-2015   Multi-vehicle Collision   Rear Collision      Minor Damage   \n",
       "3    10-01-2015  Single Vehicle Collision  Front Collision      Major Damage   \n",
       "4    17-02-2015             Vehicle Theft                ?      Minor Damage   \n",
       "\n",
       "  authorities_contacted incident_state incident_city  incident_location  \\\n",
       "0                Police             SC      Columbus     9935 4th Drive   \n",
       "1                Police             VA     Riverwood       6608 MLK Hwy   \n",
       "2                Police             NY      Columbus  7121 Francis Lane   \n",
       "3                Police             OH     Arlington   6956 Maple Drive   \n",
       "4                  None             NY     Arlington       3041 3rd Ave   \n",
       "\n",
       "   incident_hour_of_the_day  number_of_vehicles_involved property_damage  \\\n",
       "0                         5                            1             YES   \n",
       "1                         8                            1               ?   \n",
       "2                         7                            3              NO   \n",
       "3                         5                            1               ?   \n",
       "4                        20                            1              NO   \n",
       "\n",
       "   bodily_injuries  witnesses police_report_available  total_claim_amount  \\\n",
       "0                1          2                     YES               71610   \n",
       "1                0          0                       ?                5070   \n",
       "2                2          3                      NO               34650   \n",
       "3                1          2                      NO               63400   \n",
       "4                0          1                      NO                6500   \n",
       "\n",
       "   injury_claim  property_claim  vehicle_claim  auto_make auto_model  \\\n",
       "0          6510           13020          52080       Saab        92x   \n",
       "1           780             780           3510   Mercedes       E400   \n",
       "2          7700            3850          23100      Dodge        RAM   \n",
       "3          6340            6340          50720  Chevrolet      Tahoe   \n",
       "4          1300             650           4550     Accura        RSX   \n",
       "\n",
       "   auto_year fraud_reported  _c39  \n",
       "0       2004              Y   NaN  \n",
       "1       2007              Y   NaN  \n",
       "2       2007              N   NaN  \n",
       "3       2014              Y   NaN  \n",
       "4       2009              N   NaN  "
      ]
     },
     "execution_count": 3,
     "metadata": {},
     "output_type": "execute_result"
    }
   ],
   "source": [
    "df.head()"
   ]
  },
  {
   "cell_type": "code",
   "execution_count": 4,
   "metadata": {},
   "outputs": [
    {
     "data": {
      "text/plain": [
       "(1000, 40)"
      ]
     },
     "execution_count": 4,
     "metadata": {},
     "output_type": "execute_result"
    }
   ],
   "source": [
    "df.shape"
   ]
  },
  {
   "cell_type": "markdown",
   "metadata": {},
   "source": [
    "# Feature Engineering"
   ]
  },
  {
   "cell_type": "code",
   "execution_count": 5,
   "metadata": {},
   "outputs": [
    {
     "data": {
      "text/html": [
       "<div>\n",
       "<style scoped>\n",
       "    .dataframe tbody tr th:only-of-type {\n",
       "        vertical-align: middle;\n",
       "    }\n",
       "\n",
       "    .dataframe tbody tr th {\n",
       "        vertical-align: top;\n",
       "    }\n",
       "\n",
       "    .dataframe thead th {\n",
       "        text-align: right;\n",
       "    }\n",
       "</style>\n",
       "<table border=\"1\" class=\"dataframe\">\n",
       "  <thead>\n",
       "    <tr style=\"text-align: right;\">\n",
       "      <th></th>\n",
       "      <th>months_as_customer</th>\n",
       "      <th>age</th>\n",
       "      <th>policy_number</th>\n",
       "      <th>policy_deductable</th>\n",
       "      <th>policy_annual_premium</th>\n",
       "      <th>umbrella_limit</th>\n",
       "      <th>insured_zip</th>\n",
       "      <th>capital-gains</th>\n",
       "      <th>capital-loss</th>\n",
       "      <th>incident_hour_of_the_day</th>\n",
       "      <th>number_of_vehicles_involved</th>\n",
       "      <th>bodily_injuries</th>\n",
       "      <th>witnesses</th>\n",
       "      <th>total_claim_amount</th>\n",
       "      <th>injury_claim</th>\n",
       "      <th>property_claim</th>\n",
       "      <th>vehicle_claim</th>\n",
       "      <th>auto_year</th>\n",
       "      <th>_c39</th>\n",
       "    </tr>\n",
       "  </thead>\n",
       "  <tbody>\n",
       "    <tr>\n",
       "      <td>count</td>\n",
       "      <td>1000.000000</td>\n",
       "      <td>1000.000000</td>\n",
       "      <td>1000.000000</td>\n",
       "      <td>1000.000000</td>\n",
       "      <td>1000.000000</td>\n",
       "      <td>1.000000e+03</td>\n",
       "      <td>1000.000000</td>\n",
       "      <td>1000.000000</td>\n",
       "      <td>1000.000000</td>\n",
       "      <td>1000.000000</td>\n",
       "      <td>1000.00000</td>\n",
       "      <td>1000.000000</td>\n",
       "      <td>1000.000000</td>\n",
       "      <td>1000.00000</td>\n",
       "      <td>1000.000000</td>\n",
       "      <td>1000.000000</td>\n",
       "      <td>1000.000000</td>\n",
       "      <td>1000.000000</td>\n",
       "      <td>0.0</td>\n",
       "    </tr>\n",
       "    <tr>\n",
       "      <td>mean</td>\n",
       "      <td>203.954000</td>\n",
       "      <td>38.948000</td>\n",
       "      <td>546238.648000</td>\n",
       "      <td>1136.000000</td>\n",
       "      <td>1256.406150</td>\n",
       "      <td>1.101000e+06</td>\n",
       "      <td>501214.488000</td>\n",
       "      <td>25126.100000</td>\n",
       "      <td>-26793.700000</td>\n",
       "      <td>11.644000</td>\n",
       "      <td>1.83900</td>\n",
       "      <td>0.992000</td>\n",
       "      <td>1.487000</td>\n",
       "      <td>52761.94000</td>\n",
       "      <td>7433.420000</td>\n",
       "      <td>7399.570000</td>\n",
       "      <td>37928.950000</td>\n",
       "      <td>2005.103000</td>\n",
       "      <td>NaN</td>\n",
       "    </tr>\n",
       "    <tr>\n",
       "      <td>std</td>\n",
       "      <td>115.113174</td>\n",
       "      <td>9.140287</td>\n",
       "      <td>257063.005276</td>\n",
       "      <td>611.864673</td>\n",
       "      <td>244.167395</td>\n",
       "      <td>2.297407e+06</td>\n",
       "      <td>71701.610941</td>\n",
       "      <td>27872.187708</td>\n",
       "      <td>28104.096686</td>\n",
       "      <td>6.951373</td>\n",
       "      <td>1.01888</td>\n",
       "      <td>0.820127</td>\n",
       "      <td>1.111335</td>\n",
       "      <td>26401.53319</td>\n",
       "      <td>4880.951853</td>\n",
       "      <td>4824.726179</td>\n",
       "      <td>18886.252893</td>\n",
       "      <td>6.015861</td>\n",
       "      <td>NaN</td>\n",
       "    </tr>\n",
       "    <tr>\n",
       "      <td>min</td>\n",
       "      <td>0.000000</td>\n",
       "      <td>19.000000</td>\n",
       "      <td>100804.000000</td>\n",
       "      <td>500.000000</td>\n",
       "      <td>433.330000</td>\n",
       "      <td>-1.000000e+06</td>\n",
       "      <td>430104.000000</td>\n",
       "      <td>0.000000</td>\n",
       "      <td>-111100.000000</td>\n",
       "      <td>0.000000</td>\n",
       "      <td>1.00000</td>\n",
       "      <td>0.000000</td>\n",
       "      <td>0.000000</td>\n",
       "      <td>100.00000</td>\n",
       "      <td>0.000000</td>\n",
       "      <td>0.000000</td>\n",
       "      <td>70.000000</td>\n",
       "      <td>1995.000000</td>\n",
       "      <td>NaN</td>\n",
       "    </tr>\n",
       "    <tr>\n",
       "      <td>25%</td>\n",
       "      <td>115.750000</td>\n",
       "      <td>32.000000</td>\n",
       "      <td>335980.250000</td>\n",
       "      <td>500.000000</td>\n",
       "      <td>1089.607500</td>\n",
       "      <td>0.000000e+00</td>\n",
       "      <td>448404.500000</td>\n",
       "      <td>0.000000</td>\n",
       "      <td>-51500.000000</td>\n",
       "      <td>6.000000</td>\n",
       "      <td>1.00000</td>\n",
       "      <td>0.000000</td>\n",
       "      <td>1.000000</td>\n",
       "      <td>41812.50000</td>\n",
       "      <td>4295.000000</td>\n",
       "      <td>4445.000000</td>\n",
       "      <td>30292.500000</td>\n",
       "      <td>2000.000000</td>\n",
       "      <td>NaN</td>\n",
       "    </tr>\n",
       "    <tr>\n",
       "      <td>50%</td>\n",
       "      <td>199.500000</td>\n",
       "      <td>38.000000</td>\n",
       "      <td>533135.000000</td>\n",
       "      <td>1000.000000</td>\n",
       "      <td>1257.200000</td>\n",
       "      <td>0.000000e+00</td>\n",
       "      <td>466445.500000</td>\n",
       "      <td>0.000000</td>\n",
       "      <td>-23250.000000</td>\n",
       "      <td>12.000000</td>\n",
       "      <td>1.00000</td>\n",
       "      <td>1.000000</td>\n",
       "      <td>1.000000</td>\n",
       "      <td>58055.00000</td>\n",
       "      <td>6775.000000</td>\n",
       "      <td>6750.000000</td>\n",
       "      <td>42100.000000</td>\n",
       "      <td>2005.000000</td>\n",
       "      <td>NaN</td>\n",
       "    </tr>\n",
       "    <tr>\n",
       "      <td>75%</td>\n",
       "      <td>276.250000</td>\n",
       "      <td>44.000000</td>\n",
       "      <td>759099.750000</td>\n",
       "      <td>2000.000000</td>\n",
       "      <td>1415.695000</td>\n",
       "      <td>0.000000e+00</td>\n",
       "      <td>603251.000000</td>\n",
       "      <td>51025.000000</td>\n",
       "      <td>0.000000</td>\n",
       "      <td>17.000000</td>\n",
       "      <td>3.00000</td>\n",
       "      <td>2.000000</td>\n",
       "      <td>2.000000</td>\n",
       "      <td>70592.50000</td>\n",
       "      <td>11305.000000</td>\n",
       "      <td>10885.000000</td>\n",
       "      <td>50822.500000</td>\n",
       "      <td>2010.000000</td>\n",
       "      <td>NaN</td>\n",
       "    </tr>\n",
       "    <tr>\n",
       "      <td>max</td>\n",
       "      <td>479.000000</td>\n",
       "      <td>64.000000</td>\n",
       "      <td>999435.000000</td>\n",
       "      <td>2000.000000</td>\n",
       "      <td>2047.590000</td>\n",
       "      <td>1.000000e+07</td>\n",
       "      <td>620962.000000</td>\n",
       "      <td>100500.000000</td>\n",
       "      <td>0.000000</td>\n",
       "      <td>23.000000</td>\n",
       "      <td>4.00000</td>\n",
       "      <td>2.000000</td>\n",
       "      <td>3.000000</td>\n",
       "      <td>114920.00000</td>\n",
       "      <td>21450.000000</td>\n",
       "      <td>23670.000000</td>\n",
       "      <td>79560.000000</td>\n",
       "      <td>2015.000000</td>\n",
       "      <td>NaN</td>\n",
       "    </tr>\n",
       "  </tbody>\n",
       "</table>\n",
       "</div>"
      ],
      "text/plain": [
       "       months_as_customer          age  policy_number  policy_deductable  \\\n",
       "count         1000.000000  1000.000000    1000.000000        1000.000000   \n",
       "mean           203.954000    38.948000  546238.648000        1136.000000   \n",
       "std            115.113174     9.140287  257063.005276         611.864673   \n",
       "min              0.000000    19.000000  100804.000000         500.000000   \n",
       "25%            115.750000    32.000000  335980.250000         500.000000   \n",
       "50%            199.500000    38.000000  533135.000000        1000.000000   \n",
       "75%            276.250000    44.000000  759099.750000        2000.000000   \n",
       "max            479.000000    64.000000  999435.000000        2000.000000   \n",
       "\n",
       "       policy_annual_premium  umbrella_limit    insured_zip  capital-gains  \\\n",
       "count            1000.000000    1.000000e+03    1000.000000    1000.000000   \n",
       "mean             1256.406150    1.101000e+06  501214.488000   25126.100000   \n",
       "std               244.167395    2.297407e+06   71701.610941   27872.187708   \n",
       "min               433.330000   -1.000000e+06  430104.000000       0.000000   \n",
       "25%              1089.607500    0.000000e+00  448404.500000       0.000000   \n",
       "50%              1257.200000    0.000000e+00  466445.500000       0.000000   \n",
       "75%              1415.695000    0.000000e+00  603251.000000   51025.000000   \n",
       "max              2047.590000    1.000000e+07  620962.000000  100500.000000   \n",
       "\n",
       "        capital-loss  incident_hour_of_the_day  number_of_vehicles_involved  \\\n",
       "count    1000.000000               1000.000000                   1000.00000   \n",
       "mean   -26793.700000                 11.644000                      1.83900   \n",
       "std     28104.096686                  6.951373                      1.01888   \n",
       "min   -111100.000000                  0.000000                      1.00000   \n",
       "25%    -51500.000000                  6.000000                      1.00000   \n",
       "50%    -23250.000000                 12.000000                      1.00000   \n",
       "75%         0.000000                 17.000000                      3.00000   \n",
       "max         0.000000                 23.000000                      4.00000   \n",
       "\n",
       "       bodily_injuries    witnesses  total_claim_amount  injury_claim  \\\n",
       "count      1000.000000  1000.000000          1000.00000   1000.000000   \n",
       "mean          0.992000     1.487000         52761.94000   7433.420000   \n",
       "std           0.820127     1.111335         26401.53319   4880.951853   \n",
       "min           0.000000     0.000000           100.00000      0.000000   \n",
       "25%           0.000000     1.000000         41812.50000   4295.000000   \n",
       "50%           1.000000     1.000000         58055.00000   6775.000000   \n",
       "75%           2.000000     2.000000         70592.50000  11305.000000   \n",
       "max           2.000000     3.000000        114920.00000  21450.000000   \n",
       "\n",
       "       property_claim  vehicle_claim    auto_year  _c39  \n",
       "count     1000.000000    1000.000000  1000.000000   0.0  \n",
       "mean      7399.570000   37928.950000  2005.103000   NaN  \n",
       "std       4824.726179   18886.252893     6.015861   NaN  \n",
       "min          0.000000      70.000000  1995.000000   NaN  \n",
       "25%       4445.000000   30292.500000  2000.000000   NaN  \n",
       "50%       6750.000000   42100.000000  2005.000000   NaN  \n",
       "75%      10885.000000   50822.500000  2010.000000   NaN  \n",
       "max      23670.000000   79560.000000  2015.000000   NaN  "
      ]
     },
     "execution_count": 5,
     "metadata": {},
     "output_type": "execute_result"
    }
   ],
   "source": [
    "df.describe()"
   ]
  },
  {
   "cell_type": "code",
   "execution_count": 6,
   "metadata": {},
   "outputs": [],
   "source": [
    "#There are negative values in capital-loss feauture."
   ]
  },
  {
   "cell_type": "code",
   "execution_count": 7,
   "metadata": {},
   "outputs": [
    {
     "data": {
      "text/plain": [
       "N    753\n",
       "Y    247\n",
       "Name: fraud_reported, dtype: int64"
      ]
     },
     "execution_count": 7,
     "metadata": {},
     "output_type": "execute_result"
    }
   ],
   "source": [
    "df['fraud_reported'].value_counts()"
   ]
  },
  {
   "cell_type": "code",
   "execution_count": 8,
   "metadata": {},
   "outputs": [
    {
     "data": {
      "text/plain": [
       "<matplotlib.axes._subplots.AxesSubplot at 0x2827fdfc188>"
      ]
     },
     "execution_count": 8,
     "metadata": {},
     "output_type": "execute_result"
    },
    {
     "data": {
      "image/png": "[encoded data removed]",
      "text/plain": [
       "<Figure size 432x288 with 2 Axes>"
      ]
     },
     "metadata": {
      "needs_background": "light"
     },
     "output_type": "display_data"
    }
   ],
   "source": [
    "sns.heatmap(df.isnull())  "
   ]
  },
  {
   "cell_type": "code",
   "execution_count": 9,
   "metadata": {},
   "outputs": [
    {
     "data": {
      "text/plain": [
       "months_as_customer                0\n",
       "age                               0\n",
       "policy_number                     0\n",
       "policy_bind_date                  0\n",
       "policy_state                      0\n",
       "policy_csl                        0\n",
       "policy_deductable                 0\n",
       "policy_annual_premium             0\n",
       "umbrella_limit                    0\n",
       "insured_zip                       0\n",
       "insured_sex                       0\n",
       "insured_education_level           0\n",
       "insured_occupation                0\n",
       "insured_hobbies                   0\n",
       "insured_relationship              0\n",
       "capital-gains                     0\n",
       "capital-loss                      0\n",
       "incident_date                     0\n",
       "incident_type                     0\n",
       "collision_type                    0\n",
       "incident_severity                 0\n",
       "authorities_contacted             0\n",
       "incident_state                    0\n",
       "incident_city                     0\n",
       "incident_location                 0\n",
       "incident_hour_of_the_day          0\n",
       "number_of_vehicles_involved       0\n",
       "property_damage                   0\n",
       "bodily_injuries                   0\n",
       "witnesses                         0\n",
       "police_report_available           0\n",
       "total_claim_amount                0\n",
       "injury_claim                      0\n",
       "property_claim                    0\n",
       "vehicle_claim                     0\n",
       "auto_make                         0\n",
       "auto_model                        0\n",
       "auto_year                         0\n",
       "fraud_reported                    0\n",
       "_c39                           1000\n",
       "dtype: int64"
      ]
     },
     "execution_count": 9,
     "metadata": {},
     "output_type": "execute_result"
    }
   ],
   "source": [
    "df.isnull().sum()#there are no missing values in  the dataset\n",
    "#but actually there as missing values in the form of '?' which are not detected by the system as missing values."
   ]
  },
  {
   "cell_type": "markdown",
   "metadata": {},
   "source": [
    "# Relplacing '?' by NAN"
   ]
  },
  {
   "cell_type": "code",
   "execution_count": 10,
   "metadata": {},
   "outputs": [
    {
     "data": {
      "text/plain": [
       "months_as_customer                0\n",
       "age                               0\n",
       "policy_number                     0\n",
       "policy_bind_date                  0\n",
       "policy_state                      0\n",
       "policy_csl                        0\n",
       "policy_deductable                 0\n",
       "policy_annual_premium             0\n",
       "umbrella_limit                    0\n",
       "insured_zip                       0\n",
       "insured_sex                       0\n",
       "insured_education_level           0\n",
       "insured_occupation                0\n",
       "insured_hobbies                   0\n",
       "insured_relationship              0\n",
       "capital-gains                     0\n",
       "capital-loss                      0\n",
       "incident_date                     0\n",
       "incident_type                     0\n",
       "collision_type                  178\n",
       "incident_severity                 0\n",
       "authorities_contacted             0\n",
       "incident_state                    0\n",
       "incident_city                     0\n",
       "incident_location                 0\n",
       "incident_hour_of_the_day          0\n",
       "number_of_vehicles_involved       0\n",
       "property_damage                 360\n",
       "bodily_injuries                   0\n",
       "witnesses                         0\n",
       "police_report_available         343\n",
       "total_claim_amount                0\n",
       "injury_claim                      0\n",
       "property_claim                    0\n",
       "vehicle_claim                     0\n",
       "auto_make                         0\n",
       "auto_model                        0\n",
       "auto_year                         0\n",
       "fraud_reported                    0\n",
       "_c39                           1000\n",
       "dtype: int64"
      ]
     },
     "execution_count": 10,
     "metadata": {},
     "output_type": "execute_result"
    }
   ],
   "source": [
    "df=df.replace('?',np.nan)\n",
    "df.isnull().sum()#now we can see the missing values"
   ]
  },
  {
   "cell_type": "code",
   "execution_count": 11,
   "metadata": {},
   "outputs": [],
   "source": [
    "#dropping the column which has all the values missing in the dataset.\n",
    "df=df.drop('_c39',axis=1)"
   ]
  },
  {
   "cell_type": "markdown",
   "metadata": {},
   "source": [
    "# Imputing the missing value"
   ]
  },
  {
   "cell_type": "code",
   "execution_count": 12,
   "metadata": {},
   "outputs": [],
   "source": [
    "df['collision_type']=df['collision_type'].fillna(df['collision_type'].mode()[0])\n",
    "df['property_damage']=df['property_damage'].fillna(df['property_damage'].mode()[0])\n",
    "df['police_report_available']=df['police_report_available'].fillna(df['police_report_available'].mode()[0])\n"
   ]
  },
  {
   "cell_type": "code",
   "execution_count": 13,
   "metadata": {},
   "outputs": [
    {
     "data": {
      "text/plain": [
       "months_as_customer             0\n",
       "age                            0\n",
       "policy_number                  0\n",
       "policy_bind_date               0\n",
       "policy_state                   0\n",
       "policy_csl                     0\n",
       "policy_deductable              0\n",
       "policy_annual_premium          0\n",
       "umbrella_limit                 0\n",
       "insured_zip                    0\n",
       "insured_sex                    0\n",
       "insured_education_level        0\n",
       "insured_occupation             0\n",
       "insured_hobbies                0\n",
       "insured_relationship           0\n",
       "capital-gains                  0\n",
       "capital-loss                   0\n",
       "incident_date                  0\n",
       "incident_type                  0\n",
       "collision_type                 0\n",
       "incident_severity              0\n",
       "authorities_contacted          0\n",
       "incident_state                 0\n",
       "incident_city                  0\n",
       "incident_location              0\n",
       "incident_hour_of_the_day       0\n",
       "number_of_vehicles_involved    0\n",
       "property_damage                0\n",
       "bodily_injuries                0\n",
       "witnesses                      0\n",
       "police_report_available        0\n",
       "total_claim_amount             0\n",
       "injury_claim                   0\n",
       "property_claim                 0\n",
       "vehicle_claim                  0\n",
       "auto_make                      0\n",
       "auto_model                     0\n",
       "auto_year                      0\n",
       "fraud_reported                 0\n",
       "dtype: int64"
      ]
     },
     "execution_count": 13,
     "metadata": {},
     "output_type": "execute_result"
    }
   ],
   "source": [
    "df.isnull().sum()"
   ]
  },
  {
   "cell_type": "markdown",
   "metadata": {},
   "source": [
    "# EDA"
   ]
  },
  {
   "cell_type": "markdown",
   "metadata": {},
   "source": [
    "# Univariate analysis"
   ]
  },
  {
   "cell_type": "code",
   "execution_count": 14,
   "metadata": {},
   "outputs": [
    {
     "data": {
      "image/png": "[encoded data removed]",
      "text/plain": [
       "<Figure size 432x288 with 1 Axes>"
      ]
     },
     "metadata": {
      "needs_background": "light"
     },
     "output_type": "display_data"
    },
    {
     "data": {
      "image/png": "[encoded data removed]",
      "text/plain": [
       "<Figure size 432x288 with 1 Axes>"
      ]
     },
     "metadata": {
      "needs_background": "light"
     },
     "output_type": "display_data"
    },
    {
     "data": {
      "image/png": "[encoded data removed]",
      "text/plain": [
       "<Figure size 432x288 with 1 Axes>"
      ]
     },
     "metadata": {
      "needs_background": "light"
     },
     "output_type": "display_data"
    },
    {
     "data": {
      "image/png": "[encoded data removed]",
      "text/plain": [
       "<Figure size 432x288 with 1 Axes>"
      ]
     },
     "metadata": {
      "needs_background": "light"
     },
     "output_type": "display_data"
    },
    {
     "data": {
      "image/png": "[encoded data removed]",
      "text/plain": [
       "<Figure size 432x288 with 1 Axes>"
      ]
     },
     "metadata": {
      "needs_background": "light"
     },
     "output_type": "display_data"
    },
    {
     "data": {
      "image/png": "[encoded data removed]",
      "text/plain": [
       "<Figure size 432x288 with 1 Axes>"
      ]
     },
     "metadata": {
      "needs_background": "light"
     },
     "output_type": "display_data"
    },
    {
     "data": {
      "image/png": "[encoded data removed]",
      "text/plain": [
       "<Figure size 432x288 with 1 Axes>"
      ]
     },
     "metadata": {
      "needs_background": "light"
     },
     "output_type": "display_data"
    },
    {
     "data": {
      "image/png": "[encoded data removed]",
      "text/plain": [
       "<Figure size 432x288 with 1 Axes>"
      ]
     },
     "metadata": {
      "needs_background": "light"
     },
     "output_type": "display_data"
    },
    {
     "data": {
      "image/png": "[encoded data removed]",
      "text/plain": [
       "<Figure size 432x288 with 1 Axes>"
      ]
     },
     "metadata": {
      "needs_background": "light"
     },
     "output_type": "display_data"
    },
    {
     "data": {
      "image/png": "[encoded data removed]",
      "text/plain": [
       "<Figure size 432x288 with 1 Axes>"
      ]
     },
     "metadata": {
      "needs_background": "light"
     },
     "output_type": "display_data"
    },
    {
     "data": {
      "image/png": "[encoded data removed]",
      "text/plain": [
       "<Figure size 432x288 with 1 Axes>"
      ]
     },
     "metadata": {
      "needs_background": "light"
     },
     "output_type": "display_data"
    },
    {
     "data": {
      "image/png": "[encoded data removed]",
      "text/plain": [
       "<Figure size 432x288 with 1 Axes>"
      ]
     },
     "metadata": {
      "needs_background": "light"
     },
     "output_type": "display_data"
    },
    {
     "data": {
      "image/png": "[encoded data removed]",
      "text/plain": [
       "<Figure size 432x288 with 1 Axes>"
      ]
     },
     "metadata": {
      "needs_background": "light"
     },
     "output_type": "display_data"
    },
    {
     "data": {
      "image/png": "[encoded data removed]",
      "text/plain": [
       "<Figure size 432x288 with 1 Axes>"
      ]
     },
     "metadata": {
      "needs_background": "light"
     },
     "output_type": "display_data"
    },
    {
     "data": {
      "image/png": "[encoded data removed]",
      "text/plain": [
       "<Figure size 432x288 with 1 Axes>"
      ]
     },
     "metadata": {
      "needs_background": "light"
     },
     "output_type": "display_data"
    },
    {
     "data": {
      "image/png": "[encoded data removed]",
      "text/plain": [
       "<Figure size 432x288 with 1 Axes>"
      ]
     },
     "metadata": {
      "needs_background": "light"
     },
     "output_type": "display_data"
    },
    {
     "data": {
      "image/png": "[encoded data removed]",
      "text/plain": [
       "<Figure size 432x288 with 1 Axes>"
      ]
     },
     "metadata": {
      "needs_background": "light"
     },
     "output_type": "display_data"
    },
    {
     "data": {
      "image/png": "[encoded data removed]",
      "text/plain": [
       "<Figure size 432x288 with 1 Axes>"
      ]
     },
     "metadata": {
      "needs_background": "light"
     },
     "output_type": "display_data"
    }
   ],
   "source": [
    "#checking for skewness\n",
    "numerical_features=[feature for feature in df.columns if df[feature].dtypes!='object']\n",
    "for feature in numerical_features:\n",
    "    \n",
    "    df[feature].hist(bins=25)\n",
    "    plt.xlabel(feature)\n",
    "    plt.show()"
   ]
  },
  {
   "cell_type": "code",
   "execution_count": 15,
   "metadata": {},
   "outputs": [
    {
     "data": {
      "image/png": "[encoded data removed]",
      "text/plain": [
       "<Figure size 432x288 with 1 Axes>"
      ]
     },
     "metadata": {
      "needs_background": "light"
     },
     "output_type": "display_data"
    },
    {
     "data": {
      "image/png": "[encoded data removed]",
      "text/plain": [
       "<Figure size 432x288 with 1 Axes>"
      ]
     },
     "metadata": {
      "needs_background": "light"
     },
     "output_type": "display_data"
    },
    {
     "data": {
      "image/png": "[encoded data removed]",
      "text/plain": [
       "<Figure size 432x288 with 1 Axes>"
      ]
     },
     "metadata": {
      "needs_background": "light"
     },
     "output_type": "display_data"
    },
    {
     "data": {
      "image/png": "[encoded data removed]",
      "text/plain": [
       "<Figure size 432x288 with 1 Axes>"
      ]
     },
     "metadata": {
      "needs_background": "light"
     },
     "output_type": "display_data"
    },
    {
     "data": {
      "image/png": "[encoded data removed]",
      "text/plain": [
       "<Figure size 432x288 with 1 Axes>"
      ]
     },
     "metadata": {
      "needs_background": "light"
     },
     "output_type": "display_data"
    },
    {
     "data": {
      "image/png": "[encoded data removed]",
      "text/plain": [
       "<Figure size 432x288 with 1 Axes>"
      ]
     },
     "metadata": {
      "needs_background": "light"
     },
     "output_type": "display_data"
    },
    {
     "data": {
      "image/png": "[encoded data removed]",
      "text/plain": [
       "<Figure size 432x288 with 1 Axes>"
      ]
     },
     "metadata": {
      "needs_background": "light"
     },
     "output_type": "display_data"
    },
    {
     "data": {
      "image/png": "[encoded data removed]",
      "text/plain": [
       "<Figure size 432x288 with 1 Axes>"
      ]
     },
     "metadata": {
      "needs_background": "light"
     },
     "output_type": "display_data"
    },
    {
     "data": {
      "image/png": "[encoded data removed]",
      "text/plain": [
       "<Figure size 432x288 with 1 Axes>"
      ]
     },
     "metadata": {
      "needs_background": "light"
     },
     "output_type": "display_data"
    },
    {
     "data": {
      "image/png": "[encoded data removed]",
      "text/plain": [
       "<Figure size 432x288 with 1 Axes>"
      ]
     },
     "metadata": {
      "needs_background": "light"
     },
     "output_type": "display_data"
    },
    {
     "data": {
      "image/png": "[encoded data removed]",
      "text/plain": [
       "<Figure size 432x288 with 1 Axes>"
      ]
     },
     "metadata": {
      "needs_background": "light"
     },
     "output_type": "display_data"
    },
    {
     "data": {
      "image/png": "[encoded data removed]",
      "text/plain": [
       "<Figure size 432x288 with 1 Axes>"
      ]
     },
     "metadata": {
      "needs_background": "light"
     },
     "output_type": "display_data"
    },
    {
     "data": {
      "image/png": "[encoded data removed]",
      "text/plain": [
       "<Figure size 432x288 with 1 Axes>"
      ]
     },
     "metadata": {
      "needs_background": "light"
     },
     "output_type": "display_data"
    },
    {
     "data": {
      "image/png": "[encoded data removed]",
      "text/plain": [
       "<Figure size 432x288 with 1 Axes>"
      ]
     },
     "metadata": {
      "needs_background": "light"
     },
     "output_type": "display_data"
    },
    {
     "data": {
      "image/png": "[encoded data removed]",
      "text/plain": [
       "<Figure size 432x288 with 1 Axes>"
      ]
     },
     "metadata": {
      "needs_background": "light"
     },
     "output_type": "display_data"
    },
    {
     "data": {
      "image/png": "[encoded data removed]",
      "text/plain": [
       "<Figure size 432x288 with 1 Axes>"
      ]
     },
     "metadata": {
      "needs_background": "light"
     },
     "output_type": "display_data"
    },
    {
     "data": {
      "image/png": "[encoded data removed]",
      "text/plain": [
       "<Figure size 432x288 with 1 Axes>"
      ]
     },
     "metadata": {
      "needs_background": "light"
     },
     "output_type": "display_data"
    },
    {
     "data": {
      "image/png": "[encoded data removed]",
      "text/plain": [
       "<Figure size 432x288 with 1 Axes>"
      ]
     },
     "metadata": {
      "needs_background": "light"
     },
     "output_type": "display_data"
    }
   ],
   "source": [
    "#checking for outliers\n",
    "\n",
    "numerical_features=[feature for feature in df.columns if df[feature].dtypes!='object']\n",
    "for feature in numerical_features:\n",
    "    \n",
    "    df[feature].plot.box()\n",
    "    plt.xlabel(feature)\n",
    "    plt.show()"
   ]
  },
  {
   "cell_type": "markdown",
   "metadata": {},
   "source": [
    "# Feature Engineering part-2"
   ]
  },
  {
   "cell_type": "code",
   "execution_count": 16,
   "metadata": {},
   "outputs": [
    {
     "name": "stdout",
     "output_type": "stream",
     "text": [
      "policy_bind_date 951\n",
      "policy_state 3\n",
      "policy_csl 3\n",
      "insured_sex 2\n",
      "insured_education_level 7\n",
      "insured_occupation 14\n",
      "insured_hobbies 20\n",
      "insured_relationship 6\n",
      "incident_date 60\n",
      "incident_type 4\n",
      "collision_type 3\n",
      "incident_severity 4\n",
      "authorities_contacted 5\n",
      "incident_state 7\n",
      "incident_city 7\n",
      "incident_location 1000\n",
      "property_damage 2\n",
      "police_report_available 2\n",
      "auto_make 14\n",
      "auto_model 39\n",
      "fraud_reported 2\n"
     ]
    }
   ],
   "source": [
    "categorical_features=[feature for feature in df.columns if df[feature].dtypes=='object']\n",
    "for feature in categorical_features:\n",
    "    if df[feature].nunique()>=2:\n",
    "        print(feature,df[feature].nunique())"
   ]
  },
  {
   "cell_type": "markdown",
   "metadata": {},
   "source": [
    "# converting columns to date format"
   ]
  },
  {
   "cell_type": "code",
   "execution_count": 17,
   "metadata": {},
   "outputs": [],
   "source": [
    "df['policy_bind_date']=pd.to_datetime(df['policy_bind_date'], format='%d-%m-%Y')\n",
    "df['incident_date']=pd.to_datetime(df['incident_date'], format='%d-%m-%Y')"
   ]
  },
  {
   "cell_type": "markdown",
   "metadata": {},
   "source": [
    "# Creating a new feature 'days'"
   ]
  },
  {
   "cell_type": "code",
   "execution_count": 18,
   "metadata": {},
   "outputs": [],
   "source": [
    "df['days']=(df['incident_date']-df['policy_bind_date']).dt.days"
   ]
  },
  {
   "cell_type": "code",
   "execution_count": 19,
   "metadata": {},
   "outputs": [
    {
     "data": {
      "text/plain": [
       "0     100\n",
       "1    3130\n",
       "2    5282\n",
       "3    8996\n",
       "4     256\n",
       "Name: days, dtype: int64"
      ]
     },
     "execution_count": 19,
     "metadata": {},
     "output_type": "execute_result"
    }
   ],
   "source": [
    "df['days'].head()"
   ]
  },
  {
   "cell_type": "markdown",
   "metadata": {},
   "source": [
    "# Dropping date columns as we extracted the required data from them"
   ]
  },
  {
   "cell_type": "code",
   "execution_count": 20,
   "metadata": {},
   "outputs": [],
   "source": [
    "df=df.drop(['policy_bind_date','incident_date'],axis=1)"
   ]
  },
  {
   "cell_type": "markdown",
   "metadata": {},
   "source": [
    "# Dropping incident_location columns as this is not required for model building"
   ]
  },
  {
   "cell_type": "code",
   "execution_count": 21,
   "metadata": {},
   "outputs": [],
   "source": [
    "df=df.drop(['incident_location'],axis=1)"
   ]
  },
  {
   "cell_type": "markdown",
   "metadata": {},
   "source": [
    "# Replacing target column with numerical values"
   ]
  },
  {
   "cell_type": "code",
   "execution_count": 22,
   "metadata": {},
   "outputs": [],
   "source": [
    "df['fraud_reported']=df['fraud_reported'].replace(['Y','N'],[1,0])"
   ]
  },
  {
   "cell_type": "code",
   "execution_count": 23,
   "metadata": {},
   "outputs": [
    {
     "data": {
      "text/html": [
       "<div>\n",
       "<style scoped>\n",
       "    .dataframe tbody tr th:only-of-type {\n",
       "        vertical-align: middle;\n",
       "    }\n",
       "\n",
       "    .dataframe tbody tr th {\n",
       "        vertical-align: top;\n",
       "    }\n",
       "\n",
       "    .dataframe thead th {\n",
       "        text-align: right;\n",
       "    }\n",
       "</style>\n",
       "<table border=\"1\" class=\"dataframe\">\n",
       "  <thead>\n",
       "    <tr style=\"text-align: right;\">\n",
       "      <th></th>\n",
       "      <th>months_as_customer</th>\n",
       "      <th>age</th>\n",
       "      <th>policy_number</th>\n",
       "      <th>policy_deductable</th>\n",
       "      <th>policy_annual_premium</th>\n",
       "      <th>umbrella_limit</th>\n",
       "      <th>insured_zip</th>\n",
       "      <th>capital-gains</th>\n",
       "      <th>capital-loss</th>\n",
       "      <th>incident_hour_of_the_day</th>\n",
       "      <th>number_of_vehicles_involved</th>\n",
       "      <th>bodily_injuries</th>\n",
       "      <th>witnesses</th>\n",
       "      <th>total_claim_amount</th>\n",
       "      <th>injury_claim</th>\n",
       "      <th>property_claim</th>\n",
       "      <th>vehicle_claim</th>\n",
       "      <th>auto_year</th>\n",
       "      <th>fraud_reported</th>\n",
       "      <th>days</th>\n",
       "    </tr>\n",
       "  </thead>\n",
       "  <tbody>\n",
       "    <tr>\n",
       "      <td>months_as_customer</td>\n",
       "      <td>1.000000</td>\n",
       "      <td>0.922098</td>\n",
       "      <td>0.057555</td>\n",
       "      <td>0.026807</td>\n",
       "      <td>0.005018</td>\n",
       "      <td>0.015498</td>\n",
       "      <td>0.017895</td>\n",
       "      <td>0.006399</td>\n",
       "      <td>0.020209</td>\n",
       "      <td>0.070639</td>\n",
       "      <td>0.014736</td>\n",
       "      <td>-0.010162</td>\n",
       "      <td>0.058383</td>\n",
       "      <td>0.062108</td>\n",
       "      <td>0.065329</td>\n",
       "      <td>0.034940</td>\n",
       "      <td>0.061013</td>\n",
       "      <td>-0.000292</td>\n",
       "      <td>0.020544</td>\n",
       "      <td>0.047927</td>\n",
       "    </tr>\n",
       "    <tr>\n",
       "      <td>age</td>\n",
       "      <td>0.922098</td>\n",
       "      <td>1.000000</td>\n",
       "      <td>0.059413</td>\n",
       "      <td>0.029188</td>\n",
       "      <td>0.014404</td>\n",
       "      <td>0.018126</td>\n",
       "      <td>0.025604</td>\n",
       "      <td>-0.007075</td>\n",
       "      <td>0.007368</td>\n",
       "      <td>0.087161</td>\n",
       "      <td>0.022102</td>\n",
       "      <td>-0.015679</td>\n",
       "      <td>0.052359</td>\n",
       "      <td>0.069863</td>\n",
       "      <td>0.075522</td>\n",
       "      <td>0.060898</td>\n",
       "      <td>0.062588</td>\n",
       "      <td>0.001354</td>\n",
       "      <td>0.012143</td>\n",
       "      <td>0.036742</td>\n",
       "    </tr>\n",
       "    <tr>\n",
       "      <td>policy_number</td>\n",
       "      <td>0.057555</td>\n",
       "      <td>0.059413</td>\n",
       "      <td>1.000000</td>\n",
       "      <td>-0.006738</td>\n",
       "      <td>0.022566</td>\n",
       "      <td>0.008968</td>\n",
       "      <td>0.007083</td>\n",
       "      <td>0.009802</td>\n",
       "      <td>-0.005669</td>\n",
       "      <td>0.000113</td>\n",
       "      <td>0.013432</td>\n",
       "      <td>-0.004558</td>\n",
       "      <td>-0.012661</td>\n",
       "      <td>-0.018009</td>\n",
       "      <td>-0.008762</td>\n",
       "      <td>-0.010678</td>\n",
       "      <td>-0.020184</td>\n",
       "      <td>-0.000183</td>\n",
       "      <td>-0.029443</td>\n",
       "      <td>0.040100</td>\n",
       "    </tr>\n",
       "    <tr>\n",
       "      <td>policy_deductable</td>\n",
       "      <td>0.026807</td>\n",
       "      <td>0.029188</td>\n",
       "      <td>-0.006738</td>\n",
       "      <td>1.000000</td>\n",
       "      <td>-0.003245</td>\n",
       "      <td>0.010870</td>\n",
       "      <td>0.004545</td>\n",
       "      <td>0.035212</td>\n",
       "      <td>-0.023544</td>\n",
       "      <td>0.060935</td>\n",
       "      <td>0.051214</td>\n",
       "      <td>-0.022765</td>\n",
       "      <td>0.066639</td>\n",
       "      <td>0.022839</td>\n",
       "      <td>0.039107</td>\n",
       "      <td>0.064792</td>\n",
       "      <td>0.005269</td>\n",
       "      <td>0.026105</td>\n",
       "      <td>0.014817</td>\n",
       "      <td>0.050396</td>\n",
       "    </tr>\n",
       "    <tr>\n",
       "      <td>policy_annual_premium</td>\n",
       "      <td>0.005018</td>\n",
       "      <td>0.014404</td>\n",
       "      <td>0.022566</td>\n",
       "      <td>-0.003245</td>\n",
       "      <td>1.000000</td>\n",
       "      <td>-0.006247</td>\n",
       "      <td>0.032354</td>\n",
       "      <td>-0.013738</td>\n",
       "      <td>0.023547</td>\n",
       "      <td>-0.001578</td>\n",
       "      <td>-0.045991</td>\n",
       "      <td>0.026780</td>\n",
       "      <td>0.002332</td>\n",
       "      <td>0.009094</td>\n",
       "      <td>-0.017633</td>\n",
       "      <td>-0.011654</td>\n",
       "      <td>0.020246</td>\n",
       "      <td>-0.049226</td>\n",
       "      <td>-0.014480</td>\n",
       "      <td>-0.001208</td>\n",
       "    </tr>\n",
       "    <tr>\n",
       "      <td>umbrella_limit</td>\n",
       "      <td>0.015498</td>\n",
       "      <td>0.018126</td>\n",
       "      <td>0.008968</td>\n",
       "      <td>0.010870</td>\n",
       "      <td>-0.006247</td>\n",
       "      <td>1.000000</td>\n",
       "      <td>0.019671</td>\n",
       "      <td>-0.047268</td>\n",
       "      <td>-0.024056</td>\n",
       "      <td>-0.023257</td>\n",
       "      <td>-0.021270</td>\n",
       "      <td>0.022743</td>\n",
       "      <td>-0.006738</td>\n",
       "      <td>-0.040344</td>\n",
       "      <td>-0.045412</td>\n",
       "      <td>-0.023790</td>\n",
       "      <td>-0.038584</td>\n",
       "      <td>0.009893</td>\n",
       "      <td>0.058622</td>\n",
       "      <td>-0.046179</td>\n",
       "    </tr>\n",
       "    <tr>\n",
       "      <td>insured_zip</td>\n",
       "      <td>0.017895</td>\n",
       "      <td>0.025604</td>\n",
       "      <td>0.007083</td>\n",
       "      <td>0.004545</td>\n",
       "      <td>0.032354</td>\n",
       "      <td>0.019671</td>\n",
       "      <td>1.000000</td>\n",
       "      <td>0.006303</td>\n",
       "      <td>0.049372</td>\n",
       "      <td>0.008274</td>\n",
       "      <td>0.027448</td>\n",
       "      <td>0.028695</td>\n",
       "      <td>0.019805</td>\n",
       "      <td>-0.033873</td>\n",
       "      <td>-0.017495</td>\n",
       "      <td>-0.006841</td>\n",
       "      <td>-0.041083</td>\n",
       "      <td>-0.032736</td>\n",
       "      <td>0.019368</td>\n",
       "      <td>0.000109</td>\n",
       "    </tr>\n",
       "    <tr>\n",
       "      <td>capital-gains</td>\n",
       "      <td>0.006399</td>\n",
       "      <td>-0.007075</td>\n",
       "      <td>0.009802</td>\n",
       "      <td>0.035212</td>\n",
       "      <td>-0.013738</td>\n",
       "      <td>-0.047268</td>\n",
       "      <td>0.006303</td>\n",
       "      <td>1.000000</td>\n",
       "      <td>-0.046904</td>\n",
       "      <td>-0.016406</td>\n",
       "      <td>0.061643</td>\n",
       "      <td>0.055829</td>\n",
       "      <td>-0.017651</td>\n",
       "      <td>0.015980</td>\n",
       "      <td>0.025934</td>\n",
       "      <td>-0.000779</td>\n",
       "      <td>0.015836</td>\n",
       "      <td>0.031398</td>\n",
       "      <td>-0.019173</td>\n",
       "      <td>-0.042226</td>\n",
       "    </tr>\n",
       "    <tr>\n",
       "      <td>capital-loss</td>\n",
       "      <td>0.020209</td>\n",
       "      <td>0.007368</td>\n",
       "      <td>-0.005669</td>\n",
       "      <td>-0.023544</td>\n",
       "      <td>0.023547</td>\n",
       "      <td>-0.024056</td>\n",
       "      <td>0.049372</td>\n",
       "      <td>-0.046904</td>\n",
       "      <td>1.000000</td>\n",
       "      <td>-0.025054</td>\n",
       "      <td>-0.014895</td>\n",
       "      <td>-0.024418</td>\n",
       "      <td>-0.041330</td>\n",
       "      <td>-0.036060</td>\n",
       "      <td>-0.046060</td>\n",
       "      <td>-0.022863</td>\n",
       "      <td>-0.032665</td>\n",
       "      <td>-0.056615</td>\n",
       "      <td>-0.014863</td>\n",
       "      <td>0.027647</td>\n",
       "    </tr>\n",
       "    <tr>\n",
       "      <td>incident_hour_of_the_day</td>\n",
       "      <td>0.070639</td>\n",
       "      <td>0.087161</td>\n",
       "      <td>0.000113</td>\n",
       "      <td>0.060935</td>\n",
       "      <td>-0.001578</td>\n",
       "      <td>-0.023257</td>\n",
       "      <td>0.008274</td>\n",
       "      <td>-0.016406</td>\n",
       "      <td>-0.025054</td>\n",
       "      <td>1.000000</td>\n",
       "      <td>0.120794</td>\n",
       "      <td>-0.034563</td>\n",
       "      <td>0.006527</td>\n",
       "      <td>0.217702</td>\n",
       "      <td>0.165768</td>\n",
       "      <td>0.179536</td>\n",
       "      <td>0.215626</td>\n",
       "      <td>0.021368</td>\n",
       "      <td>0.004316</td>\n",
       "      <td>-0.035873</td>\n",
       "    </tr>\n",
       "    <tr>\n",
       "      <td>number_of_vehicles_involved</td>\n",
       "      <td>0.014736</td>\n",
       "      <td>0.022102</td>\n",
       "      <td>0.013432</td>\n",
       "      <td>0.051214</td>\n",
       "      <td>-0.045991</td>\n",
       "      <td>-0.021270</td>\n",
       "      <td>0.027448</td>\n",
       "      <td>0.061643</td>\n",
       "      <td>-0.014895</td>\n",
       "      <td>0.120794</td>\n",
       "      <td>1.000000</td>\n",
       "      <td>0.014030</td>\n",
       "      <td>-0.014669</td>\n",
       "      <td>0.274278</td>\n",
       "      <td>0.224650</td>\n",
       "      <td>0.219084</td>\n",
       "      <td>0.269393</td>\n",
       "      <td>0.034554</td>\n",
       "      <td>0.051839</td>\n",
       "      <td>-0.025293</td>\n",
       "    </tr>\n",
       "    <tr>\n",
       "      <td>bodily_injuries</td>\n",
       "      <td>-0.010162</td>\n",
       "      <td>-0.015679</td>\n",
       "      <td>-0.004558</td>\n",
       "      <td>-0.022765</td>\n",
       "      <td>0.026780</td>\n",
       "      <td>0.022743</td>\n",
       "      <td>0.028695</td>\n",
       "      <td>0.055829</td>\n",
       "      <td>-0.024418</td>\n",
       "      <td>-0.034563</td>\n",
       "      <td>0.014030</td>\n",
       "      <td>1.000000</td>\n",
       "      <td>-0.005606</td>\n",
       "      <td>0.047093</td>\n",
       "      <td>0.047319</td>\n",
       "      <td>0.039749</td>\n",
       "      <td>0.043449</td>\n",
       "      <td>-0.020527</td>\n",
       "      <td>0.033877</td>\n",
       "      <td>-0.028918</td>\n",
       "    </tr>\n",
       "    <tr>\n",
       "      <td>witnesses</td>\n",
       "      <td>0.058383</td>\n",
       "      <td>0.052359</td>\n",
       "      <td>-0.012661</td>\n",
       "      <td>0.066639</td>\n",
       "      <td>0.002332</td>\n",
       "      <td>-0.006738</td>\n",
       "      <td>0.019805</td>\n",
       "      <td>-0.017651</td>\n",
       "      <td>-0.041330</td>\n",
       "      <td>0.006527</td>\n",
       "      <td>-0.014669</td>\n",
       "      <td>-0.005606</td>\n",
       "      <td>1.000000</td>\n",
       "      <td>-0.011114</td>\n",
       "      <td>-0.024843</td>\n",
       "      <td>0.052640</td>\n",
       "      <td>-0.022564</td>\n",
       "      <td>0.045791</td>\n",
       "      <td>0.049497</td>\n",
       "      <td>-0.056577</td>\n",
       "    </tr>\n",
       "    <tr>\n",
       "      <td>total_claim_amount</td>\n",
       "      <td>0.062108</td>\n",
       "      <td>0.069863</td>\n",
       "      <td>-0.018009</td>\n",
       "      <td>0.022839</td>\n",
       "      <td>0.009094</td>\n",
       "      <td>-0.040344</td>\n",
       "      <td>-0.033873</td>\n",
       "      <td>0.015980</td>\n",
       "      <td>-0.036060</td>\n",
       "      <td>0.217702</td>\n",
       "      <td>0.274278</td>\n",
       "      <td>0.047093</td>\n",
       "      <td>-0.011114</td>\n",
       "      <td>1.000000</td>\n",
       "      <td>0.805025</td>\n",
       "      <td>0.810686</td>\n",
       "      <td>0.982773</td>\n",
       "      <td>-0.035781</td>\n",
       "      <td>0.163651</td>\n",
       "      <td>-0.000793</td>\n",
       "    </tr>\n",
       "    <tr>\n",
       "      <td>injury_claim</td>\n",
       "      <td>0.065329</td>\n",
       "      <td>0.075522</td>\n",
       "      <td>-0.008762</td>\n",
       "      <td>0.039107</td>\n",
       "      <td>-0.017633</td>\n",
       "      <td>-0.045412</td>\n",
       "      <td>-0.017495</td>\n",
       "      <td>0.025934</td>\n",
       "      <td>-0.046060</td>\n",
       "      <td>0.165768</td>\n",
       "      <td>0.224650</td>\n",
       "      <td>0.047319</td>\n",
       "      <td>-0.024843</td>\n",
       "      <td>0.805025</td>\n",
       "      <td>1.000000</td>\n",
       "      <td>0.563866</td>\n",
       "      <td>0.722878</td>\n",
       "      <td>-0.013718</td>\n",
       "      <td>0.090975</td>\n",
       "      <td>-0.002487</td>\n",
       "    </tr>\n",
       "    <tr>\n",
       "      <td>property_claim</td>\n",
       "      <td>0.034940</td>\n",
       "      <td>0.060898</td>\n",
       "      <td>-0.010678</td>\n",
       "      <td>0.064792</td>\n",
       "      <td>-0.011654</td>\n",
       "      <td>-0.023790</td>\n",
       "      <td>-0.006841</td>\n",
       "      <td>-0.000779</td>\n",
       "      <td>-0.022863</td>\n",
       "      <td>0.179536</td>\n",
       "      <td>0.219084</td>\n",
       "      <td>0.039749</td>\n",
       "      <td>0.052640</td>\n",
       "      <td>0.810686</td>\n",
       "      <td>0.563866</td>\n",
       "      <td>1.000000</td>\n",
       "      <td>0.732090</td>\n",
       "      <td>-0.014508</td>\n",
       "      <td>0.137835</td>\n",
       "      <td>-0.000485</td>\n",
       "    </tr>\n",
       "    <tr>\n",
       "      <td>vehicle_claim</td>\n",
       "      <td>0.061013</td>\n",
       "      <td>0.062588</td>\n",
       "      <td>-0.020184</td>\n",
       "      <td>0.005269</td>\n",
       "      <td>0.020246</td>\n",
       "      <td>-0.038584</td>\n",
       "      <td>-0.041083</td>\n",
       "      <td>0.015836</td>\n",
       "      <td>-0.032665</td>\n",
       "      <td>0.215626</td>\n",
       "      <td>0.269393</td>\n",
       "      <td>0.043449</td>\n",
       "      <td>-0.022564</td>\n",
       "      <td>0.982773</td>\n",
       "      <td>0.722878</td>\n",
       "      <td>0.732090</td>\n",
       "      <td>1.000000</td>\n",
       "      <td>-0.042768</td>\n",
       "      <td>0.170049</td>\n",
       "      <td>-0.000342</td>\n",
       "    </tr>\n",
       "    <tr>\n",
       "      <td>auto_year</td>\n",
       "      <td>-0.000292</td>\n",
       "      <td>0.001354</td>\n",
       "      <td>-0.000183</td>\n",
       "      <td>0.026105</td>\n",
       "      <td>-0.049226</td>\n",
       "      <td>0.009893</td>\n",
       "      <td>-0.032736</td>\n",
       "      <td>0.031398</td>\n",
       "      <td>-0.056615</td>\n",
       "      <td>0.021368</td>\n",
       "      <td>0.034554</td>\n",
       "      <td>-0.020527</td>\n",
       "      <td>0.045791</td>\n",
       "      <td>-0.035781</td>\n",
       "      <td>-0.013718</td>\n",
       "      <td>-0.014508</td>\n",
       "      <td>-0.042768</td>\n",
       "      <td>1.000000</td>\n",
       "      <td>0.007928</td>\n",
       "      <td>-0.014188</td>\n",
       "    </tr>\n",
       "    <tr>\n",
       "      <td>fraud_reported</td>\n",
       "      <td>0.020544</td>\n",
       "      <td>0.012143</td>\n",
       "      <td>-0.029443</td>\n",
       "      <td>0.014817</td>\n",
       "      <td>-0.014480</td>\n",
       "      <td>0.058622</td>\n",
       "      <td>0.019368</td>\n",
       "      <td>-0.019173</td>\n",
       "      <td>-0.014863</td>\n",
       "      <td>0.004316</td>\n",
       "      <td>0.051839</td>\n",
       "      <td>0.033877</td>\n",
       "      <td>0.049497</td>\n",
       "      <td>0.163651</td>\n",
       "      <td>0.090975</td>\n",
       "      <td>0.137835</td>\n",
       "      <td>0.170049</td>\n",
       "      <td>0.007928</td>\n",
       "      <td>1.000000</td>\n",
       "      <td>0.000930</td>\n",
       "    </tr>\n",
       "    <tr>\n",
       "      <td>days</td>\n",
       "      <td>0.047927</td>\n",
       "      <td>0.036742</td>\n",
       "      <td>0.040100</td>\n",
       "      <td>0.050396</td>\n",
       "      <td>-0.001208</td>\n",
       "      <td>-0.046179</td>\n",
       "      <td>0.000109</td>\n",
       "      <td>-0.042226</td>\n",
       "      <td>0.027647</td>\n",
       "      <td>-0.035873</td>\n",
       "      <td>-0.025293</td>\n",
       "      <td>-0.028918</td>\n",
       "      <td>-0.056577</td>\n",
       "      <td>-0.000793</td>\n",
       "      <td>-0.002487</td>\n",
       "      <td>-0.000485</td>\n",
       "      <td>-0.000342</td>\n",
       "      <td>-0.014188</td>\n",
       "      <td>0.000930</td>\n",
       "      <td>1.000000</td>\n",
       "    </tr>\n",
       "  </tbody>\n",
       "</table>\n",
       "</div>"
      ],
      "text/plain": [
       "                             months_as_customer       age  policy_number  \\\n",
       "months_as_customer                     1.000000  0.922098       0.057555   \n",
       "age                                    0.922098  1.000000       0.059413   \n",
       "policy_number                          0.057555  0.059413       1.000000   \n",
       "policy_deductable                      0.026807  0.029188      -0.006738   \n",
       "policy_annual_premium                  0.005018  0.014404       0.022566   \n",
       "umbrella_limit                         0.015498  0.018126       0.008968   \n",
       "insured_zip                            0.017895  0.025604       0.007083   \n",
       "capital-gains                          0.006399 -0.007075       0.009802   \n",
       "capital-loss                           0.020209  0.007368      -0.005669   \n",
       "incident_hour_of_the_day               0.070639  0.087161       0.000113   \n",
       "number_of_vehicles_involved            0.014736  0.022102       0.013432   \n",
       "bodily_injuries                       -0.010162 -0.015679      -0.004558   \n",
       "witnesses                              0.058383  0.052359      -0.012661   \n",
       "total_claim_amount                     0.062108  0.069863      -0.018009   \n",
       "injury_claim                           0.065329  0.075522      -0.008762   \n",
       "property_claim                         0.034940  0.060898      -0.010678   \n",
       "vehicle_claim                          0.061013  0.062588      -0.020184   \n",
       "auto_year                             -0.000292  0.001354      -0.000183   \n",
       "fraud_reported                         0.020544  0.012143      -0.029443   \n",
       "days                                   0.047927  0.036742       0.040100   \n",
       "\n",
       "                             policy_deductable  policy_annual_premium  \\\n",
       "months_as_customer                    0.026807               0.005018   \n",
       "age                                   0.029188               0.014404   \n",
       "policy_number                        -0.006738               0.022566   \n",
       "policy_deductable                     1.000000              -0.003245   \n",
       "policy_annual_premium                -0.003245               1.000000   \n",
       "umbrella_limit                        0.010870              -0.006247   \n",
       "insured_zip                           0.004545               0.032354   \n",
       "capital-gains                         0.035212              -0.013738   \n",
       "capital-loss                         -0.023544               0.023547   \n",
       "incident_hour_of_the_day              0.060935              -0.001578   \n",
       "number_of_vehicles_involved           0.051214              -0.045991   \n",
       "bodily_injuries                      -0.022765               0.026780   \n",
       "witnesses                             0.066639               0.002332   \n",
       "total_claim_amount                    0.022839               0.009094   \n",
       "injury_claim                          0.039107              -0.017633   \n",
       "property_claim                        0.064792              -0.011654   \n",
       "vehicle_claim                         0.005269               0.020246   \n",
       "auto_year                             0.026105              -0.049226   \n",
       "fraud_reported                        0.014817              -0.014480   \n",
       "days                                  0.050396              -0.001208   \n",
       "\n",
       "                             umbrella_limit  insured_zip  capital-gains  \\\n",
       "months_as_customer                 0.015498     0.017895       0.006399   \n",
       "age                                0.018126     0.025604      -0.007075   \n",
       "policy_number                      0.008968     0.007083       0.009802   \n",
       "policy_deductable                  0.010870     0.004545       0.035212   \n",
       "policy_annual_premium             -0.006247     0.032354      -0.013738   \n",
       "umbrella_limit                     1.000000     0.019671      -0.047268   \n",
       "insured_zip                        0.019671     1.000000       0.006303   \n",
       "capital-gains                     -0.047268     0.006303       1.000000   \n",
       "capital-loss                      -0.024056     0.049372      -0.046904   \n",
       "incident_hour_of_the_day          -0.023257     0.008274      -0.016406   \n",
       "number_of_vehicles_involved       -0.021270     0.027448       0.061643   \n",
       "bodily_injuries                    0.022743     0.028695       0.055829   \n",
       "witnesses                         -0.006738     0.019805      -0.017651   \n",
       "total_claim_amount                -0.040344    -0.033873       0.015980   \n",
       "injury_claim                      -0.045412    -0.017495       0.025934   \n",
       "property_claim                    -0.023790    -0.006841      -0.000779   \n",
       "vehicle_claim                     -0.038584    -0.041083       0.015836   \n",
       "auto_year                          0.009893    -0.032736       0.031398   \n",
       "fraud_reported                     0.058622     0.019368      -0.019173   \n",
       "days                              -0.046179     0.000109      -0.042226   \n",
       "\n",
       "                             capital-loss  incident_hour_of_the_day  \\\n",
       "months_as_customer               0.020209                  0.070639   \n",
       "age                              0.007368                  0.087161   \n",
       "policy_number                   -0.005669                  0.000113   \n",
       "policy_deductable               -0.023544                  0.060935   \n",
       "policy_annual_premium            0.023547                 -0.001578   \n",
       "umbrella_limit                  -0.024056                 -0.023257   \n",
       "insured_zip                      0.049372                  0.008274   \n",
       "capital-gains                   -0.046904                 -0.016406   \n",
       "capital-loss                     1.000000                 -0.025054   \n",
       "incident_hour_of_the_day        -0.025054                  1.000000   \n",
       "number_of_vehicles_involved     -0.014895                  0.120794   \n",
       "bodily_injuries                 -0.024418                 -0.034563   \n",
       "witnesses                       -0.041330                  0.006527   \n",
       "total_claim_amount              -0.036060                  0.217702   \n",
       "injury_claim                    -0.046060                  0.165768   \n",
       "property_claim                  -0.022863                  0.179536   \n",
       "vehicle_claim                   -0.032665                  0.215626   \n",
       "auto_year                       -0.056615                  0.021368   \n",
       "fraud_reported                  -0.014863                  0.004316   \n",
       "days                             0.027647                 -0.035873   \n",
       "\n",
       "                             number_of_vehicles_involved  bodily_injuries  \\\n",
       "months_as_customer                              0.014736        -0.010162   \n",
       "age                                             0.022102        -0.015679   \n",
       "policy_number                                   0.013432        -0.004558   \n",
       "policy_deductable                               0.051214        -0.022765   \n",
       "policy_annual_premium                          -0.045991         0.026780   \n",
       "umbrella_limit                                 -0.021270         0.022743   \n",
       "insured_zip                                     0.027448         0.028695   \n",
       "capital-gains                                   0.061643         0.055829   \n",
       "capital-loss                                   -0.014895        -0.024418   \n",
       "incident_hour_of_the_day                        0.120794        -0.034563   \n",
       "number_of_vehicles_involved                     1.000000         0.014030   \n",
       "bodily_injuries                                 0.014030         1.000000   \n",
       "witnesses                                      -0.014669        -0.005606   \n",
       "total_claim_amount                              0.274278         0.047093   \n",
       "injury_claim                                    0.224650         0.047319   \n",
       "property_claim                                  0.219084         0.039749   \n",
       "vehicle_claim                                   0.269393         0.043449   \n",
       "auto_year                                       0.034554        -0.020527   \n",
       "fraud_reported                                  0.051839         0.033877   \n",
       "days                                           -0.025293        -0.028918   \n",
       "\n",
       "                             witnesses  total_claim_amount  injury_claim  \\\n",
       "months_as_customer            0.058383            0.062108      0.065329   \n",
       "age                           0.052359            0.069863      0.075522   \n",
       "policy_number                -0.012661           -0.018009     -0.008762   \n",
       "policy_deductable             0.066639            0.022839      0.039107   \n",
       "policy_annual_premium         0.002332            0.009094     -0.017633   \n",
       "umbrella_limit               -0.006738           -0.040344     -0.045412   \n",
       "insured_zip                   0.019805           -0.033873     -0.017495   \n",
       "capital-gains                -0.017651            0.015980      0.025934   \n",
       "capital-loss                 -0.041330           -0.036060     -0.046060   \n",
       "incident_hour_of_the_day      0.006527            0.217702      0.165768   \n",
       "number_of_vehicles_involved  -0.014669            0.274278      0.224650   \n",
       "bodily_injuries              -0.005606            0.047093      0.047319   \n",
       "witnesses                     1.000000           -0.011114     -0.024843   \n",
       "total_claim_amount           -0.011114            1.000000      0.805025   \n",
       "injury_claim                 -0.024843            0.805025      1.000000   \n",
       "property_claim                0.052640            0.810686      0.563866   \n",
       "vehicle_claim                -0.022564            0.982773      0.722878   \n",
       "auto_year                     0.045791           -0.035781     -0.013718   \n",
       "fraud_reported                0.049497            0.163651      0.090975   \n",
       "days                         -0.056577           -0.000793     -0.002487   \n",
       "\n",
       "                             property_claim  vehicle_claim  auto_year  \\\n",
       "months_as_customer                 0.034940       0.061013  -0.000292   \n",
       "age                                0.060898       0.062588   0.001354   \n",
       "policy_number                     -0.010678      -0.020184  -0.000183   \n",
       "policy_deductable                  0.064792       0.005269   0.026105   \n",
       "policy_annual_premium             -0.011654       0.020246  -0.049226   \n",
       "umbrella_limit                    -0.023790      -0.038584   0.009893   \n",
       "insured_zip                       -0.006841      -0.041083  -0.032736   \n",
       "capital-gains                     -0.000779       0.015836   0.031398   \n",
       "capital-loss                      -0.022863      -0.032665  -0.056615   \n",
       "incident_hour_of_the_day           0.179536       0.215626   0.021368   \n",
       "number_of_vehicles_involved        0.219084       0.269393   0.034554   \n",
       "bodily_injuries                    0.039749       0.043449  -0.020527   \n",
       "witnesses                          0.052640      -0.022564   0.045791   \n",
       "total_claim_amount                 0.810686       0.982773  -0.035781   \n",
       "injury_claim                       0.563866       0.722878  -0.013718   \n",
       "property_claim                     1.000000       0.732090  -0.014508   \n",
       "vehicle_claim                      0.732090       1.000000  -0.042768   \n",
       "auto_year                         -0.014508      -0.042768   1.000000   \n",
       "fraud_reported                     0.137835       0.170049   0.007928   \n",
       "days                              -0.000485      -0.000342  -0.014188   \n",
       "\n",
       "                             fraud_reported      days  \n",
       "months_as_customer                 0.020544  0.047927  \n",
       "age                                0.012143  0.036742  \n",
       "policy_number                     -0.029443  0.040100  \n",
       "policy_deductable                  0.014817  0.050396  \n",
       "policy_annual_premium             -0.014480 -0.001208  \n",
       "umbrella_limit                     0.058622 -0.046179  \n",
       "insured_zip                        0.019368  0.000109  \n",
       "capital-gains                     -0.019173 -0.042226  \n",
       "capital-loss                      -0.014863  0.027647  \n",
       "incident_hour_of_the_day           0.004316 -0.035873  \n",
       "number_of_vehicles_involved        0.051839 -0.025293  \n",
       "bodily_injuries                    0.033877 -0.028918  \n",
       "witnesses                          0.049497 -0.056577  \n",
       "total_claim_amount                 0.163651 -0.000793  \n",
       "injury_claim                       0.090975 -0.002487  \n",
       "property_claim                     0.137835 -0.000485  \n",
       "vehicle_claim                      0.170049 -0.000342  \n",
       "auto_year                          0.007928 -0.014188  \n",
       "fraud_reported                     1.000000  0.000930  \n",
       "days                               0.000930  1.000000  "
      ]
     },
     "execution_count": 23,
     "metadata": {},
     "output_type": "execute_result"
    }
   ],
   "source": [
    "df.corr()"
   ]
  },
  {
   "cell_type": "code",
   "execution_count": 24,
   "metadata": {},
   "outputs": [],
   "source": [
    "#dropping features capital-gains,capital-loss as they are negatively correlated to the target."
   ]
  },
  {
   "cell_type": "markdown",
   "metadata": {},
   "source": [
    "# Coverting to dummies"
   ]
  },
  {
   "cell_type": "code",
   "execution_count": 25,
   "metadata": {},
   "outputs": [],
   "source": [
    "df=pd.get_dummies(df)"
   ]
  },
  {
   "cell_type": "code",
   "execution_count": 26,
   "metadata": {},
   "outputs": [
    {
     "data": {
      "text/html": [
       "<div>\n",
       "<style scoped>\n",
       "    .dataframe tbody tr th:only-of-type {\n",
       "        vertical-align: middle;\n",
       "    }\n",
       "\n",
       "    .dataframe tbody tr th {\n",
       "        vertical-align: top;\n",
       "    }\n",
       "\n",
       "    .dataframe thead th {\n",
       "        text-align: right;\n",
       "    }\n",
       "</style>\n",
       "<table border=\"1\" class=\"dataframe\">\n",
       "  <thead>\n",
       "    <tr style=\"text-align: right;\">\n",
       "      <th></th>\n",
       "      <th>months_as_customer</th>\n",
       "      <th>age</th>\n",
       "      <th>policy_number</th>\n",
       "      <th>policy_deductable</th>\n",
       "      <th>policy_annual_premium</th>\n",
       "      <th>umbrella_limit</th>\n",
       "      <th>insured_zip</th>\n",
       "      <th>capital-gains</th>\n",
       "      <th>capital-loss</th>\n",
       "      <th>incident_hour_of_the_day</th>\n",
       "      <th>number_of_vehicles_involved</th>\n",
       "      <th>bodily_injuries</th>\n",
       "      <th>witnesses</th>\n",
       "      <th>total_claim_amount</th>\n",
       "      <th>injury_claim</th>\n",
       "      <th>property_claim</th>\n",
       "      <th>vehicle_claim</th>\n",
       "      <th>auto_year</th>\n",
       "      <th>fraud_reported</th>\n",
       "      <th>days</th>\n",
       "      <th>policy_state_IL</th>\n",
       "      <th>policy_state_IN</th>\n",
       "      <th>policy_state_OH</th>\n",
       "      <th>policy_csl_100/300</th>\n",
       "      <th>policy_csl_250/500</th>\n",
       "      <th>policy_csl_500/1000</th>\n",
       "      <th>insured_sex_FEMALE</th>\n",
       "      <th>insured_sex_MALE</th>\n",
       "      <th>insured_education_level_Associate</th>\n",
       "      <th>insured_education_level_College</th>\n",
       "      <th>insured_education_level_High School</th>\n",
       "      <th>insured_education_level_JD</th>\n",
       "      <th>insured_education_level_MD</th>\n",
       "      <th>insured_education_level_Masters</th>\n",
       "      <th>insured_education_level_PhD</th>\n",
       "      <th>insured_occupation_adm-clerical</th>\n",
       "      <th>insured_occupation_armed-forces</th>\n",
       "      <th>insured_occupation_craft-repair</th>\n",
       "      <th>insured_occupation_exec-managerial</th>\n",
       "      <th>insured_occupation_farming-fishing</th>\n",
       "      <th>insured_occupation_handlers-cleaners</th>\n",
       "      <th>insured_occupation_machine-op-inspct</th>\n",
       "      <th>insured_occupation_other-service</th>\n",
       "      <th>insured_occupation_priv-house-serv</th>\n",
       "      <th>insured_occupation_prof-specialty</th>\n",
       "      <th>insured_occupation_protective-serv</th>\n",
       "      <th>insured_occupation_sales</th>\n",
       "      <th>insured_occupation_tech-support</th>\n",
       "      <th>insured_occupation_transport-moving</th>\n",
       "      <th>insured_hobbies_base-jumping</th>\n",
       "      <th>insured_hobbies_basketball</th>\n",
       "      <th>insured_hobbies_board-games</th>\n",
       "      <th>insured_hobbies_bungie-jumping</th>\n",
       "      <th>insured_hobbies_camping</th>\n",
       "      <th>insured_hobbies_chess</th>\n",
       "      <th>insured_hobbies_cross-fit</th>\n",
       "      <th>insured_hobbies_dancing</th>\n",
       "      <th>insured_hobbies_exercise</th>\n",
       "      <th>insured_hobbies_golf</th>\n",
       "      <th>insured_hobbies_hiking</th>\n",
       "      <th>insured_hobbies_kayaking</th>\n",
       "      <th>insured_hobbies_movies</th>\n",
       "      <th>insured_hobbies_paintball</th>\n",
       "      <th>insured_hobbies_polo</th>\n",
       "      <th>insured_hobbies_reading</th>\n",
       "      <th>insured_hobbies_skydiving</th>\n",
       "      <th>insured_hobbies_sleeping</th>\n",
       "      <th>insured_hobbies_video-games</th>\n",
       "      <th>insured_hobbies_yachting</th>\n",
       "      <th>insured_relationship_husband</th>\n",
       "      <th>insured_relationship_not-in-family</th>\n",
       "      <th>insured_relationship_other-relative</th>\n",
       "      <th>insured_relationship_own-child</th>\n",
       "      <th>insured_relationship_unmarried</th>\n",
       "      <th>insured_relationship_wife</th>\n",
       "      <th>incident_type_Multi-vehicle Collision</th>\n",
       "      <th>incident_type_Parked Car</th>\n",
       "      <th>incident_type_Single Vehicle Collision</th>\n",
       "      <th>incident_type_Vehicle Theft</th>\n",
       "      <th>collision_type_Front Collision</th>\n",
       "      <th>collision_type_Rear Collision</th>\n",
       "      <th>collision_type_Side Collision</th>\n",
       "      <th>incident_severity_Major Damage</th>\n",
       "      <th>incident_severity_Minor Damage</th>\n",
       "      <th>incident_severity_Total Loss</th>\n",
       "      <th>incident_severity_Trivial Damage</th>\n",
       "      <th>authorities_contacted_Ambulance</th>\n",
       "      <th>authorities_contacted_Fire</th>\n",
       "      <th>authorities_contacted_None</th>\n",
       "      <th>authorities_contacted_Other</th>\n",
       "      <th>authorities_contacted_Police</th>\n",
       "      <th>incident_state_NC</th>\n",
       "      <th>incident_state_NY</th>\n",
       "      <th>incident_state_OH</th>\n",
       "      <th>incident_state_PA</th>\n",
       "      <th>incident_state_SC</th>\n",
       "      <th>incident_state_VA</th>\n",
       "      <th>incident_state_WV</th>\n",
       "      <th>incident_city_Arlington</th>\n",
       "      <th>incident_city_Columbus</th>\n",
       "      <th>incident_city_Hillsdale</th>\n",
       "      <th>incident_city_Northbend</th>\n",
       "      <th>incident_city_Northbrook</th>\n",
       "      <th>incident_city_Riverwood</th>\n",
       "      <th>incident_city_Springfield</th>\n",
       "      <th>property_damage_NO</th>\n",
       "      <th>property_damage_YES</th>\n",
       "      <th>police_report_available_NO</th>\n",
       "      <th>police_report_available_YES</th>\n",
       "      <th>auto_make_Accura</th>\n",
       "      <th>auto_make_Audi</th>\n",
       "      <th>auto_make_BMW</th>\n",
       "      <th>auto_make_Chevrolet</th>\n",
       "      <th>auto_make_Dodge</th>\n",
       "      <th>auto_make_Ford</th>\n",
       "      <th>auto_make_Honda</th>\n",
       "      <th>auto_make_Jeep</th>\n",
       "      <th>auto_make_Mercedes</th>\n",
       "      <th>auto_make_Nissan</th>\n",
       "      <th>auto_make_Saab</th>\n",
       "      <th>auto_make_Suburu</th>\n",
       "      <th>auto_make_Toyota</th>\n",
       "      <th>auto_make_Volkswagen</th>\n",
       "      <th>auto_model_3 Series</th>\n",
       "      <th>auto_model_92x</th>\n",
       "      <th>auto_model_93</th>\n",
       "      <th>auto_model_95</th>\n",
       "      <th>auto_model_A3</th>\n",
       "      <th>auto_model_A5</th>\n",
       "      <th>auto_model_Accord</th>\n",
       "      <th>auto_model_C300</th>\n",
       "      <th>auto_model_CRV</th>\n",
       "      <th>auto_model_Camry</th>\n",
       "      <th>auto_model_Civic</th>\n",
       "      <th>auto_model_Corolla</th>\n",
       "      <th>auto_model_E400</th>\n",
       "      <th>auto_model_Escape</th>\n",
       "      <th>auto_model_F150</th>\n",
       "      <th>auto_model_Forrestor</th>\n",
       "      <th>auto_model_Fusion</th>\n",
       "      <th>auto_model_Grand Cherokee</th>\n",
       "      <th>auto_model_Highlander</th>\n",
       "      <th>auto_model_Impreza</th>\n",
       "      <th>auto_model_Jetta</th>\n",
       "      <th>auto_model_Legacy</th>\n",
       "      <th>auto_model_M5</th>\n",
       "      <th>auto_model_MDX</th>\n",
       "      <th>auto_model_ML350</th>\n",
       "      <th>auto_model_Malibu</th>\n",
       "      <th>auto_model_Maxima</th>\n",
       "      <th>auto_model_Neon</th>\n",
       "      <th>auto_model_Passat</th>\n",
       "      <th>auto_model_Pathfinder</th>\n",
       "      <th>auto_model_RAM</th>\n",
       "      <th>auto_model_RSX</th>\n",
       "      <th>auto_model_Silverado</th>\n",
       "      <th>auto_model_TL</th>\n",
       "      <th>auto_model_Tahoe</th>\n",
       "      <th>auto_model_Ultima</th>\n",
       "      <th>auto_model_Wrangler</th>\n",
       "      <th>auto_model_X5</th>\n",
       "      <th>auto_model_X6</th>\n",
       "    </tr>\n",
       "  </thead>\n",
       "  <tbody>\n",
       "    <tr>\n",
       "      <td>0</td>\n",
       "      <td>328</td>\n",
       "      <td>48</td>\n",
       "      <td>521585</td>\n",
       "      <td>1000</td>\n",
       "      <td>1406.91</td>\n",
       "      <td>0</td>\n",
       "      <td>466132</td>\n",
       "      <td>53300</td>\n",
       "      <td>0</td>\n",
       "      <td>5</td>\n",
       "      <td>1</td>\n",
       "      <td>1</td>\n",
       "      <td>2</td>\n",
       "      <td>71610</td>\n",
       "      <td>6510</td>\n",
       "      <td>13020</td>\n",
       "      <td>52080</td>\n",
       "      <td>2004</td>\n",
       "      <td>1</td>\n",
       "      <td>100</td>\n",
       "      <td>0</td>\n",
       "      <td>0</td>\n",
       "      <td>1</td>\n",
       "      <td>0</td>\n",
       "      <td>1</td>\n",
       "      <td>0</td>\n",
       "      <td>0</td>\n",
       "      <td>1</td>\n",
       "      <td>0</td>\n",
       "      <td>0</td>\n",
       "      <td>0</td>\n",
       "      <td>0</td>\n",
       "      <td>1</td>\n",
       "      <td>0</td>\n",
       "      <td>0</td>\n",
       "      <td>0</td>\n",
       "      <td>0</td>\n",
       "      <td>1</td>\n",
       "      <td>0</td>\n",
       "      <td>0</td>\n",
       "      <td>0</td>\n",
       "      <td>0</td>\n",
       "      <td>0</td>\n",
       "      <td>0</td>\n",
       "      <td>0</td>\n",
       "      <td>0</td>\n",
       "      <td>0</td>\n",
       "      <td>0</td>\n",
       "      <td>0</td>\n",
       "      <td>0</td>\n",
       "      <td>0</td>\n",
       "      <td>0</td>\n",
       "      <td>0</td>\n",
       "      <td>0</td>\n",
       "      <td>0</td>\n",
       "      <td>0</td>\n",
       "      <td>0</td>\n",
       "      <td>0</td>\n",
       "      <td>0</td>\n",
       "      <td>0</td>\n",
       "      <td>0</td>\n",
       "      <td>0</td>\n",
       "      <td>0</td>\n",
       "      <td>0</td>\n",
       "      <td>0</td>\n",
       "      <td>0</td>\n",
       "      <td>1</td>\n",
       "      <td>0</td>\n",
       "      <td>0</td>\n",
       "      <td>1</td>\n",
       "      <td>0</td>\n",
       "      <td>0</td>\n",
       "      <td>0</td>\n",
       "      <td>0</td>\n",
       "      <td>0</td>\n",
       "      <td>0</td>\n",
       "      <td>0</td>\n",
       "      <td>1</td>\n",
       "      <td>0</td>\n",
       "      <td>0</td>\n",
       "      <td>0</td>\n",
       "      <td>1</td>\n",
       "      <td>1</td>\n",
       "      <td>0</td>\n",
       "      <td>0</td>\n",
       "      <td>0</td>\n",
       "      <td>0</td>\n",
       "      <td>0</td>\n",
       "      <td>0</td>\n",
       "      <td>0</td>\n",
       "      <td>1</td>\n",
       "      <td>0</td>\n",
       "      <td>0</td>\n",
       "      <td>0</td>\n",
       "      <td>0</td>\n",
       "      <td>1</td>\n",
       "      <td>0</td>\n",
       "      <td>0</td>\n",
       "      <td>0</td>\n",
       "      <td>1</td>\n",
       "      <td>0</td>\n",
       "      <td>0</td>\n",
       "      <td>0</td>\n",
       "      <td>0</td>\n",
       "      <td>0</td>\n",
       "      <td>0</td>\n",
       "      <td>1</td>\n",
       "      <td>0</td>\n",
       "      <td>1</td>\n",
       "      <td>0</td>\n",
       "      <td>0</td>\n",
       "      <td>0</td>\n",
       "      <td>0</td>\n",
       "      <td>0</td>\n",
       "      <td>0</td>\n",
       "      <td>0</td>\n",
       "      <td>0</td>\n",
       "      <td>0</td>\n",
       "      <td>0</td>\n",
       "      <td>1</td>\n",
       "      <td>0</td>\n",
       "      <td>0</td>\n",
       "      <td>0</td>\n",
       "      <td>0</td>\n",
       "      <td>1</td>\n",
       "      <td>0</td>\n",
       "      <td>0</td>\n",
       "      <td>0</td>\n",
       "      <td>0</td>\n",
       "      <td>0</td>\n",
       "      <td>0</td>\n",
       "      <td>0</td>\n",
       "      <td>0</td>\n",
       "      <td>0</td>\n",
       "      <td>0</td>\n",
       "      <td>0</td>\n",
       "      <td>0</td>\n",
       "      <td>0</td>\n",
       "      <td>0</td>\n",
       "      <td>0</td>\n",
       "      <td>0</td>\n",
       "      <td>0</td>\n",
       "      <td>0</td>\n",
       "      <td>0</td>\n",
       "      <td>0</td>\n",
       "      <td>0</td>\n",
       "      <td>0</td>\n",
       "      <td>0</td>\n",
       "      <td>0</td>\n",
       "      <td>0</td>\n",
       "      <td>0</td>\n",
       "      <td>0</td>\n",
       "      <td>0</td>\n",
       "      <td>0</td>\n",
       "      <td>0</td>\n",
       "      <td>0</td>\n",
       "      <td>0</td>\n",
       "      <td>0</td>\n",
       "      <td>0</td>\n",
       "      <td>0</td>\n",
       "      <td>0</td>\n",
       "      <td>0</td>\n",
       "    </tr>\n",
       "    <tr>\n",
       "      <td>1</td>\n",
       "      <td>228</td>\n",
       "      <td>42</td>\n",
       "      <td>342868</td>\n",
       "      <td>2000</td>\n",
       "      <td>1197.22</td>\n",
       "      <td>5000000</td>\n",
       "      <td>468176</td>\n",
       "      <td>0</td>\n",
       "      <td>0</td>\n",
       "      <td>8</td>\n",
       "      <td>1</td>\n",
       "      <td>0</td>\n",
       "      <td>0</td>\n",
       "      <td>5070</td>\n",
       "      <td>780</td>\n",
       "      <td>780</td>\n",
       "      <td>3510</td>\n",
       "      <td>2007</td>\n",
       "      <td>1</td>\n",
       "      <td>3130</td>\n",
       "      <td>0</td>\n",
       "      <td>1</td>\n",
       "      <td>0</td>\n",
       "      <td>0</td>\n",
       "      <td>1</td>\n",
       "      <td>0</td>\n",
       "      <td>0</td>\n",
       "      <td>1</td>\n",
       "      <td>0</td>\n",
       "      <td>0</td>\n",
       "      <td>0</td>\n",
       "      <td>0</td>\n",
       "      <td>1</td>\n",
       "      <td>0</td>\n",
       "      <td>0</td>\n",
       "      <td>0</td>\n",
       "      <td>0</td>\n",
       "      <td>0</td>\n",
       "      <td>0</td>\n",
       "      <td>0</td>\n",
       "      <td>0</td>\n",
       "      <td>1</td>\n",
       "      <td>0</td>\n",
       "      <td>0</td>\n",
       "      <td>0</td>\n",
       "      <td>0</td>\n",
       "      <td>0</td>\n",
       "      <td>0</td>\n",
       "      <td>0</td>\n",
       "      <td>0</td>\n",
       "      <td>0</td>\n",
       "      <td>0</td>\n",
       "      <td>0</td>\n",
       "      <td>0</td>\n",
       "      <td>0</td>\n",
       "      <td>0</td>\n",
       "      <td>0</td>\n",
       "      <td>0</td>\n",
       "      <td>0</td>\n",
       "      <td>0</td>\n",
       "      <td>0</td>\n",
       "      <td>0</td>\n",
       "      <td>0</td>\n",
       "      <td>0</td>\n",
       "      <td>1</td>\n",
       "      <td>0</td>\n",
       "      <td>0</td>\n",
       "      <td>0</td>\n",
       "      <td>0</td>\n",
       "      <td>0</td>\n",
       "      <td>0</td>\n",
       "      <td>1</td>\n",
       "      <td>0</td>\n",
       "      <td>0</td>\n",
       "      <td>0</td>\n",
       "      <td>0</td>\n",
       "      <td>0</td>\n",
       "      <td>0</td>\n",
       "      <td>1</td>\n",
       "      <td>0</td>\n",
       "      <td>1</td>\n",
       "      <td>0</td>\n",
       "      <td>0</td>\n",
       "      <td>1</td>\n",
       "      <td>0</td>\n",
       "      <td>0</td>\n",
       "      <td>0</td>\n",
       "      <td>0</td>\n",
       "      <td>0</td>\n",
       "      <td>0</td>\n",
       "      <td>1</td>\n",
       "      <td>0</td>\n",
       "      <td>0</td>\n",
       "      <td>0</td>\n",
       "      <td>0</td>\n",
       "      <td>0</td>\n",
       "      <td>1</td>\n",
       "      <td>0</td>\n",
       "      <td>0</td>\n",
       "      <td>0</td>\n",
       "      <td>0</td>\n",
       "      <td>0</td>\n",
       "      <td>0</td>\n",
       "      <td>1</td>\n",
       "      <td>0</td>\n",
       "      <td>1</td>\n",
       "      <td>0</td>\n",
       "      <td>1</td>\n",
       "      <td>0</td>\n",
       "      <td>0</td>\n",
       "      <td>0</td>\n",
       "      <td>0</td>\n",
       "      <td>0</td>\n",
       "      <td>0</td>\n",
       "      <td>0</td>\n",
       "      <td>0</td>\n",
       "      <td>0</td>\n",
       "      <td>1</td>\n",
       "      <td>0</td>\n",
       "      <td>0</td>\n",
       "      <td>0</td>\n",
       "      <td>0</td>\n",
       "      <td>0</td>\n",
       "      <td>0</td>\n",
       "      <td>0</td>\n",
       "      <td>0</td>\n",
       "      <td>0</td>\n",
       "      <td>0</td>\n",
       "      <td>0</td>\n",
       "      <td>0</td>\n",
       "      <td>0</td>\n",
       "      <td>0</td>\n",
       "      <td>0</td>\n",
       "      <td>0</td>\n",
       "      <td>0</td>\n",
       "      <td>1</td>\n",
       "      <td>0</td>\n",
       "      <td>0</td>\n",
       "      <td>0</td>\n",
       "      <td>0</td>\n",
       "      <td>0</td>\n",
       "      <td>0</td>\n",
       "      <td>0</td>\n",
       "      <td>0</td>\n",
       "      <td>0</td>\n",
       "      <td>0</td>\n",
       "      <td>0</td>\n",
       "      <td>0</td>\n",
       "      <td>0</td>\n",
       "      <td>0</td>\n",
       "      <td>0</td>\n",
       "      <td>0</td>\n",
       "      <td>0</td>\n",
       "      <td>0</td>\n",
       "      <td>0</td>\n",
       "      <td>0</td>\n",
       "      <td>0</td>\n",
       "      <td>0</td>\n",
       "      <td>0</td>\n",
       "      <td>0</td>\n",
       "      <td>0</td>\n",
       "      <td>0</td>\n",
       "    </tr>\n",
       "    <tr>\n",
       "      <td>2</td>\n",
       "      <td>134</td>\n",
       "      <td>29</td>\n",
       "      <td>687698</td>\n",
       "      <td>2000</td>\n",
       "      <td>1413.14</td>\n",
       "      <td>5000000</td>\n",
       "      <td>430632</td>\n",
       "      <td>35100</td>\n",
       "      <td>0</td>\n",
       "      <td>7</td>\n",
       "      <td>3</td>\n",
       "      <td>2</td>\n",
       "      <td>3</td>\n",
       "      <td>34650</td>\n",
       "      <td>7700</td>\n",
       "      <td>3850</td>\n",
       "      <td>23100</td>\n",
       "      <td>2007</td>\n",
       "      <td>0</td>\n",
       "      <td>5282</td>\n",
       "      <td>0</td>\n",
       "      <td>0</td>\n",
       "      <td>1</td>\n",
       "      <td>1</td>\n",
       "      <td>0</td>\n",
       "      <td>0</td>\n",
       "      <td>1</td>\n",
       "      <td>0</td>\n",
       "      <td>0</td>\n",
       "      <td>0</td>\n",
       "      <td>0</td>\n",
       "      <td>0</td>\n",
       "      <td>0</td>\n",
       "      <td>0</td>\n",
       "      <td>1</td>\n",
       "      <td>0</td>\n",
       "      <td>0</td>\n",
       "      <td>0</td>\n",
       "      <td>0</td>\n",
       "      <td>0</td>\n",
       "      <td>0</td>\n",
       "      <td>0</td>\n",
       "      <td>0</td>\n",
       "      <td>0</td>\n",
       "      <td>0</td>\n",
       "      <td>0</td>\n",
       "      <td>1</td>\n",
       "      <td>0</td>\n",
       "      <td>0</td>\n",
       "      <td>0</td>\n",
       "      <td>0</td>\n",
       "      <td>1</td>\n",
       "      <td>0</td>\n",
       "      <td>0</td>\n",
       "      <td>0</td>\n",
       "      <td>0</td>\n",
       "      <td>0</td>\n",
       "      <td>0</td>\n",
       "      <td>0</td>\n",
       "      <td>0</td>\n",
       "      <td>0</td>\n",
       "      <td>0</td>\n",
       "      <td>0</td>\n",
       "      <td>0</td>\n",
       "      <td>0</td>\n",
       "      <td>0</td>\n",
       "      <td>0</td>\n",
       "      <td>0</td>\n",
       "      <td>0</td>\n",
       "      <td>0</td>\n",
       "      <td>0</td>\n",
       "      <td>0</td>\n",
       "      <td>1</td>\n",
       "      <td>0</td>\n",
       "      <td>0</td>\n",
       "      <td>1</td>\n",
       "      <td>0</td>\n",
       "      <td>0</td>\n",
       "      <td>0</td>\n",
       "      <td>0</td>\n",
       "      <td>1</td>\n",
       "      <td>0</td>\n",
       "      <td>0</td>\n",
       "      <td>1</td>\n",
       "      <td>0</td>\n",
       "      <td>0</td>\n",
       "      <td>0</td>\n",
       "      <td>0</td>\n",
       "      <td>0</td>\n",
       "      <td>0</td>\n",
       "      <td>1</td>\n",
       "      <td>0</td>\n",
       "      <td>1</td>\n",
       "      <td>0</td>\n",
       "      <td>0</td>\n",
       "      <td>0</td>\n",
       "      <td>0</td>\n",
       "      <td>0</td>\n",
       "      <td>0</td>\n",
       "      <td>1</td>\n",
       "      <td>0</td>\n",
       "      <td>0</td>\n",
       "      <td>0</td>\n",
       "      <td>0</td>\n",
       "      <td>0</td>\n",
       "      <td>1</td>\n",
       "      <td>0</td>\n",
       "      <td>1</td>\n",
       "      <td>0</td>\n",
       "      <td>0</td>\n",
       "      <td>0</td>\n",
       "      <td>0</td>\n",
       "      <td>0</td>\n",
       "      <td>1</td>\n",
       "      <td>0</td>\n",
       "      <td>0</td>\n",
       "      <td>0</td>\n",
       "      <td>0</td>\n",
       "      <td>0</td>\n",
       "      <td>0</td>\n",
       "      <td>0</td>\n",
       "      <td>0</td>\n",
       "      <td>0</td>\n",
       "      <td>0</td>\n",
       "      <td>0</td>\n",
       "      <td>0</td>\n",
       "      <td>0</td>\n",
       "      <td>0</td>\n",
       "      <td>0</td>\n",
       "      <td>0</td>\n",
       "      <td>0</td>\n",
       "      <td>0</td>\n",
       "      <td>0</td>\n",
       "      <td>0</td>\n",
       "      <td>0</td>\n",
       "      <td>0</td>\n",
       "      <td>0</td>\n",
       "      <td>0</td>\n",
       "      <td>0</td>\n",
       "      <td>0</td>\n",
       "      <td>0</td>\n",
       "      <td>0</td>\n",
       "      <td>0</td>\n",
       "      <td>0</td>\n",
       "      <td>0</td>\n",
       "      <td>0</td>\n",
       "      <td>0</td>\n",
       "      <td>0</td>\n",
       "      <td>0</td>\n",
       "      <td>0</td>\n",
       "      <td>0</td>\n",
       "      <td>0</td>\n",
       "      <td>0</td>\n",
       "      <td>1</td>\n",
       "      <td>0</td>\n",
       "      <td>0</td>\n",
       "      <td>0</td>\n",
       "      <td>0</td>\n",
       "      <td>0</td>\n",
       "      <td>0</td>\n",
       "      <td>0</td>\n",
       "      <td>0</td>\n",
       "    </tr>\n",
       "    <tr>\n",
       "      <td>3</td>\n",
       "      <td>256</td>\n",
       "      <td>41</td>\n",
       "      <td>227811</td>\n",
       "      <td>2000</td>\n",
       "      <td>1415.74</td>\n",
       "      <td>6000000</td>\n",
       "      <td>608117</td>\n",
       "      <td>48900</td>\n",
       "      <td>-62400</td>\n",
       "      <td>5</td>\n",
       "      <td>1</td>\n",
       "      <td>1</td>\n",
       "      <td>2</td>\n",
       "      <td>63400</td>\n",
       "      <td>6340</td>\n",
       "      <td>6340</td>\n",
       "      <td>50720</td>\n",
       "      <td>2014</td>\n",
       "      <td>1</td>\n",
       "      <td>8996</td>\n",
       "      <td>1</td>\n",
       "      <td>0</td>\n",
       "      <td>0</td>\n",
       "      <td>0</td>\n",
       "      <td>1</td>\n",
       "      <td>0</td>\n",
       "      <td>1</td>\n",
       "      <td>0</td>\n",
       "      <td>0</td>\n",
       "      <td>0</td>\n",
       "      <td>0</td>\n",
       "      <td>0</td>\n",
       "      <td>0</td>\n",
       "      <td>0</td>\n",
       "      <td>1</td>\n",
       "      <td>0</td>\n",
       "      <td>1</td>\n",
       "      <td>0</td>\n",
       "      <td>0</td>\n",
       "      <td>0</td>\n",
       "      <td>0</td>\n",
       "      <td>0</td>\n",
       "      <td>0</td>\n",
       "      <td>0</td>\n",
       "      <td>0</td>\n",
       "      <td>0</td>\n",
       "      <td>0</td>\n",
       "      <td>0</td>\n",
       "      <td>0</td>\n",
       "      <td>0</td>\n",
       "      <td>0</td>\n",
       "      <td>1</td>\n",
       "      <td>0</td>\n",
       "      <td>0</td>\n",
       "      <td>0</td>\n",
       "      <td>0</td>\n",
       "      <td>0</td>\n",
       "      <td>0</td>\n",
       "      <td>0</td>\n",
       "      <td>0</td>\n",
       "      <td>0</td>\n",
       "      <td>0</td>\n",
       "      <td>0</td>\n",
       "      <td>0</td>\n",
       "      <td>0</td>\n",
       "      <td>0</td>\n",
       "      <td>0</td>\n",
       "      <td>0</td>\n",
       "      <td>0</td>\n",
       "      <td>0</td>\n",
       "      <td>0</td>\n",
       "      <td>0</td>\n",
       "      <td>0</td>\n",
       "      <td>1</td>\n",
       "      <td>0</td>\n",
       "      <td>0</td>\n",
       "      <td>0</td>\n",
       "      <td>1</td>\n",
       "      <td>0</td>\n",
       "      <td>1</td>\n",
       "      <td>0</td>\n",
       "      <td>0</td>\n",
       "      <td>1</td>\n",
       "      <td>0</td>\n",
       "      <td>0</td>\n",
       "      <td>0</td>\n",
       "      <td>0</td>\n",
       "      <td>0</td>\n",
       "      <td>0</td>\n",
       "      <td>0</td>\n",
       "      <td>1</td>\n",
       "      <td>0</td>\n",
       "      <td>0</td>\n",
       "      <td>1</td>\n",
       "      <td>0</td>\n",
       "      <td>0</td>\n",
       "      <td>0</td>\n",
       "      <td>0</td>\n",
       "      <td>1</td>\n",
       "      <td>0</td>\n",
       "      <td>0</td>\n",
       "      <td>0</td>\n",
       "      <td>0</td>\n",
       "      <td>0</td>\n",
       "      <td>0</td>\n",
       "      <td>1</td>\n",
       "      <td>0</td>\n",
       "      <td>1</td>\n",
       "      <td>0</td>\n",
       "      <td>0</td>\n",
       "      <td>0</td>\n",
       "      <td>0</td>\n",
       "      <td>1</td>\n",
       "      <td>0</td>\n",
       "      <td>0</td>\n",
       "      <td>0</td>\n",
       "      <td>0</td>\n",
       "      <td>0</td>\n",
       "      <td>0</td>\n",
       "      <td>0</td>\n",
       "      <td>0</td>\n",
       "      <td>0</td>\n",
       "      <td>0</td>\n",
       "      <td>0</td>\n",
       "      <td>0</td>\n",
       "      <td>0</td>\n",
       "      <td>0</td>\n",
       "      <td>0</td>\n",
       "      <td>0</td>\n",
       "      <td>0</td>\n",
       "      <td>0</td>\n",
       "      <td>0</td>\n",
       "      <td>0</td>\n",
       "      <td>0</td>\n",
       "      <td>0</td>\n",
       "      <td>0</td>\n",
       "      <td>0</td>\n",
       "      <td>0</td>\n",
       "      <td>0</td>\n",
       "      <td>0</td>\n",
       "      <td>0</td>\n",
       "      <td>0</td>\n",
       "      <td>0</td>\n",
       "      <td>0</td>\n",
       "      <td>0</td>\n",
       "      <td>0</td>\n",
       "      <td>0</td>\n",
       "      <td>0</td>\n",
       "      <td>0</td>\n",
       "      <td>0</td>\n",
       "      <td>0</td>\n",
       "      <td>0</td>\n",
       "      <td>0</td>\n",
       "      <td>0</td>\n",
       "      <td>0</td>\n",
       "      <td>0</td>\n",
       "      <td>0</td>\n",
       "      <td>1</td>\n",
       "      <td>0</td>\n",
       "      <td>0</td>\n",
       "      <td>0</td>\n",
       "      <td>0</td>\n",
       "    </tr>\n",
       "    <tr>\n",
       "      <td>4</td>\n",
       "      <td>228</td>\n",
       "      <td>44</td>\n",
       "      <td>367455</td>\n",
       "      <td>1000</td>\n",
       "      <td>1583.91</td>\n",
       "      <td>6000000</td>\n",
       "      <td>610706</td>\n",
       "      <td>66000</td>\n",
       "      <td>-46000</td>\n",
       "      <td>20</td>\n",
       "      <td>1</td>\n",
       "      <td>0</td>\n",
       "      <td>1</td>\n",
       "      <td>6500</td>\n",
       "      <td>1300</td>\n",
       "      <td>650</td>\n",
       "      <td>4550</td>\n",
       "      <td>2009</td>\n",
       "      <td>0</td>\n",
       "      <td>256</td>\n",
       "      <td>1</td>\n",
       "      <td>0</td>\n",
       "      <td>0</td>\n",
       "      <td>0</td>\n",
       "      <td>0</td>\n",
       "      <td>1</td>\n",
       "      <td>0</td>\n",
       "      <td>1</td>\n",
       "      <td>1</td>\n",
       "      <td>0</td>\n",
       "      <td>0</td>\n",
       "      <td>0</td>\n",
       "      <td>0</td>\n",
       "      <td>0</td>\n",
       "      <td>0</td>\n",
       "      <td>0</td>\n",
       "      <td>0</td>\n",
       "      <td>0</td>\n",
       "      <td>0</td>\n",
       "      <td>0</td>\n",
       "      <td>0</td>\n",
       "      <td>0</td>\n",
       "      <td>0</td>\n",
       "      <td>0</td>\n",
       "      <td>0</td>\n",
       "      <td>0</td>\n",
       "      <td>1</td>\n",
       "      <td>0</td>\n",
       "      <td>0</td>\n",
       "      <td>0</td>\n",
       "      <td>0</td>\n",
       "      <td>1</td>\n",
       "      <td>0</td>\n",
       "      <td>0</td>\n",
       "      <td>0</td>\n",
       "      <td>0</td>\n",
       "      <td>0</td>\n",
       "      <td>0</td>\n",
       "      <td>0</td>\n",
       "      <td>0</td>\n",
       "      <td>0</td>\n",
       "      <td>0</td>\n",
       "      <td>0</td>\n",
       "      <td>0</td>\n",
       "      <td>0</td>\n",
       "      <td>0</td>\n",
       "      <td>0</td>\n",
       "      <td>0</td>\n",
       "      <td>0</td>\n",
       "      <td>0</td>\n",
       "      <td>0</td>\n",
       "      <td>0</td>\n",
       "      <td>0</td>\n",
       "      <td>1</td>\n",
       "      <td>0</td>\n",
       "      <td>0</td>\n",
       "      <td>0</td>\n",
       "      <td>0</td>\n",
       "      <td>1</td>\n",
       "      <td>0</td>\n",
       "      <td>1</td>\n",
       "      <td>0</td>\n",
       "      <td>0</td>\n",
       "      <td>1</td>\n",
       "      <td>0</td>\n",
       "      <td>0</td>\n",
       "      <td>0</td>\n",
       "      <td>0</td>\n",
       "      <td>1</td>\n",
       "      <td>0</td>\n",
       "      <td>0</td>\n",
       "      <td>0</td>\n",
       "      <td>1</td>\n",
       "      <td>0</td>\n",
       "      <td>0</td>\n",
       "      <td>0</td>\n",
       "      <td>0</td>\n",
       "      <td>0</td>\n",
       "      <td>1</td>\n",
       "      <td>0</td>\n",
       "      <td>0</td>\n",
       "      <td>0</td>\n",
       "      <td>0</td>\n",
       "      <td>0</td>\n",
       "      <td>0</td>\n",
       "      <td>1</td>\n",
       "      <td>0</td>\n",
       "      <td>1</td>\n",
       "      <td>0</td>\n",
       "      <td>1</td>\n",
       "      <td>0</td>\n",
       "      <td>0</td>\n",
       "      <td>0</td>\n",
       "      <td>0</td>\n",
       "      <td>0</td>\n",
       "      <td>0</td>\n",
       "      <td>0</td>\n",
       "      <td>0</td>\n",
       "      <td>0</td>\n",
       "      <td>0</td>\n",
       "      <td>0</td>\n",
       "      <td>0</td>\n",
       "      <td>0</td>\n",
       "      <td>0</td>\n",
       "      <td>0</td>\n",
       "      <td>0</td>\n",
       "      <td>0</td>\n",
       "      <td>0</td>\n",
       "      <td>0</td>\n",
       "      <td>0</td>\n",
       "      <td>0</td>\n",
       "      <td>0</td>\n",
       "      <td>0</td>\n",
       "      <td>0</td>\n",
       "      <td>0</td>\n",
       "      <td>0</td>\n",
       "      <td>0</td>\n",
       "      <td>0</td>\n",
       "      <td>0</td>\n",
       "      <td>0</td>\n",
       "      <td>0</td>\n",
       "      <td>0</td>\n",
       "      <td>0</td>\n",
       "      <td>0</td>\n",
       "      <td>0</td>\n",
       "      <td>0</td>\n",
       "      <td>0</td>\n",
       "      <td>0</td>\n",
       "      <td>0</td>\n",
       "      <td>0</td>\n",
       "      <td>0</td>\n",
       "      <td>0</td>\n",
       "      <td>0</td>\n",
       "      <td>0</td>\n",
       "      <td>1</td>\n",
       "      <td>0</td>\n",
       "      <td>0</td>\n",
       "      <td>0</td>\n",
       "      <td>0</td>\n",
       "      <td>0</td>\n",
       "      <td>0</td>\n",
       "      <td>0</td>\n",
       "    </tr>\n",
       "  </tbody>\n",
       "</table>\n",
       "</div>"
      ],
      "text/plain": [
       "   months_as_customer  age  policy_number  policy_deductable  \\\n",
       "0                 328   48         521585               1000   \n",
       "1                 228   42         342868               2000   \n",
       "2                 134   29         687698               2000   \n",
       "3                 256   41         227811               2000   \n",
       "4                 228   44         367455               1000   \n",
       "\n",
       "   policy_annual_premium  umbrella_limit  insured_zip  capital-gains  \\\n",
       "0                1406.91               0       466132          53300   \n",
       "1                1197.22         5000000       468176              0   \n",
       "2                1413.14         5000000       430632          35100   \n",
       "3                1415.74         6000000       608117          48900   \n",
       "4                1583.91         6000000       610706          66000   \n",
       "\n",
       "   capital-loss  incident_hour_of_the_day  number_of_vehicles_involved  \\\n",
       "0             0                         5                            1   \n",
       "1             0                         8                            1   \n",
       "2             0                         7                            3   \n",
       "3        -62400                         5                            1   \n",
       "4        -46000                        20                            1   \n",
       "\n",
       "   bodily_injuries  witnesses  total_claim_amount  injury_claim  \\\n",
       "0                1          2               71610          6510   \n",
       "1                0          0                5070           780   \n",
       "2                2          3               34650          7700   \n",
       "3                1          2               63400          6340   \n",
       "4                0          1                6500          1300   \n",
       "\n",
       "   property_claim  vehicle_claim  auto_year  fraud_reported  days  \\\n",
       "0           13020          52080       2004               1   100   \n",
       "1             780           3510       2007               1  3130   \n",
       "2            3850          23100       2007               0  5282   \n",
       "3            6340          50720       2014               1  8996   \n",
       "4             650           4550       2009               0   256   \n",
       "\n",
       "   policy_state_IL  policy_state_IN  policy_state_OH  policy_csl_100/300  \\\n",
       "0                0                0                1                   0   \n",
       "1                0                1                0                   0   \n",
       "2                0                0                1                   1   \n",
       "3                1                0                0                   0   \n",
       "4                1                0                0                   0   \n",
       "\n",
       "   policy_csl_250/500  policy_csl_500/1000  insured_sex_FEMALE  \\\n",
       "0                   1                    0                   0   \n",
       "1                   1                    0                   0   \n",
       "2                   0                    0                   1   \n",
       "3                   1                    0                   1   \n",
       "4                   0                    1                   0   \n",
       "\n",
       "   insured_sex_MALE  insured_education_level_Associate  \\\n",
       "0                 1                                  0   \n",
       "1                 1                                  0   \n",
       "2                 0                                  0   \n",
       "3                 0                                  0   \n",
       "4                 1                                  1   \n",
       "\n",
       "   insured_education_level_College  insured_education_level_High School  \\\n",
       "0                                0                                    0   \n",
       "1                                0                                    0   \n",
       "2                                0                                    0   \n",
       "3                                0                                    0   \n",
       "4                                0                                    0   \n",
       "\n",
       "   insured_education_level_JD  insured_education_level_MD  \\\n",
       "0                           0                           1   \n",
       "1                           0                           1   \n",
       "2                           0                           0   \n",
       "3                           0                           0   \n",
       "4                           0                           0   \n",
       "\n",
       "   insured_education_level_Masters  insured_education_level_PhD  \\\n",
       "0                                0                            0   \n",
       "1                                0                            0   \n",
       "2                                0                            1   \n",
       "3                                0                            1   \n",
       "4                                0                            0   \n",
       "\n",
       "   insured_occupation_adm-clerical  insured_occupation_armed-forces  \\\n",
       "0                                0                                0   \n",
       "1                                0                                0   \n",
       "2                                0                                0   \n",
       "3                                0                                1   \n",
       "4                                0                                0   \n",
       "\n",
       "   insured_occupation_craft-repair  insured_occupation_exec-managerial  \\\n",
       "0                                1                                   0   \n",
       "1                                0                                   0   \n",
       "2                                0                                   0   \n",
       "3                                0                                   0   \n",
       "4                                0                                   0   \n",
       "\n",
       "   insured_occupation_farming-fishing  insured_occupation_handlers-cleaners  \\\n",
       "0                                   0                                     0   \n",
       "1                                   0                                     0   \n",
       "2                                   0                                     0   \n",
       "3                                   0                                     0   \n",
       "4                                   0                                     0   \n",
       "\n",
       "   insured_occupation_machine-op-inspct  insured_occupation_other-service  \\\n",
       "0                                     0                                 0   \n",
       "1                                     1                                 0   \n",
       "2                                     0                                 0   \n",
       "3                                     0                                 0   \n",
       "4                                     0                                 0   \n",
       "\n",
       "   insured_occupation_priv-house-serv  insured_occupation_prof-specialty  \\\n",
       "0                                   0                                  0   \n",
       "1                                   0                                  0   \n",
       "2                                   0                                  0   \n",
       "3                                   0                                  0   \n",
       "4                                   0                                  0   \n",
       "\n",
       "   insured_occupation_protective-serv  insured_occupation_sales  \\\n",
       "0                                   0                         0   \n",
       "1                                   0                         0   \n",
       "2                                   0                         1   \n",
       "3                                   0                         0   \n",
       "4                                   0                         1   \n",
       "\n",
       "   insured_occupation_tech-support  insured_occupation_transport-moving  \\\n",
       "0                                0                                    0   \n",
       "1                                0                                    0   \n",
       "2                                0                                    0   \n",
       "3                                0                                    0   \n",
       "4                                0                                    0   \n",
       "\n",
       "   insured_hobbies_base-jumping  insured_hobbies_basketball  \\\n",
       "0                             0                           0   \n",
       "1                             0                           0   \n",
       "2                             0                           0   \n",
       "3                             0                           0   \n",
       "4                             0                           0   \n",
       "\n",
       "   insured_hobbies_board-games  insured_hobbies_bungie-jumping  \\\n",
       "0                            0                               0   \n",
       "1                            0                               0   \n",
       "2                            1                               0   \n",
       "3                            1                               0   \n",
       "4                            1                               0   \n",
       "\n",
       "   insured_hobbies_camping  insured_hobbies_chess  insured_hobbies_cross-fit  \\\n",
       "0                        0                      0                          0   \n",
       "1                        0                      0                          0   \n",
       "2                        0                      0                          0   \n",
       "3                        0                      0                          0   \n",
       "4                        0                      0                          0   \n",
       "\n",
       "   insured_hobbies_dancing  insured_hobbies_exercise  insured_hobbies_golf  \\\n",
       "0                        0                         0                     0   \n",
       "1                        0                         0                     0   \n",
       "2                        0                         0                     0   \n",
       "3                        0                         0                     0   \n",
       "4                        0                         0                     0   \n",
       "\n",
       "   insured_hobbies_hiking  insured_hobbies_kayaking  insured_hobbies_movies  \\\n",
       "0                       0                         0                       0   \n",
       "1                       0                         0                       0   \n",
       "2                       0                         0                       0   \n",
       "3                       0                         0                       0   \n",
       "4                       0                         0                       0   \n",
       "\n",
       "   insured_hobbies_paintball  insured_hobbies_polo  insured_hobbies_reading  \\\n",
       "0                          0                     0                        0   \n",
       "1                          0                     0                        1   \n",
       "2                          0                     0                        0   \n",
       "3                          0                     0                        0   \n",
       "4                          0                     0                        0   \n",
       "\n",
       "   insured_hobbies_skydiving  insured_hobbies_sleeping  \\\n",
       "0                          0                         1   \n",
       "1                          0                         0   \n",
       "2                          0                         0   \n",
       "3                          0                         0   \n",
       "4                          0                         0   \n",
       "\n",
       "   insured_hobbies_video-games  insured_hobbies_yachting  \\\n",
       "0                            0                         0   \n",
       "1                            0                         0   \n",
       "2                            0                         0   \n",
       "3                            0                         0   \n",
       "4                            0                         0   \n",
       "\n",
       "   insured_relationship_husband  insured_relationship_not-in-family  \\\n",
       "0                             1                                   0   \n",
       "1                             0                                   0   \n",
       "2                             0                                   0   \n",
       "3                             0                                   0   \n",
       "4                             0                                   0   \n",
       "\n",
       "   insured_relationship_other-relative  insured_relationship_own-child  \\\n",
       "0                                    0                               0   \n",
       "1                                    1                               0   \n",
       "2                                    0                               1   \n",
       "3                                    0                               0   \n",
       "4                                    0                               0   \n",
       "\n",
       "   insured_relationship_unmarried  insured_relationship_wife  \\\n",
       "0                               0                          0   \n",
       "1                               0                          0   \n",
       "2                               0                          0   \n",
       "3                               1                          0   \n",
       "4                               1                          0   \n",
       "\n",
       "   incident_type_Multi-vehicle Collision  incident_type_Parked Car  \\\n",
       "0                                      0                         0   \n",
       "1                                      0                         0   \n",
       "2                                      1                         0   \n",
       "3                                      0                         0   \n",
       "4                                      0                         0   \n",
       "\n",
       "   incident_type_Single Vehicle Collision  incident_type_Vehicle Theft  \\\n",
       "0                                       1                            0   \n",
       "1                                       0                            1   \n",
       "2                                       0                            0   \n",
       "3                                       1                            0   \n",
       "4                                       0                            1   \n",
       "\n",
       "   collision_type_Front Collision  collision_type_Rear Collision  \\\n",
       "0                               0                              0   \n",
       "1                               0                              1   \n",
       "2                               0                              1   \n",
       "3                               1                              0   \n",
       "4                               0                              1   \n",
       "\n",
       "   collision_type_Side Collision  incident_severity_Major Damage  \\\n",
       "0                              1                               1   \n",
       "1                              0                               0   \n",
       "2                              0                               0   \n",
       "3                              0                               1   \n",
       "4                              0                               0   \n",
       "\n",
       "   incident_severity_Minor Damage  incident_severity_Total Loss  \\\n",
       "0                               0                             0   \n",
       "1                               1                             0   \n",
       "2                               1                             0   \n",
       "3                               0                             0   \n",
       "4                               1                             0   \n",
       "\n",
       "   incident_severity_Trivial Damage  authorities_contacted_Ambulance  \\\n",
       "0                                 0                                0   \n",
       "1                                 0                                0   \n",
       "2                                 0                                0   \n",
       "3                                 0                                0   \n",
       "4                                 0                                0   \n",
       "\n",
       "   authorities_contacted_Fire  authorities_contacted_None  \\\n",
       "0                           0                           0   \n",
       "1                           0                           0   \n",
       "2                           0                           0   \n",
       "3                           0                           0   \n",
       "4                           0                           1   \n",
       "\n",
       "   authorities_contacted_Other  authorities_contacted_Police  \\\n",
       "0                            0                             1   \n",
       "1                            0                             1   \n",
       "2                            0                             1   \n",
       "3                            0                             1   \n",
       "4                            0                             0   \n",
       "\n",
       "   incident_state_NC  incident_state_NY  incident_state_OH  incident_state_PA  \\\n",
       "0                  0                  0                  0                  0   \n",
       "1                  0                  0                  0                  0   \n",
       "2                  0                  1                  0                  0   \n",
       "3                  0                  0                  1                  0   \n",
       "4                  0                  1                  0                  0   \n",
       "\n",
       "   incident_state_SC  incident_state_VA  incident_state_WV  \\\n",
       "0                  1                  0                  0   \n",
       "1                  0                  1                  0   \n",
       "2                  0                  0                  0   \n",
       "3                  0                  0                  0   \n",
       "4                  0                  0                  0   \n",
       "\n",
       "   incident_city_Arlington  incident_city_Columbus  incident_city_Hillsdale  \\\n",
       "0                        0                       1                        0   \n",
       "1                        0                       0                        0   \n",
       "2                        0                       1                        0   \n",
       "3                        1                       0                        0   \n",
       "4                        1                       0                        0   \n",
       "\n",
       "   incident_city_Northbend  incident_city_Northbrook  incident_city_Riverwood  \\\n",
       "0                        0                         0                        0   \n",
       "1                        0                         0                        1   \n",
       "2                        0                         0                        0   \n",
       "3                        0                         0                        0   \n",
       "4                        0                         0                        0   \n",
       "\n",
       "   incident_city_Springfield  property_damage_NO  property_damage_YES  \\\n",
       "0                          0                   0                    1   \n",
       "1                          0                   1                    0   \n",
       "2                          0                   1                    0   \n",
       "3                          0                   1                    0   \n",
       "4                          0                   1                    0   \n",
       "\n",
       "   police_report_available_NO  police_report_available_YES  auto_make_Accura  \\\n",
       "0                           0                            1                 0   \n",
       "1                           1                            0                 0   \n",
       "2                           1                            0                 0   \n",
       "3                           1                            0                 0   \n",
       "4                           1                            0                 1   \n",
       "\n",
       "   auto_make_Audi  auto_make_BMW  auto_make_Chevrolet  auto_make_Dodge  \\\n",
       "0               0              0                    0                0   \n",
       "1               0              0                    0                0   \n",
       "2               0              0                    0                1   \n",
       "3               0              0                    1                0   \n",
       "4               0              0                    0                0   \n",
       "\n",
       "   auto_make_Ford  auto_make_Honda  auto_make_Jeep  auto_make_Mercedes  \\\n",
       "0               0                0               0                   0   \n",
       "1               0                0               0                   1   \n",
       "2               0                0               0                   0   \n",
       "3               0                0               0                   0   \n",
       "4               0                0               0                   0   \n",
       "\n",
       "   auto_make_Nissan  auto_make_Saab  auto_make_Suburu  auto_make_Toyota  \\\n",
       "0                 0               1                 0                 0   \n",
       "1                 0               0                 0                 0   \n",
       "2                 0               0                 0                 0   \n",
       "3                 0               0                 0                 0   \n",
       "4                 0               0                 0                 0   \n",
       "\n",
       "   auto_make_Volkswagen  auto_model_3 Series  auto_model_92x  auto_model_93  \\\n",
       "0                     0                    0               1              0   \n",
       "1                     0                    0               0              0   \n",
       "2                     0                    0               0              0   \n",
       "3                     0                    0               0              0   \n",
       "4                     0                    0               0              0   \n",
       "\n",
       "   auto_model_95  auto_model_A3  auto_model_A5  auto_model_Accord  \\\n",
       "0              0              0              0                  0   \n",
       "1              0              0              0                  0   \n",
       "2              0              0              0                  0   \n",
       "3              0              0              0                  0   \n",
       "4              0              0              0                  0   \n",
       "\n",
       "   auto_model_C300  auto_model_CRV  auto_model_Camry  auto_model_Civic  \\\n",
       "0                0               0                 0                 0   \n",
       "1                0               0                 0                 0   \n",
       "2                0               0                 0                 0   \n",
       "3                0               0                 0                 0   \n",
       "4                0               0                 0                 0   \n",
       "\n",
       "   auto_model_Corolla  auto_model_E400  auto_model_Escape  auto_model_F150  \\\n",
       "0                   0                0                  0                0   \n",
       "1                   0                1                  0                0   \n",
       "2                   0                0                  0                0   \n",
       "3                   0                0                  0                0   \n",
       "4                   0                0                  0                0   \n",
       "\n",
       "   auto_model_Forrestor  auto_model_Fusion  auto_model_Grand Cherokee  \\\n",
       "0                     0                  0                          0   \n",
       "1                     0                  0                          0   \n",
       "2                     0                  0                          0   \n",
       "3                     0                  0                          0   \n",
       "4                     0                  0                          0   \n",
       "\n",
       "   auto_model_Highlander  auto_model_Impreza  auto_model_Jetta  \\\n",
       "0                      0                   0                 0   \n",
       "1                      0                   0                 0   \n",
       "2                      0                   0                 0   \n",
       "3                      0                   0                 0   \n",
       "4                      0                   0                 0   \n",
       "\n",
       "   auto_model_Legacy  auto_model_M5  auto_model_MDX  auto_model_ML350  \\\n",
       "0                  0              0               0                 0   \n",
       "1                  0              0               0                 0   \n",
       "2                  0              0               0                 0   \n",
       "3                  0              0               0                 0   \n",
       "4                  0              0               0                 0   \n",
       "\n",
       "   auto_model_Malibu  auto_model_Maxima  auto_model_Neon  auto_model_Passat  \\\n",
       "0                  0                  0                0                  0   \n",
       "1                  0                  0                0                  0   \n",
       "2                  0                  0                0                  0   \n",
       "3                  0                  0                0                  0   \n",
       "4                  0                  0                0                  0   \n",
       "\n",
       "   auto_model_Pathfinder  auto_model_RAM  auto_model_RSX  \\\n",
       "0                      0               0               0   \n",
       "1                      0               0               0   \n",
       "2                      0               1               0   \n",
       "3                      0               0               0   \n",
       "4                      0               0               1   \n",
       "\n",
       "   auto_model_Silverado  auto_model_TL  auto_model_Tahoe  auto_model_Ultima  \\\n",
       "0                     0              0                 0                  0   \n",
       "1                     0              0                 0                  0   \n",
       "2                     0              0                 0                  0   \n",
       "3                     0              0                 1                  0   \n",
       "4                     0              0                 0                  0   \n",
       "\n",
       "   auto_model_Wrangler  auto_model_X5  auto_model_X6  \n",
       "0                    0              0              0  \n",
       "1                    0              0              0  \n",
       "2                    0              0              0  \n",
       "3                    0              0              0  \n",
       "4                    0              0              0  "
      ]
     },
     "execution_count": 26,
     "metadata": {},
     "output_type": "execute_result"
    }
   ],
   "source": [
    "df.head()"
   ]
  },
  {
   "cell_type": "code",
   "execution_count": 27,
   "metadata": {},
   "outputs": [
    {
     "data": {
      "text/plain": [
       "(1000, 162)"
      ]
     },
     "execution_count": 27,
     "metadata": {},
     "output_type": "execute_result"
    }
   ],
   "source": [
    "df.shape"
   ]
  },
  {
   "cell_type": "markdown",
   "metadata": {},
   "source": [
    "# Separating target and independent variables"
   ]
  },
  {
   "cell_type": "code",
   "execution_count": 28,
   "metadata": {},
   "outputs": [],
   "source": [
    "y=df['fraud_reported']\n",
    "X=df.drop(['fraud_reported','policy_number','capital-gains','capital-loss'],axis=1)"
   ]
  },
  {
   "cell_type": "code",
   "execution_count": 29,
   "metadata": {},
   "outputs": [
    {
     "data": {
      "text/plain": [
       "(1000, 158)"
      ]
     },
     "execution_count": 29,
     "metadata": {},
     "output_type": "execute_result"
    }
   ],
   "source": [
    "X.shape"
   ]
  },
  {
   "cell_type": "markdown",
   "metadata": {},
   "source": [
    "# PCA"
   ]
  },
  {
   "cell_type": "code",
   "execution_count": 30,
   "metadata": {},
   "outputs": [],
   "source": [
    "from sklearn.decomposition import PCA\n",
    "pca=PCA(n_components=50)\n",
    "df_pca50=pca.fit_transform(X)\n",
    "df=pd.DataFrame(df_pca50)"
   ]
  },
  {
   "cell_type": "markdown",
   "metadata": {},
   "source": [
    "# Skewness treatment"
   ]
  },
  {
   "cell_type": "code",
   "execution_count": 31,
   "metadata": {},
   "outputs": [
    {
     "data": {
      "text/plain": [
       "0     1.806714\n",
       "1     0.815303\n",
       "2    -0.613837\n",
       "3     0.076112\n",
       "4    -0.064939\n",
       "5     0.057916\n",
       "6     0.463077\n",
       "7     0.004703\n",
       "8     0.353689\n",
       "9    -0.078997\n",
       "10    0.021951\n",
       "11    1.269501\n",
       "12    0.232131\n",
       "13    0.015826\n",
       "14    0.008989\n",
       "15    0.150893\n",
       "16    0.461395\n",
       "17    0.523643\n",
       "18   -0.013764\n",
       "19   -0.003543\n",
       "20   -0.001638\n",
       "21    0.094816\n",
       "22   -0.071421\n",
       "23    0.065398\n",
       "24    0.185673\n",
       "25    0.175490\n",
       "26    0.040392\n",
       "27   -0.004964\n",
       "28    0.199186\n",
       "29   -0.103989\n",
       "30   -0.182783\n",
       "31    0.299341\n",
       "32   -0.059294\n",
       "33    0.350381\n",
       "34    0.457588\n",
       "35   -0.049853\n",
       "36    0.249490\n",
       "37    0.598944\n",
       "38    0.217990\n",
       "39    0.110209\n",
       "40    0.189270\n",
       "41   -0.027280\n",
       "42    0.273865\n",
       "43    0.222467\n",
       "44    0.135319\n",
       "45    0.191992\n",
       "46    0.271400\n",
       "47    0.177049\n",
       "48   -0.061981\n",
       "49    0.296871\n",
       "dtype: float64"
      ]
     },
     "execution_count": 31,
     "metadata": {},
     "output_type": "execute_result"
    }
   ],
   "source": [
    "df.skew()"
   ]
  },
  {
   "cell_type": "markdown",
   "metadata": {},
   "source": [
    "# Applying Power transformation to remove skewness"
   ]
  },
  {
   "cell_type": "code",
   "execution_count": 32,
   "metadata": {},
   "outputs": [],
   "source": [
    "from sklearn.preprocessing import PowerTransformer\n",
    "pt=PowerTransformer(method='yeo-johnson') \n",
    "df=pt.fit_transform(df)\n",
    "df=pd.DataFrame(df)"
   ]
  },
  {
   "cell_type": "code",
   "execution_count": 33,
   "metadata": {},
   "outputs": [
    {
     "data": {
      "text/plain": [
       "0     1.482007\n",
       "1     0.431059\n",
       "2     0.080426\n",
       "3    -0.176454\n",
       "4    -0.038522\n",
       "5     0.037959\n",
       "6    -0.022375\n",
       "7    -0.010915\n",
       "8     0.122777\n",
       "9    -0.019922\n",
       "10    0.002273\n",
       "11    0.127402\n",
       "12    0.068799\n",
       "13    0.000423\n",
       "14    0.004339\n",
       "15    0.077764\n",
       "16    0.026770\n",
       "17    0.062300\n",
       "18    0.003883\n",
       "19   -0.007554\n",
       "20   -0.000932\n",
       "21    0.003762\n",
       "22    0.003256\n",
       "23    0.003069\n",
       "24    0.001829\n",
       "25   -0.008354\n",
       "26    0.003547\n",
       "27    0.001245\n",
       "28    0.007695\n",
       "29    0.009385\n",
       "30    0.015611\n",
       "31    0.020516\n",
       "32    0.007027\n",
       "33   -0.000495\n",
       "34    0.002386\n",
       "35   -0.001919\n",
       "36   -0.000028\n",
       "37    0.012680\n",
       "38   -0.004723\n",
       "39    0.001152\n",
       "40    0.007743\n",
       "41    0.000149\n",
       "42    0.007815\n",
       "43    0.002376\n",
       "44   -0.006020\n",
       "45   -0.006987\n",
       "46    0.002979\n",
       "47   -0.000009\n",
       "48    0.005514\n",
       "49   -0.016605\n",
       "dtype: float64"
      ]
     },
     "execution_count": 33,
     "metadata": {},
     "output_type": "execute_result"
    }
   ],
   "source": [
    "df.skew()"
   ]
  },
  {
   "cell_type": "code",
   "execution_count": 34,
   "metadata": {},
   "outputs": [
    {
     "data": {
      "text/html": [
       "<div>\n",
       "<style scoped>\n",
       "    .dataframe tbody tr th:only-of-type {\n",
       "        vertical-align: middle;\n",
       "    }\n",
       "\n",
       "    .dataframe tbody tr th {\n",
       "        vertical-align: top;\n",
       "    }\n",
       "\n",
       "    .dataframe thead th {\n",
       "        text-align: right;\n",
       "    }\n",
       "</style>\n",
       "<table border=\"1\" class=\"dataframe\">\n",
       "  <thead>\n",
       "    <tr style=\"text-align: right;\">\n",
       "      <th></th>\n",
       "      <th>0</th>\n",
       "      <th>1</th>\n",
       "      <th>2</th>\n",
       "      <th>3</th>\n",
       "      <th>4</th>\n",
       "      <th>5</th>\n",
       "      <th>6</th>\n",
       "      <th>7</th>\n",
       "      <th>8</th>\n",
       "      <th>9</th>\n",
       "      <th>10</th>\n",
       "      <th>11</th>\n",
       "      <th>12</th>\n",
       "      <th>13</th>\n",
       "      <th>14</th>\n",
       "      <th>15</th>\n",
       "      <th>16</th>\n",
       "      <th>17</th>\n",
       "      <th>18</th>\n",
       "      <th>19</th>\n",
       "      <th>20</th>\n",
       "      <th>21</th>\n",
       "      <th>22</th>\n",
       "      <th>23</th>\n",
       "      <th>24</th>\n",
       "      <th>25</th>\n",
       "      <th>26</th>\n",
       "      <th>27</th>\n",
       "      <th>28</th>\n",
       "      <th>29</th>\n",
       "      <th>30</th>\n",
       "      <th>31</th>\n",
       "      <th>32</th>\n",
       "      <th>33</th>\n",
       "      <th>34</th>\n",
       "      <th>35</th>\n",
       "      <th>36</th>\n",
       "      <th>37</th>\n",
       "      <th>38</th>\n",
       "      <th>39</th>\n",
       "      <th>40</th>\n",
       "      <th>41</th>\n",
       "      <th>42</th>\n",
       "      <th>43</th>\n",
       "      <th>44</th>\n",
       "      <th>45</th>\n",
       "      <th>46</th>\n",
       "      <th>47</th>\n",
       "      <th>48</th>\n",
       "      <th>49</th>\n",
       "    </tr>\n",
       "  </thead>\n",
       "  <tbody>\n",
       "    <tr>\n",
       "      <td>0</td>\n",
       "      <td>-0.496901</td>\n",
       "      <td>-0.257176</td>\n",
       "      <td>0.684257</td>\n",
       "      <td>0.310809</td>\n",
       "      <td>-1.427071</td>\n",
       "      <td>1.752489</td>\n",
       "      <td>0.163463</td>\n",
       "      <td>-0.599390</td>\n",
       "      <td>1.164000</td>\n",
       "      <td>-1.282721</td>\n",
       "      <td>-0.003526</td>\n",
       "      <td>0.170258</td>\n",
       "      <td>-0.978925</td>\n",
       "      <td>0.179320</td>\n",
       "      <td>-0.025136</td>\n",
       "      <td>1.352620</td>\n",
       "      <td>1.152547</td>\n",
       "      <td>1.378003</td>\n",
       "      <td>0.632671</td>\n",
       "      <td>-1.038201</td>\n",
       "      <td>-1.677070</td>\n",
       "      <td>-1.276506</td>\n",
       "      <td>-0.120316</td>\n",
       "      <td>-0.246529</td>\n",
       "      <td>0.842117</td>\n",
       "      <td>1.181645</td>\n",
       "      <td>0.945992</td>\n",
       "      <td>0.354383</td>\n",
       "      <td>-1.174238</td>\n",
       "      <td>0.471759</td>\n",
       "      <td>0.340740</td>\n",
       "      <td>0.722108</td>\n",
       "      <td>1.152245</td>\n",
       "      <td>-2.454805</td>\n",
       "      <td>-0.411427</td>\n",
       "      <td>-1.131639</td>\n",
       "      <td>-1.347063</td>\n",
       "      <td>0.014372</td>\n",
       "      <td>-0.489740</td>\n",
       "      <td>-0.749157</td>\n",
       "      <td>-0.924287</td>\n",
       "      <td>-0.758364</td>\n",
       "      <td>-0.749761</td>\n",
       "      <td>1.285182</td>\n",
       "      <td>-1.050673</td>\n",
       "      <td>-1.259195</td>\n",
       "      <td>-1.314484</td>\n",
       "      <td>-1.823994</td>\n",
       "      <td>-0.417738</td>\n",
       "      <td>0.421651</td>\n",
       "    </tr>\n",
       "    <tr>\n",
       "      <td>1</td>\n",
       "      <td>1.943596</td>\n",
       "      <td>-0.238548</td>\n",
       "      <td>-1.536288</td>\n",
       "      <td>-0.167933</td>\n",
       "      <td>0.011586</td>\n",
       "      <td>0.525734</td>\n",
       "      <td>1.281330</td>\n",
       "      <td>0.188650</td>\n",
       "      <td>0.359089</td>\n",
       "      <td>-0.219559</td>\n",
       "      <td>-0.174832</td>\n",
       "      <td>0.565417</td>\n",
       "      <td>-0.034321</td>\n",
       "      <td>-1.511839</td>\n",
       "      <td>-1.219997</td>\n",
       "      <td>1.161423</td>\n",
       "      <td>0.163069</td>\n",
       "      <td>-0.257940</td>\n",
       "      <td>0.832464</td>\n",
       "      <td>0.189504</td>\n",
       "      <td>1.264046</td>\n",
       "      <td>0.439537</td>\n",
       "      <td>-1.055957</td>\n",
       "      <td>0.404377</td>\n",
       "      <td>-0.014509</td>\n",
       "      <td>1.174714</td>\n",
       "      <td>0.610172</td>\n",
       "      <td>0.467249</td>\n",
       "      <td>-0.833351</td>\n",
       "      <td>0.033905</td>\n",
       "      <td>0.245502</td>\n",
       "      <td>-0.392259</td>\n",
       "      <td>0.372527</td>\n",
       "      <td>1.331798</td>\n",
       "      <td>0.160436</td>\n",
       "      <td>-0.111489</td>\n",
       "      <td>0.474836</td>\n",
       "      <td>-1.634537</td>\n",
       "      <td>0.049809</td>\n",
       "      <td>-1.341349</td>\n",
       "      <td>0.423785</td>\n",
       "      <td>-0.486665</td>\n",
       "      <td>-1.376868</td>\n",
       "      <td>0.883636</td>\n",
       "      <td>-2.977135</td>\n",
       "      <td>-0.197321</td>\n",
       "      <td>1.239365</td>\n",
       "      <td>-1.901163</td>\n",
       "      <td>-1.746007</td>\n",
       "      <td>-0.478297</td>\n",
       "    </tr>\n",
       "    <tr>\n",
       "      <td>2</td>\n",
       "      <td>1.943592</td>\n",
       "      <td>-1.455800</td>\n",
       "      <td>-0.774851</td>\n",
       "      <td>-0.657633</td>\n",
       "      <td>0.822289</td>\n",
       "      <td>-0.287423</td>\n",
       "      <td>1.235879</td>\n",
       "      <td>-0.734973</td>\n",
       "      <td>-0.644179</td>\n",
       "      <td>-0.514041</td>\n",
       "      <td>-0.287466</td>\n",
       "      <td>-1.696526</td>\n",
       "      <td>1.117713</td>\n",
       "      <td>1.473211</td>\n",
       "      <td>1.273564</td>\n",
       "      <td>-1.260408</td>\n",
       "      <td>-0.164554</td>\n",
       "      <td>0.047991</td>\n",
       "      <td>0.210818</td>\n",
       "      <td>-0.962791</td>\n",
       "      <td>1.034284</td>\n",
       "      <td>1.221403</td>\n",
       "      <td>1.436045</td>\n",
       "      <td>-0.345410</td>\n",
       "      <td>-1.203183</td>\n",
       "      <td>0.215981</td>\n",
       "      <td>0.845072</td>\n",
       "      <td>-0.376879</td>\n",
       "      <td>-0.731908</td>\n",
       "      <td>0.125705</td>\n",
       "      <td>0.230380</td>\n",
       "      <td>0.833484</td>\n",
       "      <td>-2.297456</td>\n",
       "      <td>-1.038817</td>\n",
       "      <td>0.104703</td>\n",
       "      <td>-0.811182</td>\n",
       "      <td>-1.236395</td>\n",
       "      <td>-0.589875</td>\n",
       "      <td>-2.592163</td>\n",
       "      <td>0.399322</td>\n",
       "      <td>-0.958972</td>\n",
       "      <td>-1.124717</td>\n",
       "      <td>0.938927</td>\n",
       "      <td>-0.911450</td>\n",
       "      <td>0.453447</td>\n",
       "      <td>0.171137</td>\n",
       "      <td>-1.152210</td>\n",
       "      <td>0.615802</td>\n",
       "      <td>-2.551720</td>\n",
       "      <td>1.534780</td>\n",
       "    </tr>\n",
       "    <tr>\n",
       "      <td>3</td>\n",
       "      <td>2.035204</td>\n",
       "      <td>1.393972</td>\n",
       "      <td>0.599498</td>\n",
       "      <td>1.480450</td>\n",
       "      <td>0.154213</td>\n",
       "      <td>-1.696955</td>\n",
       "      <td>1.277469</td>\n",
       "      <td>-0.513909</td>\n",
       "      <td>0.303175</td>\n",
       "      <td>-0.948539</td>\n",
       "      <td>-1.767150</td>\n",
       "      <td>-0.225757</td>\n",
       "      <td>-1.131934</td>\n",
       "      <td>0.325391</td>\n",
       "      <td>0.043303</td>\n",
       "      <td>-0.614589</td>\n",
       "      <td>-0.460443</td>\n",
       "      <td>-0.680958</td>\n",
       "      <td>0.926525</td>\n",
       "      <td>1.046340</td>\n",
       "      <td>0.023207</td>\n",
       "      <td>-2.203204</td>\n",
       "      <td>0.380943</td>\n",
       "      <td>-0.464059</td>\n",
       "      <td>0.268894</td>\n",
       "      <td>-0.051418</td>\n",
       "      <td>1.032504</td>\n",
       "      <td>1.129838</td>\n",
       "      <td>-0.867604</td>\n",
       "      <td>-0.617876</td>\n",
       "      <td>0.770168</td>\n",
       "      <td>-0.047035</td>\n",
       "      <td>0.303246</td>\n",
       "      <td>-0.741890</td>\n",
       "      <td>-0.052455</td>\n",
       "      <td>0.191664</td>\n",
       "      <td>1.548935</td>\n",
       "      <td>1.072771</td>\n",
       "      <td>-0.211435</td>\n",
       "      <td>2.796065</td>\n",
       "      <td>0.818027</td>\n",
       "      <td>-1.229699</td>\n",
       "      <td>0.155643</td>\n",
       "      <td>0.218116</td>\n",
       "      <td>1.209550</td>\n",
       "      <td>0.474669</td>\n",
       "      <td>-0.097232</td>\n",
       "      <td>-0.399349</td>\n",
       "      <td>-1.520692</td>\n",
       "      <td>-0.224085</td>\n",
       "    </tr>\n",
       "    <tr>\n",
       "      <td>4</td>\n",
       "      <td>2.035208</td>\n",
       "      <td>1.417729</td>\n",
       "      <td>-1.424906</td>\n",
       "      <td>-0.085272</td>\n",
       "      <td>0.204250</td>\n",
       "      <td>1.565347</td>\n",
       "      <td>0.185666</td>\n",
       "      <td>-1.341169</td>\n",
       "      <td>0.384833</td>\n",
       "      <td>1.679450</td>\n",
       "      <td>-0.427814</td>\n",
       "      <td>0.848703</td>\n",
       "      <td>-0.245131</td>\n",
       "      <td>-0.613412</td>\n",
       "      <td>-1.292801</td>\n",
       "      <td>0.701880</td>\n",
       "      <td>-0.628231</td>\n",
       "      <td>-0.836895</td>\n",
       "      <td>0.442086</td>\n",
       "      <td>1.333051</td>\n",
       "      <td>-0.409653</td>\n",
       "      <td>1.470100</td>\n",
       "      <td>0.958582</td>\n",
       "      <td>-0.071747</td>\n",
       "      <td>0.323918</td>\n",
       "      <td>-1.086384</td>\n",
       "      <td>0.389845</td>\n",
       "      <td>-1.247411</td>\n",
       "      <td>0.501107</td>\n",
       "      <td>-0.060191</td>\n",
       "      <td>0.043179</td>\n",
       "      <td>-0.065263</td>\n",
       "      <td>0.133256</td>\n",
       "      <td>-0.324122</td>\n",
       "      <td>0.170681</td>\n",
       "      <td>0.276636</td>\n",
       "      <td>2.465711</td>\n",
       "      <td>0.595923</td>\n",
       "      <td>-0.999214</td>\n",
       "      <td>0.599678</td>\n",
       "      <td>-0.098907</td>\n",
       "      <td>-1.129806</td>\n",
       "      <td>1.390380</td>\n",
       "      <td>1.072548</td>\n",
       "      <td>0.216172</td>\n",
       "      <td>-0.540734</td>\n",
       "      <td>0.270608</td>\n",
       "      <td>0.427599</td>\n",
       "      <td>1.410391</td>\n",
       "      <td>0.141346</td>\n",
       "    </tr>\n",
       "  </tbody>\n",
       "</table>\n",
       "</div>"
      ],
      "text/plain": [
       "          0         1         2         3         4         5         6  \\\n",
       "0 -0.496901 -0.257176  0.684257  0.310809 -1.427071  1.752489  0.163463   \n",
       "1  1.943596 -0.238548 -1.536288 -0.167933  0.011586  0.525734  1.281330   \n",
       "2  1.943592 -1.455800 -0.774851 -0.657633  0.822289 -0.287423  1.235879   \n",
       "3  2.035204  1.393972  0.599498  1.480450  0.154213 -1.696955  1.277469   \n",
       "4  2.035208  1.417729 -1.424906 -0.085272  0.204250  1.565347  0.185666   \n",
       "\n",
       "          7         8         9        10        11        12        13  \\\n",
       "0 -0.599390  1.164000 -1.282721 -0.003526  0.170258 -0.978925  0.179320   \n",
       "1  0.188650  0.359089 -0.219559 -0.174832  0.565417 -0.034321 -1.511839   \n",
       "2 -0.734973 -0.644179 -0.514041 -0.287466 -1.696526  1.117713  1.473211   \n",
       "3 -0.513909  0.303175 -0.948539 -1.767150 -0.225757 -1.131934  0.325391   \n",
       "4 -1.341169  0.384833  1.679450 -0.427814  0.848703 -0.245131 -0.613412   \n",
       "\n",
       "         14        15        16        17        18        19        20  \\\n",
       "0 -0.025136  1.352620  1.152547  1.378003  0.632671 -1.038201 -1.677070   \n",
       "1 -1.219997  1.161423  0.163069 -0.257940  0.832464  0.189504  1.264046   \n",
       "2  1.273564 -1.260408 -0.164554  0.047991  0.210818 -0.962791  1.034284   \n",
       "3  0.043303 -0.614589 -0.460443 -0.680958  0.926525  1.046340  0.023207   \n",
       "4 -1.292801  0.701880 -0.628231 -0.836895  0.442086  1.333051 -0.409653   \n",
       "\n",
       "         21        22        23        24        25        26        27  \\\n",
       "0 -1.276506 -0.120316 -0.246529  0.842117  1.181645  0.945992  0.354383   \n",
       "1  0.439537 -1.055957  0.404377 -0.014509  1.174714  0.610172  0.467249   \n",
       "2  1.221403  1.436045 -0.345410 -1.203183  0.215981  0.845072 -0.376879   \n",
       "3 -2.203204  0.380943 -0.464059  0.268894 -0.051418  1.032504  1.129838   \n",
       "4  1.470100  0.958582 -0.071747  0.323918 -1.086384  0.389845 -1.247411   \n",
       "\n",
       "         28        29        30        31        32        33        34  \\\n",
       "0 -1.174238  0.471759  0.340740  0.722108  1.152245 -2.454805 -0.411427   \n",
       "1 -0.833351  0.033905  0.245502 -0.392259  0.372527  1.331798  0.160436   \n",
       "2 -0.731908  0.125705  0.230380  0.833484 -2.297456 -1.038817  0.104703   \n",
       "3 -0.867604 -0.617876  0.770168 -0.047035  0.303246 -0.741890 -0.052455   \n",
       "4  0.501107 -0.060191  0.043179 -0.065263  0.133256 -0.324122  0.170681   \n",
       "\n",
       "         35        36        37        38        39        40        41  \\\n",
       "0 -1.131639 -1.347063  0.014372 -0.489740 -0.749157 -0.924287 -0.758364   \n",
       "1 -0.111489  0.474836 -1.634537  0.049809 -1.341349  0.423785 -0.486665   \n",
       "2 -0.811182 -1.236395 -0.589875 -2.592163  0.399322 -0.958972 -1.124717   \n",
       "3  0.191664  1.548935  1.072771 -0.211435  2.796065  0.818027 -1.229699   \n",
       "4  0.276636  2.465711  0.595923 -0.999214  0.599678 -0.098907 -1.129806   \n",
       "\n",
       "         42        43        44        45        46        47        48  \\\n",
       "0 -0.749761  1.285182 -1.050673 -1.259195 -1.314484 -1.823994 -0.417738   \n",
       "1 -1.376868  0.883636 -2.977135 -0.197321  1.239365 -1.901163 -1.746007   \n",
       "2  0.938927 -0.911450  0.453447  0.171137 -1.152210  0.615802 -2.551720   \n",
       "3  0.155643  0.218116  1.209550  0.474669 -0.097232 -0.399349 -1.520692   \n",
       "4  1.390380  1.072548  0.216172 -0.540734  0.270608  0.427599  1.410391   \n",
       "\n",
       "         49  \n",
       "0  0.421651  \n",
       "1 -0.478297  \n",
       "2  1.534780  \n",
       "3 -0.224085  \n",
       "4  0.141346  "
      ]
     },
     "execution_count": 34,
     "metadata": {},
     "output_type": "execute_result"
    }
   ],
   "source": [
    "df.head()"
   ]
  },
  {
   "cell_type": "markdown",
   "metadata": {},
   "source": [
    "# Scaling the data"
   ]
  },
  {
   "cell_type": "code",
   "execution_count": 35,
   "metadata": {},
   "outputs": [],
   "source": [
    "#Applying Standard scalar to independent variable only\n",
    "from sklearn.preprocessing import StandardScaler\n",
    "ss=StandardScaler()\n",
    "x=ss.fit_transform(df)"
   ]
  },
  {
   "cell_type": "markdown",
   "metadata": {},
   "source": [
    "# Model building"
   ]
  },
  {
   "cell_type": "code",
   "execution_count": 36,
   "metadata": {},
   "outputs": [],
   "source": [
    "from sklearn.model_selection import train_test_split,cross_val_score\n",
    "x_train,x_test,y_train,y_test=train_test_split(x,y,random_state=42,stratify=y)"
   ]
  },
  {
   "cell_type": "code",
   "execution_count": 37,
   "metadata": {},
   "outputs": [],
   "source": [
    "from sklearn.neighbors import KNeighborsClassifier\n",
    "from sklearn.svm import SVC\n",
    "from sklearn.linear_model import LogisticRegression\n",
    "from sklearn.tree import DecisionTreeClassifier\n",
    "from sklearn.naive_bayes import GaussianNB\n",
    "from sklearn.ensemble import RandomForestClassifier\n",
    "from xgboost import XGBClassifier\n",
    "from sklearn.ensemble import GradientBoostingClassifier\n",
    "from sklearn.ensemble import AdaBoostClassifier"
   ]
  },
  {
   "cell_type": "code",
   "execution_count": 38,
   "metadata": {},
   "outputs": [],
   "source": [
    "knn=KNeighborsClassifier()\n",
    "svc=SVC()\n",
    "lr=LogisticRegression()\n",
    "dt=DecisionTreeClassifier()\n",
    "gnb=GaussianNB()\n",
    "rfc=RandomForestClassifier()\n",
    "xgb=XGBClassifier()\n",
    "gbc=GradientBoostingClassifier()\n",
    "ada=AdaBoostClassifier()"
   ]
  },
  {
   "cell_type": "code",
   "execution_count": 39,
   "metadata": {},
   "outputs": [],
   "source": [
    "models=[]\n",
    "models.append(('KNeighborsClassifier',knn))\n",
    "models.append(('SVC',svc))\n",
    "models.append(('LogisticRegression',lr))\n",
    "models.append(('DecisionTreeClassifier',dt))\n",
    "models.append(('GaussianNB',gnb))\n",
    "models.append(('RandomForestClassifier',rfc))\n",
    "models.append(('XGBClassifier',xgb))\n",
    "models.append(('GradientBoostingClassifier',gbc))\n",
    "models.append(('AdaBoostClassifier',ada))"
   ]
  },
  {
   "cell_type": "code",
   "execution_count": 40,
   "metadata": {},
   "outputs": [],
   "source": [
    "from sklearn.metrics import classification_report,confusion_matrix,accuracy_score"
   ]
  },
  {
   "cell_type": "code",
   "execution_count": 41,
   "metadata": {},
   "outputs": [
    {
     "name": "stdout",
     "output_type": "stream",
     "text": [
      "***************** KNeighborsClassifier *******************\n",
      "\n",
      "\n",
      "KNeighborsClassifier(algorithm='auto', leaf_size=30, metric='minkowski',\n",
      "                     metric_params=None, n_jobs=None, n_neighbors=5, p=2,\n",
      "                     weights='uniform')\n",
      "\n",
      "\n",
      "Accuracy_score  - 0.74\n",
      "\n",
      "\n",
      "cross_val_score  - 0.7521256125612561\n",
      "\n",
      "\n",
      "roc_auc_score  - 0.5622855181880577\n",
      "\n",
      "\n",
      "Recall_score  - 0.20967741935483872\n",
      "\n",
      "\n",
      "classification report\n",
      "               precision    recall  f1-score   support\n",
      "\n",
      "           0       0.78      0.91      0.84       188\n",
      "           1       0.45      0.21      0.29        62\n",
      "\n",
      "    accuracy                           0.74       250\n",
      "   macro avg       0.61      0.56      0.56       250\n",
      "weighted avg       0.70      0.74      0.70       250\n",
      "\n",
      "\n",
      "\n",
      "[[172  16]\n",
      " [ 49  13]]\n",
      "\n",
      "\n",
      "AxesSubplot(0.125,0.808774;0.62x0.0712264)\n",
      "\n",
      "\n",
      "\n",
      "***************** SVC *******************\n",
      "\n",
      "\n",
      "SVC(C=1.0, cache_size=200, class_weight=None, coef0=0.0,\n",
      "    decision_function_shape='ovr', degree=3, gamma='auto_deprecated',\n",
      "    kernel='rbf', max_iter=-1, probability=False, random_state=None,\n",
      "    shrinking=True, tol=0.001, verbose=False)\n",
      "\n",
      "\n",
      "Accuracy_score  - 0.816\n",
      "\n",
      "\n",
      "cross_val_score  - 0.7930987098709871\n",
      "\n",
      "\n",
      "roc_auc_score  - 0.693891557995882\n",
      "\n",
      "\n",
      "Recall_score  - 0.45161290322580644\n",
      "\n",
      "\n",
      "classification report\n",
      "               precision    recall  f1-score   support\n",
      "\n",
      "           0       0.84      0.94      0.88       188\n",
      "           1       0.70      0.45      0.55        62\n",
      "\n",
      "    accuracy                           0.82       250\n",
      "   macro avg       0.77      0.69      0.72       250\n",
      "weighted avg       0.80      0.82      0.80       250\n",
      "\n",
      "\n",
      "\n",
      "[[176  12]\n",
      " [ 34  28]]\n",
      "\n",
      "\n",
      "AxesSubplot(0.125,0.808774;0.62x0.0712264)\n",
      "\n",
      "\n",
      "\n",
      "***************** LogisticRegression *******************\n",
      "\n",
      "\n",
      "LogisticRegression(C=1.0, class_weight=None, dual=False, fit_intercept=True,\n",
      "                   intercept_scaling=1, l1_ratio=None, max_iter=100,\n",
      "                   multi_class='warn', n_jobs=None, penalty='l2',\n",
      "                   random_state=None, solver='warn', tol=0.0001, verbose=0,\n",
      "                   warm_start=False)\n",
      "\n",
      "\n",
      "Accuracy_score  - 0.796\n",
      "\n",
      "\n",
      "cross_val_score  - 0.7990898089808981\n",
      "\n",
      "\n",
      "roc_auc_score  - 0.6805936856554564\n",
      "\n",
      "\n",
      "Recall_score  - 0.45161290322580644\n",
      "\n",
      "\n",
      "classification report\n",
      "               precision    recall  f1-score   support\n",
      "\n",
      "           0       0.83      0.91      0.87       188\n",
      "           1       0.62      0.45      0.52        62\n",
      "\n",
      "    accuracy                           0.80       250\n",
      "   macro avg       0.73      0.68      0.70       250\n",
      "weighted avg       0.78      0.80      0.78       250\n",
      "\n",
      "\n",
      "\n",
      "[[171  17]\n",
      " [ 34  28]]\n",
      "\n",
      "\n",
      "AxesSubplot(0.125,0.808774;0.62x0.0712264)\n",
      "\n",
      "\n",
      "\n",
      "***************** DecisionTreeClassifier *******************\n",
      "\n",
      "\n",
      "DecisionTreeClassifier(class_weight=None, criterion='gini', max_depth=None,\n",
      "                       max_features=None, max_leaf_nodes=None,\n",
      "                       min_impurity_decrease=0.0, min_impurity_split=None,\n",
      "                       min_samples_leaf=1, min_samples_split=2,\n",
      "                       min_weight_fraction_leaf=0.0, presort=False,\n",
      "                       random_state=None, splitter='best')\n",
      "\n",
      "\n",
      "Accuracy_score  - 0.704\n",
      "\n",
      "\n",
      "cross_val_score  - 0.7068427842784278\n",
      "\n",
      "\n",
      "roc_auc_score  - 0.5761839396019217\n",
      "\n",
      "\n",
      "Recall_score  - 0.3225806451612903\n",
      "\n",
      "\n",
      "classification report\n",
      "               precision    recall  f1-score   support\n",
      "\n",
      "           0       0.79      0.83      0.81       188\n",
      "           1       0.38      0.32      0.35        62\n",
      "\n",
      "    accuracy                           0.70       250\n",
      "   macro avg       0.59      0.58      0.58       250\n",
      "weighted avg       0.69      0.70      0.69       250\n",
      "\n",
      "\n",
      "\n",
      "[[156  32]\n",
      " [ 42  20]]\n",
      "\n",
      "\n",
      "AxesSubplot(0.125,0.808774;0.62x0.0712264)\n",
      "\n",
      "\n",
      "\n",
      "***************** GaussianNB *******************\n",
      "\n",
      "\n",
      "GaussianNB(priors=None, var_smoothing=1e-09)\n",
      "\n",
      "\n",
      "Accuracy_score  - 0.804\n",
      "\n",
      "\n",
      "cross_val_score  - 0.7961191119111912\n",
      "\n",
      "\n",
      "roc_auc_score  - 0.7021276595744681\n",
      "\n",
      "\n",
      "Recall_score  - 0.5\n",
      "\n",
      "\n",
      "classification report\n",
      "               precision    recall  f1-score   support\n",
      "\n",
      "           0       0.85      0.90      0.87       188\n",
      "           1       0.63      0.50      0.56        62\n",
      "\n",
      "    accuracy                           0.80       250\n",
      "   macro avg       0.74      0.70      0.72       250\n",
      "weighted avg       0.79      0.80      0.80       250\n",
      "\n",
      "\n",
      "\n",
      "[[170  18]\n",
      " [ 31  31]]\n",
      "\n",
      "\n",
      "AxesSubplot(0.125,0.808774;0.62x0.0712264)\n",
      "\n",
      "\n",
      "\n",
      "***************** RandomForestClassifier *******************\n",
      "\n",
      "\n",
      "RandomForestClassifier(bootstrap=True, class_weight=None, criterion='gini',\n",
      "                       max_depth=None, max_features='auto', max_leaf_nodes=None,\n",
      "                       min_impurity_decrease=0.0, min_impurity_split=None,\n",
      "                       min_samples_leaf=1, min_samples_split=2,\n",
      "                       min_weight_fraction_leaf=0.0, n_estimators=10,\n",
      "                       n_jobs=None, oob_score=False, random_state=None,\n",
      "                       verbose=0, warm_start=False)\n",
      "\n",
      "\n",
      "Accuracy_score  - 0.752\n",
      "\n",
      "\n",
      "cross_val_score  - 0.754986598659866\n",
      "\n",
      "\n",
      "roc_auc_score  - 0.5540494166094715\n",
      "\n",
      "\n",
      "Recall_score  - 0.16129032258064516\n",
      "\n",
      "\n",
      "classification report\n",
      "               precision    recall  f1-score   support\n",
      "\n",
      "           0       0.77      0.95      0.85       188\n",
      "           1       0.50      0.16      0.24        62\n",
      "\n",
      "    accuracy                           0.75       250\n",
      "   macro avg       0.64      0.55      0.55       250\n",
      "weighted avg       0.71      0.75      0.70       250\n",
      "\n",
      "\n",
      "\n",
      "[[178  10]\n",
      " [ 52  10]]\n",
      "\n",
      "\n",
      "AxesSubplot(0.125,0.808774;0.62x0.0712264)\n",
      "\n",
      "\n",
      "\n",
      "***************** XGBClassifier *******************\n",
      "\n",
      "\n",
      "XGBClassifier(base_score=0.5, booster=None, colsample_bylevel=1,\n",
      "              colsample_bynode=1, colsample_bytree=1, gamma=0, gpu_id=-1,\n",
      "              importance_type='gain', interaction_constraints=None,\n",
      "              learning_rate=0.300000012, max_delta_step=0, max_depth=6,\n",
      "              min_child_weight=1, missing=nan, monotone_constraints=None,\n",
      "              n_estimators=100, n_jobs=0, num_parallel_tree=1,\n",
      "              objective='binary:logistic', random_state=0, reg_alpha=0,\n",
      "              reg_lambda=1, scale_pos_weight=1, subsample=1, tree_method=None,\n",
      "              validate_parameters=False, verbosity=None)\n",
      "\n",
      "\n",
      "Accuracy_score  - 0.796\n",
      "\n",
      "\n",
      "cross_val_score  - 0.7729974997499751\n",
      "\n",
      "\n",
      "roc_auc_score  - 0.6697838023335622\n",
      "\n",
      "\n",
      "Recall_score  - 0.41935483870967744\n",
      "\n",
      "\n",
      "classification report\n",
      "               precision    recall  f1-score   support\n",
      "\n",
      "           0       0.83      0.92      0.87       188\n",
      "           1       0.63      0.42      0.50        62\n",
      "\n",
      "    accuracy                           0.80       250\n",
      "   macro avg       0.73      0.67      0.69       250\n",
      "weighted avg       0.78      0.80      0.78       250\n",
      "\n",
      "\n",
      "\n",
      "[[173  15]\n",
      " [ 36  26]]\n",
      "\n",
      "\n",
      "AxesSubplot(0.125,0.808774;0.62x0.0712264)\n",
      "\n",
      "\n",
      "\n",
      "***************** GradientBoostingClassifier *******************\n",
      "\n",
      "\n",
      "GradientBoostingClassifier(criterion='friedman_mse', init=None,\n",
      "                           learning_rate=0.1, loss='deviance', max_depth=3,\n",
      "                           max_features=None, max_leaf_nodes=None,\n",
      "                           min_impurity_decrease=0.0, min_impurity_split=None,\n",
      "                           min_samples_leaf=1, min_samples_split=2,\n",
      "                           min_weight_fraction_leaf=0.0, n_estimators=100,\n",
      "                           n_iter_no_change=None, presort='auto',\n",
      "                           random_state=None, subsample=1.0, tol=0.0001,\n",
      "                           validation_fraction=0.1, verbose=0,\n",
      "                           warm_start=False)\n",
      "\n",
      "\n",
      "Accuracy_score  - 0.776\n",
      "\n",
      "\n",
      "cross_val_score  - 0.77100700070007\n",
      "\n",
      "\n",
      "roc_auc_score  - 0.6348661633493481\n",
      "\n",
      "\n",
      "Recall_score  - 0.3548387096774194\n",
      "\n",
      "\n",
      "classification report\n",
      "               precision    recall  f1-score   support\n",
      "\n",
      "           0       0.81      0.91      0.86       188\n",
      "           1       0.58      0.35      0.44        62\n",
      "\n",
      "    accuracy                           0.78       250\n",
      "   macro avg       0.70      0.63      0.65       250\n",
      "weighted avg       0.75      0.78      0.76       250\n",
      "\n",
      "\n",
      "\n",
      "[[172  16]\n",
      " [ 40  22]]\n",
      "\n",
      "\n",
      "AxesSubplot(0.125,0.808774;0.62x0.0712264)\n",
      "\n",
      "\n",
      "\n",
      "***************** AdaBoostClassifier *******************\n",
      "\n",
      "\n",
      "AdaBoostClassifier(algorithm='SAMME.R', base_estimator=None, learning_rate=1.0,\n",
      "                   n_estimators=50, random_state=None)\n",
      "\n",
      "\n",
      "Accuracy_score  - 0.792\n",
      "\n",
      "\n",
      "cross_val_score  - 0.7491258125812581\n",
      "\n",
      "\n",
      "roc_auc_score  - 0.667124227865477\n",
      "\n",
      "\n",
      "Recall_score  - 0.41935483870967744\n",
      "\n",
      "\n",
      "classification report\n",
      "               precision    recall  f1-score   support\n",
      "\n",
      "           0       0.83      0.91      0.87       188\n",
      "           1       0.62      0.42      0.50        62\n",
      "\n",
      "    accuracy                           0.79       250\n",
      "   macro avg       0.72      0.67      0.68       250\n",
      "weighted avg       0.78      0.79      0.78       250\n",
      "\n",
      "\n",
      "\n",
      "[[172  16]\n",
      " [ 36  26]]\n",
      "\n",
      "\n",
      "AxesSubplot(0.125,0.808774;0.62x0.0712264)\n",
      "\n",
      "\n",
      "\n"
     ]
    },
    {
     "data": {
      "image/png": "[encoded data removed]",
      "text/plain": [
       "<Figure size 720x2880 with 3 Axes>"
      ]
     },
     "metadata": {
      "needs_background": "light"
     },
     "output_type": "display_data"
    },
    {
     "data": {
      "image/png": "[encoded data removed]",
      "text/plain": [
       "<Figure size 720x2880 with 3 Axes>"
      ]
     },
     "metadata": {
      "needs_background": "light"
     },
     "output_type": "display_data"
    },
    {
     "data": {
      "image/png": "[encoded data removed]",
      "text/plain": [
       "<Figure size 720x2880 with 3 Axes>"
      ]
     },
     "metadata": {
      "needs_background": "light"
     },
     "output_type": "display_data"
    },
    {
     "data": {
      "image/png": "[encoded data removed]",
      "text/plain": [
       "<Figure size 720x2880 with 3 Axes>"
      ]
     },
     "metadata": {
      "needs_background": "light"
     },
     "output_type": "display_data"
    },
    {
     "data": {
      "image/png": "[encoded data removed]",
      "text/plain": [
       "<Figure size 720x2880 with 3 Axes>"
      ]
     },
     "metadata": {
      "needs_background": "light"
     },
     "output_type": "display_data"
    },
    {
     "data": {
      "image/png": "[encoded data removed]",
      "text/plain": [
       "<Figure size 720x2880 with 3 Axes>"
      ]
     },
     "metadata": {
      "needs_background": "light"
     },
     "output_type": "display_data"
    },
    {
     "data": {
      "image/png": "[encoded data removed]",
      "text/plain": [
       "<Figure size 720x2880 with 3 Axes>"
      ]
     },
     "metadata": {
      "needs_background": "light"
     },
     "output_type": "display_data"
    },
    {
     "data": {
      "image/png": "[encoded data removed]",
      "text/plain": [
       "<Figure size 720x2880 with 3 Axes>"
      ]
     },
     "metadata": {
      "needs_background": "light"
     },
     "output_type": "display_data"
    },
    {
     "data": {
      "image/png": "[encoded data removed]",
      "text/plain": [
       "<Figure size 720x2880 with 3 Axes>"
      ]
     },
     "metadata": {
      "needs_background": "light"
     },
     "output_type": "display_data"
    }
   ],
   "source": [
    "Model=[]\n",
    "score=[]\n",
    "cv=[]\n",
    "rocscore=[]\n",
    "recall=[]\n",
    "for name,model in models:\n",
    "    print('*****************',name,'*******************')\n",
    "    print('\\n')\n",
    "    Model.append(name)\n",
    "    model.fit(x_train,y_train)\n",
    "    print(model)\n",
    "    pre=model.predict(x_test)\n",
    "    print('\\n')\n",
    "    AS=accuracy_score(y_test,pre)\n",
    "    print('Accuracy_score  -',AS)\n",
    "    score.append(AS*100)\n",
    "    print('\\n')\n",
    "    sc=cross_val_score(model,x,y,cv=10,scoring='accuracy').mean()\n",
    "    print('cross_val_score  -',sc)\n",
    "    cv.append(sc*100)\n",
    "    print('\\n')\n",
    "    fpr,tpr,threshold=roc_curve(y_test,pre)\n",
    "    roc_auc=auc(fpr,tpr)\n",
    "    print('roc_auc_score  -',roc_auc)\n",
    "    rocscore.append(roc_auc*100)\n",
    "    print('\\n')\n",
    "    \n",
    "    re=recall_score(y_test,pre)\n",
    "    print('Recall_score  -',re)\n",
    "    recall.append(re*100)\n",
    "    print('\\n')\n",
    "    \n",
    "    print('classification report\\n',classification_report(y_test,pre))\n",
    "    print('\\n')\n",
    "    cm=confusion_matrix(y_test,pre)\n",
    "    print(cm)\n",
    "    print('\\n')\n",
    "    plt.figure(figsize=(10,40))\n",
    "    plt.subplot(911)\n",
    "    plt.title(name)\n",
    "    print(sns.heatmap(cm,annot=True))\n",
    "    plt.subplot(912)\n",
    "    plt.title(name)\n",
    "    plt.plot(fpr,tpr,label='Auc = ' +str(roc_auc))\n",
    "    plt.plot([0,1],[0,1],'r--')\n",
    "    plt.legend(loc='lower right')\n",
    "    plt.ylabel('True Positive Rate')\n",
    "    plt.xlabel('False Positive Rate')\n",
    "    print('\\n\\n')\n",
    "    \n",
    "    \n",
    "    \n",
    "    "
   ]
  },
  {
   "cell_type": "code",
   "execution_count": 42,
   "metadata": {},
   "outputs": [
    {
     "data": {
      "text/html": [
       "<div>\n",
       "<style scoped>\n",
       "    .dataframe tbody tr th:only-of-type {\n",
       "        vertical-align: middle;\n",
       "    }\n",
       "\n",
       "    .dataframe tbody tr th {\n",
       "        vertical-align: top;\n",
       "    }\n",
       "\n",
       "    .dataframe thead th {\n",
       "        text-align: right;\n",
       "    }\n",
       "</style>\n",
       "<table border=\"1\" class=\"dataframe\">\n",
       "  <thead>\n",
       "    <tr style=\"text-align: right;\">\n",
       "      <th></th>\n",
       "      <th>Model</th>\n",
       "      <th>Accuracy_score</th>\n",
       "      <th>Cross_val_score</th>\n",
       "    </tr>\n",
       "  </thead>\n",
       "  <tbody>\n",
       "    <tr>\n",
       "      <td>0</td>\n",
       "      <td>KNeighborsClassifier</td>\n",
       "      <td>74.0</td>\n",
       "      <td>75.212561</td>\n",
       "    </tr>\n",
       "    <tr>\n",
       "      <td>1</td>\n",
       "      <td>SVC</td>\n",
       "      <td>81.6</td>\n",
       "      <td>79.309871</td>\n",
       "    </tr>\n",
       "    <tr>\n",
       "      <td>2</td>\n",
       "      <td>LogisticRegression</td>\n",
       "      <td>79.6</td>\n",
       "      <td>79.908981</td>\n",
       "    </tr>\n",
       "    <tr>\n",
       "      <td>3</td>\n",
       "      <td>DecisionTreeClassifier</td>\n",
       "      <td>70.4</td>\n",
       "      <td>70.684278</td>\n",
       "    </tr>\n",
       "    <tr>\n",
       "      <td>4</td>\n",
       "      <td>GaussianNB</td>\n",
       "      <td>80.4</td>\n",
       "      <td>79.611911</td>\n",
       "    </tr>\n",
       "    <tr>\n",
       "      <td>5</td>\n",
       "      <td>RandomForestClassifier</td>\n",
       "      <td>75.2</td>\n",
       "      <td>75.498660</td>\n",
       "    </tr>\n",
       "    <tr>\n",
       "      <td>6</td>\n",
       "      <td>XGBClassifier</td>\n",
       "      <td>79.6</td>\n",
       "      <td>77.299750</td>\n",
       "    </tr>\n",
       "    <tr>\n",
       "      <td>7</td>\n",
       "      <td>GradientBoostingClassifier</td>\n",
       "      <td>77.6</td>\n",
       "      <td>77.100700</td>\n",
       "    </tr>\n",
       "    <tr>\n",
       "      <td>8</td>\n",
       "      <td>AdaBoostClassifier</td>\n",
       "      <td>79.2</td>\n",
       "      <td>74.912581</td>\n",
       "    </tr>\n",
       "  </tbody>\n",
       "</table>\n",
       "</div>"
      ],
      "text/plain": [
       "                        Model  Accuracy_score  Cross_val_score\n",
       "0        KNeighborsClassifier            74.0        75.212561\n",
       "1                         SVC            81.6        79.309871\n",
       "2          LogisticRegression            79.6        79.908981\n",
       "3      DecisionTreeClassifier            70.4        70.684278\n",
       "4                  GaussianNB            80.4        79.611911\n",
       "5      RandomForestClassifier            75.2        75.498660\n",
       "6               XGBClassifier            79.6        77.299750\n",
       "7  GradientBoostingClassifier            77.6        77.100700\n",
       "8          AdaBoostClassifier            79.2        74.912581"
      ]
     },
     "execution_count": 42,
     "metadata": {},
     "output_type": "execute_result"
    }
   ],
   "source": [
    "result=pd.DataFrame({'Model':Model,'Accuracy_score':score,'Cross_val_score':cv})\n",
    "result"
   ]
  },
  {
   "cell_type": "code",
   "execution_count": null,
   "metadata": {},
   "outputs": [],
   "source": [
    "#hence SVC is the best performing Algorithm .But Gaussiannb has highest CVS."
   ]
  },
  {
   "cell_type": "code",
   "execution_count": null,
   "metadata": {},
   "outputs": [],
   "source": [
    "#But our target score is 90%\n",
    "#Hence we will apply Gridsearchcv to the top3 performing model and try to reach 90% score."
   ]
  },
  {
   "cell_type": "code",
   "execution_count": null,
   "metadata": {},
   "outputs": [],
   "source": [
    "#First lets calculate the random state of the models at which they perform the best.\n",
    "#Then we will select the top4 models and do gridsearchcv on them to attain our target score of 90%."
   ]
  },
  {
   "cell_type": "markdown",
   "metadata": {},
   "source": [
    "# Finding the best random_state for all models"
   ]
  },
  {
   "cell_type": "code",
   "execution_count": 43,
   "metadata": {},
   "outputs": [],
   "source": [
    "from sklearn.model_selection import train_test_split\n",
    "from sklearn.metrics import roc_auc_score,recall_score\n",
    "from sklearn.linear_model import LogisticRegression\n",
    "def maxaccuracy_score(model,x,y):\n",
    "    max_accuracy=0\n",
    "    for r_state in range(42,101):\n",
    "        \n",
    "        x_train,x_test,y_train,y_test=train_test_split(x,y,random_state=r_state,stratify=y)\n",
    "        model.fit(x_train,y_train)\n",
    "        pred=model.predict(x_test)\n",
    "        score=accuracy_score(y_test,pred)\n",
    "        \n",
    "        if score>max_accuracy:\n",
    "            max_accuracy=score\n",
    "            final_r_state=r_state\n",
    "    print('max_accuracy_score is at random_state  ',final_r_state,'  which is  ',max_accuracy)\n",
    "    return final_r_state"
   ]
  },
  {
   "cell_type": "code",
   "execution_count": 44,
   "metadata": {},
   "outputs": [
    {
     "name": "stdout",
     "output_type": "stream",
     "text": [
      "max_accuracy_score is at random_state   63   which is   0.784\n",
      "knn 63\n",
      "max_accuracy_score is at random_state   63   which is   0.824\n",
      "svc 63\n",
      "max_accuracy_score is at random_state   53   which is   0.848\n",
      "lr 53\n",
      "max_accuracy_score is at random_state   81   which is   0.744\n",
      "dt 81\n",
      "max_accuracy_score is at random_state   89   which is   0.852\n",
      "gnb 89\n",
      "max_accuracy_score is at random_state   45   which is   0.808\n",
      "rfc 45\n",
      "max_accuracy_score is at random_state   71   which is   0.824\n",
      "xgb 71\n",
      "max_accuracy_score is at random_state   71   which is   0.812\n",
      "gbc 71\n",
      "max_accuracy_score is at random_state   81   which is   0.816\n",
      "ada 81\n"
     ]
    }
   ],
   "source": [
    "print('knn',maxaccuracy_score(knn,x,y))\n",
    "print('svc',maxaccuracy_score(svc,x,y))\n",
    "print('lr',maxaccuracy_score(lr,x,y))\n",
    "print('dt',maxaccuracy_score(dt,x,y))\n",
    "print('gnb',maxaccuracy_score(gnb,x,y))\n",
    "print('rfc',maxaccuracy_score(rfc,x,y))\n",
    "print('xgb',maxaccuracy_score(xgb,x,y))\n",
    "print('gbc',maxaccuracy_score(gbc,x,y))\n",
    "print('ada',maxaccuracy_score(ada,x,y))"
   ]
  },
  {
   "cell_type": "raw",
   "metadata": {},
   "source": [
    "#Seleting the top4 performing models for gridsearchcv\n",
    "\n",
    "model1->GaussianNB(random_state=89)=85.2%\n",
    "model2->XGBClassifier(random_state=71)=82.4%\n",
    "model3->SVC(random_state=63)=82.4%\n",
    "model4->RandomForestClassifier(random_state=45)=80.8%"
   ]
  },
  {
   "cell_type": "markdown",
   "metadata": {},
   "source": [
    "# GridSearchCV"
   ]
  },
  {
   "cell_type": "markdown",
   "metadata": {},
   "source": [
    "# model1->GaussianNB(random_state=89)=85.2%"
   ]
  },
  {
   "cell_type": "code",
   "execution_count": 43,
   "metadata": {},
   "outputs": [],
   "source": [
    "x_train,x_test,y_train,y_test=train_test_split(x,y,random_state=89,stratify=y)\n",
    "gnb=GaussianNB()"
   ]
  },
  {
   "cell_type": "code",
   "execution_count": 44,
   "metadata": {},
   "outputs": [
    {
     "name": "stderr",
     "output_type": "stream",
     "text": [
      "C:\\ProgramData\\Anaconda3\\lib\\site-packages\\sklearn\\model_selection\\_search.py:814: DeprecationWarning: The default of the `iid` parameter will change from True to False in version 0.22 and will be removed in 0.24. This will change numeric results when test-set sizes are unequal.\n",
      "  DeprecationWarning)\n"
     ]
    },
    {
     "data": {
      "text/plain": [
       "{'var_smoothing': 0.23101297000831597}"
      ]
     },
     "execution_count": 44,
     "metadata": {},
     "output_type": "execute_result"
    }
   ],
   "source": [
    "parameters={'var_smoothing': np.logspace(0,-9, num=100)}\n",
    "grid_search=GridSearchCV(gnb,parameters,scoring='r2',n_jobs=-1,cv=10)\n",
    "grid_search=grid_search.fit(x,y)\n",
    "grid_search.best_params_ "
   ]
  },
  {
   "cell_type": "code",
   "execution_count": 46,
   "metadata": {},
   "outputs": [
    {
     "name": "stdout",
     "output_type": "stream",
     "text": [
      "Accuracy=   0.828\n"
     ]
    }
   ],
   "source": [
    "x_train,x_test,y_train,y_test=train_test_split(x,y,random_state=89)\n",
    "gnb=GaussianNB(var_smoothing= 0.23101297000831597)\n",
    "gnb.fit(x,y)\n",
    "pred_gnb=gnb.predict(x_test)\n",
    "score=r2_score(y_test,pred_gnb)\n",
    "print('Accuracy=  ',accuracy_score(y_test,pred_gnb))"
   ]
  },
  {
   "cell_type": "code",
   "execution_count": 47,
   "metadata": {},
   "outputs": [
    {
     "name": "stdout",
     "output_type": "stream",
     "text": [
      "cross_val_scores=   0.800089208920892\n"
     ]
    },
    {
     "data": {
      "text/plain": [
       "array([[689, 144],\n",
       "       [ 64, 103]], dtype=int64)"
      ]
     },
     "execution_count": 47,
     "metadata": {},
     "output_type": "execute_result"
    }
   ],
   "source": [
    "#Cross validating the model and checking the cross_val_score,model giving highest score will be choosen as final model.\n",
    "from sklearn.model_selection import cross_val_predict\n",
    "gnb=GaussianNB(var_smoothing=0.23101297000831597)\n",
    "cvs=cross_val_score(gnb,x,y,scoring='accuracy',cv=10)\n",
    "print('cross_val_scores=  ',cvs.mean())\n",
    "y_pred=cross_val_predict(gnb,x,y,cv=5)\n",
    "conf_mat=confusion_matrix(y_pred,y)\n",
    "conf_mat"
   ]
  },
  {
   "cell_type": "markdown",
   "metadata": {},
   "source": [
    "# model2->XGBClassifier(random_state=71)=82.4%"
   ]
  },
  {
   "cell_type": "code",
   "execution_count": 48,
   "metadata": {},
   "outputs": [],
   "source": [
    "x_train,x_test,y_train,y_test=train_test_split(x,y,random_state=71)\n",
    "xgb=XGBClassifier()"
   ]
  },
  {
   "cell_type": "code",
   "execution_count": 49,
   "metadata": {},
   "outputs": [
    {
     "name": "stderr",
     "output_type": "stream",
     "text": [
      "C:\\ProgramData\\Anaconda3\\lib\\site-packages\\sklearn\\model_selection\\_search.py:814: DeprecationWarning: The default of the `iid` parameter will change from True to False in version 0.22 and will be removed in 0.24. This will change numeric results when test-set sizes are unequal.\n",
      "  DeprecationWarning)\n"
     ]
    },
    {
     "data": {
      "text/plain": [
       "{'colsample_bytree': 0.8, 'learning_rate': 0.1, 'max_depth': 3}"
      ]
     },
     "execution_count": 49,
     "metadata": {},
     "output_type": "execute_result"
    }
   ],
   "source": [
    "from sklearn.model_selection import GridSearchCV\n",
    "parameters=[{'learning_rate':[0.1,0.2,0.3,0.4],'max_depth':[3,4,5,6,7,8],'colsample_bytree':[0.5,0.6,0.7,0.8,0.9]}]\n",
    "            \n",
    "gscv=GridSearchCV(xgb,parameters,scoring='r2',n_jobs=-1,cv=10)\n",
    "grid_search=gscv.fit(x,y)\n",
    "grid_search.best_params_"
   ]
  },
  {
   "cell_type": "code",
   "execution_count": 50,
   "metadata": {},
   "outputs": [
    {
     "name": "stdout",
     "output_type": "stream",
     "text": [
      "Accuracy=   0.948\n"
     ]
    }
   ],
   "source": [
    "x_train,x_test,y_train,y_test=train_test_split(x,y,random_state=71)\n",
    "xgb=XGBClassifier(colsample_bytree=0.8, learning_rate=0.1, max_depth=3)\n",
    "xgb.fit(x,y)\n",
    "pred=xgb.predict(x_test)\n",
    "print('Accuracy=  ',accuracy_score(y_test,pred))"
   ]
  },
  {
   "cell_type": "code",
   "execution_count": 51,
   "metadata": {},
   "outputs": [
    {
     "name": "stdout",
     "output_type": "stream",
     "text": [
      "cross_val_scores=   0.798929192919292\n"
     ]
    },
    {
     "data": {
      "text/plain": [
       "array([[695, 151],\n",
       "       [ 58,  96]], dtype=int64)"
      ]
     },
     "execution_count": 51,
     "metadata": {},
     "output_type": "execute_result"
    }
   ],
   "source": [
    "#Cross validating the model and checking the cross_val_score,model giving highest score will be choosen as final model.\n",
    "from sklearn.model_selection import cross_val_predict\n",
    "xgb=XGBClassifier(colsample_bytree=0.8, learning_rate=0.1, max_depth=3)\n",
    "cvs=cross_val_score(xgb,x,y,scoring='accuracy',cv=10)\n",
    "print('cross_val_scores=  ',cvs.mean())\n",
    "y_pred=cross_val_predict(xgb,x,y,cv=5)\n",
    "conf_mat=confusion_matrix(y_pred,y)\n",
    "conf_mat"
   ]
  },
  {
   "cell_type": "markdown",
   "metadata": {},
   "source": [
    "# model3->SVC(random_state=63)=82.4%"
   ]
  },
  {
   "cell_type": "code",
   "execution_count": 52,
   "metadata": {},
   "outputs": [],
   "source": [
    "x_train,x_test,y_train,y_test=train_test_split(x,y,random_state=63)\n",
    "svc=SVC()"
   ]
  },
  {
   "cell_type": "code",
   "execution_count": 53,
   "metadata": {},
   "outputs": [
    {
     "data": {
      "text/plain": [
       "{'C': 1, 'kernel': 'rbf'}"
      ]
     },
     "execution_count": 53,
     "metadata": {},
     "output_type": "execute_result"
    }
   ],
   "source": [
    "from sklearn.model_selection import GridSearchCV\n",
    "parameters=[{'C':[0.1,0.5,1,2,3],'kernel':['rbf','poly']}]\n",
    "            \n",
    "gscv=GridSearchCV(svc,parameters,scoring='accuracy',n_jobs=-1,cv=10)\n",
    "grid_search=gscv.fit(x,y)\n",
    "grid_search.best_params_"
   ]
  },
  {
   "cell_type": "code",
   "execution_count": 54,
   "metadata": {},
   "outputs": [
    {
     "name": "stdout",
     "output_type": "stream",
     "text": [
      "Accuracy=   0.912\n"
     ]
    }
   ],
   "source": [
    "x_train,x_test,y_train,y_test=train_test_split(x,y,random_state=63)\n",
    "svc=SVC(kernel='rbf',C=1)\n",
    "svc.fit(x,y)\n",
    "pred=svc.predict(x_test)\n",
    "print('Accuracy=  ',accuracy_score(y_test,pred))"
   ]
  },
  {
   "cell_type": "code",
   "execution_count": 55,
   "metadata": {},
   "outputs": [
    {
     "name": "stdout",
     "output_type": "stream",
     "text": [
      "cross_val_scores=   0.7930987098709871\n"
     ]
    },
    {
     "data": {
      "text/plain": [
       "array([[691, 143],\n",
       "       [ 62, 104]], dtype=int64)"
      ]
     },
     "execution_count": 55,
     "metadata": {},
     "output_type": "execute_result"
    }
   ],
   "source": [
    "#Cross validating the model and checking the cross_val_score,model giving highest score will be choosen as final model.\n",
    "from sklearn.model_selection import cross_val_predict\n",
    "svc=SVC(kernel='rbf',C=1)\n",
    "cvs=cross_val_score(svc,x,y,scoring='accuracy',cv=10)\n",
    "print('cross_val_scores=  ',cvs.mean())\n",
    "y_pred=cross_val_predict(svc,x,y,cv=5)\n",
    "conf_mat=confusion_matrix(y_pred,y)\n",
    "conf_mat"
   ]
  },
  {
   "cell_type": "markdown",
   "metadata": {},
   "source": [
    "# model4->RandomForestClassifier(random_state=45)=80.8%"
   ]
  },
  {
   "cell_type": "code",
   "execution_count": 56,
   "metadata": {},
   "outputs": [],
   "source": [
    "x_train,x_test,y_train,y_test=train_test_split(x,y,random_state=45)\n",
    "rfc=RandomForestClassifier()"
   ]
  },
  {
   "cell_type": "code",
   "execution_count": 57,
   "metadata": {},
   "outputs": [
    {
     "data": {
      "text/plain": [
       "{'criterion': 'gini',\n",
       " 'max_depth': 10,\n",
       " 'min_samples_leaf': 2,\n",
       " 'n_estimators': 100}"
      ]
     },
     "execution_count": 57,
     "metadata": {},
     "output_type": "execute_result"
    }
   ],
   "source": [
    "parameters=[{'criterion':['gini','entropy'],'max_depth':[5,7,9,10],'min_samples_leaf':[1,2],'n_estimators':[100,250,500]}]\n",
    "            \n",
    "grid_search=GridSearchCV(rfc,parameters,scoring='accuracy',n_jobs=-1,cv=10)\n",
    "grid_search=grid_search.fit(x,y)\n",
    "grid_search.best_params_ "
   ]
  },
  {
   "cell_type": "code",
   "execution_count": 58,
   "metadata": {},
   "outputs": [
    {
     "name": "stdout",
     "output_type": "stream",
     "text": [
      "Accuracy=   0.968\n"
     ]
    }
   ],
   "source": [
    "x_train,x_test,y_train,y_test=train_test_split(x,y,random_state=45)\n",
    "rfc=RandomForestClassifier(criterion='gini',min_samples_leaf=2,max_depth=10,n_estimators=100)\n",
    "rfc.fit(x,y)\n",
    "pred=rfc.predict(x_test)\n",
    "print('Accuracy=  ',accuracy_score(y_test,pred))"
   ]
  },
  {
   "cell_type": "code",
   "execution_count": 59,
   "metadata": {},
   "outputs": [
    {
     "name": "stdout",
     "output_type": "stream",
     "text": [
      "cross_val_scores=   0.7640167016701669\n"
     ]
    },
    {
     "data": {
      "text/plain": [
       "array([[738, 222],\n",
       "       [ 15,  25]], dtype=int64)"
      ]
     },
     "execution_count": 59,
     "metadata": {},
     "output_type": "execute_result"
    }
   ],
   "source": [
    "#Cross validating the model and checking the cross_val_score,model giving highest score will be choosen as final model.\n",
    "from sklearn.model_selection import cross_val_predict\n",
    "rfc=RandomForestClassifier(criterion='gini',min_samples_leaf=2,max_depth=10,n_estimators=100)\n",
    "cvs=cross_val_score(rfc,x,y,scoring='accuracy',cv=10)\n",
    "print('cross_val_scores=  ',cvs.mean())\n",
    "y_pred=cross_val_predict(rfc,x,y,cv=5)\n",
    "conf_mat=confusion_matrix(y_pred,y)\n",
    "conf_mat"
   ]
  },
  {
   "cell_type": "markdown",
   "metadata": {},
   "source": [
    "# Saving the final GaussianNB model"
   ]
  },
  {
   "cell_type": "code",
   "execution_count": 61,
   "metadata": {},
   "outputs": [],
   "source": [
    "#From all the model tried above GaussianNB model cross_val_score is best=80% ,\n",
    "#corresponding random_state=89\n",
    "x_train,x_test,y_train,y_test=train_test_split(x,y,random_state=89)\n",
    "gnb=GaussianNB(var_smoothing= 0.23101297000831597)"
   ]
  },
  {
   "cell_type": "code",
   "execution_count": 62,
   "metadata": {},
   "outputs": [
    {
     "name": "stdout",
     "output_type": "stream",
     "text": [
      "Accuracy=   0.828\n"
     ]
    }
   ],
   "source": [
    "gnb.fit(x,y)\n",
    "pred_gnb=gnb.predict(x_test)\n",
    "score=r2_score(y_test,pred_gnb)\n",
    "print('Accuracy=  ',accuracy_score(y_test,pred_gnb))"
   ]
  },
  {
   "cell_type": "code",
   "execution_count": 67,
   "metadata": {},
   "outputs": [
    {
     "name": "stdout",
     "output_type": "stream",
     "text": [
      "cross_val_scores=   0.800089208920892\n"
     ]
    },
    {
     "data": {
      "text/plain": [
       "array([[689, 144],\n",
       "       [ 64, 103]], dtype=int64)"
      ]
     },
     "execution_count": 67,
     "metadata": {},
     "output_type": "execute_result"
    }
   ],
   "source": [
    "from sklearn.model_selection import cross_val_predict\n",
    "gnb=GaussianNB(var_smoothing=0.23101297000831597)\n",
    "gnb.fit(x,y)\n",
    "cvs=cross_val_score(gnb,x,y,scoring='accuracy',cv=10)\n",
    "print('cross_val_scores=  ',cvs.mean())\n",
    "y_pred=cross_val_predict(gnb,x,y,cv=5)\n",
    "conf_mat=confusion_matrix(y_pred,y)\n",
    "conf_mat"
   ]
  },
  {
   "cell_type": "code",
   "execution_count": 68,
   "metadata": {},
   "outputs": [
    {
     "data": {
      "text/plain": [
       "['project11-autoinsurancefraud.obj']"
      ]
     },
     "execution_count": 68,
     "metadata": {},
     "output_type": "execute_result"
    }
   ],
   "source": [
    "from sklearn.externals import joblib\n",
    "joblib.dump(gnb,'project11-autoinsurancefraud.obj')"
   ]
  },
  {
   "cell_type": "code",
   "execution_count": 69,
   "metadata": {},
   "outputs": [],
   "source": [
    "model=joblib.load('project11-autoinsurancefraud.obj')"
   ]
  },
  {
   "cell_type": "code",
   "execution_count": 70,
   "metadata": {},
   "outputs": [
    {
     "data": {
      "text/html": [
       "<div>\n",
       "<style scoped>\n",
       "    .dataframe tbody tr th:only-of-type {\n",
       "        vertical-align: middle;\n",
       "    }\n",
       "\n",
       "    .dataframe tbody tr th {\n",
       "        vertical-align: top;\n",
       "    }\n",
       "\n",
       "    .dataframe thead th {\n",
       "        text-align: right;\n",
       "    }\n",
       "</style>\n",
       "<table border=\"1\" class=\"dataframe\">\n",
       "  <thead>\n",
       "    <tr style=\"text-align: right;\">\n",
       "      <th></th>\n",
       "      <th>fraud_reported</th>\n",
       "    </tr>\n",
       "  </thead>\n",
       "  <tbody>\n",
       "    <tr>\n",
       "      <td>0</td>\n",
       "      <td>0</td>\n",
       "    </tr>\n",
       "    <tr>\n",
       "      <td>1</td>\n",
       "      <td>0</td>\n",
       "    </tr>\n",
       "    <tr>\n",
       "      <td>2</td>\n",
       "      <td>0</td>\n",
       "    </tr>\n",
       "    <tr>\n",
       "      <td>3</td>\n",
       "      <td>0</td>\n",
       "    </tr>\n",
       "    <tr>\n",
       "      <td>4</td>\n",
       "      <td>0</td>\n",
       "    </tr>\n",
       "  </tbody>\n",
       "</table>\n",
       "</div>"
      ],
      "text/plain": [
       "   fraud_reported\n",
       "0               0\n",
       "1               0\n",
       "2               0\n",
       "3               0\n",
       "4               0"
      ]
     },
     "execution_count": 70,
     "metadata": {},
     "output_type": "execute_result"
    }
   ],
   "source": [
    "final_predictions=model.predict(x_test)\n",
    "final_predictions=pd.DataFrame(final_predictions,columns=['fraud_reported'])\n",
    "final_predictions.head()"
   ]
  },
  {
   "cell_type": "code",
   "execution_count": 71,
   "metadata": {},
   "outputs": [
    {
     "data": {
      "text/html": [
       "<div>\n",
       "<style scoped>\n",
       "    .dataframe tbody tr th:only-of-type {\n",
       "        vertical-align: middle;\n",
       "    }\n",
       "\n",
       "    .dataframe tbody tr th {\n",
       "        vertical-align: top;\n",
       "    }\n",
       "\n",
       "    .dataframe thead th {\n",
       "        text-align: right;\n",
       "    }\n",
       "</style>\n",
       "<table border=\"1\" class=\"dataframe\">\n",
       "  <thead>\n",
       "    <tr style=\"text-align: right;\">\n",
       "      <th></th>\n",
       "      <th>fraud_reported</th>\n",
       "    </tr>\n",
       "  </thead>\n",
       "  <tbody>\n",
       "    <tr>\n",
       "      <td>57</td>\n",
       "      <td>0</td>\n",
       "    </tr>\n",
       "    <tr>\n",
       "      <td>173</td>\n",
       "      <td>0</td>\n",
       "    </tr>\n",
       "    <tr>\n",
       "      <td>204</td>\n",
       "      <td>1</td>\n",
       "    </tr>\n",
       "    <tr>\n",
       "      <td>44</td>\n",
       "      <td>0</td>\n",
       "    </tr>\n",
       "    <tr>\n",
       "      <td>153</td>\n",
       "      <td>1</td>\n",
       "    </tr>\n",
       "    <tr>\n",
       "      <td>151</td>\n",
       "      <td>0</td>\n",
       "    </tr>\n",
       "    <tr>\n",
       "      <td>177</td>\n",
       "      <td>0</td>\n",
       "    </tr>\n",
       "    <tr>\n",
       "      <td>55</td>\n",
       "      <td>1</td>\n",
       "    </tr>\n",
       "    <tr>\n",
       "      <td>196</td>\n",
       "      <td>0</td>\n",
       "    </tr>\n",
       "    <tr>\n",
       "      <td>116</td>\n",
       "      <td>0</td>\n",
       "    </tr>\n",
       "  </tbody>\n",
       "</table>\n",
       "</div>"
      ],
      "text/plain": [
       "     fraud_reported\n",
       "57                0\n",
       "173               0\n",
       "204               1\n",
       "44                0\n",
       "153               1\n",
       "151               0\n",
       "177               0\n",
       "55                1\n",
       "196               0\n",
       "116               0"
      ]
     },
     "execution_count": 71,
     "metadata": {},
     "output_type": "execute_result"
    }
   ],
   "source": [
    "final_predictions.sample(n=10)"
   ]
  },
  {
   "cell_type": "markdown",
   "metadata": {},
   "source": [
    "# Saving final predictions in file.csv "
   ]
  },
  {
   "cell_type": "code",
   "execution_count": 67,
   "metadata": {},
   "outputs": [],
   "source": [
    "final_predictions.to_csv('E:\\\\final_predictionsautoinsurancefraud.csv',index=False)"
   ]
  },
  {
   "cell_type": "markdown",
   "metadata": {},
   "source": [
    "# Conclusion:-"
   ]
  },
  {
   "cell_type": "raw",
   "metadata": {},
   "source": [
    "\n",
    "1-Fraud can be predicted using the model above. \n",
    "2-By using sklearn(SVC)we have build a machine learning model that will predict the fraud.\n",
    "                                                                      "
   ]
  },
  {
   "cell_type": "code",
   "execution_count": null,
   "metadata": {},
   "outputs": [],
   "source": []
  },
  {
   "cell_type": "markdown",
   "metadata": {},
   "source": [
    "# 2-Regression -->target=Claim Amount"
   ]
  },
  {
   "cell_type": "code",
   "execution_count": 72,
   "metadata": {},
   "outputs": [],
   "source": [
    "import numpy as np\n",
    "import pandas as pd\n",
    "import matplotlib.pyplot as plt\n",
    "import warnings\n",
    "warnings.filterwarnings('ignore')\n",
    "import seaborn as sns\n",
    "\n",
    "from sklearn.preprocessing import StandardScaler\n",
    "from sklearn.preprocessing import PowerTransformer\n",
    "\n",
    "from sklearn.neighbors import KNeighborsRegressor\n",
    "from sklearn.svm import SVR\n",
    "from sklearn.linear_model import LinearRegression\n",
    "from sklearn.linear_model import Lasso\n",
    "from sklearn.tree import DecisionTreeRegressor\n",
    "from sklearn.ensemble import GradientBoostingRegressor\n",
    "from sklearn.ensemble import RandomForestRegressor\n",
    "from sklearn.ensemble import AdaBoostRegressor\n",
    "from xgboost import XGBRegressor\n",
    "\n",
    "from sklearn.metrics import mean_absolute_error\n",
    "from sklearn.metrics import mean_squared_error\n",
    "from sklearn.metrics import r2_score\n",
    "from sklearn.model_selection import train_test_split\n",
    "from sklearn.model_selection import cross_val_score\n",
    "\n",
    "from sklearn.externals import joblib"
   ]
  },
  {
   "cell_type": "code",
   "execution_count": 73,
   "metadata": {},
   "outputs": [
    {
     "data": {
      "text/html": [
       "<div>\n",
       "<style scoped>\n",
       "    .dataframe tbody tr th:only-of-type {\n",
       "        vertical-align: middle;\n",
       "    }\n",
       "\n",
       "    .dataframe tbody tr th {\n",
       "        vertical-align: top;\n",
       "    }\n",
       "\n",
       "    .dataframe thead th {\n",
       "        text-align: right;\n",
       "    }\n",
       "</style>\n",
       "<table border=\"1\" class=\"dataframe\">\n",
       "  <thead>\n",
       "    <tr style=\"text-align: right;\">\n",
       "      <th></th>\n",
       "      <th>Customer</th>\n",
       "      <th>Country</th>\n",
       "      <th>State Code</th>\n",
       "      <th>State</th>\n",
       "      <th>Claim Amount</th>\n",
       "      <th>Response</th>\n",
       "      <th>Coverage</th>\n",
       "      <th>Education</th>\n",
       "      <th>Effective To Date</th>\n",
       "      <th>EmploymentStatus</th>\n",
       "      <th>Gender</th>\n",
       "      <th>Income</th>\n",
       "      <th>Location Code</th>\n",
       "      <th>Marital Status</th>\n",
       "      <th>Monthly Premium Auto</th>\n",
       "      <th>Months Since Last Claim</th>\n",
       "      <th>Months Since Policy Inception</th>\n",
       "      <th>Number of Open Complaints</th>\n",
       "      <th>Number of Policies</th>\n",
       "      <th>Policy Type</th>\n",
       "      <th>Policy</th>\n",
       "      <th>Claim Reason</th>\n",
       "      <th>Sales Channel</th>\n",
       "      <th>Total Claim Amount</th>\n",
       "      <th>Vehicle Class</th>\n",
       "      <th>Vehicle Size</th>\n",
       "    </tr>\n",
       "  </thead>\n",
       "  <tbody>\n",
       "    <tr>\n",
       "      <td>0</td>\n",
       "      <td>BU79786</td>\n",
       "      <td>US</td>\n",
       "      <td>KS</td>\n",
       "      <td>Kansas</td>\n",
       "      <td>276.351928</td>\n",
       "      <td>No</td>\n",
       "      <td>Basic</td>\n",
       "      <td>Bachelor</td>\n",
       "      <td>2/24/11</td>\n",
       "      <td>Employed</td>\n",
       "      <td>F</td>\n",
       "      <td>56274</td>\n",
       "      <td>Suburban</td>\n",
       "      <td>Married</td>\n",
       "      <td>69</td>\n",
       "      <td>32</td>\n",
       "      <td>5</td>\n",
       "      <td>0</td>\n",
       "      <td>1</td>\n",
       "      <td>Corporate Auto</td>\n",
       "      <td>Corporate L3</td>\n",
       "      <td>Collision</td>\n",
       "      <td>Agent</td>\n",
       "      <td>384.811147</td>\n",
       "      <td>Two-Door Car</td>\n",
       "      <td>Medsize</td>\n",
       "    </tr>\n",
       "    <tr>\n",
       "      <td>1</td>\n",
       "      <td>QZ44356</td>\n",
       "      <td>US</td>\n",
       "      <td>NE</td>\n",
       "      <td>Nebraska</td>\n",
       "      <td>697.953590</td>\n",
       "      <td>No</td>\n",
       "      <td>Extended</td>\n",
       "      <td>Bachelor</td>\n",
       "      <td>1/31/11</td>\n",
       "      <td>Unemployed</td>\n",
       "      <td>F</td>\n",
       "      <td>0</td>\n",
       "      <td>Suburban</td>\n",
       "      <td>Single</td>\n",
       "      <td>94</td>\n",
       "      <td>13</td>\n",
       "      <td>42</td>\n",
       "      <td>0</td>\n",
       "      <td>8</td>\n",
       "      <td>Personal Auto</td>\n",
       "      <td>Personal L3</td>\n",
       "      <td>Scratch/Dent</td>\n",
       "      <td>Agent</td>\n",
       "      <td>1131.464935</td>\n",
       "      <td>Four-Door Car</td>\n",
       "      <td>Medsize</td>\n",
       "    </tr>\n",
       "    <tr>\n",
       "      <td>2</td>\n",
       "      <td>AI49188</td>\n",
       "      <td>US</td>\n",
       "      <td>OK</td>\n",
       "      <td>Oklahoma</td>\n",
       "      <td>1288.743165</td>\n",
       "      <td>No</td>\n",
       "      <td>Premium</td>\n",
       "      <td>Bachelor</td>\n",
       "      <td>2/19/11</td>\n",
       "      <td>Employed</td>\n",
       "      <td>F</td>\n",
       "      <td>48767</td>\n",
       "      <td>Suburban</td>\n",
       "      <td>Married</td>\n",
       "      <td>108</td>\n",
       "      <td>18</td>\n",
       "      <td>38</td>\n",
       "      <td>0</td>\n",
       "      <td>2</td>\n",
       "      <td>Personal Auto</td>\n",
       "      <td>Personal L3</td>\n",
       "      <td>Collision</td>\n",
       "      <td>Agent</td>\n",
       "      <td>566.472247</td>\n",
       "      <td>Two-Door Car</td>\n",
       "      <td>Medsize</td>\n",
       "    </tr>\n",
       "    <tr>\n",
       "      <td>3</td>\n",
       "      <td>WW63253</td>\n",
       "      <td>US</td>\n",
       "      <td>MO</td>\n",
       "      <td>Missouri</td>\n",
       "      <td>764.586183</td>\n",
       "      <td>No</td>\n",
       "      <td>Basic</td>\n",
       "      <td>Bachelor</td>\n",
       "      <td>1/20/11</td>\n",
       "      <td>Unemployed</td>\n",
       "      <td>M</td>\n",
       "      <td>0</td>\n",
       "      <td>Suburban</td>\n",
       "      <td>Married</td>\n",
       "      <td>106</td>\n",
       "      <td>18</td>\n",
       "      <td>65</td>\n",
       "      <td>0</td>\n",
       "      <td>7</td>\n",
       "      <td>Corporate Auto</td>\n",
       "      <td>Corporate L2</td>\n",
       "      <td>Collision</td>\n",
       "      <td>Call Center</td>\n",
       "      <td>529.881344</td>\n",
       "      <td>SUV</td>\n",
       "      <td>Medsize</td>\n",
       "    </tr>\n",
       "    <tr>\n",
       "      <td>4</td>\n",
       "      <td>HB64268</td>\n",
       "      <td>US</td>\n",
       "      <td>KS</td>\n",
       "      <td>Kansas</td>\n",
       "      <td>281.369258</td>\n",
       "      <td>No</td>\n",
       "      <td>Basic</td>\n",
       "      <td>Bachelor</td>\n",
       "      <td>2/3/11</td>\n",
       "      <td>Employed</td>\n",
       "      <td>M</td>\n",
       "      <td>43836</td>\n",
       "      <td>Rural</td>\n",
       "      <td>Single</td>\n",
       "      <td>73</td>\n",
       "      <td>12</td>\n",
       "      <td>44</td>\n",
       "      <td>0</td>\n",
       "      <td>1</td>\n",
       "      <td>Personal Auto</td>\n",
       "      <td>Personal L1</td>\n",
       "      <td>Collision</td>\n",
       "      <td>Agent</td>\n",
       "      <td>138.130879</td>\n",
       "      <td>Four-Door Car</td>\n",
       "      <td>Medsize</td>\n",
       "    </tr>\n",
       "  </tbody>\n",
       "</table>\n",
       "</div>"
      ],
      "text/plain": [
       "  Customer Country State Code     State  Claim Amount Response  Coverage  \\\n",
       "0  BU79786      US         KS    Kansas    276.351928       No     Basic   \n",
       "1  QZ44356      US         NE  Nebraska    697.953590       No  Extended   \n",
       "2  AI49188      US         OK  Oklahoma   1288.743165       No   Premium   \n",
       "3  WW63253      US         MO  Missouri    764.586183       No     Basic   \n",
       "4  HB64268      US         KS    Kansas    281.369258       No     Basic   \n",
       "\n",
       "  Education Effective To Date EmploymentStatus Gender  Income Location Code  \\\n",
       "0  Bachelor           2/24/11         Employed      F   56274      Suburban   \n",
       "1  Bachelor           1/31/11       Unemployed      F       0      Suburban   \n",
       "2  Bachelor           2/19/11         Employed      F   48767      Suburban   \n",
       "3  Bachelor           1/20/11       Unemployed      M       0      Suburban   \n",
       "4  Bachelor            2/3/11         Employed      M   43836         Rural   \n",
       "\n",
       "  Marital Status  Monthly Premium Auto  Months Since Last Claim  \\\n",
       "0        Married                    69                       32   \n",
       "1         Single                    94                       13   \n",
       "2        Married                   108                       18   \n",
       "3        Married                   106                       18   \n",
       "4         Single                    73                       12   \n",
       "\n",
       "   Months Since Policy Inception  Number of Open Complaints  \\\n",
       "0                              5                          0   \n",
       "1                             42                          0   \n",
       "2                             38                          0   \n",
       "3                             65                          0   \n",
       "4                             44                          0   \n",
       "\n",
       "   Number of Policies     Policy Type        Policy  Claim Reason  \\\n",
       "0                   1  Corporate Auto  Corporate L3     Collision   \n",
       "1                   8   Personal Auto   Personal L3  Scratch/Dent   \n",
       "2                   2   Personal Auto   Personal L3     Collision   \n",
       "3                   7  Corporate Auto  Corporate L2     Collision   \n",
       "4                   1   Personal Auto   Personal L1     Collision   \n",
       "\n",
       "  Sales Channel  Total Claim Amount  Vehicle Class Vehicle Size  \n",
       "0         Agent          384.811147   Two-Door Car      Medsize  \n",
       "1         Agent         1131.464935  Four-Door Car      Medsize  \n",
       "2         Agent          566.472247   Two-Door Car      Medsize  \n",
       "3   Call Center          529.881344            SUV      Medsize  \n",
       "4         Agent          138.130879  Four-Door Car      Medsize  "
      ]
     },
     "execution_count": 73,
     "metadata": {},
     "output_type": "execute_result"
    }
   ],
   "source": [
    "df=pd.read_csv('auto_insurance_claims_amount.csv')\n",
    "df.head()"
   ]
  },
  {
   "cell_type": "code",
   "execution_count": 74,
   "metadata": {},
   "outputs": [
    {
     "data": {
      "text/plain": [
       "(9134, 26)"
      ]
     },
     "execution_count": 74,
     "metadata": {},
     "output_type": "execute_result"
    }
   ],
   "source": [
    "df.shape"
   ]
  },
  {
   "cell_type": "code",
   "execution_count": 75,
   "metadata": {},
   "outputs": [
    {
     "data": {
      "text/plain": [
       "Customer                         0\n",
       "Country                          0\n",
       "State Code                       0\n",
       "State                            0\n",
       "Claim Amount                     0\n",
       "Response                         0\n",
       "Coverage                         0\n",
       "Education                        0\n",
       "Effective To Date                0\n",
       "EmploymentStatus                 0\n",
       "Gender                           0\n",
       "Income                           0\n",
       "Location Code                    0\n",
       "Marital Status                   0\n",
       "Monthly Premium Auto             0\n",
       "Months Since Last Claim          0\n",
       "Months Since Policy Inception    0\n",
       "Number of Open Complaints        0\n",
       "Number of Policies               0\n",
       "Policy Type                      0\n",
       "Policy                           0\n",
       "Claim Reason                     0\n",
       "Sales Channel                    0\n",
       "Total Claim Amount               0\n",
       "Vehicle Class                    0\n",
       "Vehicle Size                     0\n",
       "dtype: int64"
      ]
     },
     "execution_count": 75,
     "metadata": {},
     "output_type": "execute_result"
    }
   ],
   "source": [
    "df.isnull().sum()#no missing values in the dataset"
   ]
  },
  {
   "cell_type": "code",
   "execution_count": 76,
   "metadata": {},
   "outputs": [
    {
     "data": {
      "text/plain": [
       "<matplotlib.axes._subplots.AxesSubplot at 0x2820baaa0c8>"
      ]
     },
     "execution_count": 76,
     "metadata": {},
     "output_type": "execute_result"
    },
    {
     "data": {
      "image/png": "[encoded data removed]",
      "text/plain": [
       "<Figure size 432x288 with 2 Axes>"
      ]
     },
     "metadata": {
      "needs_background": "light"
     },
     "output_type": "display_data"
    }
   ],
   "source": [
    "sns.heatmap(df.isnull())"
   ]
  },
  {
   "cell_type": "code",
   "execution_count": 77,
   "metadata": {},
   "outputs": [
    {
     "name": "stdout",
     "output_type": "stream",
     "text": [
      "Customer 9134\n",
      "Country 1\n",
      "State Code 5\n",
      "State 5\n",
      "Response 2\n",
      "Coverage 3\n",
      "Education 5\n",
      "Effective To Date 59\n",
      "EmploymentStatus 5\n",
      "Gender 2\n",
      "Location Code 3\n",
      "Marital Status 3\n",
      "Policy Type 3\n",
      "Policy 9\n",
      "Claim Reason 4\n",
      "Sales Channel 4\n",
      "Vehicle Class 6\n",
      "Vehicle Size 3\n"
     ]
    }
   ],
   "source": [
    "categorical_features=[feature for feature in df.columns if df[feature].dtypes=='object']\n",
    "for feature in categorical_features:\n",
    "    if df[feature].nunique()>=1:\n",
    "        print(feature,df[feature].nunique())"
   ]
  },
  {
   "cell_type": "code",
   "execution_count": 78,
   "metadata": {},
   "outputs": [],
   "source": [
    "df=df.drop(['Customer','Effective To Date'],axis=1)\n",
    "#df=df.drop(['Customer','Country','State Code','State','Effective To Date'],axis=1)\n",
    "#I tried this but the score decreases even more."
   ]
  },
  {
   "cell_type": "code",
   "execution_count": 79,
   "metadata": {},
   "outputs": [
    {
     "data": {
      "text/plain": [
       "(9134, 24)"
      ]
     },
     "execution_count": 79,
     "metadata": {},
     "output_type": "execute_result"
    }
   ],
   "source": [
    "df.shape"
   ]
  },
  {
   "cell_type": "code",
   "execution_count": 80,
   "metadata": {},
   "outputs": [
    {
     "data": {
      "text/plain": [
       "(9134, 71)"
      ]
     },
     "execution_count": 80,
     "metadata": {},
     "output_type": "execute_result"
    }
   ],
   "source": [
    "df=pd.get_dummies(df)\n",
    "df.shape"
   ]
  },
  {
   "cell_type": "markdown",
   "metadata": {},
   "source": [
    "# Separating training and testing dataset"
   ]
  },
  {
   "cell_type": "code",
   "execution_count": 81,
   "metadata": {},
   "outputs": [],
   "source": [
    "y=df['Claim Amount']\n",
    "X=df.drop(['Claim Amount'],axis=1)"
   ]
  },
  {
   "cell_type": "markdown",
   "metadata": {},
   "source": [
    "# PCA"
   ]
  },
  {
   "cell_type": "code",
   "execution_count": 82,
   "metadata": {},
   "outputs": [],
   "source": [
    "from sklearn.decomposition import PCA\n",
    "pca=PCA(n_components=35)\n",
    "df_pca35=pca.fit_transform(X)\n",
    "x=pd.DataFrame(df_pca35)"
   ]
  },
  {
   "cell_type": "markdown",
   "metadata": {},
   "source": [
    "# Removing skewness"
   ]
  },
  {
   "cell_type": "code",
   "execution_count": 83,
   "metadata": {},
   "outputs": [
    {
     "data": {
      "text/plain": [
       "0     0.286877\n",
       "1     1.786947\n",
       "2     0.037928\n",
       "3     1.427494\n",
       "4     0.283683\n",
       "5     1.251722\n",
       "6     2.756790\n",
       "7     0.169649\n",
       "8    -0.036323\n",
       "9     0.998115\n",
       "10    0.873610\n",
       "11    0.180832\n",
       "12    0.418356\n",
       "13    0.305940\n",
       "14    0.686960\n",
       "15    0.229242\n",
       "16    0.117219\n",
       "17    0.397642\n",
       "18    0.097706\n",
       "19    0.489036\n",
       "20    0.167356\n",
       "21    1.351324\n",
       "22    0.542855\n",
       "23    0.532066\n",
       "24    0.515252\n",
       "25    0.818909\n",
       "26   -0.190625\n",
       "27    1.364196\n",
       "28    1.211671\n",
       "29    0.000361\n",
       "30    1.202415\n",
       "31    1.325621\n",
       "32    0.150444\n",
       "33    0.307018\n",
       "34    0.779091\n",
       "dtype: float64"
      ]
     },
     "execution_count": 83,
     "metadata": {},
     "output_type": "execute_result"
    }
   ],
   "source": [
    "x.skew()"
   ]
  },
  {
   "cell_type": "code",
   "execution_count": 84,
   "metadata": {},
   "outputs": [],
   "source": [
    "from sklearn.preprocessing import PowerTransformer\n",
    "pt=PowerTransformer(method='yeo-johnson') \n",
    "x_power=pt.fit_transform(x)\n",
    "x=pd.DataFrame(x_power,columns=x.columns)"
   ]
  },
  {
   "cell_type": "code",
   "execution_count": 85,
   "metadata": {},
   "outputs": [
    {
     "data": {
      "text/plain": [
       "0     0.089270\n",
       "1     0.201513\n",
       "2     0.016495\n",
       "3     0.037365\n",
       "4     0.061036\n",
       "5     0.289481\n",
       "6     1.034209\n",
       "7     0.026857\n",
       "8    -0.027235\n",
       "9     0.207827\n",
       "10    0.203187\n",
       "11    0.016179\n",
       "12    0.050382\n",
       "13    0.028584\n",
       "14    0.055412\n",
       "15    0.016037\n",
       "16    0.015621\n",
       "17    0.037476\n",
       "18    0.006575\n",
       "19    0.111805\n",
       "20    0.007394\n",
       "21    0.042975\n",
       "22    0.024694\n",
       "23   -0.017033\n",
       "24   -0.018449\n",
       "25   -0.116504\n",
       "26    0.031574\n",
       "27   -0.031888\n",
       "28   -0.043055\n",
       "29    0.008312\n",
       "30    0.008633\n",
       "31   -0.072810\n",
       "32   -0.014240\n",
       "33    0.002334\n",
       "34   -0.149518\n",
       "dtype: float64"
      ]
     },
     "execution_count": 85,
     "metadata": {},
     "output_type": "execute_result"
    }
   ],
   "source": [
    "x.skew()"
   ]
  },
  {
   "cell_type": "markdown",
   "metadata": {},
   "source": [
    "# Scaling the data"
   ]
  },
  {
   "cell_type": "code",
   "execution_count": 86,
   "metadata": {},
   "outputs": [],
   "source": [
    "#Applying Standard scalar to independent variable only\n",
    "from sklearn.preprocessing import StandardScaler\n",
    "ss=StandardScaler()\n",
    "x_scaled=ss.fit_transform(x)\n",
    "x=pd.DataFrame(data=x_scaled,columns=x.columns)\n"
   ]
  },
  {
   "cell_type": "markdown",
   "metadata": {},
   "source": [
    "# Model Building"
   ]
  },
  {
   "cell_type": "code",
   "execution_count": 87,
   "metadata": {},
   "outputs": [],
   "source": [
    "knn=KNeighborsRegressor()\n",
    "svr=SVR()\n",
    "lr=LinearRegression()\n",
    "dt=DecisionTreeRegressor()\n",
    "gbm=GradientBoostingRegressor()\n",
    "ada=AdaBoostRegressor()\n",
    "rfr=RandomForestRegressor()\n",
    "xgb=XGBRegressor()"
   ]
  },
  {
   "cell_type": "code",
   "execution_count": 88,
   "metadata": {},
   "outputs": [],
   "source": [
    "models=[]\n",
    "models.append(('KNeighborsRegressor',knn))\n",
    "models.append(('SVR',svr))\n",
    "models.append(('LinearRegression',lr))\n",
    "models.append(('DecisionTreeRegressor',dt))\n",
    "models.append(('GradientBoostingRegressor',gbm))\n",
    "models.append(('AdaBoostRegressor',ada))\n",
    "models.append(('RandomForestRegressor',rfr))\n",
    "models.append(('XGBRegressor',xgb))"
   ]
  },
  {
   "cell_type": "code",
   "execution_count": 89,
   "metadata": {},
   "outputs": [],
   "source": [
    "from sklearn.metrics import r2_score,mean_squared_error\n",
    "from sklearn.model_selection import train_test_split,cross_val_score\n",
    "x_train,x_test,y_train,y_test=train_test_split(x,y,random_state=42)"
   ]
  },
  {
   "cell_type": "code",
   "execution_count": 113,
   "metadata": {},
   "outputs": [
    {
     "name": "stdout",
     "output_type": "stream",
     "text": [
      "***************** KNeighborsRegressor *******************\n",
      "\n",
      "\n",
      "KNeighborsRegressor(algorithm='auto', leaf_size=30, metric='minkowski',\n",
      "                    metric_params=None, n_jobs=None, n_neighbors=5, p=2,\n",
      "                    weights='uniform')\n",
      "\n",
      "\n",
      "R2score  - 0.14094247062683662\n",
      "\n",
      "\n",
      "cross_val_score  - 0.12399369940844689\n",
      "\n",
      "\n",
      "rmse_score  - 656.8725724225332\n",
      "\n",
      "\n",
      "***************** SVR *******************\n",
      "\n",
      "\n",
      "SVR(C=1.0, cache_size=200, coef0=0.0, degree=3, epsilon=0.1,\n",
      "    gamma='auto_deprecated', kernel='rbf', max_iter=-1, shrinking=True,\n",
      "    tol=0.001, verbose=False)\n",
      "\n",
      "\n",
      "R2score  - -0.07153697704957063\n",
      "\n",
      "\n",
      "cross_val_score  - -0.08164210838182358\n",
      "\n",
      "\n",
      "rmse_score  - 733.6240924674095\n",
      "\n",
      "\n",
      "***************** LinearRegression *******************\n",
      "\n",
      "\n",
      "LinearRegression(copy_X=True, fit_intercept=True, n_jobs=None, normalize=False)\n",
      "\n",
      "\n",
      "R2score  - 0.17203890897584484\n",
      "\n",
      "\n",
      "cross_val_score  - 0.1811434298233962\n",
      "\n",
      "\n",
      "rmse_score  - 644.8741495248679\n",
      "\n",
      "\n",
      "***************** DecisionTreeRegressor *******************\n",
      "\n",
      "\n",
      "DecisionTreeRegressor(criterion='mse', max_depth=None, max_features=None,\n",
      "                      max_leaf_nodes=None, min_impurity_decrease=0.0,\n",
      "                      min_impurity_split=None, min_samples_leaf=1,\n",
      "                      min_samples_split=2, min_weight_fraction_leaf=0.0,\n",
      "                      presort=False, random_state=None, splitter='best')\n",
      "\n",
      "\n",
      "R2score  - 0.484577859336598\n",
      "\n",
      "\n",
      "cross_val_score  - 0.4452226570944152\n",
      "\n",
      "\n",
      "rmse_score  - 508.8051977181564\n",
      "\n",
      "\n",
      "***************** GradientBoostingRegressor *******************\n",
      "\n",
      "\n",
      "GradientBoostingRegressor(alpha=0.9, criterion='friedman_mse', init=None,\n",
      "                          learning_rate=0.1, loss='ls', max_depth=3,\n",
      "                          max_features=None, max_leaf_nodes=None,\n",
      "                          min_impurity_decrease=0.0, min_impurity_split=None,\n",
      "                          min_samples_leaf=1, min_samples_split=2,\n",
      "                          min_weight_fraction_leaf=0.0, n_estimators=100,\n",
      "                          n_iter_no_change=None, presort='auto',\n",
      "                          random_state=None, subsample=1.0, tol=0.0001,\n",
      "                          validation_fraction=0.1, verbose=0, warm_start=False)\n",
      "\n",
      "\n",
      "R2score  - 0.6627218466937872\n",
      "\n",
      "\n",
      "cross_val_score  - 0.6785906405773457\n",
      "\n",
      "\n",
      "rmse_score  - 411.58933196921384\n",
      "\n",
      "\n",
      "***************** AdaBoostRegressor *******************\n",
      "\n",
      "\n",
      "AdaBoostRegressor(base_estimator=None, learning_rate=1.0, loss='linear',\n",
      "                  n_estimators=50, random_state=None)\n",
      "\n",
      "\n",
      "R2score  - -0.27943072776406863\n",
      "\n",
      "\n",
      "cross_val_score  - -0.5921472677982003\n",
      "\n",
      "\n",
      "rmse_score  - 801.6381783557714\n",
      "\n",
      "\n",
      "***************** RandomForestRegressor *******************\n",
      "\n",
      "\n",
      "RandomForestRegressor(bootstrap=True, criterion='mse', max_depth=None,\n",
      "                      max_features='auto', max_leaf_nodes=None,\n",
      "                      min_impurity_decrease=0.0, min_impurity_split=None,\n",
      "                      min_samples_leaf=1, min_samples_split=2,\n",
      "                      min_weight_fraction_leaf=0.0, n_estimators=10,\n",
      "                      n_jobs=None, oob_score=False, random_state=None,\n",
      "                      verbose=0, warm_start=False)\n",
      "\n",
      "\n",
      "R2score  - 0.6881720990358481\n",
      "\n",
      "\n",
      "cross_val_score  - 0.6898882023524674\n",
      "\n",
      "\n",
      "rmse_score  - 395.7559834580525\n",
      "\n",
      "\n",
      "***************** XGBRegressor *******************\n",
      "\n",
      "\n",
      "XGBRegressor(base_score=0.5, booster=None, colsample_bylevel=1,\n",
      "             colsample_bynode=1, colsample_bytree=1, gamma=0, gpu_id=-1,\n",
      "             importance_type='gain', interaction_constraints=None,\n",
      "             learning_rate=0.300000012, max_delta_step=0, max_depth=6,\n",
      "             min_child_weight=1, missing=nan, monotone_constraints=None,\n",
      "             n_estimators=100, n_jobs=0, num_parallel_tree=1,\n",
      "             objective='reg:squarederror', random_state=0, reg_alpha=0,\n",
      "             reg_lambda=1, scale_pos_weight=1, subsample=1, tree_method=None,\n",
      "             validate_parameters=False, verbosity=None)\n",
      "\n",
      "\n",
      "R2score  - 0.6710625879825134\n",
      "\n",
      "\n",
      "cross_val_score  - 0.6725116277564963\n",
      "\n",
      "\n",
      "rmse_score  - 406.4682611873141\n",
      "\n",
      "\n"
     ]
    }
   ],
   "source": [
    "Model=[]\n",
    "r2score=[]\n",
    "rmse=[]\n",
    "cv=[]\n",
    "\n",
    "for name,model in models:\n",
    "    print('*****************',name,'*******************')\n",
    "    print('\\n')\n",
    "    Model.append(name)\n",
    "    model.fit(x_train,y_train)\n",
    "    print(model)\n",
    "    pre=model.predict(x_test)\n",
    "    print('\\n')\n",
    "    score=r2_score(y_test,pre)\n",
    "    print('R2score  -',score)\n",
    "    r2score.append(score*100)\n",
    "    print('\\n')\n",
    "    sc=cross_val_score(model,x,y,cv=10,scoring='r2').mean()\n",
    "    print('cross_val_score  -',sc)\n",
    "    cv.append(sc*100)\n",
    "    print('\\n')\n",
    "    rmsescore=np.sqrt(mean_squared_error(y_test,pre))\n",
    "    print('rmse_score  -',rmsescore)\n",
    "    rmse.append(rmsescore)\n",
    "    print('\\n')\n",
    "    "
   ]
  },
  {
   "cell_type": "code",
   "execution_count": 114,
   "metadata": {},
   "outputs": [
    {
     "data": {
      "text/html": [
       "<div>\n",
       "<style scoped>\n",
       "    .dataframe tbody tr th:only-of-type {\n",
       "        vertical-align: middle;\n",
       "    }\n",
       "\n",
       "    .dataframe tbody tr th {\n",
       "        vertical-align: top;\n",
       "    }\n",
       "\n",
       "    .dataframe thead th {\n",
       "        text-align: right;\n",
       "    }\n",
       "</style>\n",
       "<table border=\"1\" class=\"dataframe\">\n",
       "  <thead>\n",
       "    <tr style=\"text-align: right;\">\n",
       "      <th></th>\n",
       "      <th>Model</th>\n",
       "      <th>R2_score</th>\n",
       "      <th>RMSEscore</th>\n",
       "      <th>Cross_val_score</th>\n",
       "    </tr>\n",
       "  </thead>\n",
       "  <tbody>\n",
       "    <tr>\n",
       "      <td>0</td>\n",
       "      <td>KNeighborsRegressor</td>\n",
       "      <td>14.094247</td>\n",
       "      <td>656.872572</td>\n",
       "      <td>12.399370</td>\n",
       "    </tr>\n",
       "    <tr>\n",
       "      <td>1</td>\n",
       "      <td>SVR</td>\n",
       "      <td>-7.153698</td>\n",
       "      <td>733.624092</td>\n",
       "      <td>-8.164211</td>\n",
       "    </tr>\n",
       "    <tr>\n",
       "      <td>2</td>\n",
       "      <td>LinearRegression</td>\n",
       "      <td>17.203891</td>\n",
       "      <td>644.874150</td>\n",
       "      <td>18.114343</td>\n",
       "    </tr>\n",
       "    <tr>\n",
       "      <td>3</td>\n",
       "      <td>DecisionTreeRegressor</td>\n",
       "      <td>48.457786</td>\n",
       "      <td>508.805198</td>\n",
       "      <td>44.522266</td>\n",
       "    </tr>\n",
       "    <tr>\n",
       "      <td>4</td>\n",
       "      <td>GradientBoostingRegressor</td>\n",
       "      <td>66.272185</td>\n",
       "      <td>411.589332</td>\n",
       "      <td>67.859064</td>\n",
       "    </tr>\n",
       "    <tr>\n",
       "      <td>5</td>\n",
       "      <td>AdaBoostRegressor</td>\n",
       "      <td>-27.943073</td>\n",
       "      <td>801.638178</td>\n",
       "      <td>-59.214727</td>\n",
       "    </tr>\n",
       "    <tr>\n",
       "      <td>6</td>\n",
       "      <td>RandomForestRegressor</td>\n",
       "      <td>68.817210</td>\n",
       "      <td>395.755983</td>\n",
       "      <td>68.988820</td>\n",
       "    </tr>\n",
       "    <tr>\n",
       "      <td>7</td>\n",
       "      <td>XGBRegressor</td>\n",
       "      <td>67.106259</td>\n",
       "      <td>406.468261</td>\n",
       "      <td>67.251163</td>\n",
       "    </tr>\n",
       "  </tbody>\n",
       "</table>\n",
       "</div>"
      ],
      "text/plain": [
       "                       Model   R2_score   RMSEscore  Cross_val_score\n",
       "0        KNeighborsRegressor  14.094247  656.872572        12.399370\n",
       "1                        SVR  -7.153698  733.624092        -8.164211\n",
       "2           LinearRegression  17.203891  644.874150        18.114343\n",
       "3      DecisionTreeRegressor  48.457786  508.805198        44.522266\n",
       "4  GradientBoostingRegressor  66.272185  411.589332        67.859064\n",
       "5          AdaBoostRegressor -27.943073  801.638178       -59.214727\n",
       "6      RandomForestRegressor  68.817210  395.755983        68.988820\n",
       "7               XGBRegressor  67.106259  406.468261        67.251163"
      ]
     },
     "execution_count": 114,
     "metadata": {},
     "output_type": "execute_result"
    }
   ],
   "source": [
    "result=pd.DataFrame({'Model':Model,'R2_score':r2score,'RMSEscore':rmse,'Cross_val_score':cv})\n",
    "result"
   ]
  },
  {
   "cell_type": "code",
   "execution_count": null,
   "metadata": {},
   "outputs": [],
   "source": [
    "#hence RandomForestRegressor is the best performing Algorithm for the taken dataset.\n",
    "#But our target score is 90%\n",
    "#to achieve 90% score we will apply Gridsearchcv technique to the top3 performing models."
   ]
  },
  {
   "cell_type": "code",
   "execution_count": null,
   "metadata": {},
   "outputs": [],
   "source": [
    "#First lets calculate the random state of the models at which they perform the best.\n",
    "#Then we will select the top3 models and do gridsearchcv on them to attain our target score of 90%.\n",
    "#Then Cross validating the model and checking the cross_val_score,model giving highest score will be choosen as final model."
   ]
  },
  {
   "cell_type": "markdown",
   "metadata": {},
   "source": [
    "# Finding the best random_state for all models"
   ]
  },
  {
   "cell_type": "code",
   "execution_count": 117,
   "metadata": {},
   "outputs": [],
   "source": [
    "def maxr2_score(model,x,y):\n",
    "    max_r_score=0\n",
    "    for r_state in range(42,101):\n",
    "        \n",
    "        x_train,x_test,y_train,y_test=train_test_split(x,y,random_state=r_state)\n",
    "        model.fit(x_train,y_train)\n",
    "        pred=model.predict(x_test)\n",
    "        score=r2_score(y_test,pred)\n",
    "        \n",
    "        if score>max_r_score:\n",
    "            max_r_score=score\n",
    "            final_r_state=r_state\n",
    "    print('max_r2_score is at random_state  ',final_r_state,'  which is  ',max_r_score)\n",
    "    return final_r_state\n",
    "    "
   ]
  },
  {
   "cell_type": "code",
   "execution_count": 118,
   "metadata": {},
   "outputs": [
    {
     "name": "stdout",
     "output_type": "stream",
     "text": [
      "max_r2_score is at random_state   83   which is   0.18231509484908182\n",
      "knn 83\n",
      "max_r2_score is at random_state   87   which is   0.20635568626920942\n",
      "lr 87\n",
      "max_r2_score is at random_state   83   which is   0.5354020524530991\n",
      "dt 83\n",
      "max_r2_score is at random_state   87   which is   0.7044205810751782\n",
      "gbm 87\n",
      "max_r2_score is at random_state   93   which is   0.7270057956052584\n",
      "rfr 93\n",
      "max_r2_score is at random_state   97   which is   0.6966232818603362\n",
      "xgb 97\n"
     ]
    }
   ],
   "source": [
    "print('knn',maxr2_score(knn,x,y))\n",
    "#print('SVR',maxr2_score(svr,x,y))\n",
    "print('lr',maxr2_score(lr,x,y))\n",
    "print('dt',maxr2_score(dt,x,y))\n",
    "print('gbm',maxr2_score(gbm,x,y))\n",
    "print('rfr',maxr2_score(rfr,x,y))\n",
    "print('xgb',maxr2_score(xgb,x,y))\n",
    "\n",
    "#print('ada',maxr2_score(ada,x,y))\n",
    "\n",
    "#For SVR and Adaboost model the value of max_r_score never increase above zero for any random_state range given in the loop.\n",
    "#this doesnot satisfy the condition given in our loop.\n",
    "#hence both model gives error when run for this loop\n",
    "#so i am not considering SVR and Adaboost for model building.\n",
    "\n",
    "\n",
    "#UnboundLocalError: local variable 'final_r_state' referenced before assignment"
   ]
  },
  {
   "cell_type": "raw",
   "metadata": {},
   "source": [
    "#Selecting the top3 performing models for gridsearchcv\n",
    "\n",
    "model1->RandomForestRegressor(random_state=93)=72.7\n",
    "model2->GradientBoostingRegressor(random_state=87)=70.44\n",
    "model3->XGBoost(random_state=97)=69.66"
   ]
  },
  {
   "cell_type": "markdown",
   "metadata": {},
   "source": [
    "# GridSearchCV"
   ]
  },
  {
   "cell_type": "markdown",
   "metadata": {},
   "source": [
    "# model1->RandomForestRegressor(random_state=93)=72.7"
   ]
  },
  {
   "cell_type": "code",
   "execution_count": 90,
   "metadata": {},
   "outputs": [],
   "source": [
    "x_train,x_test,y_train,y_test=train_test_split(x,y,random_state=93)\n",
    "rfr=RandomForestRegressor()"
   ]
  },
  {
   "cell_type": "code",
   "execution_count": 91,
   "metadata": {},
   "outputs": [
    {
     "data": {
      "text/plain": [
       "{'max_depth': 10, 'min_samples_leaf': 2, 'n_estimators': 500}"
      ]
     },
     "execution_count": 91,
     "metadata": {},
     "output_type": "execute_result"
    }
   ],
   "source": [
    "parameters=[{'max_depth':[5,7,9,10],'min_samples_leaf':[1,2],'n_estimators':[100,250,500]}]\n",
    "            \n",
    "grid_search=GridSearchCV(rfr,parameters,scoring='r2',n_jobs=-1,cv=10)\n",
    "grid_search=grid_search.fit(x,y)\n",
    "grid_search.best_params_ "
   ]
  },
  {
   "cell_type": "code",
   "execution_count": 93,
   "metadata": {},
   "outputs": [
    {
     "name": "stdout",
     "output_type": "stream",
     "text": [
      "R2_score=   0.8556248348503306\n",
      "RMSE score=  247.772980798744\n"
     ]
    }
   ],
   "source": [
    "x_train,x_test,y_train,y_test=train_test_split(x,y,random_state=93)\n",
    "rfr=RandomForestRegressor(max_depth=10,min_samples_leaf=2,n_estimators=500)\n",
    "rfr.fit(x,y)\n",
    "pred_rfr=rfr.predict(x_test)\n",
    "score=r2_score(y_test,pred_rfr)\n",
    "print('R2_score=  ',score)\n",
    "print('RMSE score= ',np.sqrt(mean_squared_error(y_test,pred_rfr)))"
   ]
  },
  {
   "cell_type": "code",
   "execution_count": 94,
   "metadata": {},
   "outputs": [
    {
     "data": {
      "text/plain": [
       "0.7023338117606617"
      ]
     },
     "execution_count": 94,
     "metadata": {},
     "output_type": "execute_result"
    }
   ],
   "source": [
    "#Cross validating the model and checking the cross_val_score,model giving highest score will be choosen as final model.\n",
    "rfr=RandomForestRegressor(max_depth=10,min_samples_leaf=2,n_estimators=500)\n",
    "cvs=cross_val_score(rfr,x,y,scoring='r2',cv=10)\n",
    "cvs.mean()"
   ]
  },
  {
   "cell_type": "markdown",
   "metadata": {},
   "source": [
    "# model2->GradientBoostingRegressor(random_state=87)=70.44"
   ]
  },
  {
   "cell_type": "code",
   "execution_count": 97,
   "metadata": {},
   "outputs": [],
   "source": [
    "x_train,x_test,y_train,y_test=train_test_split(x,y,random_state=87)\n",
    "gbm=GradientBoostingRegressor()"
   ]
  },
  {
   "cell_type": "code",
   "execution_count": 98,
   "metadata": {},
   "outputs": [
    {
     "data": {
      "text/plain": [
       "{'learning_rate': 0.05,\n",
       " 'max_depth': 9,\n",
       " 'min_samples_leaf': 2,\n",
       " 'n_estimators': 100}"
      ]
     },
     "execution_count": 98,
     "metadata": {},
     "output_type": "execute_result"
    }
   ],
   "source": [
    "from sklearn.model_selection import GridSearchCV\n",
    "\n",
    "parameters=[{'max_depth':[5,7,9,10],'min_samples_leaf':[1,2],\n",
    "            'learning_rate':[0.1,0.05,0.001], 'n_estimators':[50,100]}]\n",
    "            \n",
    "grid_search=GridSearchCV(gbm,parameters,n_jobs=-1,cv=10)\n",
    "grid_search=grid_search.fit(x,y)\n",
    "grid_search.best_params_ "
   ]
  },
  {
   "cell_type": "code",
   "execution_count": 99,
   "metadata": {},
   "outputs": [
    {
     "name": "stdout",
     "output_type": "stream",
     "text": [
      "R2_score=   0.9595561587624521\n",
      "RMSE score=  132.00227832724084\n"
     ]
    }
   ],
   "source": [
    "x_train,x_test,y_train,y_test=train_test_split(x,y,random_state=87)\n",
    "gbm=GradientBoostingRegressor(learning_rate=0.05,max_depth=9,min_samples_leaf=2,n_estimators=100)\n",
    "gbm.fit(x,y)\n",
    "pred_gbm=gbm.predict(x_test)\n",
    "score=r2_score(y_test,pred_gbm)\n",
    "print('R2_score=  ',score)\n",
    "print('RMSE score= ',np.sqrt(mean_squared_error(y_test,pred_gbm)))"
   ]
  },
  {
   "cell_type": "code",
   "execution_count": 100,
   "metadata": {},
   "outputs": [
    {
     "data": {
      "text/plain": [
       "0.6853622407144558"
      ]
     },
     "execution_count": 100,
     "metadata": {},
     "output_type": "execute_result"
    }
   ],
   "source": [
    "#Cross validating the model and checking the cross_val_score,model giving highest score will be choosen as final model.\n",
    "gbm=GradientBoostingRegressor(learning_rate=0.1,max_depth=5,min_samples_leaf=2,n_estimators=50)\n",
    "cvs=cross_val_score(gbm,x,y,scoring='r2',cv=10)\n",
    "cvs.mean()"
   ]
  },
  {
   "cell_type": "markdown",
   "metadata": {},
   "source": [
    "# model3->XGBoost(random_state=97)=69.66"
   ]
  },
  {
   "cell_type": "code",
   "execution_count": 101,
   "metadata": {},
   "outputs": [],
   "source": [
    "x_train,x_test,y_train,y_test=train_test_split(x,y,random_state=97)\n",
    "xgb=XGBRegressor()"
   ]
  },
  {
   "cell_type": "code",
   "execution_count": 102,
   "metadata": {},
   "outputs": [
    {
     "data": {
      "text/plain": [
       "{'colsample_bytree': 0.9, 'learning_rate': 0.1, 'max_depth': 7}"
      ]
     },
     "execution_count": 102,
     "metadata": {},
     "output_type": "execute_result"
    }
   ],
   "source": [
    "from sklearn.model_selection import GridSearchCV\n",
    "parameters=[{'learning_rate':[0.1,0.2,0.3,0.4],'max_depth':[3,4,5,6,7,8],'colsample_bytree':[0.5,0.6,0.7,0.8,0.9]}]\n",
    "            \n",
    "gscv=GridSearchCV(xgb,parameters,scoring='r2',n_jobs=-1,cv=10)\n",
    "grid_search=gscv.fit(x,y)\n",
    "grid_search.best_params_"
   ]
  },
  {
   "cell_type": "code",
   "execution_count": 103,
   "metadata": {},
   "outputs": [
    {
     "name": "stdout",
     "output_type": "stream",
     "text": [
      "r2_score=   0.915236806847242\n",
      "RMSE score=  192.14059162361707\n"
     ]
    }
   ],
   "source": [
    "x_train,x_test,y_train,y_test=train_test_split(x,y,random_state=97)\n",
    "xgb=XGBRegressor(colsample_bytree=0.9, learning_rate=0.1, max_depth=7)\n",
    "xgb.fit(x,y)\n",
    "pred=xgb.predict(x_test)\n",
    "print('r2_score=  ',r2_score(y_test,pred))\n",
    "print('RMSE score= ',np.sqrt(mean_squared_error(y_test,pred)))"
   ]
  },
  {
   "cell_type": "code",
   "execution_count": 104,
   "metadata": {},
   "outputs": [
    {
     "data": {
      "text/plain": [
       "0.7010538892990321"
      ]
     },
     "execution_count": 104,
     "metadata": {},
     "output_type": "execute_result"
    }
   ],
   "source": [
    "#Cross validating the model and checking the cross_val_score,model giving highest score will be choosen as final model.\n",
    "xgb=XGBRegressor(colsample_bytree=0.8, learning_rate=0.1, max_depth=7)\n",
    "cvs=cross_val_score(xgb,x,y,scoring='r2',cv=10)\n",
    "cvs.mean()"
   ]
  },
  {
   "cell_type": "markdown",
   "metadata": {},
   "source": [
    "# Saving the final RandomForestRegressor model"
   ]
  },
  {
   "cell_type": "code",
   "execution_count": 105,
   "metadata": {},
   "outputs": [
    {
     "name": "stdout",
     "output_type": "stream",
     "text": [
      "R2_score=   0.8539141734281483\n",
      "RMSE score=  249.2365549726804\n"
     ]
    }
   ],
   "source": [
    "#From all the model tried above RandomForestRegressor model has highest cross_val_score=70.23% ,\n",
    "#corresponding random_state=87\n",
    "#Hence choosing the RandomForestRegressor as the final  model\n",
    "x_train,x_test,y_train,y_test=train_test_split(x,y,random_state=93)\n",
    "rfr=RandomForestRegressor(max_depth=10,min_samples_leaf=2,n_estimators=500)\n",
    "rfr.fit(x,y)\n",
    "pred_rfr=rfr.predict(x_test)\n",
    "score=r2_score(y_test,pred_rfr)\n",
    "print('R2_score=  ',score)\n",
    "print('RMSE score= ',np.sqrt(mean_squared_error(y_test,pred_rfr)))"
   ]
  },
  {
   "cell_type": "code",
   "execution_count": 106,
   "metadata": {},
   "outputs": [
    {
     "data": {
      "text/plain": [
       "0.7015512679490719"
      ]
     },
     "execution_count": 106,
     "metadata": {},
     "output_type": "execute_result"
    }
   ],
   "source": [
    "rfr=RandomForestRegressor(max_depth=10,min_samples_leaf=2,n_estimators=500)\n",
    "rfr.fit(x,y)\n",
    "cvs=cross_val_score(rfr,x,y,scoring='r2',cv=10)\n",
    "cvs.mean()"
   ]
  },
  {
   "cell_type": "code",
   "execution_count": 107,
   "metadata": {},
   "outputs": [
    {
     "data": {
      "text/plain": [
       "['Project-11-Automobileinsuranceclaim.obj']"
      ]
     },
     "execution_count": 107,
     "metadata": {},
     "output_type": "execute_result"
    }
   ],
   "source": [
    "from sklearn.externals import joblib\n",
    "joblib.dump(rfr,'Project-11-Automobileinsuranceclaim.obj')"
   ]
  },
  {
   "cell_type": "code",
   "execution_count": 108,
   "metadata": {},
   "outputs": [],
   "source": [
    "model=joblib.load('Project-11-Automobileinsuranceclaim.obj')"
   ]
  },
  {
   "cell_type": "code",
   "execution_count": 109,
   "metadata": {},
   "outputs": [
    {
     "data": {
      "text/html": [
       "<div>\n",
       "<style scoped>\n",
       "    .dataframe tbody tr th:only-of-type {\n",
       "        vertical-align: middle;\n",
       "    }\n",
       "\n",
       "    .dataframe tbody tr th {\n",
       "        vertical-align: top;\n",
       "    }\n",
       "\n",
       "    .dataframe thead th {\n",
       "        text-align: right;\n",
       "    }\n",
       "</style>\n",
       "<table border=\"1\" class=\"dataframe\">\n",
       "  <thead>\n",
       "    <tr style=\"text-align: right;\">\n",
       "      <th></th>\n",
       "      <th>Claim Amount</th>\n",
       "    </tr>\n",
       "  </thead>\n",
       "  <tbody>\n",
       "    <tr>\n",
       "      <td>0</td>\n",
       "      <td>1268.401305</td>\n",
       "    </tr>\n",
       "    <tr>\n",
       "      <td>1</td>\n",
       "      <td>443.407296</td>\n",
       "    </tr>\n",
       "    <tr>\n",
       "      <td>2</td>\n",
       "      <td>413.907865</td>\n",
       "    </tr>\n",
       "    <tr>\n",
       "      <td>3</td>\n",
       "      <td>550.484561</td>\n",
       "    </tr>\n",
       "    <tr>\n",
       "      <td>4</td>\n",
       "      <td>1108.832296</td>\n",
       "    </tr>\n",
       "  </tbody>\n",
       "</table>\n",
       "</div>"
      ],
      "text/plain": [
       "   Claim Amount\n",
       "0   1268.401305\n",
       "1    443.407296\n",
       "2    413.907865\n",
       "3    550.484561\n",
       "4   1108.832296"
      ]
     },
     "execution_count": 109,
     "metadata": {},
     "output_type": "execute_result"
    }
   ],
   "source": [
    "final_predictions=model.predict(x_test)\n",
    "final_predictions=pd.DataFrame(final_predictions,columns=['Claim Amount'])\n",
    "final_predictions.head()"
   ]
  },
  {
   "cell_type": "markdown",
   "metadata": {},
   "source": [
    "# Saving final predictions in file.csv "
   ]
  },
  {
   "cell_type": "code",
   "execution_count": 110,
   "metadata": {},
   "outputs": [],
   "source": [
    "final_predictions.to_csv('E:\\\\final_predictionsautoinsuranceclaim.csv',index=False)"
   ]
  },
  {
   "cell_type": "markdown",
   "metadata": {},
   "source": [
    "# Conclusion:-"
   ]
  },
  {
   "cell_type": "raw",
   "metadata": {},
   "source": [
    "1-Claim Amount can be predicted using the model above. \n",
    "2-By using sklearn(RandomForestRegressor)we have build a machine learning model that will predict the Claim Amount of insurer.\n",
    "                                                                      "
   ]
  }
 ],
 "metadata": {
  "kernelspec": {
   "display_name": "Python 3",
   "language": "python",
   "name": "python3"
  },
  "language_info": {
   "codemirror_mode": {
    "name": "ipython",
    "version": 3
   },
   "file_extension": ".py",
   "mimetype": "text/x-python",
   "name": "python",
   "nbconvert_exporter": "python",
   "pygments_lexer": "ipython3",
   "version": "3.7.4"
  }
 },
 "nbformat": 4,
 "nbformat_minor": 2
}
