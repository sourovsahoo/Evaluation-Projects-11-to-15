{
 "cells": [
  {
   "cell_type": "raw",
   "metadata": {},
   "source": [
    "This is a regression problem where we have to predict the 'COST' of a dish in a restaurant from the given features."
   ]
  },
  {
   "cell_type": "code",
   "execution_count": 1,
   "metadata": {},
   "outputs": [
    {
     "name": "stderr",
     "output_type": "stream",
     "text": [
      "C:\\ProgramData\\Anaconda3\\lib\\site-packages\\sklearn\\externals\\joblib\\__init__.py:15: DeprecationWarning: sklearn.externals.joblib is deprecated in 0.21 and will be removed in 0.23. Please import this functionality directly from joblib, which can be installed with: pip install joblib. If this warning is raised when loading pickled models, you may need to re-serialize those models with scikit-learn 0.21+.\n",
      "  warnings.warn(msg, category=DeprecationWarning)\n"
     ]
    }
   ],
   "source": [
    "import numpy as np\n",
    "import pandas as pd\n",
    "import matplotlib.pyplot as plt\n",
    "import warnings\n",
    "warnings.filterwarnings('ignore')\n",
    "import seaborn as sns\n",
    "\n",
    "from sklearn.preprocessing import StandardScaler\n",
    "\n",
    "from sklearn.neighbors import KNeighborsRegressor\n",
    "from sklearn.svm import SVR\n",
    "from sklearn.linear_model import LinearRegression\n",
    "from sklearn.linear_model import Lasso\n",
    "from sklearn.tree import DecisionTreeRegressor\n",
    "from sklearn.ensemble import GradientBoostingRegressor\n",
    "from sklearn.ensemble import RandomForestRegressor\n",
    "from sklearn.ensemble import AdaBoostRegressor\n",
    "from xgboost import XGBRegressor\n",
    "\n",
    "from sklearn.metrics import mean_absolute_error\n",
    "from sklearn.metrics import mean_squared_error\n",
    "from sklearn.metrics import r2_score\n",
    "from sklearn.model_selection import train_test_split\n",
    "from sklearn.model_selection import cross_val_score\n",
    "\n",
    "from sklearn.model_selection import GridSearchCV\n",
    "\n",
    "from sklearn.externals import joblib"
   ]
  },
  {
   "cell_type": "code",
   "execution_count": 2,
   "metadata": {},
   "outputs": [],
   "source": [
    "train=pd.read_csv('E:\\\\restaurant_train.csv',encoding='latin1')\n",
    "test=pd.read_csv('E:\\\\restaurant_test.csv',encoding='latin1')"
   ]
  },
  {
   "cell_type": "code",
   "execution_count": 3,
   "metadata": {},
   "outputs": [
    {
     "name": "stdout",
     "output_type": "stream",
     "text": [
      "(12690, 9) (4231, 8) (16921, 9)\n"
     ]
    }
   ],
   "source": [
    "#combining both train and test data sets into one to perform feature engineering and then divide them later again. \n",
    "#This saves the trouble of performing the same steps twice on test and train. \n",
    "\n",
    "df= pd.concat([train, test],ignore_index=True)#axis=0(default)rowwise\n",
    "print (train.shape, test.shape, df.shape)"
   ]
  },
  {
   "cell_type": "code",
   "execution_count": 4,
   "metadata": {},
   "outputs": [
    {
     "data": {
      "text/html": [
       "<div>\n",
       "<style scoped>\n",
       "    .dataframe tbody tr th:only-of-type {\n",
       "        vertical-align: middle;\n",
       "    }\n",
       "\n",
       "    .dataframe tbody tr th {\n",
       "        vertical-align: top;\n",
       "    }\n",
       "\n",
       "    .dataframe thead th {\n",
       "        text-align: right;\n",
       "    }\n",
       "</style>\n",
       "<table border=\"1\" class=\"dataframe\">\n",
       "  <thead>\n",
       "    <tr style=\"text-align: right;\">\n",
       "      <th></th>\n",
       "      <th>CITY</th>\n",
       "      <th>COST</th>\n",
       "      <th>CUISINES</th>\n",
       "      <th>LOCALITY</th>\n",
       "      <th>RATING</th>\n",
       "      <th>RESTAURANT_ID</th>\n",
       "      <th>TIME</th>\n",
       "      <th>TITLE</th>\n",
       "      <th>VOTES</th>\n",
       "    </tr>\n",
       "  </thead>\n",
       "  <tbody>\n",
       "    <tr>\n",
       "      <td>0</td>\n",
       "      <td>Thane</td>\n",
       "      <td>1200.0</td>\n",
       "      <td>Malwani, Goan, North Indian</td>\n",
       "      <td>Dombivali East</td>\n",
       "      <td>3.6</td>\n",
       "      <td>9438</td>\n",
       "      <td>11am  4pm, 7:30pm  11:30pm (Mon-Sun)</td>\n",
       "      <td>CASUAL DINING</td>\n",
       "      <td>49 votes</td>\n",
       "    </tr>\n",
       "    <tr>\n",
       "      <td>1</td>\n",
       "      <td>Chennai</td>\n",
       "      <td>1500.0</td>\n",
       "      <td>Asian, Modern Indian, Japanese</td>\n",
       "      <td>Ramapuram</td>\n",
       "      <td>4.2</td>\n",
       "      <td>13198</td>\n",
       "      <td>6pm  11pm (Mon-Sun)</td>\n",
       "      <td>CASUAL DINING,BAR</td>\n",
       "      <td>30 votes</td>\n",
       "    </tr>\n",
       "    <tr>\n",
       "      <td>2</td>\n",
       "      <td>Chennai</td>\n",
       "      <td>800.0</td>\n",
       "      <td>North Indian, Chinese, Biryani, Hyderabadi</td>\n",
       "      <td>Saligramam</td>\n",
       "      <td>3.8</td>\n",
       "      <td>10915</td>\n",
       "      <td>11am  3:30pm, 7pm  11pm (Mon-Sun)</td>\n",
       "      <td>CASUAL DINING</td>\n",
       "      <td>221 votes</td>\n",
       "    </tr>\n",
       "    <tr>\n",
       "      <td>3</td>\n",
       "      <td>Mumbai</td>\n",
       "      <td>800.0</td>\n",
       "      <td>Tibetan, Chinese</td>\n",
       "      <td>Bandra West</td>\n",
       "      <td>4.1</td>\n",
       "      <td>6346</td>\n",
       "      <td>11:30am  1am (Mon-Sun)</td>\n",
       "      <td>QUICK BITES</td>\n",
       "      <td>24 votes</td>\n",
       "    </tr>\n",
       "    <tr>\n",
       "      <td>4</td>\n",
       "      <td>Mumbai</td>\n",
       "      <td>300.0</td>\n",
       "      <td>Desserts</td>\n",
       "      <td>Lower Parel</td>\n",
       "      <td>3.8</td>\n",
       "      <td>15387</td>\n",
       "      <td>11am  1am (Mon-Sun)</td>\n",
       "      <td>DESSERT PARLOR</td>\n",
       "      <td>165 votes</td>\n",
       "    </tr>\n",
       "  </tbody>\n",
       "</table>\n",
       "</div>"
      ],
      "text/plain": [
       "      CITY    COST                                    CUISINES  \\\n",
       "0    Thane  1200.0                 Malwani, Goan, North Indian   \n",
       "1  Chennai  1500.0              Asian, Modern Indian, Japanese   \n",
       "2  Chennai   800.0  North Indian, Chinese, Biryani, Hyderabadi   \n",
       "3   Mumbai   800.0                            Tibetan, Chinese   \n",
       "4   Mumbai   300.0                                    Desserts   \n",
       "\n",
       "         LOCALITY RATING  RESTAURANT_ID  \\\n",
       "0  Dombivali East    3.6           9438   \n",
       "1       Ramapuram    4.2          13198   \n",
       "2      Saligramam    3.8          10915   \n",
       "3     Bandra West    4.1           6346   \n",
       "4     Lower Parel    3.8          15387   \n",
       "\n",
       "                                     TIME              TITLE      VOTES  \n",
       "0  11am  4pm, 7:30pm  11:30pm (Mon-Sun)      CASUAL DINING   49 votes  \n",
       "1                    6pm  11pm (Mon-Sun)  CASUAL DINING,BAR   30 votes  \n",
       "2     11am  3:30pm, 7pm  11pm (Mon-Sun)      CASUAL DINING  221 votes  \n",
       "3                 11:30am  1am (Mon-Sun)        QUICK BITES   24 votes  \n",
       "4                    11am  1am (Mon-Sun)     DESSERT PARLOR  165 votes  "
      ]
     },
     "execution_count": 4,
     "metadata": {},
     "output_type": "execute_result"
    }
   ],
   "source": [
    "df.head()"
   ]
  },
  {
   "cell_type": "code",
   "execution_count": 5,
   "metadata": {},
   "outputs": [
    {
     "data": {
      "text/html": [
       "<div>\n",
       "<style scoped>\n",
       "    .dataframe tbody tr th:only-of-type {\n",
       "        vertical-align: middle;\n",
       "    }\n",
       "\n",
       "    .dataframe tbody tr th {\n",
       "        vertical-align: top;\n",
       "    }\n",
       "\n",
       "    .dataframe thead th {\n",
       "        text-align: right;\n",
       "    }\n",
       "</style>\n",
       "<table border=\"1\" class=\"dataframe\">\n",
       "  <thead>\n",
       "    <tr style=\"text-align: right;\">\n",
       "      <th></th>\n",
       "      <th>CITY</th>\n",
       "      <th>COST</th>\n",
       "      <th>CUISINES</th>\n",
       "      <th>LOCALITY</th>\n",
       "      <th>RATING</th>\n",
       "      <th>RESTAURANT_ID</th>\n",
       "      <th>TIME</th>\n",
       "      <th>TITLE</th>\n",
       "      <th>VOTES</th>\n",
       "    </tr>\n",
       "  </thead>\n",
       "  <tbody>\n",
       "    <tr>\n",
       "      <td>16916</td>\n",
       "      <td>New Delhi</td>\n",
       "      <td>NaN</td>\n",
       "      <td>North Indian, Mughlai, Chinese</td>\n",
       "      <td>Punjabi Bagh</td>\n",
       "      <td>3.9</td>\n",
       "      <td>9057</td>\n",
       "      <td>11:30am  11:30pm (Mon-Sun)</td>\n",
       "      <td>CASUAL DINING</td>\n",
       "      <td>287 votes</td>\n",
       "    </tr>\n",
       "    <tr>\n",
       "      <td>16917</td>\n",
       "      <td>Bangalore</td>\n",
       "      <td>NaN</td>\n",
       "      <td>Biryani, North Indian, Sandwich, Salad, Wraps</td>\n",
       "      <td>HSR Layout</td>\n",
       "      <td>4.3</td>\n",
       "      <td>1247</td>\n",
       "      <td>11am  1am (Mon-Sun)</td>\n",
       "      <td>None</td>\n",
       "      <td>469 votes</td>\n",
       "    </tr>\n",
       "    <tr>\n",
       "      <td>16918</td>\n",
       "      <td>Faridabad</td>\n",
       "      <td>NaN</td>\n",
       "      <td>Continental, North Indian</td>\n",
       "      <td>Sector 86</td>\n",
       "      <td>3.7</td>\n",
       "      <td>8617</td>\n",
       "      <td>9:30am  10:30pm (Mon-Sun)</td>\n",
       "      <td>QUICK BITES</td>\n",
       "      <td>53 votes</td>\n",
       "    </tr>\n",
       "    <tr>\n",
       "      <td>16919</td>\n",
       "      <td>Kochi</td>\n",
       "      <td>NaN</td>\n",
       "      <td>Rolls, Beverages</td>\n",
       "      <td>Kochi</td>\n",
       "      <td>-</td>\n",
       "      <td>6485</td>\n",
       "      <td>11am  11:30pm (Mon, Tue, Wed, Thu, Sat, Sun),...</td>\n",
       "      <td>QUICK BITES</td>\n",
       "      <td>NaN</td>\n",
       "    </tr>\n",
       "    <tr>\n",
       "      <td>16920</td>\n",
       "      <td>Bandra West</td>\n",
       "      <td>NaN</td>\n",
       "      <td>Mughlai</td>\n",
       "      <td>Perry Cross Road</td>\n",
       "      <td>3.7</td>\n",
       "      <td>2421</td>\n",
       "      <td>5pm  1am (Mon-Sun)</td>\n",
       "      <td>QUICK BITES</td>\n",
       "      <td>63 votes</td>\n",
       "    </tr>\n",
       "  </tbody>\n",
       "</table>\n",
       "</div>"
      ],
      "text/plain": [
       "              CITY  COST                                       CUISINES  \\\n",
       "16916    New Delhi   NaN                 North Indian, Mughlai, Chinese   \n",
       "16917    Bangalore   NaN  Biryani, North Indian, Sandwich, Salad, Wraps   \n",
       "16918    Faridabad   NaN                      Continental, North Indian   \n",
       "16919        Kochi   NaN                               Rolls, Beverages   \n",
       "16920  Bandra West   NaN                                        Mughlai   \n",
       "\n",
       "               LOCALITY RATING  RESTAURANT_ID  \\\n",
       "16916      Punjabi Bagh    3.9           9057   \n",
       "16917        HSR Layout    4.3           1247   \n",
       "16918         Sector 86    3.7           8617   \n",
       "16919             Kochi      -           6485   \n",
       "16920  Perry Cross Road    3.7           2421   \n",
       "\n",
       "                                                    TIME          TITLE  \\\n",
       "16916                        11:30am  11:30pm (Mon-Sun)  CASUAL DINING   \n",
       "16917                               11am  1am (Mon-Sun)           None   \n",
       "16918                         9:30am  10:30pm (Mon-Sun)    QUICK BITES   \n",
       "16919  11am  11:30pm (Mon, Tue, Wed, Thu, Sat, Sun),...    QUICK BITES   \n",
       "16920                                5pm  1am (Mon-Sun)    QUICK BITES   \n",
       "\n",
       "           VOTES  \n",
       "16916  287 votes  \n",
       "16917  469 votes  \n",
       "16918   53 votes  \n",
       "16919        NaN  \n",
       "16920   63 votes  "
      ]
     },
     "execution_count": 5,
     "metadata": {},
     "output_type": "execute_result"
    }
   ],
   "source": [
    "#Price is the target variable and all values are missing as they are from test set. \n",
    "#we’ll impute all the missing values(if present) except the Price column.\n",
    "df.tail()"
   ]
  },
  {
   "cell_type": "code",
   "execution_count": 6,
   "metadata": {},
   "outputs": [
    {
     "data": {
      "text/plain": [
       "(16921, 9)"
      ]
     },
     "execution_count": 6,
     "metadata": {},
     "output_type": "execute_result"
    }
   ],
   "source": [
    "df.shape"
   ]
  },
  {
   "cell_type": "code",
   "execution_count": 7,
   "metadata": {},
   "outputs": [
    {
     "data": {
      "text/plain": [
       "<matplotlib.axes._subplots.AxesSubplot at 0x1576e6b0d88>"
      ]
     },
     "execution_count": 7,
     "metadata": {},
     "output_type": "execute_result"
    },
    {
     "data": {
      "image/png": "[encoded data removed]",
      "text/plain": [
       "<Figure size 432x288 with 2 Axes>"
      ]
     },
     "metadata": {
      "needs_background": "light"
     },
     "output_type": "display_data"
    }
   ],
   "source": [
    "sns.heatmap(df.isnull())"
   ]
  },
  {
   "cell_type": "code",
   "execution_count": 12,
   "metadata": {},
   "outputs": [
    {
     "data": {
      "text/plain": [
       "CITY              147\n",
       "COST             4231\n",
       "CUISINES            0\n",
       "LOCALITY          128\n",
       "RATING           1606\n",
       "RESTAURANT_ID       0\n",
       "TIME                0\n",
       "TITLE               0\n",
       "VOTES            1606\n",
       "dtype: int64"
      ]
     },
     "execution_count": 12,
     "metadata": {},
     "output_type": "execute_result"
    }
   ],
   "source": [
    "df.isnull().sum()#there are more missing values in '-' form.which is not detected by the system as missing values.\n",
    "                #there are rows in rating column as 'NEW',we will treat them as missing values. "
   ]
  },
  {
   "cell_type": "markdown",
   "metadata": {},
   "source": [
    "# Feature Engineering"
   ]
  },
  {
   "cell_type": "markdown",
   "metadata": {},
   "source": [
    "# Coverting '_ ' to NAN"
   ]
  },
  {
   "cell_type": "code",
   "execution_count": 13,
   "metadata": {},
   "outputs": [],
   "source": [
    "df=df.replace('-',np.nan)"
   ]
  },
  {
   "cell_type": "markdown",
   "metadata": {},
   "source": [
    "# Coverting 'NEW' to NAN"
   ]
  },
  {
   "cell_type": "code",
   "execution_count": 14,
   "metadata": {},
   "outputs": [],
   "source": [
    "df=df.replace('NEW',np.nan)"
   ]
  },
  {
   "cell_type": "code",
   "execution_count": 15,
   "metadata": {},
   "outputs": [
    {
     "data": {
      "text/plain": [
       "CITY              147\n",
       "COST             4231\n",
       "CUISINES            0\n",
       "LOCALITY          128\n",
       "RATING           1606\n",
       "RESTAURANT_ID       0\n",
       "TIME                0\n",
       "TITLE               0\n",
       "VOTES            1606\n",
       "dtype: int64"
      ]
     },
     "execution_count": 15,
     "metadata": {},
     "output_type": "execute_result"
    }
   ],
   "source": [
    "df.isnull().sum()#we can see the number of missing value have increased."
   ]
  },
  {
   "cell_type": "markdown",
   "metadata": {},
   "source": [
    "# Checking the number of categories in each categorical column"
   ]
  },
  {
   "cell_type": "code",
   "execution_count": 16,
   "metadata": {},
   "outputs": [
    {
     "name": "stdout",
     "output_type": "stream",
     "text": [
      "CITY 450\n",
      "CUISINES 5183\n",
      "LOCALITY 1636\n",
      "RATING 30\n",
      "TIME 3295\n",
      "TITLE 123\n",
      "VOTES 2075\n"
     ]
    }
   ],
   "source": [
    "categorical_features=[feature for feature in df.columns if df[feature].dtypes=='object']\n",
    "for feature in categorical_features:\n",
    "    if df[feature].nunique()>=1:\n",
    "        print(feature,df[feature].nunique())"
   ]
  },
  {
   "cell_type": "code",
   "execution_count": 17,
   "metadata": {},
   "outputs": [
    {
     "data": {
      "text/plain": [
       "CITY              object\n",
       "COST             float64\n",
       "CUISINES          object\n",
       "LOCALITY          object\n",
       "RATING            object\n",
       "RESTAURANT_ID      int64\n",
       "TIME              object\n",
       "TITLE             object\n",
       "VOTES             object\n",
       "dtype: object"
      ]
     },
     "execution_count": 17,
     "metadata": {},
     "output_type": "execute_result"
    }
   ],
   "source": [
    "df.dtypes"
   ]
  },
  {
   "cell_type": "code",
   "execution_count": 18,
   "metadata": {},
   "outputs": [
    {
     "data": {
      "text/html": [
       "<div>\n",
       "<style scoped>\n",
       "    .dataframe tbody tr th:only-of-type {\n",
       "        vertical-align: middle;\n",
       "    }\n",
       "\n",
       "    .dataframe tbody tr th {\n",
       "        vertical-align: top;\n",
       "    }\n",
       "\n",
       "    .dataframe thead th {\n",
       "        text-align: right;\n",
       "    }\n",
       "</style>\n",
       "<table border=\"1\" class=\"dataframe\">\n",
       "  <thead>\n",
       "    <tr style=\"text-align: right;\">\n",
       "      <th></th>\n",
       "      <th>COST</th>\n",
       "      <th>RESTAURANT_ID</th>\n",
       "    </tr>\n",
       "  </thead>\n",
       "  <tbody>\n",
       "    <tr>\n",
       "      <td>count</td>\n",
       "      <td>12690.000000</td>\n",
       "      <td>16921.000000</td>\n",
       "    </tr>\n",
       "    <tr>\n",
       "      <td>mean</td>\n",
       "      <td>655.252246</td>\n",
       "      <td>7767.211631</td>\n",
       "    </tr>\n",
       "    <tr>\n",
       "      <td>std</td>\n",
       "      <td>627.003540</td>\n",
       "      <td>4493.287626</td>\n",
       "    </tr>\n",
       "    <tr>\n",
       "      <td>min</td>\n",
       "      <td>20.000000</td>\n",
       "      <td>0.000000</td>\n",
       "    </tr>\n",
       "    <tr>\n",
       "      <td>25%</td>\n",
       "      <td>300.000000</td>\n",
       "      <td>3873.000000</td>\n",
       "    </tr>\n",
       "    <tr>\n",
       "      <td>50%</td>\n",
       "      <td>500.000000</td>\n",
       "      <td>7751.000000</td>\n",
       "    </tr>\n",
       "    <tr>\n",
       "      <td>75%</td>\n",
       "      <td>800.000000</td>\n",
       "      <td>11672.000000</td>\n",
       "    </tr>\n",
       "    <tr>\n",
       "      <td>max</td>\n",
       "      <td>14000.000000</td>\n",
       "      <td>15573.000000</td>\n",
       "    </tr>\n",
       "  </tbody>\n",
       "</table>\n",
       "</div>"
      ],
      "text/plain": [
       "               COST  RESTAURANT_ID\n",
       "count  12690.000000   16921.000000\n",
       "mean     655.252246    7767.211631\n",
       "std      627.003540    4493.287626\n",
       "min       20.000000       0.000000\n",
       "25%      300.000000    3873.000000\n",
       "50%      500.000000    7751.000000\n",
       "75%      800.000000   11672.000000\n",
       "max    14000.000000   15573.000000"
      ]
     },
     "execution_count": 18,
     "metadata": {},
     "output_type": "execute_result"
    }
   ],
   "source": [
    "df.describe()\n",
    "#we can see for item_visibility the minimum value is 0.which is practically not possible.\n",
    "#lets consider the value 0 as an missing value and impute it with the mean of the column."
   ]
  },
  {
   "cell_type": "markdown",
   "metadata": {},
   "source": [
    "# imputing missing values"
   ]
  },
  {
   "cell_type": "code",
   "execution_count": 19,
   "metadata": {},
   "outputs": [
    {
     "data": {
      "text/plain": [
       "CITY              147\n",
       "COST             4231\n",
       "CUISINES            0\n",
       "LOCALITY          128\n",
       "RATING           1606\n",
       "RESTAURANT_ID       0\n",
       "TIME                0\n",
       "TITLE               0\n",
       "VOTES            1606\n",
       "dtype: int64"
      ]
     },
     "execution_count": 19,
     "metadata": {},
     "output_type": "execute_result"
    }
   ],
   "source": [
    "df.isnull().sum()"
   ]
  },
  {
   "cell_type": "markdown",
   "metadata": {},
   "source": [
    "# Changing dtype of RATING column"
   ]
  },
  {
   "cell_type": "code",
   "execution_count": 20,
   "metadata": {},
   "outputs": [],
   "source": [
    "df['RATING']=df['RATING'].apply(pd.to_numeric)"
   ]
  },
  {
   "cell_type": "code",
   "execution_count": 21,
   "metadata": {},
   "outputs": [
    {
     "data": {
      "text/plain": [
       "CITY              object\n",
       "COST             float64\n",
       "CUISINES          object\n",
       "LOCALITY          object\n",
       "RATING           float64\n",
       "RESTAURANT_ID      int64\n",
       "TIME              object\n",
       "TITLE             object\n",
       "VOTES             object\n",
       "dtype: object"
      ]
     },
     "execution_count": 21,
     "metadata": {},
     "output_type": "execute_result"
    }
   ],
   "source": [
    "df.dtypes"
   ]
  },
  {
   "cell_type": "code",
   "execution_count": 22,
   "metadata": {},
   "outputs": [],
   "source": [
    "#Imputing missing values except the target column(cost)\n",
    "\n",
    "df['RATING']=df['RATING'].fillna(df['RATING'].mean())\n",
    "df['VOTES']=df['VOTES'].fillna(df['VOTES'].mode()[0])\n",
    "df['LOCALITY']=df['LOCALITY'].fillna(df['LOCALITY'].mode()[0])\n",
    "df['CITY']=df['CITY'].fillna(df['CITY'].mode()[0])"
   ]
  },
  {
   "cell_type": "markdown",
   "metadata": {},
   "source": [
    "# creating a new column and segregating the items"
   ]
  },
  {
   "cell_type": "code",
   "execution_count": 23,
   "metadata": {},
   "outputs": [],
   "source": [
    "\n",
    "df['VOTES_new'] = df['VOTES'].apply(lambda x:x[:-5])\n"
   ]
  },
  {
   "cell_type": "code",
   "execution_count": 24,
   "metadata": {},
   "outputs": [],
   "source": [
    "df['VOTES_new']=df['VOTES_new'].apply(pd.to_numeric)"
   ]
  },
  {
   "cell_type": "code",
   "execution_count": 25,
   "metadata": {},
   "outputs": [
    {
     "data": {
      "text/plain": [
       "CITY                0\n",
       "COST             4231\n",
       "CUISINES            0\n",
       "LOCALITY            0\n",
       "RATING              0\n",
       "RESTAURANT_ID       0\n",
       "TIME                0\n",
       "TITLE               0\n",
       "VOTES               0\n",
       "VOTES_new           0\n",
       "dtype: int64"
      ]
     },
     "execution_count": 25,
     "metadata": {},
     "output_type": "execute_result"
    }
   ],
   "source": [
    "df.isnull().sum()"
   ]
  },
  {
   "cell_type": "code",
   "execution_count": 26,
   "metadata": {},
   "outputs": [
    {
     "data": {
      "text/plain": [
       "CITY              object\n",
       "COST             float64\n",
       "CUISINES          object\n",
       "LOCALITY          object\n",
       "RATING           float64\n",
       "RESTAURANT_ID      int64\n",
       "TIME              object\n",
       "TITLE             object\n",
       "VOTES             object\n",
       "VOTES_new          int64\n",
       "dtype: object"
      ]
     },
     "execution_count": 26,
     "metadata": {},
     "output_type": "execute_result"
    }
   ],
   "source": [
    "df.dtypes"
   ]
  },
  {
   "cell_type": "markdown",
   "metadata": {},
   "source": [
    "# Dropping VOTES column as we have extracted features we want from it"
   ]
  },
  {
   "cell_type": "code",
   "execution_count": 27,
   "metadata": {},
   "outputs": [],
   "source": [
    "df=df.drop('VOTES',axis=1)"
   ]
  },
  {
   "cell_type": "code",
   "execution_count": 28,
   "metadata": {},
   "outputs": [
    {
     "data": {
      "text/plain": [
       "CITY                0\n",
       "COST             4231\n",
       "CUISINES            0\n",
       "LOCALITY            0\n",
       "RATING              0\n",
       "RESTAURANT_ID       0\n",
       "TIME                0\n",
       "TITLE               0\n",
       "VOTES_new           0\n",
       "dtype: int64"
      ]
     },
     "execution_count": 28,
     "metadata": {},
     "output_type": "execute_result"
    }
   ],
   "source": [
    "#we dont have to worry about the missing values in Item_Outlet_Sales\n",
    "df.isnull().sum()"
   ]
  },
  {
   "cell_type": "markdown",
   "metadata": {},
   "source": [
    "# EDA"
   ]
  },
  {
   "cell_type": "markdown",
   "metadata": {},
   "source": [
    "# Univariate Analysis"
   ]
  },
  {
   "cell_type": "code",
   "execution_count": 29,
   "metadata": {},
   "outputs": [
    {
     "data": {
      "image/png": "[encoded data removed]",
      "text/plain": [
       "<Figure size 432x288 with 1 Axes>"
      ]
     },
     "metadata": {
      "needs_background": "light"
     },
     "output_type": "display_data"
    },
    {
     "data": {
      "image/png": "[encoded data removed]",
      "text/plain": [
       "<Figure size 432x288 with 1 Axes>"
      ]
     },
     "metadata": {
      "needs_background": "light"
     },
     "output_type": "display_data"
    },
    {
     "data": {
      "image/png": "[encoded data removed]",
      "text/plain": [
       "<Figure size 432x288 with 1 Axes>"
      ]
     },
     "metadata": {
      "needs_background": "light"
     },
     "output_type": "display_data"
    },
    {
     "data": {
      "image/png": "[encoded data removed]",
      "text/plain": [
       "<Figure size 432x288 with 1 Axes>"
      ]
     },
     "metadata": {
      "needs_background": "light"
     },
     "output_type": "display_data"
    }
   ],
   "source": [
    "#checking skewness\n",
    "numerical_features=[feature for feature in df.columns if df[feature].dtypes!='object']\n",
    "for feature in numerical_features:\n",
    "    \n",
    "    df[feature].hist()\n",
    "    plt.xlabel(feature)\n",
    "    plt.show()"
   ]
  },
  {
   "cell_type": "code",
   "execution_count": 30,
   "metadata": {},
   "outputs": [],
   "source": [
    "#We can see few data are right skewed,which are to be treated"
   ]
  },
  {
   "cell_type": "code",
   "execution_count": 31,
   "metadata": {},
   "outputs": [
    {
     "data": {
      "image/png": "[encoded data removed]",
      "text/plain": [
       "<Figure size 432x288 with 1 Axes>"
      ]
     },
     "metadata": {
      "needs_background": "light"
     },
     "output_type": "display_data"
    },
    {
     "data": {
      "image/png": "[encoded data removed]",
      "text/plain": [
       "<Figure size 432x288 with 1 Axes>"
      ]
     },
     "metadata": {
      "needs_background": "light"
     },
     "output_type": "display_data"
    },
    {
     "data": {
      "image/png": "[encoded data removed]",
      "text/plain": [
       "<Figure size 432x288 with 1 Axes>"
      ]
     },
     "metadata": {
      "needs_background": "light"
     },
     "output_type": "display_data"
    },
    {
     "data": {
      "image/png": "[encoded data removed]",
      "text/plain": [
       "<Figure size 432x288 with 1 Axes>"
      ]
     },
     "metadata": {
      "needs_background": "light"
     },
     "output_type": "display_data"
    }
   ],
   "source": [
    "#checking outliers\n",
    "numerical_features=[feature for feature in df.columns if df[feature].dtypes!='object']\n",
    "for feature in numerical_features:\n",
    "    \n",
    "    df[feature].plot.box()\n",
    "    plt.xlabel(feature)\n",
    "    plt.show()"
   ]
  },
  {
   "cell_type": "code",
   "execution_count": 32,
   "metadata": {},
   "outputs": [
    {
     "data": {
      "text/html": [
       "<div>\n",
       "<style scoped>\n",
       "    .dataframe tbody tr th:only-of-type {\n",
       "        vertical-align: middle;\n",
       "    }\n",
       "\n",
       "    .dataframe tbody tr th {\n",
       "        vertical-align: top;\n",
       "    }\n",
       "\n",
       "    .dataframe thead th {\n",
       "        text-align: right;\n",
       "    }\n",
       "</style>\n",
       "<table border=\"1\" class=\"dataframe\">\n",
       "  <thead>\n",
       "    <tr style=\"text-align: right;\">\n",
       "      <th></th>\n",
       "      <th>CITY</th>\n",
       "      <th>COST</th>\n",
       "      <th>CUISINES</th>\n",
       "      <th>LOCALITY</th>\n",
       "      <th>RATING</th>\n",
       "      <th>RESTAURANT_ID</th>\n",
       "      <th>TIME</th>\n",
       "      <th>TITLE</th>\n",
       "      <th>VOTES_new</th>\n",
       "    </tr>\n",
       "  </thead>\n",
       "  <tbody>\n",
       "    <tr>\n",
       "      <td>0</td>\n",
       "      <td>Thane</td>\n",
       "      <td>1200.0</td>\n",
       "      <td>Malwani, Goan, North Indian</td>\n",
       "      <td>Dombivali East</td>\n",
       "      <td>3.6</td>\n",
       "      <td>9438</td>\n",
       "      <td>11am  4pm, 7:30pm  11:30pm (Mon-Sun)</td>\n",
       "      <td>CASUAL DINING</td>\n",
       "      <td>49</td>\n",
       "    </tr>\n",
       "    <tr>\n",
       "      <td>1</td>\n",
       "      <td>Chennai</td>\n",
       "      <td>1500.0</td>\n",
       "      <td>Asian, Modern Indian, Japanese</td>\n",
       "      <td>Ramapuram</td>\n",
       "      <td>4.2</td>\n",
       "      <td>13198</td>\n",
       "      <td>6pm  11pm (Mon-Sun)</td>\n",
       "      <td>CASUAL DINING,BAR</td>\n",
       "      <td>30</td>\n",
       "    </tr>\n",
       "    <tr>\n",
       "      <td>2</td>\n",
       "      <td>Chennai</td>\n",
       "      <td>800.0</td>\n",
       "      <td>North Indian, Chinese, Biryani, Hyderabadi</td>\n",
       "      <td>Saligramam</td>\n",
       "      <td>3.8</td>\n",
       "      <td>10915</td>\n",
       "      <td>11am  3:30pm, 7pm  11pm (Mon-Sun)</td>\n",
       "      <td>CASUAL DINING</td>\n",
       "      <td>221</td>\n",
       "    </tr>\n",
       "    <tr>\n",
       "      <td>3</td>\n",
       "      <td>Mumbai</td>\n",
       "      <td>800.0</td>\n",
       "      <td>Tibetan, Chinese</td>\n",
       "      <td>Bandra West</td>\n",
       "      <td>4.1</td>\n",
       "      <td>6346</td>\n",
       "      <td>11:30am  1am (Mon-Sun)</td>\n",
       "      <td>QUICK BITES</td>\n",
       "      <td>24</td>\n",
       "    </tr>\n",
       "    <tr>\n",
       "      <td>4</td>\n",
       "      <td>Mumbai</td>\n",
       "      <td>300.0</td>\n",
       "      <td>Desserts</td>\n",
       "      <td>Lower Parel</td>\n",
       "      <td>3.8</td>\n",
       "      <td>15387</td>\n",
       "      <td>11am  1am (Mon-Sun)</td>\n",
       "      <td>DESSERT PARLOR</td>\n",
       "      <td>165</td>\n",
       "    </tr>\n",
       "  </tbody>\n",
       "</table>\n",
       "</div>"
      ],
      "text/plain": [
       "      CITY    COST                                    CUISINES  \\\n",
       "0    Thane  1200.0                 Malwani, Goan, North Indian   \n",
       "1  Chennai  1500.0              Asian, Modern Indian, Japanese   \n",
       "2  Chennai   800.0  North Indian, Chinese, Biryani, Hyderabadi   \n",
       "3   Mumbai   800.0                            Tibetan, Chinese   \n",
       "4   Mumbai   300.0                                    Desserts   \n",
       "\n",
       "         LOCALITY  RATING  RESTAURANT_ID  \\\n",
       "0  Dombivali East     3.6           9438   \n",
       "1       Ramapuram     4.2          13198   \n",
       "2      Saligramam     3.8          10915   \n",
       "3     Bandra West     4.1           6346   \n",
       "4     Lower Parel     3.8          15387   \n",
       "\n",
       "                                     TIME              TITLE  VOTES_new  \n",
       "0  11am  4pm, 7:30pm  11:30pm (Mon-Sun)      CASUAL DINING         49  \n",
       "1                    6pm  11pm (Mon-Sun)  CASUAL DINING,BAR         30  \n",
       "2     11am  3:30pm, 7pm  11pm (Mon-Sun)      CASUAL DINING        221  \n",
       "3                 11:30am  1am (Mon-Sun)        QUICK BITES         24  \n",
       "4                    11am  1am (Mon-Sun)     DESSERT PARLOR        165  "
      ]
     },
     "execution_count": 32,
     "metadata": {},
     "output_type": "execute_result"
    }
   ],
   "source": [
    "df.head()"
   ]
  },
  {
   "cell_type": "code",
   "execution_count": 33,
   "metadata": {},
   "outputs": [
    {
     "data": {
      "text/html": [
       "<div>\n",
       "<style scoped>\n",
       "    .dataframe tbody tr th:only-of-type {\n",
       "        vertical-align: middle;\n",
       "    }\n",
       "\n",
       "    .dataframe tbody tr th {\n",
       "        vertical-align: top;\n",
       "    }\n",
       "\n",
       "    .dataframe thead th {\n",
       "        text-align: right;\n",
       "    }\n",
       "</style>\n",
       "<table border=\"1\" class=\"dataframe\">\n",
       "  <thead>\n",
       "    <tr style=\"text-align: right;\">\n",
       "      <th></th>\n",
       "      <th>CITY</th>\n",
       "      <th>COST</th>\n",
       "      <th>CUISINES</th>\n",
       "      <th>LOCALITY</th>\n",
       "      <th>RATING</th>\n",
       "      <th>RESTAURANT_ID</th>\n",
       "      <th>TIME</th>\n",
       "      <th>TITLE</th>\n",
       "      <th>VOTES_new</th>\n",
       "    </tr>\n",
       "  </thead>\n",
       "  <tbody>\n",
       "    <tr>\n",
       "      <td>16916</td>\n",
       "      <td>New Delhi</td>\n",
       "      <td>NaN</td>\n",
       "      <td>North Indian, Mughlai, Chinese</td>\n",
       "      <td>Punjabi Bagh</td>\n",
       "      <td>3.900000</td>\n",
       "      <td>9057</td>\n",
       "      <td>11:30am  11:30pm (Mon-Sun)</td>\n",
       "      <td>CASUAL DINING</td>\n",
       "      <td>287</td>\n",
       "    </tr>\n",
       "    <tr>\n",
       "      <td>16917</td>\n",
       "      <td>Bangalore</td>\n",
       "      <td>NaN</td>\n",
       "      <td>Biryani, North Indian, Sandwich, Salad, Wraps</td>\n",
       "      <td>HSR Layout</td>\n",
       "      <td>4.300000</td>\n",
       "      <td>1247</td>\n",
       "      <td>11am  1am (Mon-Sun)</td>\n",
       "      <td>None</td>\n",
       "      <td>469</td>\n",
       "    </tr>\n",
       "    <tr>\n",
       "      <td>16918</td>\n",
       "      <td>Faridabad</td>\n",
       "      <td>NaN</td>\n",
       "      <td>Continental, North Indian</td>\n",
       "      <td>Sector 86</td>\n",
       "      <td>3.700000</td>\n",
       "      <td>8617</td>\n",
       "      <td>9:30am  10:30pm (Mon-Sun)</td>\n",
       "      <td>QUICK BITES</td>\n",
       "      <td>53</td>\n",
       "    </tr>\n",
       "    <tr>\n",
       "      <td>16919</td>\n",
       "      <td>Kochi</td>\n",
       "      <td>NaN</td>\n",
       "      <td>Rolls, Beverages</td>\n",
       "      <td>Kochi</td>\n",
       "      <td>3.784473</td>\n",
       "      <td>6485</td>\n",
       "      <td>11am  11:30pm (Mon, Tue, Wed, Thu, Sat, Sun),...</td>\n",
       "      <td>QUICK BITES</td>\n",
       "      <td>44</td>\n",
       "    </tr>\n",
       "    <tr>\n",
       "      <td>16920</td>\n",
       "      <td>Bandra West</td>\n",
       "      <td>NaN</td>\n",
       "      <td>Mughlai</td>\n",
       "      <td>Perry Cross Road</td>\n",
       "      <td>3.700000</td>\n",
       "      <td>2421</td>\n",
       "      <td>5pm  1am (Mon-Sun)</td>\n",
       "      <td>QUICK BITES</td>\n",
       "      <td>63</td>\n",
       "    </tr>\n",
       "  </tbody>\n",
       "</table>\n",
       "</div>"
      ],
      "text/plain": [
       "              CITY  COST                                       CUISINES  \\\n",
       "16916    New Delhi   NaN                 North Indian, Mughlai, Chinese   \n",
       "16917    Bangalore   NaN  Biryani, North Indian, Sandwich, Salad, Wraps   \n",
       "16918    Faridabad   NaN                      Continental, North Indian   \n",
       "16919        Kochi   NaN                               Rolls, Beverages   \n",
       "16920  Bandra West   NaN                                        Mughlai   \n",
       "\n",
       "               LOCALITY    RATING  RESTAURANT_ID  \\\n",
       "16916      Punjabi Bagh  3.900000           9057   \n",
       "16917        HSR Layout  4.300000           1247   \n",
       "16918         Sector 86  3.700000           8617   \n",
       "16919             Kochi  3.784473           6485   \n",
       "16920  Perry Cross Road  3.700000           2421   \n",
       "\n",
       "                                                    TIME          TITLE  \\\n",
       "16916                        11:30am  11:30pm (Mon-Sun)  CASUAL DINING   \n",
       "16917                               11am  1am (Mon-Sun)           None   \n",
       "16918                         9:30am  10:30pm (Mon-Sun)    QUICK BITES   \n",
       "16919  11am  11:30pm (Mon, Tue, Wed, Thu, Sat, Sun),...    QUICK BITES   \n",
       "16920                                5pm  1am (Mon-Sun)    QUICK BITES   \n",
       "\n",
       "       VOTES_new  \n",
       "16916        287  \n",
       "16917        469  \n",
       "16918         53  \n",
       "16919         44  \n",
       "16920         63  "
      ]
     },
     "execution_count": 33,
     "metadata": {},
     "output_type": "execute_result"
    }
   ],
   "source": [
    "df.tail()"
   ]
  },
  {
   "cell_type": "markdown",
   "metadata": {},
   "source": [
    "# Feature Engineering part-2"
   ]
  },
  {
   "cell_type": "code",
   "execution_count": 34,
   "metadata": {},
   "outputs": [],
   "source": [
    "from sklearn.preprocessing import LabelEncoder\n",
    "le=LabelEncoder()\n",
    "df['CITY']=le.fit_transform(df['CITY'])"
   ]
  },
  {
   "cell_type": "code",
   "execution_count": 35,
   "metadata": {},
   "outputs": [],
   "source": [
    "df['CUISINES']=le.fit_transform(df['CUISINES'])"
   ]
  },
  {
   "cell_type": "code",
   "execution_count": 36,
   "metadata": {},
   "outputs": [],
   "source": [
    "df['LOCALITY']=le.fit_transform(df['LOCALITY'])"
   ]
  },
  {
   "cell_type": "code",
   "execution_count": 37,
   "metadata": {},
   "outputs": [],
   "source": [
    "df['TITLE']=le.fit_transform(df['TITLE'])"
   ]
  },
  {
   "cell_type": "code",
   "execution_count": 38,
   "metadata": {},
   "outputs": [],
   "source": [
    "df=df.drop(['RESTAURANT_ID','TIME'],axis=1)"
   ]
  },
  {
   "cell_type": "markdown",
   "metadata": {},
   "source": [
    "# Removing Skewness"
   ]
  },
  {
   "cell_type": "code",
   "execution_count": 39,
   "metadata": {},
   "outputs": [
    {
     "data": {
      "text/plain": [
       "CITY          0.254523\n",
       "COST          3.978801\n",
       "CUISINES     -0.229200\n",
       "LOCALITY      0.370844\n",
       "RATING       -0.553966\n",
       "TITLE        -0.061023\n",
       "VOTES_new    12.780223\n",
       "dtype: float64"
      ]
     },
     "execution_count": 39,
     "metadata": {},
     "output_type": "execute_result"
    }
   ],
   "source": [
    "df.skew()"
   ]
  },
  {
   "cell_type": "code",
   "execution_count": 40,
   "metadata": {},
   "outputs": [],
   "source": [
    "y=df['COST']"
   ]
  },
  {
   "cell_type": "code",
   "execution_count": 41,
   "metadata": {},
   "outputs": [],
   "source": [
    "df=df.drop('COST',axis=1)"
   ]
  },
  {
   "cell_type": "code",
   "execution_count": 42,
   "metadata": {},
   "outputs": [],
   "source": [
    "from sklearn.preprocessing import PowerTransformer\n",
    "pt=PowerTransformer(method='yeo-johnson') \n",
    "df_power=pt.fit_transform(df)\n",
    "df=pd.DataFrame(df_power,columns=df.columns)"
   ]
  },
  {
   "cell_type": "code",
   "execution_count": 43,
   "metadata": {},
   "outputs": [
    {
     "data": {
      "text/plain": [
       "CITY        -0.143213\n",
       "CUISINES    -0.358482\n",
       "LOCALITY    -0.129502\n",
       "RATING       0.028809\n",
       "TITLE       -0.252697\n",
       "VOTES_new    0.011688\n",
       "dtype: float64"
      ]
     },
     "execution_count": 43,
     "metadata": {},
     "output_type": "execute_result"
    }
   ],
   "source": [
    "df.skew()"
   ]
  },
  {
   "cell_type": "code",
   "execution_count": 44,
   "metadata": {},
   "outputs": [
    {
     "data": {
      "text/html": [
       "<div>\n",
       "<style scoped>\n",
       "    .dataframe tbody tr th:only-of-type {\n",
       "        vertical-align: middle;\n",
       "    }\n",
       "\n",
       "    .dataframe tbody tr th {\n",
       "        vertical-align: top;\n",
       "    }\n",
       "\n",
       "    .dataframe thead th {\n",
       "        text-align: right;\n",
       "    }\n",
       "</style>\n",
       "<table border=\"1\" class=\"dataframe\">\n",
       "  <thead>\n",
       "    <tr style=\"text-align: right;\">\n",
       "      <th></th>\n",
       "      <th>CITY</th>\n",
       "      <th>CUISINES</th>\n",
       "      <th>LOCALITY</th>\n",
       "      <th>RATING</th>\n",
       "      <th>TITLE</th>\n",
       "      <th>VOTES_new</th>\n",
       "    </tr>\n",
       "  </thead>\n",
       "  <tbody>\n",
       "    <tr>\n",
       "      <td>0</td>\n",
       "      <td>1.690011</td>\n",
       "      <td>0.362905</td>\n",
       "      <td>-0.878251</td>\n",
       "      <td>-0.530523</td>\n",
       "      <td>-0.800892</td>\n",
       "      <td>-0.745594</td>\n",
       "    </tr>\n",
       "    <tr>\n",
       "      <td>1</td>\n",
       "      <td>-0.885849</td>\n",
       "      <td>-1.698769</td>\n",
       "      <td>0.999975</td>\n",
       "      <td>1.064819</td>\n",
       "      <td>-0.737437</td>\n",
       "      <td>-1.112073</td>\n",
       "    </tr>\n",
       "    <tr>\n",
       "      <td>2</td>\n",
       "      <td>-0.885849</td>\n",
       "      <td>0.631839</td>\n",
       "      <td>1.092369</td>\n",
       "      <td>-0.037527</td>\n",
       "      <td>-0.800892</td>\n",
       "      <td>0.340933</td>\n",
       "    </tr>\n",
       "    <tr>\n",
       "      <td>3</td>\n",
       "      <td>0.960008</td>\n",
       "      <td>1.482325</td>\n",
       "      <td>-1.485893</td>\n",
       "      <td>0.774291</td>\n",
       "      <td>1.051284</td>\n",
       "      <td>-1.279952</td>\n",
       "    </tr>\n",
       "    <tr>\n",
       "      <td>4</td>\n",
       "      <td>0.960008</td>\n",
       "      <td>-0.329127</td>\n",
       "      <td>0.077425</td>\n",
       "      <td>-0.037527</td>\n",
       "      <td>-0.177633</td>\n",
       "      <td>0.135549</td>\n",
       "    </tr>\n",
       "  </tbody>\n",
       "</table>\n",
       "</div>"
      ],
      "text/plain": [
       "       CITY  CUISINES  LOCALITY    RATING     TITLE  VOTES_new\n",
       "0  1.690011  0.362905 -0.878251 -0.530523 -0.800892  -0.745594\n",
       "1 -0.885849 -1.698769  0.999975  1.064819 -0.737437  -1.112073\n",
       "2 -0.885849  0.631839  1.092369 -0.037527 -0.800892   0.340933\n",
       "3  0.960008  1.482325 -1.485893  0.774291  1.051284  -1.279952\n",
       "4  0.960008 -0.329127  0.077425 -0.037527 -0.177633   0.135549"
      ]
     },
     "execution_count": 44,
     "metadata": {},
     "output_type": "execute_result"
    }
   ],
   "source": [
    "df.head()"
   ]
  },
  {
   "cell_type": "code",
   "execution_count": 45,
   "metadata": {},
   "outputs": [
    {
     "data": {
      "text/html": [
       "<div>\n",
       "<style scoped>\n",
       "    .dataframe tbody tr th:only-of-type {\n",
       "        vertical-align: middle;\n",
       "    }\n",
       "\n",
       "    .dataframe tbody tr th {\n",
       "        vertical-align: top;\n",
       "    }\n",
       "\n",
       "    .dataframe thead th {\n",
       "        text-align: right;\n",
       "    }\n",
       "</style>\n",
       "<table border=\"1\" class=\"dataframe\">\n",
       "  <thead>\n",
       "    <tr style=\"text-align: right;\">\n",
       "      <th></th>\n",
       "      <th>CITY</th>\n",
       "      <th>CUISINES</th>\n",
       "      <th>LOCALITY</th>\n",
       "      <th>RATING</th>\n",
       "      <th>TITLE</th>\n",
       "      <th>VOTES_new</th>\n",
       "    </tr>\n",
       "  </thead>\n",
       "  <tbody>\n",
       "    <tr>\n",
       "      <td>16916</td>\n",
       "      <td>1.208852</td>\n",
       "      <td>0.952884</td>\n",
       "      <td>0.951319</td>\n",
       "      <td>0.223276</td>\n",
       "      <td>-0.800892</td>\n",
       "      <td>0.522243</td>\n",
       "    </tr>\n",
       "    <tr>\n",
       "      <td>16917</td>\n",
       "      <td>-1.429164</td>\n",
       "      <td>-1.350474</td>\n",
       "      <td>-0.501304</td>\n",
       "      <td>1.365570</td>\n",
       "      <td>0.841376</td>\n",
       "      <td>0.856890</td>\n",
       "    </tr>\n",
       "    <tr>\n",
       "      <td>16918</td>\n",
       "      <td>-0.250998</td>\n",
       "      <td>-0.415305</td>\n",
       "      <td>1.243827</td>\n",
       "      <td>-0.288740</td>\n",
       "      <td>1.051284</td>\n",
       "      <td>-0.687431</td>\n",
       "    </tr>\n",
       "    <tr>\n",
       "      <td>16919</td>\n",
       "      <td>0.526080</td>\n",
       "      <td>1.144212</td>\n",
       "      <td>-0.067317</td>\n",
       "      <td>-0.077159</td>\n",
       "      <td>1.051284</td>\n",
       "      <td>-0.825593</td>\n",
       "    </tr>\n",
       "    <tr>\n",
       "      <td>16920</td>\n",
       "      <td>-1.469006</td>\n",
       "      <td>0.485355</td>\n",
       "      <td>0.892113</td>\n",
       "      <td>-0.288740</td>\n",
       "      <td>1.051284</td>\n",
       "      <td>-0.559846</td>\n",
       "    </tr>\n",
       "  </tbody>\n",
       "</table>\n",
       "</div>"
      ],
      "text/plain": [
       "           CITY  CUISINES  LOCALITY    RATING     TITLE  VOTES_new\n",
       "16916  1.208852  0.952884  0.951319  0.223276 -0.800892   0.522243\n",
       "16917 -1.429164 -1.350474 -0.501304  1.365570  0.841376   0.856890\n",
       "16918 -0.250998 -0.415305  1.243827 -0.288740  1.051284  -0.687431\n",
       "16919  0.526080  1.144212 -0.067317 -0.077159  1.051284  -0.825593\n",
       "16920 -1.469006  0.485355  0.892113 -0.288740  1.051284  -0.559846"
      ]
     },
     "execution_count": 45,
     "metadata": {},
     "output_type": "execute_result"
    }
   ],
   "source": [
    "df.tail()"
   ]
  },
  {
   "cell_type": "code",
   "execution_count": 46,
   "metadata": {},
   "outputs": [
    {
     "data": {
      "text/plain": [
       "(16921, 6)"
      ]
     },
     "execution_count": 46,
     "metadata": {},
     "output_type": "execute_result"
    }
   ],
   "source": [
    "df.shape"
   ]
  },
  {
   "cell_type": "code",
   "execution_count": 47,
   "metadata": {},
   "outputs": [],
   "source": [
    "df=pd.concat([df,y],axis=1)"
   ]
  },
  {
   "cell_type": "markdown",
   "metadata": {},
   "source": [
    "# separating training and testing datasets"
   ]
  },
  {
   "cell_type": "code",
   "execution_count": 48,
   "metadata": {},
   "outputs": [],
   "source": [
    "train=df[0:12690]\n",
    "test=df[12690:]"
   ]
  },
  {
   "cell_type": "code",
   "execution_count": 49,
   "metadata": {},
   "outputs": [
    {
     "data": {
      "text/html": [
       "<div>\n",
       "<style scoped>\n",
       "    .dataframe tbody tr th:only-of-type {\n",
       "        vertical-align: middle;\n",
       "    }\n",
       "\n",
       "    .dataframe tbody tr th {\n",
       "        vertical-align: top;\n",
       "    }\n",
       "\n",
       "    .dataframe thead th {\n",
       "        text-align: right;\n",
       "    }\n",
       "</style>\n",
       "<table border=\"1\" class=\"dataframe\">\n",
       "  <thead>\n",
       "    <tr style=\"text-align: right;\">\n",
       "      <th></th>\n",
       "      <th>CITY</th>\n",
       "      <th>CUISINES</th>\n",
       "      <th>LOCALITY</th>\n",
       "      <th>RATING</th>\n",
       "      <th>TITLE</th>\n",
       "      <th>VOTES_new</th>\n",
       "      <th>COST</th>\n",
       "    </tr>\n",
       "  </thead>\n",
       "  <tbody>\n",
       "    <tr>\n",
       "      <td>12685</td>\n",
       "      <td>0.059558</td>\n",
       "      <td>0.599350</td>\n",
       "      <td>-0.680406</td>\n",
       "      <td>-0.037527</td>\n",
       "      <td>1.051284</td>\n",
       "      <td>0.958852</td>\n",
       "      <td>500.0</td>\n",
       "    </tr>\n",
       "    <tr>\n",
       "      <td>12686</td>\n",
       "      <td>0.960008</td>\n",
       "      <td>-0.024064</td>\n",
       "      <td>-1.499189</td>\n",
       "      <td>1.365570</td>\n",
       "      <td>-0.737437</td>\n",
       "      <td>1.482264</td>\n",
       "      <td>1800.0</td>\n",
       "    </tr>\n",
       "    <tr>\n",
       "      <td>12687</td>\n",
       "      <td>1.109046</td>\n",
       "      <td>-0.067372</td>\n",
       "      <td>1.505683</td>\n",
       "      <td>0.493830</td>\n",
       "      <td>0.452886</td>\n",
       "      <td>1.030531</td>\n",
       "      <td>1300.0</td>\n",
       "    </tr>\n",
       "    <tr>\n",
       "      <td>12688</td>\n",
       "      <td>-0.885849</td>\n",
       "      <td>1.037197</td>\n",
       "      <td>0.100525</td>\n",
       "      <td>-0.763035</td>\n",
       "      <td>-0.800892</td>\n",
       "      <td>-1.063628</td>\n",
       "      <td>400.0</td>\n",
       "    </tr>\n",
       "    <tr>\n",
       "      <td>12689</td>\n",
       "      <td>0.059558</td>\n",
       "      <td>0.607939</td>\n",
       "      <td>1.492817</td>\n",
       "      <td>-0.986439</td>\n",
       "      <td>-0.800892</td>\n",
       "      <td>1.101788</td>\n",
       "      <td>600.0</td>\n",
       "    </tr>\n",
       "  </tbody>\n",
       "</table>\n",
       "</div>"
      ],
      "text/plain": [
       "           CITY  CUISINES  LOCALITY    RATING     TITLE  VOTES_new    COST\n",
       "12685  0.059558  0.599350 -0.680406 -0.037527  1.051284   0.958852   500.0\n",
       "12686  0.960008 -0.024064 -1.499189  1.365570 -0.737437   1.482264  1800.0\n",
       "12687  1.109046 -0.067372  1.505683  0.493830  0.452886   1.030531  1300.0\n",
       "12688 -0.885849  1.037197  0.100525 -0.763035 -0.800892  -1.063628   400.0\n",
       "12689  0.059558  0.607939  1.492817 -0.986439 -0.800892   1.101788   600.0"
      ]
     },
     "execution_count": 49,
     "metadata": {},
     "output_type": "execute_result"
    }
   ],
   "source": [
    "train.tail()"
   ]
  },
  {
   "cell_type": "code",
   "execution_count": 50,
   "metadata": {},
   "outputs": [
    {
     "data": {
      "text/html": [
       "<div>\n",
       "<style scoped>\n",
       "    .dataframe tbody tr th:only-of-type {\n",
       "        vertical-align: middle;\n",
       "    }\n",
       "\n",
       "    .dataframe tbody tr th {\n",
       "        vertical-align: top;\n",
       "    }\n",
       "\n",
       "    .dataframe thead th {\n",
       "        text-align: right;\n",
       "    }\n",
       "</style>\n",
       "<table border=\"1\" class=\"dataframe\">\n",
       "  <thead>\n",
       "    <tr style=\"text-align: right;\">\n",
       "      <th></th>\n",
       "      <th>CITY</th>\n",
       "      <th>CUISINES</th>\n",
       "      <th>LOCALITY</th>\n",
       "      <th>RATING</th>\n",
       "      <th>TITLE</th>\n",
       "      <th>VOTES_new</th>\n",
       "      <th>COST</th>\n",
       "    </tr>\n",
       "  </thead>\n",
       "  <tbody>\n",
       "    <tr>\n",
       "      <td>12690</td>\n",
       "      <td>1.251594</td>\n",
       "      <td>0.722786</td>\n",
       "      <td>1.157968</td>\n",
       "      <td>1.365570</td>\n",
       "      <td>-0.800892</td>\n",
       "      <td>0.980509</td>\n",
       "      <td>NaN</td>\n",
       "    </tr>\n",
       "    <tr>\n",
       "      <td>12691</td>\n",
       "      <td>0.960008</td>\n",
       "      <td>1.320517</td>\n",
       "      <td>-0.586422</td>\n",
       "      <td>1.064819</td>\n",
       "      <td>1.051284</td>\n",
       "      <td>-0.583603</td>\n",
       "      <td>NaN</td>\n",
       "    </tr>\n",
       "    <tr>\n",
       "      <td>12692</td>\n",
       "      <td>0.960008</td>\n",
       "      <td>0.997188</td>\n",
       "      <td>0.211455</td>\n",
       "      <td>-0.037527</td>\n",
       "      <td>-0.800892</td>\n",
       "      <td>0.658429</td>\n",
       "      <td>NaN</td>\n",
       "    </tr>\n",
       "    <tr>\n",
       "      <td>12693</td>\n",
       "      <td>-0.250998</td>\n",
       "      <td>-1.473246</td>\n",
       "      <td>0.353515</td>\n",
       "      <td>-0.037527</td>\n",
       "      <td>0.841376</td>\n",
       "      <td>1.593591</td>\n",
       "      <td>NaN</td>\n",
       "    </tr>\n",
       "    <tr>\n",
       "      <td>12694</td>\n",
       "      <td>0.526080</td>\n",
       "      <td>1.327557</td>\n",
       "      <td>-0.231540</td>\n",
       "      <td>-0.530523</td>\n",
       "      <td>1.051284</td>\n",
       "      <td>-1.312021</td>\n",
       "      <td>NaN</td>\n",
       "    </tr>\n",
       "  </tbody>\n",
       "</table>\n",
       "</div>"
      ],
      "text/plain": [
       "           CITY  CUISINES  LOCALITY    RATING     TITLE  VOTES_new  COST\n",
       "12690  1.251594  0.722786  1.157968  1.365570 -0.800892   0.980509   NaN\n",
       "12691  0.960008  1.320517 -0.586422  1.064819  1.051284  -0.583603   NaN\n",
       "12692  0.960008  0.997188  0.211455 -0.037527 -0.800892   0.658429   NaN\n",
       "12693 -0.250998 -1.473246  0.353515 -0.037527  0.841376   1.593591   NaN\n",
       "12694  0.526080  1.327557 -0.231540 -0.530523  1.051284  -1.312021   NaN"
      ]
     },
     "execution_count": 50,
     "metadata": {},
     "output_type": "execute_result"
    }
   ],
   "source": [
    "test.head()"
   ]
  },
  {
   "cell_type": "code",
   "execution_count": 51,
   "metadata": {},
   "outputs": [],
   "source": [
    "#Dropping target column(cost)as it contains all NAN values.\n",
    "test=test.drop(['COST'],axis=1)"
   ]
  },
  {
   "cell_type": "code",
   "execution_count": 52,
   "metadata": {},
   "outputs": [
    {
     "data": {
      "text/html": [
       "<div>\n",
       "<style scoped>\n",
       "    .dataframe tbody tr th:only-of-type {\n",
       "        vertical-align: middle;\n",
       "    }\n",
       "\n",
       "    .dataframe tbody tr th {\n",
       "        vertical-align: top;\n",
       "    }\n",
       "\n",
       "    .dataframe thead th {\n",
       "        text-align: right;\n",
       "    }\n",
       "</style>\n",
       "<table border=\"1\" class=\"dataframe\">\n",
       "  <thead>\n",
       "    <tr style=\"text-align: right;\">\n",
       "      <th></th>\n",
       "      <th>CITY</th>\n",
       "      <th>CUISINES</th>\n",
       "      <th>LOCALITY</th>\n",
       "      <th>RATING</th>\n",
       "      <th>TITLE</th>\n",
       "      <th>VOTES_new</th>\n",
       "      <th>COST</th>\n",
       "    </tr>\n",
       "  </thead>\n",
       "  <tbody>\n",
       "    <tr>\n",
       "      <td>0</td>\n",
       "      <td>1.690011</td>\n",
       "      <td>0.362905</td>\n",
       "      <td>-0.878251</td>\n",
       "      <td>-0.530523</td>\n",
       "      <td>-0.800892</td>\n",
       "      <td>-0.745594</td>\n",
       "      <td>1200.0</td>\n",
       "    </tr>\n",
       "    <tr>\n",
       "      <td>1</td>\n",
       "      <td>-0.885849</td>\n",
       "      <td>-1.698769</td>\n",
       "      <td>0.999975</td>\n",
       "      <td>1.064819</td>\n",
       "      <td>-0.737437</td>\n",
       "      <td>-1.112073</td>\n",
       "      <td>1500.0</td>\n",
       "    </tr>\n",
       "    <tr>\n",
       "      <td>2</td>\n",
       "      <td>-0.885849</td>\n",
       "      <td>0.631839</td>\n",
       "      <td>1.092369</td>\n",
       "      <td>-0.037527</td>\n",
       "      <td>-0.800892</td>\n",
       "      <td>0.340933</td>\n",
       "      <td>800.0</td>\n",
       "    </tr>\n",
       "    <tr>\n",
       "      <td>3</td>\n",
       "      <td>0.960008</td>\n",
       "      <td>1.482325</td>\n",
       "      <td>-1.485893</td>\n",
       "      <td>0.774291</td>\n",
       "      <td>1.051284</td>\n",
       "      <td>-1.279952</td>\n",
       "      <td>800.0</td>\n",
       "    </tr>\n",
       "    <tr>\n",
       "      <td>4</td>\n",
       "      <td>0.960008</td>\n",
       "      <td>-0.329127</td>\n",
       "      <td>0.077425</td>\n",
       "      <td>-0.037527</td>\n",
       "      <td>-0.177633</td>\n",
       "      <td>0.135549</td>\n",
       "      <td>300.0</td>\n",
       "    </tr>\n",
       "  </tbody>\n",
       "</table>\n",
       "</div>"
      ],
      "text/plain": [
       "       CITY  CUISINES  LOCALITY    RATING     TITLE  VOTES_new    COST\n",
       "0  1.690011  0.362905 -0.878251 -0.530523 -0.800892  -0.745594  1200.0\n",
       "1 -0.885849 -1.698769  0.999975  1.064819 -0.737437  -1.112073  1500.0\n",
       "2 -0.885849  0.631839  1.092369 -0.037527 -0.800892   0.340933   800.0\n",
       "3  0.960008  1.482325 -1.485893  0.774291  1.051284  -1.279952   800.0\n",
       "4  0.960008 -0.329127  0.077425 -0.037527 -0.177633   0.135549   300.0"
      ]
     },
     "execution_count": 52,
     "metadata": {},
     "output_type": "execute_result"
    }
   ],
   "source": [
    "train.head()"
   ]
  },
  {
   "cell_type": "code",
   "execution_count": 53,
   "metadata": {},
   "outputs": [
    {
     "data": {
      "text/html": [
       "<div>\n",
       "<style scoped>\n",
       "    .dataframe tbody tr th:only-of-type {\n",
       "        vertical-align: middle;\n",
       "    }\n",
       "\n",
       "    .dataframe tbody tr th {\n",
       "        vertical-align: top;\n",
       "    }\n",
       "\n",
       "    .dataframe thead th {\n",
       "        text-align: right;\n",
       "    }\n",
       "</style>\n",
       "<table border=\"1\" class=\"dataframe\">\n",
       "  <thead>\n",
       "    <tr style=\"text-align: right;\">\n",
       "      <th></th>\n",
       "      <th>CITY</th>\n",
       "      <th>CUISINES</th>\n",
       "      <th>LOCALITY</th>\n",
       "      <th>RATING</th>\n",
       "      <th>TITLE</th>\n",
       "      <th>VOTES_new</th>\n",
       "    </tr>\n",
       "  </thead>\n",
       "  <tbody>\n",
       "    <tr>\n",
       "      <td>12690</td>\n",
       "      <td>1.251594</td>\n",
       "      <td>0.722786</td>\n",
       "      <td>1.157968</td>\n",
       "      <td>1.365570</td>\n",
       "      <td>-0.800892</td>\n",
       "      <td>0.980509</td>\n",
       "    </tr>\n",
       "    <tr>\n",
       "      <td>12691</td>\n",
       "      <td>0.960008</td>\n",
       "      <td>1.320517</td>\n",
       "      <td>-0.586422</td>\n",
       "      <td>1.064819</td>\n",
       "      <td>1.051284</td>\n",
       "      <td>-0.583603</td>\n",
       "    </tr>\n",
       "    <tr>\n",
       "      <td>12692</td>\n",
       "      <td>0.960008</td>\n",
       "      <td>0.997188</td>\n",
       "      <td>0.211455</td>\n",
       "      <td>-0.037527</td>\n",
       "      <td>-0.800892</td>\n",
       "      <td>0.658429</td>\n",
       "    </tr>\n",
       "    <tr>\n",
       "      <td>12693</td>\n",
       "      <td>-0.250998</td>\n",
       "      <td>-1.473246</td>\n",
       "      <td>0.353515</td>\n",
       "      <td>-0.037527</td>\n",
       "      <td>0.841376</td>\n",
       "      <td>1.593591</td>\n",
       "    </tr>\n",
       "    <tr>\n",
       "      <td>12694</td>\n",
       "      <td>0.526080</td>\n",
       "      <td>1.327557</td>\n",
       "      <td>-0.231540</td>\n",
       "      <td>-0.530523</td>\n",
       "      <td>1.051284</td>\n",
       "      <td>-1.312021</td>\n",
       "    </tr>\n",
       "  </tbody>\n",
       "</table>\n",
       "</div>"
      ],
      "text/plain": [
       "           CITY  CUISINES  LOCALITY    RATING     TITLE  VOTES_new\n",
       "12690  1.251594  0.722786  1.157968  1.365570 -0.800892   0.980509\n",
       "12691  0.960008  1.320517 -0.586422  1.064819  1.051284  -0.583603\n",
       "12692  0.960008  0.997188  0.211455 -0.037527 -0.800892   0.658429\n",
       "12693 -0.250998 -1.473246  0.353515 -0.037527  0.841376   1.593591\n",
       "12694  0.526080  1.327557 -0.231540 -0.530523  1.051284  -1.312021"
      ]
     },
     "execution_count": 53,
     "metadata": {},
     "output_type": "execute_result"
    }
   ],
   "source": [
    "test.head()"
   ]
  },
  {
   "cell_type": "code",
   "execution_count": 54,
   "metadata": {},
   "outputs": [
    {
     "data": {
      "text/plain": [
       "((12690, 7), (4231, 6))"
      ]
     },
     "execution_count": 54,
     "metadata": {},
     "output_type": "execute_result"
    }
   ],
   "source": [
    "train.shape,test.shape"
   ]
  },
  {
   "cell_type": "markdown",
   "metadata": {},
   "source": [
    "# Data Scaling "
   ]
  },
  {
   "cell_type": "code",
   "execution_count": 55,
   "metadata": {},
   "outputs": [],
   "source": [
    "#Applying Standard scalar to independent variable only of training dataset\n",
    "train_features_toscale=[feature for feature in train.columns if feature not in ['COST'] ]\n",
    "\n",
    "from sklearn.preprocessing import StandardScaler\n",
    "ss=StandardScaler()\n",
    "train_scaled=ss.fit_transform(train[train_features_toscale])\n",
    "train_scaled=pd.DataFrame(data=train_scaled,columns=train[train_features_toscale].columns)\n"
   ]
  },
  {
   "cell_type": "code",
   "execution_count": 56,
   "metadata": {},
   "outputs": [
    {
     "data": {
      "text/html": [
       "<div>\n",
       "<style scoped>\n",
       "    .dataframe tbody tr th:only-of-type {\n",
       "        vertical-align: middle;\n",
       "    }\n",
       "\n",
       "    .dataframe tbody tr th {\n",
       "        vertical-align: top;\n",
       "    }\n",
       "\n",
       "    .dataframe thead th {\n",
       "        text-align: right;\n",
       "    }\n",
       "</style>\n",
       "<table border=\"1\" class=\"dataframe\">\n",
       "  <thead>\n",
       "    <tr style=\"text-align: right;\">\n",
       "      <th></th>\n",
       "      <th>CITY</th>\n",
       "      <th>CUISINES</th>\n",
       "      <th>LOCALITY</th>\n",
       "      <th>RATING</th>\n",
       "      <th>TITLE</th>\n",
       "      <th>VOTES_new</th>\n",
       "    </tr>\n",
       "  </thead>\n",
       "  <tbody>\n",
       "    <tr>\n",
       "      <td>0</td>\n",
       "      <td>1.686626</td>\n",
       "      <td>0.362590</td>\n",
       "      <td>-0.879914</td>\n",
       "      <td>-0.534452</td>\n",
       "      <td>-0.802723</td>\n",
       "      <td>-0.745739</td>\n",
       "    </tr>\n",
       "    <tr>\n",
       "      <td>1</td>\n",
       "      <td>-0.877668</td>\n",
       "      <td>-1.691358</td>\n",
       "      <td>0.997965</td>\n",
       "      <td>1.068852</td>\n",
       "      <td>-0.739269</td>\n",
       "      <td>-1.113713</td>\n",
       "    </tr>\n",
       "    <tr>\n",
       "      <td>2</td>\n",
       "      <td>-0.877668</td>\n",
       "      <td>0.630516</td>\n",
       "      <td>1.090343</td>\n",
       "      <td>-0.038996</td>\n",
       "      <td>-0.802723</td>\n",
       "      <td>0.345219</td>\n",
       "    </tr>\n",
       "    <tr>\n",
       "      <td>3</td>\n",
       "      <td>0.959901</td>\n",
       "      <td>1.477815</td>\n",
       "      <td>-1.487444</td>\n",
       "      <td>0.776874</td>\n",
       "      <td>1.049437</td>\n",
       "      <td>-1.282277</td>\n",
       "    </tr>\n",
       "    <tr>\n",
       "      <td>4</td>\n",
       "      <td>0.959901</td>\n",
       "      <td>-0.326848</td>\n",
       "      <td>0.075586</td>\n",
       "      <td>-0.038996</td>\n",
       "      <td>-0.179469</td>\n",
       "      <td>0.138997</td>\n",
       "    </tr>\n",
       "  </tbody>\n",
       "</table>\n",
       "</div>"
      ],
      "text/plain": [
       "       CITY  CUISINES  LOCALITY    RATING     TITLE  VOTES_new\n",
       "0  1.686626  0.362590 -0.879914 -0.534452 -0.802723  -0.745739\n",
       "1 -0.877668 -1.691358  0.997965  1.068852 -0.739269  -1.113713\n",
       "2 -0.877668  0.630516  1.090343 -0.038996 -0.802723   0.345219\n",
       "3  0.959901  1.477815 -1.487444  0.776874  1.049437  -1.282277\n",
       "4  0.959901 -0.326848  0.075586 -0.038996 -0.179469   0.138997"
      ]
     },
     "execution_count": 56,
     "metadata": {},
     "output_type": "execute_result"
    }
   ],
   "source": [
    "train_scaled.head()"
   ]
  },
  {
   "cell_type": "code",
   "execution_count": 57,
   "metadata": {},
   "outputs": [],
   "source": [
    "train=pd.concat([train['COST'],train_scaled],axis=1)"
   ]
  },
  {
   "cell_type": "code",
   "execution_count": 58,
   "metadata": {},
   "outputs": [
    {
     "data": {
      "text/html": [
       "<div>\n",
       "<style scoped>\n",
       "    .dataframe tbody tr th:only-of-type {\n",
       "        vertical-align: middle;\n",
       "    }\n",
       "\n",
       "    .dataframe tbody tr th {\n",
       "        vertical-align: top;\n",
       "    }\n",
       "\n",
       "    .dataframe thead th {\n",
       "        text-align: right;\n",
       "    }\n",
       "</style>\n",
       "<table border=\"1\" class=\"dataframe\">\n",
       "  <thead>\n",
       "    <tr style=\"text-align: right;\">\n",
       "      <th></th>\n",
       "      <th>COST</th>\n",
       "      <th>CITY</th>\n",
       "      <th>CUISINES</th>\n",
       "      <th>LOCALITY</th>\n",
       "      <th>RATING</th>\n",
       "      <th>TITLE</th>\n",
       "      <th>VOTES_new</th>\n",
       "    </tr>\n",
       "  </thead>\n",
       "  <tbody>\n",
       "    <tr>\n",
       "      <td>0</td>\n",
       "      <td>1200.0</td>\n",
       "      <td>1.686626</td>\n",
       "      <td>0.362590</td>\n",
       "      <td>-0.879914</td>\n",
       "      <td>-0.534452</td>\n",
       "      <td>-0.802723</td>\n",
       "      <td>-0.745739</td>\n",
       "    </tr>\n",
       "    <tr>\n",
       "      <td>1</td>\n",
       "      <td>1500.0</td>\n",
       "      <td>-0.877668</td>\n",
       "      <td>-1.691358</td>\n",
       "      <td>0.997965</td>\n",
       "      <td>1.068852</td>\n",
       "      <td>-0.739269</td>\n",
       "      <td>-1.113713</td>\n",
       "    </tr>\n",
       "    <tr>\n",
       "      <td>2</td>\n",
       "      <td>800.0</td>\n",
       "      <td>-0.877668</td>\n",
       "      <td>0.630516</td>\n",
       "      <td>1.090343</td>\n",
       "      <td>-0.038996</td>\n",
       "      <td>-0.802723</td>\n",
       "      <td>0.345219</td>\n",
       "    </tr>\n",
       "    <tr>\n",
       "      <td>3</td>\n",
       "      <td>800.0</td>\n",
       "      <td>0.959901</td>\n",
       "      <td>1.477815</td>\n",
       "      <td>-1.487444</td>\n",
       "      <td>0.776874</td>\n",
       "      <td>1.049437</td>\n",
       "      <td>-1.282277</td>\n",
       "    </tr>\n",
       "    <tr>\n",
       "      <td>4</td>\n",
       "      <td>300.0</td>\n",
       "      <td>0.959901</td>\n",
       "      <td>-0.326848</td>\n",
       "      <td>0.075586</td>\n",
       "      <td>-0.038996</td>\n",
       "      <td>-0.179469</td>\n",
       "      <td>0.138997</td>\n",
       "    </tr>\n",
       "  </tbody>\n",
       "</table>\n",
       "</div>"
      ],
      "text/plain": [
       "     COST      CITY  CUISINES  LOCALITY    RATING     TITLE  VOTES_new\n",
       "0  1200.0  1.686626  0.362590 -0.879914 -0.534452 -0.802723  -0.745739\n",
       "1  1500.0 -0.877668 -1.691358  0.997965  1.068852 -0.739269  -1.113713\n",
       "2   800.0 -0.877668  0.630516  1.090343 -0.038996 -0.802723   0.345219\n",
       "3   800.0  0.959901  1.477815 -1.487444  0.776874  1.049437  -1.282277\n",
       "4   300.0  0.959901 -0.326848  0.075586 -0.038996 -0.179469   0.138997"
      ]
     },
     "execution_count": 58,
     "metadata": {},
     "output_type": "execute_result"
    }
   ],
   "source": [
    "train.head()"
   ]
  },
  {
   "cell_type": "code",
   "execution_count": 59,
   "metadata": {},
   "outputs": [],
   "source": [
    "#Applying Standard scalar to test dataset\n",
    "from sklearn.preprocessing import StandardScaler\n",
    "ss=StandardScaler()\n",
    "test_scaled=ss.fit_transform(test)\n",
    "test=pd.DataFrame(data=test_scaled,columns=test.columns)\n"
   ]
  },
  {
   "cell_type": "code",
   "execution_count": 60,
   "metadata": {},
   "outputs": [
    {
     "data": {
      "text/html": [
       "<div>\n",
       "<style scoped>\n",
       "    .dataframe tbody tr th:only-of-type {\n",
       "        vertical-align: middle;\n",
       "    }\n",
       "\n",
       "    .dataframe tbody tr th {\n",
       "        vertical-align: top;\n",
       "    }\n",
       "\n",
       "    .dataframe thead th {\n",
       "        text-align: right;\n",
       "    }\n",
       "</style>\n",
       "<table border=\"1\" class=\"dataframe\">\n",
       "  <thead>\n",
       "    <tr style=\"text-align: right;\">\n",
       "      <th></th>\n",
       "      <th>CITY</th>\n",
       "      <th>CUISINES</th>\n",
       "      <th>LOCALITY</th>\n",
       "      <th>RATING</th>\n",
       "      <th>TITLE</th>\n",
       "      <th>VOTES_new</th>\n",
       "    </tr>\n",
       "  </thead>\n",
       "  <tbody>\n",
       "    <tr>\n",
       "      <td>0</td>\n",
       "      <td>1.256216</td>\n",
       "      <td>0.727921</td>\n",
       "      <td>1.164111</td>\n",
       "      <td>1.349503</td>\n",
       "      <td>-0.795416</td>\n",
       "      <td>0.960302</td>\n",
       "    </tr>\n",
       "    <tr>\n",
       "      <td>1</td>\n",
       "      <td>0.960561</td>\n",
       "      <td>1.332529</td>\n",
       "      <td>-0.581281</td>\n",
       "      <td>1.053120</td>\n",
       "      <td>1.056847</td>\n",
       "      <td>-0.585208</td>\n",
       "    </tr>\n",
       "    <tr>\n",
       "      <td>2</td>\n",
       "      <td>0.960561</td>\n",
       "      <td>1.005479</td>\n",
       "      <td>0.217054</td>\n",
       "      <td>-0.033213</td>\n",
       "      <td>-0.795416</td>\n",
       "      <td>0.642053</td>\n",
       "    </tr>\n",
       "    <tr>\n",
       "      <td>3</td>\n",
       "      <td>-0.267342</td>\n",
       "      <td>-1.493377</td>\n",
       "      <td>0.359196</td>\n",
       "      <td>-0.033213</td>\n",
       "      <td>0.846929</td>\n",
       "      <td>1.566094</td>\n",
       "    </tr>\n",
       "    <tr>\n",
       "      <td>4</td>\n",
       "      <td>0.520579</td>\n",
       "      <td>1.339649</td>\n",
       "      <td>-0.226196</td>\n",
       "      <td>-0.519048</td>\n",
       "      <td>1.056847</td>\n",
       "      <td>-1.304964</td>\n",
       "    </tr>\n",
       "  </tbody>\n",
       "</table>\n",
       "</div>"
      ],
      "text/plain": [
       "       CITY  CUISINES  LOCALITY    RATING     TITLE  VOTES_new\n",
       "0  1.256216  0.727921  1.164111  1.349503 -0.795416   0.960302\n",
       "1  0.960561  1.332529 -0.581281  1.053120  1.056847  -0.585208\n",
       "2  0.960561  1.005479  0.217054 -0.033213 -0.795416   0.642053\n",
       "3 -0.267342 -1.493377  0.359196 -0.033213  0.846929   1.566094\n",
       "4  0.520579  1.339649 -0.226196 -0.519048  1.056847  -1.304964"
      ]
     },
     "execution_count": 60,
     "metadata": {},
     "output_type": "execute_result"
    }
   ],
   "source": [
    "test.head()"
   ]
  },
  {
   "cell_type": "markdown",
   "metadata": {},
   "source": [
    "# Model Building"
   ]
  },
  {
   "cell_type": "code",
   "execution_count": 61,
   "metadata": {},
   "outputs": [],
   "source": [
    "y=train['COST']\n",
    "x=train.drop(['COST'],axis=1)"
   ]
  },
  {
   "cell_type": "code",
   "execution_count": null,
   "metadata": {},
   "outputs": [],
   "source": []
  },
  {
   "cell_type": "code",
   "execution_count": 62,
   "metadata": {},
   "outputs": [],
   "source": [
    "from sklearn.neighbors import KNeighborsRegressor\n",
    "from sklearn.svm import SVR\n",
    "from sklearn.linear_model import LinearRegression\n",
    "from sklearn.linear_model import Lasso\n",
    "from sklearn.tree import DecisionTreeRegressor\n",
    "from sklearn.ensemble import GradientBoostingRegressor\n",
    "from sklearn.ensemble import RandomForestRegressor\n",
    "from sklearn.ensemble import AdaBoostRegressor\n",
    "from xgboost import XGBRegressor"
   ]
  },
  {
   "cell_type": "code",
   "execution_count": 63,
   "metadata": {},
   "outputs": [],
   "source": [
    "knn=KNeighborsRegressor()\n",
    "svr=SVR()\n",
    "lr=LinearRegression()\n",
    "dt=DecisionTreeRegressor()\n",
    "gbm=GradientBoostingRegressor()\n",
    "ada=AdaBoostRegressor()\n",
    "rfr=RandomForestRegressor()\n",
    "xgb=XGBRegressor()"
   ]
  },
  {
   "cell_type": "code",
   "execution_count": 64,
   "metadata": {},
   "outputs": [],
   "source": [
    "models=[]\n",
    "models.append(('KNeighborsClassifier',knn))\n",
    "models.append(('SVR',svr))\n",
    "models.append(('LinearRegression',lr))\n",
    "models.append(('DecisionTreeRegressor',dt))\n",
    "models.append(('GradientBoostingRegressor',gbm))\n",
    "models.append(('AdaBoostRegressor',ada))\n",
    "models.append(('RandomForestRegressor',rfr))\n",
    "models.append(('XGBRegressor',xgb))"
   ]
  },
  {
   "cell_type": "code",
   "execution_count": 65,
   "metadata": {},
   "outputs": [],
   "source": [
    "from sklearn.metrics import r2_score,mean_squared_error\n",
    "from sklearn.model_selection import train_test_split,cross_val_score\n",
    "x_train,x_test,y_train,y_test=train_test_split(x,y,random_state=42)"
   ]
  },
  {
   "cell_type": "code",
   "execution_count": 81,
   "metadata": {},
   "outputs": [
    {
     "name": "stdout",
     "output_type": "stream",
     "text": [
      "***************** KNeighborsClassifier *******************\n",
      "\n",
      "\n",
      "KNeighborsRegressor(algorithm='auto', leaf_size=30, metric='minkowski',\n",
      "                    metric_params=None, n_jobs=None, n_neighbors=5, p=2,\n",
      "                    weights='uniform')\n",
      "\n",
      "\n",
      "R2score  - 0.3473305354563452\n",
      "\n",
      "\n",
      "cross_val_score  - 0.38525972026239\n",
      "\n",
      "\n",
      "rmse_score  - 480.3702391449343\n",
      "\n",
      "\n",
      "***************** SVR *******************\n",
      "\n",
      "\n",
      "SVR(C=1.0, cache_size=200, coef0=0.0, degree=3, epsilon=0.1,\n",
      "    gamma='auto_deprecated', kernel='rbf', max_iter=-1, shrinking=True,\n",
      "    tol=0.001, verbose=False)\n",
      "\n",
      "\n",
      "R2score  - 0.11348288884888047\n",
      "\n",
      "\n",
      "cross_val_score  - 0.10818385592751831\n",
      "\n",
      "\n",
      "rmse_score  - 559.8517077811906\n",
      "\n",
      "\n",
      "***************** LinearRegression *******************\n",
      "\n",
      "\n",
      "LinearRegression(copy_X=True, fit_intercept=True, n_jobs=None, normalize=False)\n",
      "\n",
      "\n",
      "R2score  - 0.18770871872719308\n",
      "\n",
      "\n",
      "cross_val_score  - 0.18827495449978485\n",
      "\n",
      "\n",
      "rmse_score  - 535.9019556697015\n",
      "\n",
      "\n",
      "***************** DecisionTreeRegressor *******************\n",
      "\n",
      "\n",
      "DecisionTreeRegressor(criterion='mse', max_depth=None, max_features=None,\n",
      "                      max_leaf_nodes=None, min_impurity_decrease=0.0,\n",
      "                      min_impurity_split=None, min_samples_leaf=1,\n",
      "                      min_samples_split=2, min_weight_fraction_leaf=0.0,\n",
      "                      presort=False, random_state=None, splitter='best')\n",
      "\n",
      "\n",
      "R2score  - 0.4910611492491447\n",
      "\n",
      "\n",
      "cross_val_score  - 0.4778477860658942\n",
      "\n",
      "\n",
      "rmse_score  - 424.19177993882045\n",
      "\n",
      "\n",
      "***************** GradientBoostingRegressor *******************\n",
      "\n",
      "\n",
      "GradientBoostingRegressor(alpha=0.9, criterion='friedman_mse', init=None,\n",
      "                          learning_rate=0.1, loss='ls', max_depth=3,\n",
      "                          max_features=None, max_leaf_nodes=None,\n",
      "                          min_impurity_decrease=0.0, min_impurity_split=None,\n",
      "                          min_samples_leaf=1, min_samples_split=2,\n",
      "                          min_weight_fraction_leaf=0.0, n_estimators=100,\n",
      "                          n_iter_no_change=None, presort='auto',\n",
      "                          random_state=None, subsample=1.0, tol=0.0001,\n",
      "                          validation_fraction=0.1, verbose=0, warm_start=False)\n",
      "\n",
      "\n",
      "R2score  - 0.7215274488752466\n",
      "\n",
      "\n",
      "cross_val_score  - 0.6938990306776072\n",
      "\n",
      "\n",
      "rmse_score  - 313.77666500912943\n",
      "\n",
      "\n",
      "***************** AdaBoostRegressor *******************\n",
      "\n",
      "\n",
      "AdaBoostRegressor(base_estimator=None, learning_rate=1.0, loss='linear',\n",
      "                  n_estimators=50, random_state=None)\n",
      "\n",
      "\n",
      "R2score  - -0.485127354247463\n",
      "\n",
      "\n",
      "cross_val_score  - -0.3632493369304095\n",
      "\n",
      "\n",
      "rmse_score  - 724.6216318365888\n",
      "\n",
      "\n",
      "***************** RandomForestRegressor *******************\n",
      "\n",
      "\n",
      "RandomForestRegressor(bootstrap=True, criterion='mse', max_depth=None,\n",
      "                      max_features='auto', max_leaf_nodes=None,\n",
      "                      min_impurity_decrease=0.0, min_impurity_split=None,\n",
      "                      min_samples_leaf=1, min_samples_split=2,\n",
      "                      min_weight_fraction_leaf=0.0, n_estimators=10,\n",
      "                      n_jobs=None, oob_score=False, random_state=None,\n",
      "                      verbose=0, warm_start=False)\n",
      "\n",
      "\n",
      "R2score  - 0.709288622323963\n",
      "\n",
      "\n",
      "cross_val_score  - 0.6834235355797518\n",
      "\n",
      "\n",
      "rmse_score  - 320.5977430399495\n",
      "\n",
      "\n",
      "***************** XGBRegressor *******************\n",
      "\n",
      "\n",
      "XGBRegressor(base_score=0.5, booster=None, colsample_bylevel=1,\n",
      "             colsample_bynode=1, colsample_bytree=1, gamma=0, gpu_id=-1,\n",
      "             importance_type='gain', interaction_constraints=None,\n",
      "             learning_rate=0.300000012, max_delta_step=0, max_depth=6,\n",
      "             min_child_weight=1, missing=nan, monotone_constraints=None,\n",
      "             n_estimators=100, n_jobs=0, num_parallel_tree=1,\n",
      "             objective='reg:squarederror', random_state=0, reg_alpha=0,\n",
      "             reg_lambda=1, scale_pos_weight=1, subsample=1, tree_method=None,\n",
      "             validate_parameters=False, verbosity=None)\n",
      "\n",
      "\n",
      "R2score  - 0.7590365976350736\n",
      "\n",
      "\n",
      "cross_val_score  - 0.7181220101168933\n",
      "\n",
      "\n",
      "rmse_score  - 291.88043807809834\n",
      "\n",
      "\n"
     ]
    }
   ],
   "source": [
    "Model=[]\n",
    "r2score=[]\n",
    "rmse=[]\n",
    "cv=[]\n",
    "\n",
    "for name,model in models:\n",
    "    print('*****************',name,'*******************')\n",
    "    print('\\n')\n",
    "    Model.append(name)\n",
    "    model.fit(x_train,y_train)\n",
    "    print(model)\n",
    "    pre=model.predict(x_test)\n",
    "    print('\\n')\n",
    "    score=r2_score(y_test,pre)\n",
    "    print('R2score  -',score)\n",
    "    r2score.append(score*100)\n",
    "    print('\\n')\n",
    "    sc=cross_val_score(model,x,y,cv=5,scoring='r2').mean()\n",
    "    print('cross_val_score  -',sc)\n",
    "    cv.append(sc*100)\n",
    "    print('\\n')\n",
    "    rmsescore=mean_squared_error(y_test,pre)\n",
    "    print('rmse_score  -',np.sqrt(rmsescore))\n",
    "    rmse.append(np.sqrt(rmsescore))\n",
    "    print('\\n')\n",
    "    \n",
    "    \n",
    "    "
   ]
  },
  {
   "cell_type": "code",
   "execution_count": 82,
   "metadata": {},
   "outputs": [
    {
     "data": {
      "text/html": [
       "<div>\n",
       "<style scoped>\n",
       "    .dataframe tbody tr th:only-of-type {\n",
       "        vertical-align: middle;\n",
       "    }\n",
       "\n",
       "    .dataframe tbody tr th {\n",
       "        vertical-align: top;\n",
       "    }\n",
       "\n",
       "    .dataframe thead th {\n",
       "        text-align: right;\n",
       "    }\n",
       "</style>\n",
       "<table border=\"1\" class=\"dataframe\">\n",
       "  <thead>\n",
       "    <tr style=\"text-align: right;\">\n",
       "      <th></th>\n",
       "      <th>Model</th>\n",
       "      <th>R2_score</th>\n",
       "      <th>RMSEscore</th>\n",
       "      <th>Cross_val_score</th>\n",
       "    </tr>\n",
       "  </thead>\n",
       "  <tbody>\n",
       "    <tr>\n",
       "      <td>0</td>\n",
       "      <td>KNeighborsClassifier</td>\n",
       "      <td>34.733054</td>\n",
       "      <td>480.370239</td>\n",
       "      <td>38.525972</td>\n",
       "    </tr>\n",
       "    <tr>\n",
       "      <td>1</td>\n",
       "      <td>SVR</td>\n",
       "      <td>11.348289</td>\n",
       "      <td>559.851708</td>\n",
       "      <td>10.818386</td>\n",
       "    </tr>\n",
       "    <tr>\n",
       "      <td>2</td>\n",
       "      <td>LinearRegression</td>\n",
       "      <td>18.770872</td>\n",
       "      <td>535.901956</td>\n",
       "      <td>18.827495</td>\n",
       "    </tr>\n",
       "    <tr>\n",
       "      <td>3</td>\n",
       "      <td>DecisionTreeRegressor</td>\n",
       "      <td>49.106115</td>\n",
       "      <td>424.191780</td>\n",
       "      <td>47.784779</td>\n",
       "    </tr>\n",
       "    <tr>\n",
       "      <td>4</td>\n",
       "      <td>GradientBoostingRegressor</td>\n",
       "      <td>72.152745</td>\n",
       "      <td>313.776665</td>\n",
       "      <td>69.389903</td>\n",
       "    </tr>\n",
       "    <tr>\n",
       "      <td>5</td>\n",
       "      <td>AdaBoostRegressor</td>\n",
       "      <td>-48.512735</td>\n",
       "      <td>724.621632</td>\n",
       "      <td>-36.324934</td>\n",
       "    </tr>\n",
       "    <tr>\n",
       "      <td>6</td>\n",
       "      <td>RandomForestRegressor</td>\n",
       "      <td>70.928862</td>\n",
       "      <td>320.597743</td>\n",
       "      <td>68.342354</td>\n",
       "    </tr>\n",
       "    <tr>\n",
       "      <td>7</td>\n",
       "      <td>XGBRegressor</td>\n",
       "      <td>75.903660</td>\n",
       "      <td>291.880438</td>\n",
       "      <td>71.812201</td>\n",
       "    </tr>\n",
       "  </tbody>\n",
       "</table>\n",
       "</div>"
      ],
      "text/plain": [
       "                       Model   R2_score   RMSEscore  Cross_val_score\n",
       "0       KNeighborsClassifier  34.733054  480.370239        38.525972\n",
       "1                        SVR  11.348289  559.851708        10.818386\n",
       "2           LinearRegression  18.770872  535.901956        18.827495\n",
       "3      DecisionTreeRegressor  49.106115  424.191780        47.784779\n",
       "4  GradientBoostingRegressor  72.152745  313.776665        69.389903\n",
       "5          AdaBoostRegressor -48.512735  724.621632       -36.324934\n",
       "6      RandomForestRegressor  70.928862  320.597743        68.342354\n",
       "7               XGBRegressor  75.903660  291.880438        71.812201"
      ]
     },
     "execution_count": 82,
     "metadata": {},
     "output_type": "execute_result"
    }
   ],
   "source": [
    "result=pd.DataFrame({'Model':Model,'R2_score':r2score,'RMSEscore':rmse,'Cross_val_score':cv})\n",
    "result"
   ]
  },
  {
   "cell_type": "code",
   "execution_count": null,
   "metadata": {},
   "outputs": [],
   "source": [
    "#We can see XGBRegressor is performing the best as difference between the score and cross_val_score is the minimum.\n",
    "#And also the RMSE score is well within range for this particular problem."
   ]
  },
  {
   "cell_type": "code",
   "execution_count": null,
   "metadata": {},
   "outputs": [],
   "source": [
    "#But our target score is 90%\n",
    "#Hence we will apply Gridsearchcv to the top3 performing model and try to reach 90% score."
   ]
  },
  {
   "cell_type": "code",
   "execution_count": null,
   "metadata": {},
   "outputs": [],
   "source": [
    "#First lets calculate the random state of the models at which they perform the best.\n",
    "#Then we will select the top3 models and do gridsearchcv on them to attain our target score of 90%.\n",
    "#Then Cross validating the model and checking the cross_val_score,model giving highest score will be choosen as final model."
   ]
  },
  {
   "cell_type": "markdown",
   "metadata": {},
   "source": [
    "# Finding the best random_state for GradientBoostingRegressor"
   ]
  },
  {
   "cell_type": "code",
   "execution_count": 91,
   "metadata": {},
   "outputs": [],
   "source": [
    "def maxr2_score(model,x,y):\n",
    "    max_r2=0\n",
    "    for r_state in range(42,101):\n",
    "        \n",
    "        x_train,x_test,y_train,y_test=train_test_split(x,y,random_state=r_state)\n",
    "        model.fit(x_train,y_train)\n",
    "        pred=model.predict(x_test)\n",
    "        score=r2_score(y_test,pred)\n",
    "        \n",
    "        if score>max_r2:\n",
    "            max_r2=score\n",
    "            final_r_state=r_state\n",
    "    print('max_r2_score is at random_state  ',final_r_state,'  which is  ',max_r2)\n",
    "    return final_r_state"
   ]
  },
  {
   "cell_type": "code",
   "execution_count": 92,
   "metadata": {},
   "outputs": [
    {
     "name": "stdout",
     "output_type": "stream",
     "text": [
      "max_r2_score is at random_state   43   which is   0.4645321840799389\n",
      "knn 43\n",
      "max_r2_score is at random_state   79   which is   0.13428376863617342\n",
      "SVR 79\n",
      "max_r2_score is at random_state   67   which is   0.22294427055442678\n",
      "lr 67\n",
      "max_r2_score is at random_state   93   which is   0.585218096987401\n",
      "dt 93\n",
      "max_r2_score is at random_state   77   which is   0.739123410958528\n",
      "gbm 77\n",
      "max_r2_score is at random_state   93   which is   0.7298289738769949\n",
      "rfr 93\n",
      "max_r2_score is at random_state   42   which is   0.7590365976350736\n",
      "xgb 42\n"
     ]
    }
   ],
   "source": [
    "print('knn',maxr2_score(knn,x,y))\n",
    "print('SVR',maxr2_score(svr,x,y))\n",
    "print('lr',maxr2_score(lr,x,y))\n",
    "print('dt',maxr2_score(dt,x,y))\n",
    "print('gbm',maxr2_score(gbm,x,y))\n",
    "print('rfr',maxr2_score(rfr,x,y))\n",
    "print('xgb',maxr2_score(xgb,x,y))\n",
    "\n"
   ]
  },
  {
   "cell_type": "raw",
   "metadata": {},
   "source": [
    "# Selecting the top3 performing models for gridsearchcv\n",
    "\n",
    "\n",
    "model1->XGBoostRegressor(random_state=42)=75.9\n",
    "model2->GradientBoostingRegressor(random_state=51)=73.91\n",
    "model3->RandomForestRegressor(random_state=49)=72.98\n"
   ]
  },
  {
   "cell_type": "markdown",
   "metadata": {},
   "source": [
    "# GridSearchCV"
   ]
  },
  {
   "cell_type": "markdown",
   "metadata": {},
   "source": [
    "# model1->XGBoostRegressor(random_state=42)=75.9"
   ]
  },
  {
   "cell_type": "code",
   "execution_count": 66,
   "metadata": {},
   "outputs": [],
   "source": [
    "from sklearn.model_selection import GridSearchCV\n",
    "x_train,x_test,y_train,y_test=train_test_split(x,y,random_state=42)\n",
    "xgb=XGBRegressor()"
   ]
  },
  {
   "cell_type": "code",
   "execution_count": 67,
   "metadata": {},
   "outputs": [
    {
     "data": {
      "text/plain": [
       "{'colsample_bytree': 0.5, 'learning_rate': 0.1, 'max_depth': 8}"
      ]
     },
     "execution_count": 67,
     "metadata": {},
     "output_type": "execute_result"
    }
   ],
   "source": [
    "parameters=[{'learning_rate':[0.1,0.2,0.3,0.4,0.45,0.46,0.44,0.5],'max_depth':[3,4,5,6,7,8,9,10],'colsample_bytree':[0.3,0.4,0.5,0.6,0.7,0.8,0.9]}]\n",
    "            \n",
    "gscv=GridSearchCV(xgb,parameters,scoring='r2',n_jobs=-1,cv=5)\n",
    "grid_search=gscv.fit(x,y)\n",
    "grid_search.best_params_"
   ]
  },
  {
   "cell_type": "code",
   "execution_count": 80,
   "metadata": {},
   "outputs": [
    {
     "name": "stdout",
     "output_type": "stream",
     "text": [
      "r2_score=   0.9080012132410549\n",
      "RMSE score=  180.35180620249255\n"
     ]
    }
   ],
   "source": [
    "x_train,x_test,y_train,y_test=train_test_split(x,y,random_state=42)\n",
    "xgb=XGBRegressor(colsample_bytree=0.5, learning_rate=0.1, max_depth=8)\n",
    "xgb.fit(x,y)\n",
    "pred=xgb.predict(x_test)\n",
    "print('r2_score=  ',r2_score(y_test,pred))\n",
    "print('RMSE score= ',np.sqrt(mean_squared_error(y_test,pred)))"
   ]
  },
  {
   "cell_type": "code",
   "execution_count": 81,
   "metadata": {},
   "outputs": [
    {
     "name": "stdout",
     "output_type": "stream",
     "text": [
      "cross_val_scores=   0.7405109434788917\n"
     ]
    }
   ],
   "source": [
    "#Cross validating the model and checking the cross_val_score,model giving highest score will be choosen as final model.\n",
    "xgb=XGBRegressor(colsample_bytree=0.5, learning_rate=0.1, max_depth=8)\n",
    "xgb.fit(x,y)\n",
    "cvs=cross_val_score(xgb,x,y,scoring='r2',cv=5)\n",
    "print('cross_val_scores=  ',cvs.mean())"
   ]
  },
  {
   "cell_type": "markdown",
   "metadata": {},
   "source": [
    "# model2->GradientBoostingRegressor(random_state=51)=73.91"
   ]
  },
  {
   "cell_type": "code",
   "execution_count": 70,
   "metadata": {},
   "outputs": [],
   "source": [
    "x_train,x_test,y_train,y_test=train_test_split(x,y,random_state=51)\n",
    "gbm=GradientBoostingRegressor()"
   ]
  },
  {
   "cell_type": "code",
   "execution_count": 71,
   "metadata": {},
   "outputs": [
    {
     "data": {
      "text/plain": [
       "{'max_depth': 5, 'min_samples_leaf': 2, 'n_estimators': 250}"
      ]
     },
     "execution_count": 71,
     "metadata": {},
     "output_type": "execute_result"
    }
   ],
   "source": [
    "parameters=[{'max_depth':[5,7,9,10],'min_samples_leaf':[1,2],'n_estimators':[100,250,500]}]\n",
    "            \n",
    "grid_search=GridSearchCV(gbm,parameters,scoring='r2',n_jobs=-1,cv=5)\n",
    "grid_search=grid_search.fit(x,y)\n",
    "grid_search.best_params_ "
   ]
  },
  {
   "cell_type": "code",
   "execution_count": 82,
   "metadata": {},
   "outputs": [
    {
     "name": "stdout",
     "output_type": "stream",
     "text": [
      "R2_score=   0.8675675130059961\n",
      "RMSE score=  214.8798787417614\n"
     ]
    }
   ],
   "source": [
    "x_train,x_test,y_train,y_test=train_test_split(x,y,random_state=94)\n",
    "gbm=GradientBoostingRegressor(max_depth=5,min_samples_leaf=2,n_estimators=250)\n",
    "gbm.fit(x,y)\n",
    "pred_gbm=gbm.predict(x_test)\n",
    "score=r2_score(y_test,pred_gbm)\n",
    "print('R2_score=  ',score)\n",
    "print('RMSE score= ',np.sqrt(mean_squared_error(y_test,pred_gbm)))"
   ]
  },
  {
   "cell_type": "code",
   "execution_count": 83,
   "metadata": {},
   "outputs": [
    {
     "name": "stdout",
     "output_type": "stream",
     "text": [
      "cross_val_scores=   0.7329797860613827\n"
     ]
    }
   ],
   "source": [
    "#Cross validating the model and checking the cross_val_score,model giving highest score will be choosen as final model.\n",
    "gbm=GradientBoostingRegressor(max_depth=5,min_samples_leaf=2,n_estimators=250)\n",
    "gbm.fit(x,y)\n",
    "cvs=cross_val_score(gbm,x,y,scoring='r2',cv=5)\n",
    "print('cross_val_scores=  ',cvs.mean())"
   ]
  },
  {
   "cell_type": "markdown",
   "metadata": {},
   "source": [
    "# model3->RandomForestRegressor(random_state=49)=72.98"
   ]
  },
  {
   "cell_type": "code",
   "execution_count": 76,
   "metadata": {},
   "outputs": [],
   "source": [
    "x_train,x_test,y_train,y_test=train_test_split(x,y,random_state=49)\n",
    "rfr=RandomForestRegressor()"
   ]
  },
  {
   "cell_type": "code",
   "execution_count": 77,
   "metadata": {},
   "outputs": [
    {
     "data": {
      "text/plain": [
       "{'max_depth': 10, 'min_samples_leaf': 2, 'n_estimators': 500}"
      ]
     },
     "execution_count": 77,
     "metadata": {},
     "output_type": "execute_result"
    }
   ],
   "source": [
    "parameters=[{'max_depth':[5,7,9,10],'min_samples_leaf':[1,2],'n_estimators':[100,250,500]}]\n",
    "            \n",
    "grid_search=GridSearchCV(rfr,parameters,scoring='r2',n_jobs=-1,cv=5)\n",
    "grid_search=grid_search.fit(x,y)\n",
    "grid_search.best_params_ "
   ]
  },
  {
   "cell_type": "code",
   "execution_count": 84,
   "metadata": {},
   "outputs": [
    {
     "name": "stdout",
     "output_type": "stream",
     "text": [
      "R2_score=   0.7847559133120772\n",
      "RMSE score=  295.1124798869804\n"
     ]
    }
   ],
   "source": [
    "x_train,x_test,y_train,y_test=train_test_split(x,y,random_state=49)\n",
    "rfr=RandomForestRegressor(max_depth=10,min_samples_leaf=2,n_estimators=500)\n",
    "rfr.fit(x,y)\n",
    "pred_rfr=rfr.predict(x_test)\n",
    "score=r2_score(y_test,pred_rfr)\n",
    "print('R2_score=  ',score)\n",
    "print('RMSE score= ',np.sqrt(mean_squared_error(y_test,pred_rfr)))"
   ]
  },
  {
   "cell_type": "code",
   "execution_count": 85,
   "metadata": {},
   "outputs": [
    {
     "name": "stdout",
     "output_type": "stream",
     "text": [
      "cross_val_scores=   0.7104041781469919\n"
     ]
    }
   ],
   "source": [
    "#Cross validating the model and checking the cross_val_score,model giving highest score will be choosen as final model.\n",
    "rfr=RandomForestRegressor(max_depth=10,min_samples_leaf=2,n_estimators=500)\n",
    "rfr.fit(x,y)\n",
    "cvs=cross_val_score(rfr,x,y,scoring='r2',cv=5)\n",
    "print('cross_val_scores=  ',cvs.mean())"
   ]
  },
  {
   "cell_type": "markdown",
   "metadata": {},
   "source": [
    "# Saving final XGBoostRegressor model"
   ]
  },
  {
   "cell_type": "code",
   "execution_count": 86,
   "metadata": {},
   "outputs": [
    {
     "name": "stdout",
     "output_type": "stream",
     "text": [
      "r2_score=   0.9080012132410549\n",
      "RMSE score=  180.35180620249255\n"
     ]
    }
   ],
   "source": [
    "#From all the model tried above XGBoostRegressor model has highest cross_val_score=74.05% .\n",
    "#Hence saving the XGBoostRegressor model as our final model\n",
    "#corresponding random_state=94\n",
    "x_train,x_test,y_train,y_test=train_test_split(x,y,random_state=42)\n",
    "xgb=XGBRegressor(colsample_bytree=0.5, learning_rate=0.1, max_depth=8)\n",
    "xgb.fit(x,y)\n",
    "pred=xgb.predict(x_test)\n",
    "print('r2_score=  ',r2_score(y_test,pred))\n",
    "print('RMSE score= ',np.sqrt(mean_squared_error(y_test,pred)))"
   ]
  },
  {
   "cell_type": "code",
   "execution_count": 87,
   "metadata": {},
   "outputs": [
    {
     "name": "stdout",
     "output_type": "stream",
     "text": [
      "cross_val_scores=   0.7405109434788917\n"
     ]
    }
   ],
   "source": [
    "xgb=XGBRegressor(colsample_bytree=0.5, learning_rate=0.1, max_depth=8)\n",
    "xgb.fit(x,y)\n",
    "cvs=cross_val_score(xgb,x,y,scoring='r2',cv=5)\n",
    "print('cross_val_scores=  ',cvs.mean())"
   ]
  },
  {
   "cell_type": "code",
   "execution_count": 88,
   "metadata": {},
   "outputs": [
    {
     "data": {
      "text/plain": [
       "['practiceproject_18.obj']"
      ]
     },
     "execution_count": 88,
     "metadata": {},
     "output_type": "execute_result"
    }
   ],
   "source": [
    "from sklearn.externals import joblib\n",
    "joblib.dump(xgb,'practiceproject_18.obj')"
   ]
  },
  {
   "cell_type": "code",
   "execution_count": 89,
   "metadata": {},
   "outputs": [],
   "source": [
    "model=joblib.load('practiceproject_18.obj')"
   ]
  },
  {
   "cell_type": "code",
   "execution_count": 90,
   "metadata": {},
   "outputs": [
    {
     "data": {
      "text/plain": [
       "array([ 464.4476,  529.128 ,  626.6627, ..., 1152.232 ,  583.8267,\n",
       "       1230.4155], dtype=float32)"
      ]
     },
     "execution_count": 90,
     "metadata": {},
     "output_type": "execute_result"
    }
   ],
   "source": [
    "test=model.predict(x_test)\n",
    "test"
   ]
  },
  {
   "cell_type": "markdown",
   "metadata": {},
   "source": [
    "# Saving final predictions in file.csv"
   ]
  },
  {
   "cell_type": "code",
   "execution_count": 91,
   "metadata": {},
   "outputs": [],
   "source": [
    "final_predictions=pd.DataFrame(test,columns=['COST'])"
   ]
  },
  {
   "cell_type": "code",
   "execution_count": 92,
   "metadata": {},
   "outputs": [],
   "source": [
    "final_predictions.to_csv('E:\\\\final_predictionsrestaurantcost.csv',index=False)"
   ]
  },
  {
   "cell_type": "raw",
   "metadata": {},
   "source": [
    "Conclusion:\n",
    "    \n",
    "Cost of the  can be predicted using the model above. \n",
    "By using sklearn(GradientBoostingRegressor)we have build a machine learning model that will help us predict the sales."
   ]
  },
  {
   "cell_type": "code",
   "execution_count": null,
   "metadata": {},
   "outputs": [],
   "source": []
  }
 ],
 "metadata": {
  "kernelspec": {
   "display_name": "Python 3",
   "language": "python",
   "name": "python3"
  },
  "language_info": {
   "codemirror_mode": {
    "name": "ipython",
    "version": 3
   },
   "file_extension": ".py",
   "mimetype": "text/x-python",
   "name": "python",
   "nbconvert_exporter": "python",
   "pygments_lexer": "ipython3",
   "version": "3.7.4"
  }
 },
 "nbformat": 4,
 "nbformat_minor": 2
}
